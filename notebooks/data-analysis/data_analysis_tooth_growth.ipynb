{
 "cells": [
  {
   "cell_type": "markdown",
   "id": "848b5dd8",
   "metadata": {
    "pycharm": {
     "name": "#%% md\n"
    }
   },
   "source": [
    "# Week 4 Lab - Hypothesis Testing\n",
    "\n",
    " This week's assignment will give you some practice defining and testing a hypothesis.\n",
    "\n",
    "## Our Dataset: \n",
    "**Dataset Name:** ToothGrowth.csv (locted in the assign_wk4 folder)<br>\n",
    "The tooth growth dataset describes the length of the odontoblasts (teeth) in each of 10 guinea pigs at three Vitamin C dosage levels (0.5, 1, and 2 mg) with two delivery methods (orange juice or ascorbic acid).\n",
    "\n",
    "The file contains 60 observations of 3 variables <br>\n",
    "len : Tooth length <br>\n",
    "supp : Supplement type (VC or OJ)<br>\n",
    "dose : Dose in milligrams<br>\n"
   ]
  },
  {
   "cell_type": "markdown",
   "id": "1bc9a5d4",
   "metadata": {
    "pycharm": {
     "name": "#%% md\n"
    }
   },
   "source": [
    "# Assignment Requirements\n",
    "\n",
    "Hypothesis testing for the given dataset. Your analysis should include the following:\n",
    "   1. Graphically describe the dataset\n",
    "      - This could include box plots, histograms, etc.\n",
    "      - Provide a summary of your initial findings about the dataset.\n",
    "   2. Check of data normality, using both methods\n",
    "      - Graphically  check for normality\n",
    "      - Statistical test for normality\n",
    "   3. Defined a null and alternative hypothesis (Ho and Ha) for the dataset\n",
    "      - Be specific and clear in your definitions\n",
    "   4. Hypothesis testing \n",
    "      - Explain why you chose the test(s) you are using\n",
    "      - Summarize your findings from the test(s) you performed\n",
    "   5. Conclusion based on your analysis\n",
    "      - Be sure to defend your conclusion. Include supporting information for your analysis.\n",
    "   6. Refine your initial hypothesis and repeat steps 3 through 5\n",
    "      - How did the outcome(s) change between your original Ho/Ha and your refined Ho/Ha?\n",
    "\n",
    "**Important:** Make sure your provide complete and thorough explanations for all of your analysis. You need to defend your thought processes and reasoning."
   ]
  },
  {
   "cell_type": "markdown",
   "id": "11872071",
   "metadata": {
    "pycharm": {
     "name": "#%% md\n"
    }
   },
   "source": [
    "## I. Introduction"
   ]
  },
  {
   "cell_type": "markdown",
   "id": "cf4568ff",
   "metadata": {
    "pycharm": {
     "name": "#%% md\n"
    }
   },
   "source": [
    "This weeks analysis is on the tooth growth of guinea pigs when given specific doses, and types of supplements for vitamin C. In particular we are interested in identifying a null hypothesis, writing an alternative hypothesis, testing that hypothesis and refining the hypothesis using the statistical tests available to us.\n",
    "\n",
    "The datasets for this week are provided in ToothGrowth.csv and are described in the section \"Our Dataset\"."
   ]
  },
  {
   "cell_type": "markdown",
   "id": "43de3340",
   "metadata": {
    "pycharm": {
     "name": "#%% md\n"
    }
   },
   "source": [
    "## II. Methods/Code, III. Results/Output, IV. Analysis of Results"
   ]
  },
  {
   "cell_type": "markdown",
   "id": "2cf3f658",
   "metadata": {
    "pycharm": {
     "name": "#%% md\n"
    }
   },
   "source": [
    "### Setup\n",
    "---"
   ]
  },
  {
   "cell_type": "markdown",
   "id": "dbf3042d",
   "metadata": {
    "pycharm": {
     "name": "#%% md\n"
    }
   },
   "source": [
    "The process for getting our analysis setup will be to setup our plots to inline, import the necessary python packages, look over our csv, and import the csv into a dataframe."
   ]
  },
  {
   "cell_type": "code",
   "execution_count": 1,
   "id": "4dfcef7e",
   "metadata": {
    "pycharm": {
     "name": "#%%\n"
    }
   },
   "outputs": [],
   "source": [
    "%matplotlib inline\n",
    "import pandas as pd\n",
    "import numpy as np\n",
    "import matplotlib.pylab as plt\n",
    "from scipy import stats\n",
    "import seaborn as sns"
   ]
  },
  {
   "cell_type": "code",
   "execution_count": 2,
   "id": "bc09dba5",
   "metadata": {
    "pycharm": {
     "name": "#%%\n"
    }
   },
   "outputs": [
    {
     "name": "stdout",
     "output_type": "stream",
     "text": [
      "\"\",\"len\",\"supp\",\"dose\"\r\n",
      "\"1\",4.2,\"VC\",0.5\r\n",
      "\"2\",11.5,\"VC\",0.5\r\n",
      "\"3\",7.3,\"VC\",0.5\r\n",
      "\"4\",5.8,\"VC\",0.5\r\n",
      "\"5\",6.4,\"VC\",0.5\r\n",
      "\"6\",10,\"VC\",0.5\r\n",
      "\"7\",11.2,\"VC\",0.5\r\n",
      "\"8\",11.2,\"VC\",0.5\r\n",
      "\"9\",5.2,\"VC\",0.5\r\n"
     ]
    }
   ],
   "source": [
    "!head assign_wk4/ToothGrowth.csv"
   ]
  },
  {
   "cell_type": "code",
   "execution_count": 3,
   "id": "9d013194",
   "metadata": {
    "pycharm": {
     "name": "#%%\n"
    }
   },
   "outputs": [
    {
     "data": {
      "text/html": [
       "<div>\n",
       "<style scoped>\n",
       "    .dataframe tbody tr th:only-of-type {\n",
       "        vertical-align: middle;\n",
       "    }\n",
       "\n",
       "    .dataframe tbody tr th {\n",
       "        vertical-align: top;\n",
       "    }\n",
       "\n",
       "    .dataframe thead th {\n",
       "        text-align: right;\n",
       "    }\n",
       "</style>\n",
       "<table border=\"1\" class=\"dataframe\">\n",
       "  <thead>\n",
       "    <tr style=\"text-align: right;\">\n",
       "      <th></th>\n",
       "      <th>len</th>\n",
       "      <th>supp</th>\n",
       "      <th>dose</th>\n",
       "    </tr>\n",
       "  </thead>\n",
       "  <tbody>\n",
       "    <tr>\n",
       "      <th>1</th>\n",
       "      <td>4.2</td>\n",
       "      <td>VC</td>\n",
       "      <td>0.5</td>\n",
       "    </tr>\n",
       "    <tr>\n",
       "      <th>2</th>\n",
       "      <td>11.5</td>\n",
       "      <td>VC</td>\n",
       "      <td>0.5</td>\n",
       "    </tr>\n",
       "    <tr>\n",
       "      <th>3</th>\n",
       "      <td>7.3</td>\n",
       "      <td>VC</td>\n",
       "      <td>0.5</td>\n",
       "    </tr>\n",
       "    <tr>\n",
       "      <th>4</th>\n",
       "      <td>5.8</td>\n",
       "      <td>VC</td>\n",
       "      <td>0.5</td>\n",
       "    </tr>\n",
       "    <tr>\n",
       "      <th>5</th>\n",
       "      <td>6.4</td>\n",
       "      <td>VC</td>\n",
       "      <td>0.5</td>\n",
       "    </tr>\n",
       "    <tr>\n",
       "      <th>6</th>\n",
       "      <td>10.0</td>\n",
       "      <td>VC</td>\n",
       "      <td>0.5</td>\n",
       "    </tr>\n",
       "    <tr>\n",
       "      <th>7</th>\n",
       "      <td>11.2</td>\n",
       "      <td>VC</td>\n",
       "      <td>0.5</td>\n",
       "    </tr>\n",
       "    <tr>\n",
       "      <th>8</th>\n",
       "      <td>11.2</td>\n",
       "      <td>VC</td>\n",
       "      <td>0.5</td>\n",
       "    </tr>\n",
       "    <tr>\n",
       "      <th>9</th>\n",
       "      <td>5.2</td>\n",
       "      <td>VC</td>\n",
       "      <td>0.5</td>\n",
       "    </tr>\n",
       "    <tr>\n",
       "      <th>10</th>\n",
       "      <td>7.0</td>\n",
       "      <td>VC</td>\n",
       "      <td>0.5</td>\n",
       "    </tr>\n",
       "    <tr>\n",
       "      <th>11</th>\n",
       "      <td>16.5</td>\n",
       "      <td>VC</td>\n",
       "      <td>1.0</td>\n",
       "    </tr>\n",
       "    <tr>\n",
       "      <th>12</th>\n",
       "      <td>16.5</td>\n",
       "      <td>VC</td>\n",
       "      <td>1.0</td>\n",
       "    </tr>\n",
       "    <tr>\n",
       "      <th>13</th>\n",
       "      <td>15.2</td>\n",
       "      <td>VC</td>\n",
       "      <td>1.0</td>\n",
       "    </tr>\n",
       "    <tr>\n",
       "      <th>14</th>\n",
       "      <td>17.3</td>\n",
       "      <td>VC</td>\n",
       "      <td>1.0</td>\n",
       "    </tr>\n",
       "    <tr>\n",
       "      <th>15</th>\n",
       "      <td>22.5</td>\n",
       "      <td>VC</td>\n",
       "      <td>1.0</td>\n",
       "    </tr>\n",
       "    <tr>\n",
       "      <th>16</th>\n",
       "      <td>17.3</td>\n",
       "      <td>VC</td>\n",
       "      <td>1.0</td>\n",
       "    </tr>\n",
       "    <tr>\n",
       "      <th>17</th>\n",
       "      <td>13.6</td>\n",
       "      <td>VC</td>\n",
       "      <td>1.0</td>\n",
       "    </tr>\n",
       "    <tr>\n",
       "      <th>18</th>\n",
       "      <td>14.5</td>\n",
       "      <td>VC</td>\n",
       "      <td>1.0</td>\n",
       "    </tr>\n",
       "    <tr>\n",
       "      <th>19</th>\n",
       "      <td>18.8</td>\n",
       "      <td>VC</td>\n",
       "      <td>1.0</td>\n",
       "    </tr>\n",
       "    <tr>\n",
       "      <th>20</th>\n",
       "      <td>15.5</td>\n",
       "      <td>VC</td>\n",
       "      <td>1.0</td>\n",
       "    </tr>\n",
       "    <tr>\n",
       "      <th>21</th>\n",
       "      <td>23.6</td>\n",
       "      <td>VC</td>\n",
       "      <td>2.0</td>\n",
       "    </tr>\n",
       "    <tr>\n",
       "      <th>22</th>\n",
       "      <td>18.5</td>\n",
       "      <td>VC</td>\n",
       "      <td>2.0</td>\n",
       "    </tr>\n",
       "    <tr>\n",
       "      <th>23</th>\n",
       "      <td>33.9</td>\n",
       "      <td>VC</td>\n",
       "      <td>2.0</td>\n",
       "    </tr>\n",
       "    <tr>\n",
       "      <th>24</th>\n",
       "      <td>25.5</td>\n",
       "      <td>VC</td>\n",
       "      <td>2.0</td>\n",
       "    </tr>\n",
       "    <tr>\n",
       "      <th>25</th>\n",
       "      <td>26.4</td>\n",
       "      <td>VC</td>\n",
       "      <td>2.0</td>\n",
       "    </tr>\n",
       "    <tr>\n",
       "      <th>26</th>\n",
       "      <td>32.5</td>\n",
       "      <td>VC</td>\n",
       "      <td>2.0</td>\n",
       "    </tr>\n",
       "    <tr>\n",
       "      <th>27</th>\n",
       "      <td>26.7</td>\n",
       "      <td>VC</td>\n",
       "      <td>2.0</td>\n",
       "    </tr>\n",
       "    <tr>\n",
       "      <th>28</th>\n",
       "      <td>21.5</td>\n",
       "      <td>VC</td>\n",
       "      <td>2.0</td>\n",
       "    </tr>\n",
       "    <tr>\n",
       "      <th>29</th>\n",
       "      <td>23.3</td>\n",
       "      <td>VC</td>\n",
       "      <td>2.0</td>\n",
       "    </tr>\n",
       "    <tr>\n",
       "      <th>30</th>\n",
       "      <td>29.5</td>\n",
       "      <td>VC</td>\n",
       "      <td>2.0</td>\n",
       "    </tr>\n",
       "    <tr>\n",
       "      <th>31</th>\n",
       "      <td>15.2</td>\n",
       "      <td>OJ</td>\n",
       "      <td>0.5</td>\n",
       "    </tr>\n",
       "    <tr>\n",
       "      <th>32</th>\n",
       "      <td>21.5</td>\n",
       "      <td>OJ</td>\n",
       "      <td>0.5</td>\n",
       "    </tr>\n",
       "    <tr>\n",
       "      <th>33</th>\n",
       "      <td>17.6</td>\n",
       "      <td>OJ</td>\n",
       "      <td>0.5</td>\n",
       "    </tr>\n",
       "    <tr>\n",
       "      <th>34</th>\n",
       "      <td>9.7</td>\n",
       "      <td>OJ</td>\n",
       "      <td>0.5</td>\n",
       "    </tr>\n",
       "    <tr>\n",
       "      <th>35</th>\n",
       "      <td>14.5</td>\n",
       "      <td>OJ</td>\n",
       "      <td>0.5</td>\n",
       "    </tr>\n",
       "    <tr>\n",
       "      <th>36</th>\n",
       "      <td>10.0</td>\n",
       "      <td>OJ</td>\n",
       "      <td>0.5</td>\n",
       "    </tr>\n",
       "    <tr>\n",
       "      <th>37</th>\n",
       "      <td>8.2</td>\n",
       "      <td>OJ</td>\n",
       "      <td>0.5</td>\n",
       "    </tr>\n",
       "    <tr>\n",
       "      <th>38</th>\n",
       "      <td>9.4</td>\n",
       "      <td>OJ</td>\n",
       "      <td>0.5</td>\n",
       "    </tr>\n",
       "    <tr>\n",
       "      <th>39</th>\n",
       "      <td>16.5</td>\n",
       "      <td>OJ</td>\n",
       "      <td>0.5</td>\n",
       "    </tr>\n",
       "    <tr>\n",
       "      <th>40</th>\n",
       "      <td>9.7</td>\n",
       "      <td>OJ</td>\n",
       "      <td>0.5</td>\n",
       "    </tr>\n",
       "    <tr>\n",
       "      <th>41</th>\n",
       "      <td>19.7</td>\n",
       "      <td>OJ</td>\n",
       "      <td>1.0</td>\n",
       "    </tr>\n",
       "    <tr>\n",
       "      <th>42</th>\n",
       "      <td>23.3</td>\n",
       "      <td>OJ</td>\n",
       "      <td>1.0</td>\n",
       "    </tr>\n",
       "    <tr>\n",
       "      <th>43</th>\n",
       "      <td>23.6</td>\n",
       "      <td>OJ</td>\n",
       "      <td>1.0</td>\n",
       "    </tr>\n",
       "    <tr>\n",
       "      <th>44</th>\n",
       "      <td>26.4</td>\n",
       "      <td>OJ</td>\n",
       "      <td>1.0</td>\n",
       "    </tr>\n",
       "    <tr>\n",
       "      <th>45</th>\n",
       "      <td>20.0</td>\n",
       "      <td>OJ</td>\n",
       "      <td>1.0</td>\n",
       "    </tr>\n",
       "    <tr>\n",
       "      <th>46</th>\n",
       "      <td>25.2</td>\n",
       "      <td>OJ</td>\n",
       "      <td>1.0</td>\n",
       "    </tr>\n",
       "    <tr>\n",
       "      <th>47</th>\n",
       "      <td>25.8</td>\n",
       "      <td>OJ</td>\n",
       "      <td>1.0</td>\n",
       "    </tr>\n",
       "    <tr>\n",
       "      <th>48</th>\n",
       "      <td>21.2</td>\n",
       "      <td>OJ</td>\n",
       "      <td>1.0</td>\n",
       "    </tr>\n",
       "    <tr>\n",
       "      <th>49</th>\n",
       "      <td>14.5</td>\n",
       "      <td>OJ</td>\n",
       "      <td>1.0</td>\n",
       "    </tr>\n",
       "    <tr>\n",
       "      <th>50</th>\n",
       "      <td>27.3</td>\n",
       "      <td>OJ</td>\n",
       "      <td>1.0</td>\n",
       "    </tr>\n",
       "    <tr>\n",
       "      <th>51</th>\n",
       "      <td>25.5</td>\n",
       "      <td>OJ</td>\n",
       "      <td>2.0</td>\n",
       "    </tr>\n",
       "    <tr>\n",
       "      <th>52</th>\n",
       "      <td>26.4</td>\n",
       "      <td>OJ</td>\n",
       "      <td>2.0</td>\n",
       "    </tr>\n",
       "    <tr>\n",
       "      <th>53</th>\n",
       "      <td>22.4</td>\n",
       "      <td>OJ</td>\n",
       "      <td>2.0</td>\n",
       "    </tr>\n",
       "    <tr>\n",
       "      <th>54</th>\n",
       "      <td>24.5</td>\n",
       "      <td>OJ</td>\n",
       "      <td>2.0</td>\n",
       "    </tr>\n",
       "    <tr>\n",
       "      <th>55</th>\n",
       "      <td>24.8</td>\n",
       "      <td>OJ</td>\n",
       "      <td>2.0</td>\n",
       "    </tr>\n",
       "    <tr>\n",
       "      <th>56</th>\n",
       "      <td>30.9</td>\n",
       "      <td>OJ</td>\n",
       "      <td>2.0</td>\n",
       "    </tr>\n",
       "    <tr>\n",
       "      <th>57</th>\n",
       "      <td>26.4</td>\n",
       "      <td>OJ</td>\n",
       "      <td>2.0</td>\n",
       "    </tr>\n",
       "    <tr>\n",
       "      <th>58</th>\n",
       "      <td>27.3</td>\n",
       "      <td>OJ</td>\n",
       "      <td>2.0</td>\n",
       "    </tr>\n",
       "    <tr>\n",
       "      <th>59</th>\n",
       "      <td>29.4</td>\n",
       "      <td>OJ</td>\n",
       "      <td>2.0</td>\n",
       "    </tr>\n",
       "    <tr>\n",
       "      <th>60</th>\n",
       "      <td>23.0</td>\n",
       "      <td>OJ</td>\n",
       "      <td>2.0</td>\n",
       "    </tr>\n",
       "  </tbody>\n",
       "</table>\n",
       "</div>"
      ],
      "text/plain": [
       "     len supp  dose\n",
       "1    4.2   VC   0.5\n",
       "2   11.5   VC   0.5\n",
       "3    7.3   VC   0.5\n",
       "4    5.8   VC   0.5\n",
       "5    6.4   VC   0.5\n",
       "6   10.0   VC   0.5\n",
       "7   11.2   VC   0.5\n",
       "8   11.2   VC   0.5\n",
       "9    5.2   VC   0.5\n",
       "10   7.0   VC   0.5\n",
       "11  16.5   VC   1.0\n",
       "12  16.5   VC   1.0\n",
       "13  15.2   VC   1.0\n",
       "14  17.3   VC   1.0\n",
       "15  22.5   VC   1.0\n",
       "16  17.3   VC   1.0\n",
       "17  13.6   VC   1.0\n",
       "18  14.5   VC   1.0\n",
       "19  18.8   VC   1.0\n",
       "20  15.5   VC   1.0\n",
       "21  23.6   VC   2.0\n",
       "22  18.5   VC   2.0\n",
       "23  33.9   VC   2.0\n",
       "24  25.5   VC   2.0\n",
       "25  26.4   VC   2.0\n",
       "26  32.5   VC   2.0\n",
       "27  26.7   VC   2.0\n",
       "28  21.5   VC   2.0\n",
       "29  23.3   VC   2.0\n",
       "30  29.5   VC   2.0\n",
       "31  15.2   OJ   0.5\n",
       "32  21.5   OJ   0.5\n",
       "33  17.6   OJ   0.5\n",
       "34   9.7   OJ   0.5\n",
       "35  14.5   OJ   0.5\n",
       "36  10.0   OJ   0.5\n",
       "37   8.2   OJ   0.5\n",
       "38   9.4   OJ   0.5\n",
       "39  16.5   OJ   0.5\n",
       "40   9.7   OJ   0.5\n",
       "41  19.7   OJ   1.0\n",
       "42  23.3   OJ   1.0\n",
       "43  23.6   OJ   1.0\n",
       "44  26.4   OJ   1.0\n",
       "45  20.0   OJ   1.0\n",
       "46  25.2   OJ   1.0\n",
       "47  25.8   OJ   1.0\n",
       "48  21.2   OJ   1.0\n",
       "49  14.5   OJ   1.0\n",
       "50  27.3   OJ   1.0\n",
       "51  25.5   OJ   2.0\n",
       "52  26.4   OJ   2.0\n",
       "53  22.4   OJ   2.0\n",
       "54  24.5   OJ   2.0\n",
       "55  24.8   OJ   2.0\n",
       "56  30.9   OJ   2.0\n",
       "57  26.4   OJ   2.0\n",
       "58  27.3   OJ   2.0\n",
       "59  29.4   OJ   2.0\n",
       "60  23.0   OJ   2.0"
      ]
     },
     "execution_count": 3,
     "metadata": {},
     "output_type": "execute_result"
    }
   ],
   "source": [
    "teeth_df = pd.read_csv('assign_wk4/ToothGrowth.csv', index_col=0)\n",
    "teeth_df"
   ]
  },
  {
   "cell_type": "code",
   "execution_count": 4,
   "id": "9baf6770",
   "metadata": {
    "pycharm": {
     "name": "#%%\n"
    }
   },
   "outputs": [],
   "source": [
    "# Split sets for hypothesis testing\n",
    "\n",
    "def split_dose_df(df, ref):\n",
    "    categories = df[ref].value_counts().index\n",
    "    a_df = df[df[ref] == categories[0]]\n",
    "    b_df = df[df[ref] == categories[1]]\n",
    "    c_df = df[df[ref] == categories[2]]\n",
    "    return a_df, b_df, c_df\n",
    "\n",
    "low_df, med_df, high_df = split_dose_df(teeth_df, 'dose')"
   ]
  },
  {
   "cell_type": "code",
   "execution_count": 5,
   "id": "92aab389",
   "metadata": {
    "pycharm": {
     "name": "#%%\n"
    }
   },
   "outputs": [],
   "source": [
    "def split_supp_df(df, ref):\n",
    "    categories = df[ref].value_counts().index\n",
    "    a_df = df[df[ref] == categories[0]]\n",
    "    b_df = df[df[ref] == categories[1]]\n",
    "    return a_df, b_df\n",
    "\n",
    "vc_df, oj_df = split_supp_df(teeth_df, 'supp')"
   ]
  },
  {
   "cell_type": "markdown",
   "id": "52a47a18",
   "metadata": {
    "pycharm": {
     "name": "#%% md\n"
    }
   },
   "source": [
    "<section id='missing'></section>"
   ]
  },
  {
   "cell_type": "markdown",
   "id": "b0b24c45",
   "metadata": {
    "pycharm": {
     "name": "#%% md\n"
    }
   },
   "source": [
    "### Question 1: Graphically describe the dataset\n",
    "\n",
    "---\n",
    "\n",
    "- **This could include box plots, histograms, etc.**"
   ]
  },
  {
   "cell_type": "markdown",
   "id": "c000406d",
   "metadata": {
    "pycharm": {
     "name": "#%% md\n"
    }
   },
   "source": [
    "We will start by seeing how this dataset is distributed for tooth length, since it appears that this dataset is observations where we are change vitamin c dose, and supplement type to assess the effect on tooth length."
   ]
  },
  {
   "cell_type": "code",
   "execution_count": 6,
   "id": "9d6e8dd1",
   "metadata": {
    "pycharm": {
     "name": "#%%\n"
    }
   },
   "outputs": [
    {
     "data": {
      "text/plain": [
       "<AxesSubplot:xlabel='len'>"
      ]
     },
     "execution_count": 6,
     "metadata": {},
     "output_type": "execute_result"
    },
    {
     "data": {
      "image/png": "[encoded data removed]",
      "text/plain": [
       "<Figure size 432x288 with 1 Axes>"
      ]
     },
     "metadata": {
      "needs_background": "light"
     },
     "output_type": "display_data"
    }
   ],
   "source": [
    "# Show a boxplot of the tooth length of dataset\n",
    "\n",
    "sns.boxplot(x=teeth_df['len'])"
   ]
  },
  {
   "cell_type": "code",
   "execution_count": 7,
   "id": "c2db3c16",
   "metadata": {
    "pycharm": {
     "name": "#%%\n"
    }
   },
   "outputs": [
    {
     "data": {
      "text/plain": [
       "<AxesSubplot:>"
      ]
     },
     "execution_count": 7,
     "metadata": {},
     "output_type": "execute_result"
    },
    {
     "data": {
      "image/png": "[encoded data removed]",
      "text/plain": [
       "<Figure size 432x288 with 1 Axes>"
      ]
     },
     "metadata": {
      "needs_background": "light"
     },
     "output_type": "display_data"
    }
   ],
   "source": [
    "# Show the distribution of supplementation sources in this dataset\n",
    "\n",
    "teeth_df['supp'].hist()"
   ]
  },
  {
   "cell_type": "code",
   "execution_count": 8,
   "id": "87832e70",
   "metadata": {
    "pycharm": {
     "name": "#%%\n"
    }
   },
   "outputs": [
    {
     "data": {
      "text/plain": [
       "<AxesSubplot:>"
      ]
     },
     "execution_count": 8,
     "metadata": {},
     "output_type": "execute_result"
    },
    {
     "data": {
      "image/png": "[encoded data removed]",
      "text/plain": [
       "<Figure size 432x288 with 1 Axes>"
      ]
     },
     "metadata": {
      "needs_background": "light"
     },
     "output_type": "display_data"
    }
   ],
   "source": [
    "# Show the distribution of doses in this dataset\n",
    "\n",
    "teeth_df['dose'].hist()"
   ]
  },
  {
   "cell_type": "markdown",
   "id": "5f064424",
   "metadata": {
    "pycharm": {
     "name": "#%% md\n"
    }
   },
   "source": [
    "It looks like we have 60 total observations, with 20 each at dose 0.5, 1.0, and 2.0 as well as split in half between OJ and VC supplementations."
   ]
  },
  {
   "cell_type": "code",
   "execution_count": 9,
   "id": "840d0e01",
   "metadata": {
    "pycharm": {
     "name": "#%%\n"
    }
   },
   "outputs": [
    {
     "data": {
      "text/plain": [
       "<AxesSubplot:xlabel='dose', ylabel='len'>"
      ]
     },
     "execution_count": 9,
     "metadata": {},
     "output_type": "execute_result"
    },
    {
     "data": {
      "image/png": "[encoded data removed]",
      "text/plain": [
       "<Figure size 432x288 with 1 Axes>"
      ]
     },
     "metadata": {
      "needs_background": "light"
     },
     "output_type": "display_data"
    }
   ],
   "source": [
    "sns.boxplot(x=teeth_df['dose'], y=teeth_df['len'], hue=teeth_df['supp'])"
   ]
  },
  {
   "cell_type": "markdown",
   "id": "34872b6b",
   "metadata": {
    "pycharm": {
     "name": "#%% md\n"
    }
   },
   "source": [
    "From these visualizations it looks like we will want to test hypothesis as to whether or not dose influences tooth length, and if the supplementation substrate matters."
   ]
  },
  {
   "cell_type": "markdown",
   "id": "1a7af450",
   "metadata": {
    "pycharm": {
     "name": "#%% md\n"
    }
   },
   "source": [
    "- **Provide a summary of your initial findings about the dataset.**"
   ]
  },
  {
   "cell_type": "markdown",
   "id": "0b6fe4a0",
   "metadata": {
    "pycharm": {
     "name": "#%% md\n"
    }
   },
   "source": [
    "I am going to display the summary statistics for the dataset, as well as the subsets off of the dose and supplement categories that we have displayed in the previous section."
   ]
  },
  {
   "cell_type": "code",
   "execution_count": 10,
   "id": "e682cd62",
   "metadata": {
    "pycharm": {
     "name": "#%%\n"
    }
   },
   "outputs": [
    {
     "data": {
      "text/html": [
       "<div>\n",
       "<style scoped>\n",
       "    .dataframe tbody tr th:only-of-type {\n",
       "        vertical-align: middle;\n",
       "    }\n",
       "\n",
       "    .dataframe tbody tr th {\n",
       "        vertical-align: top;\n",
       "    }\n",
       "\n",
       "    .dataframe thead th {\n",
       "        text-align: right;\n",
       "    }\n",
       "</style>\n",
       "<table border=\"1\" class=\"dataframe\">\n",
       "  <thead>\n",
       "    <tr style=\"text-align: right;\">\n",
       "      <th></th>\n",
       "      <th>len</th>\n",
       "      <th>dose</th>\n",
       "    </tr>\n",
       "  </thead>\n",
       "  <tbody>\n",
       "    <tr>\n",
       "      <th>count</th>\n",
       "      <td>60.000000</td>\n",
       "      <td>60.000000</td>\n",
       "    </tr>\n",
       "    <tr>\n",
       "      <th>mean</th>\n",
       "      <td>18.813333</td>\n",
       "      <td>1.166667</td>\n",
       "    </tr>\n",
       "    <tr>\n",
       "      <th>std</th>\n",
       "      <td>7.649315</td>\n",
       "      <td>0.628872</td>\n",
       "    </tr>\n",
       "    <tr>\n",
       "      <th>min</th>\n",
       "      <td>4.200000</td>\n",
       "      <td>0.500000</td>\n",
       "    </tr>\n",
       "    <tr>\n",
       "      <th>25%</th>\n",
       "      <td>13.075000</td>\n",
       "      <td>0.500000</td>\n",
       "    </tr>\n",
       "    <tr>\n",
       "      <th>50%</th>\n",
       "      <td>19.250000</td>\n",
       "      <td>1.000000</td>\n",
       "    </tr>\n",
       "    <tr>\n",
       "      <th>75%</th>\n",
       "      <td>25.275000</td>\n",
       "      <td>2.000000</td>\n",
       "    </tr>\n",
       "    <tr>\n",
       "      <th>max</th>\n",
       "      <td>33.900000</td>\n",
       "      <td>2.000000</td>\n",
       "    </tr>\n",
       "  </tbody>\n",
       "</table>\n",
       "</div>"
      ],
      "text/plain": [
       "             len       dose\n",
       "count  60.000000  60.000000\n",
       "mean   18.813333   1.166667\n",
       "std     7.649315   0.628872\n",
       "min     4.200000   0.500000\n",
       "25%    13.075000   0.500000\n",
       "50%    19.250000   1.000000\n",
       "75%    25.275000   2.000000\n",
       "max    33.900000   2.000000"
      ]
     },
     "execution_count": 10,
     "metadata": {},
     "output_type": "execute_result"
    }
   ],
   "source": [
    "teeth_df.describe()"
   ]
  },
  {
   "cell_type": "code",
   "execution_count": 11,
   "id": "89b1f206",
   "metadata": {
    "pycharm": {
     "name": "#%%\n"
    }
   },
   "outputs": [
    {
     "data": {
      "text/html": [
       "<div>\n",
       "<style scoped>\n",
       "    .dataframe tbody tr th:only-of-type {\n",
       "        vertical-align: middle;\n",
       "    }\n",
       "\n",
       "    .dataframe tbody tr th {\n",
       "        vertical-align: top;\n",
       "    }\n",
       "\n",
       "    .dataframe thead th {\n",
       "        text-align: right;\n",
       "    }\n",
       "</style>\n",
       "<table border=\"1\" class=\"dataframe\">\n",
       "  <thead>\n",
       "    <tr style=\"text-align: right;\">\n",
       "      <th></th>\n",
       "      <th>len</th>\n",
       "      <th>dose</th>\n",
       "    </tr>\n",
       "  </thead>\n",
       "  <tbody>\n",
       "    <tr>\n",
       "      <th>count</th>\n",
       "      <td>30.000000</td>\n",
       "      <td>30.000000</td>\n",
       "    </tr>\n",
       "    <tr>\n",
       "      <th>mean</th>\n",
       "      <td>16.963333</td>\n",
       "      <td>1.166667</td>\n",
       "    </tr>\n",
       "    <tr>\n",
       "      <th>std</th>\n",
       "      <td>8.266029</td>\n",
       "      <td>0.634270</td>\n",
       "    </tr>\n",
       "    <tr>\n",
       "      <th>min</th>\n",
       "      <td>4.200000</td>\n",
       "      <td>0.500000</td>\n",
       "    </tr>\n",
       "    <tr>\n",
       "      <th>25%</th>\n",
       "      <td>11.200000</td>\n",
       "      <td>0.500000</td>\n",
       "    </tr>\n",
       "    <tr>\n",
       "      <th>50%</th>\n",
       "      <td>16.500000</td>\n",
       "      <td>1.000000</td>\n",
       "    </tr>\n",
       "    <tr>\n",
       "      <th>75%</th>\n",
       "      <td>23.100000</td>\n",
       "      <td>2.000000</td>\n",
       "    </tr>\n",
       "    <tr>\n",
       "      <th>max</th>\n",
       "      <td>33.900000</td>\n",
       "      <td>2.000000</td>\n",
       "    </tr>\n",
       "  </tbody>\n",
       "</table>\n",
       "</div>"
      ],
      "text/plain": [
       "             len       dose\n",
       "count  30.000000  30.000000\n",
       "mean   16.963333   1.166667\n",
       "std     8.266029   0.634270\n",
       "min     4.200000   0.500000\n",
       "25%    11.200000   0.500000\n",
       "50%    16.500000   1.000000\n",
       "75%    23.100000   2.000000\n",
       "max    33.900000   2.000000"
      ]
     },
     "execution_count": 11,
     "metadata": {},
     "output_type": "execute_result"
    }
   ],
   "source": [
    "vc_df.describe()"
   ]
  },
  {
   "cell_type": "code",
   "execution_count": 12,
   "id": "19159c67",
   "metadata": {
    "pycharm": {
     "name": "#%%\n"
    }
   },
   "outputs": [
    {
     "data": {
      "text/html": [
       "<div>\n",
       "<style scoped>\n",
       "    .dataframe tbody tr th:only-of-type {\n",
       "        vertical-align: middle;\n",
       "    }\n",
       "\n",
       "    .dataframe tbody tr th {\n",
       "        vertical-align: top;\n",
       "    }\n",
       "\n",
       "    .dataframe thead th {\n",
       "        text-align: right;\n",
       "    }\n",
       "</style>\n",
       "<table border=\"1\" class=\"dataframe\">\n",
       "  <thead>\n",
       "    <tr style=\"text-align: right;\">\n",
       "      <th></th>\n",
       "      <th>len</th>\n",
       "      <th>dose</th>\n",
       "    </tr>\n",
       "  </thead>\n",
       "  <tbody>\n",
       "    <tr>\n",
       "      <th>count</th>\n",
       "      <td>30.000000</td>\n",
       "      <td>30.000000</td>\n",
       "    </tr>\n",
       "    <tr>\n",
       "      <th>mean</th>\n",
       "      <td>20.663333</td>\n",
       "      <td>1.166667</td>\n",
       "    </tr>\n",
       "    <tr>\n",
       "      <th>std</th>\n",
       "      <td>6.605561</td>\n",
       "      <td>0.634270</td>\n",
       "    </tr>\n",
       "    <tr>\n",
       "      <th>min</th>\n",
       "      <td>8.200000</td>\n",
       "      <td>0.500000</td>\n",
       "    </tr>\n",
       "    <tr>\n",
       "      <th>25%</th>\n",
       "      <td>15.525000</td>\n",
       "      <td>0.500000</td>\n",
       "    </tr>\n",
       "    <tr>\n",
       "      <th>50%</th>\n",
       "      <td>22.700000</td>\n",
       "      <td>1.000000</td>\n",
       "    </tr>\n",
       "    <tr>\n",
       "      <th>75%</th>\n",
       "      <td>25.725000</td>\n",
       "      <td>2.000000</td>\n",
       "    </tr>\n",
       "    <tr>\n",
       "      <th>max</th>\n",
       "      <td>30.900000</td>\n",
       "      <td>2.000000</td>\n",
       "    </tr>\n",
       "  </tbody>\n",
       "</table>\n",
       "</div>"
      ],
      "text/plain": [
       "             len       dose\n",
       "count  30.000000  30.000000\n",
       "mean   20.663333   1.166667\n",
       "std     6.605561   0.634270\n",
       "min     8.200000   0.500000\n",
       "25%    15.525000   0.500000\n",
       "50%    22.700000   1.000000\n",
       "75%    25.725000   2.000000\n",
       "max    30.900000   2.000000"
      ]
     },
     "execution_count": 12,
     "metadata": {},
     "output_type": "execute_result"
    }
   ],
   "source": [
    "oj_df.describe()"
   ]
  },
  {
   "cell_type": "code",
   "execution_count": 13,
   "id": "50e143b6",
   "metadata": {
    "pycharm": {
     "name": "#%%\n"
    }
   },
   "outputs": [
    {
     "data": {
      "text/html": [
       "<div>\n",
       "<style scoped>\n",
       "    .dataframe tbody tr th:only-of-type {\n",
       "        vertical-align: middle;\n",
       "    }\n",
       "\n",
       "    .dataframe tbody tr th {\n",
       "        vertical-align: top;\n",
       "    }\n",
       "\n",
       "    .dataframe thead th {\n",
       "        text-align: right;\n",
       "    }\n",
       "</style>\n",
       "<table border=\"1\" class=\"dataframe\">\n",
       "  <thead>\n",
       "    <tr style=\"text-align: right;\">\n",
       "      <th></th>\n",
       "      <th>len</th>\n",
       "      <th>dose</th>\n",
       "    </tr>\n",
       "  </thead>\n",
       "  <tbody>\n",
       "    <tr>\n",
       "      <th>count</th>\n",
       "      <td>20.000000</td>\n",
       "      <td>20.0</td>\n",
       "    </tr>\n",
       "    <tr>\n",
       "      <th>mean</th>\n",
       "      <td>10.605000</td>\n",
       "      <td>0.5</td>\n",
       "    </tr>\n",
       "    <tr>\n",
       "      <th>std</th>\n",
       "      <td>4.499763</td>\n",
       "      <td>0.0</td>\n",
       "    </tr>\n",
       "    <tr>\n",
       "      <th>min</th>\n",
       "      <td>4.200000</td>\n",
       "      <td>0.5</td>\n",
       "    </tr>\n",
       "    <tr>\n",
       "      <th>25%</th>\n",
       "      <td>7.225000</td>\n",
       "      <td>0.5</td>\n",
       "    </tr>\n",
       "    <tr>\n",
       "      <th>50%</th>\n",
       "      <td>9.850000</td>\n",
       "      <td>0.5</td>\n",
       "    </tr>\n",
       "    <tr>\n",
       "      <th>75%</th>\n",
       "      <td>12.250000</td>\n",
       "      <td>0.5</td>\n",
       "    </tr>\n",
       "    <tr>\n",
       "      <th>max</th>\n",
       "      <td>21.500000</td>\n",
       "      <td>0.5</td>\n",
       "    </tr>\n",
       "  </tbody>\n",
       "</table>\n",
       "</div>"
      ],
      "text/plain": [
       "             len  dose\n",
       "count  20.000000  20.0\n",
       "mean   10.605000   0.5\n",
       "std     4.499763   0.0\n",
       "min     4.200000   0.5\n",
       "25%     7.225000   0.5\n",
       "50%     9.850000   0.5\n",
       "75%    12.250000   0.5\n",
       "max    21.500000   0.5"
      ]
     },
     "execution_count": 13,
     "metadata": {},
     "output_type": "execute_result"
    }
   ],
   "source": [
    "low_df.describe()"
   ]
  },
  {
   "cell_type": "code",
   "execution_count": 14,
   "id": "0a5394b2",
   "metadata": {
    "pycharm": {
     "name": "#%%\n"
    }
   },
   "outputs": [
    {
     "data": {
      "text/html": [
       "<div>\n",
       "<style scoped>\n",
       "    .dataframe tbody tr th:only-of-type {\n",
       "        vertical-align: middle;\n",
       "    }\n",
       "\n",
       "    .dataframe tbody tr th {\n",
       "        vertical-align: top;\n",
       "    }\n",
       "\n",
       "    .dataframe thead th {\n",
       "        text-align: right;\n",
       "    }\n",
       "</style>\n",
       "<table border=\"1\" class=\"dataframe\">\n",
       "  <thead>\n",
       "    <tr style=\"text-align: right;\">\n",
       "      <th></th>\n",
       "      <th>len</th>\n",
       "      <th>dose</th>\n",
       "    </tr>\n",
       "  </thead>\n",
       "  <tbody>\n",
       "    <tr>\n",
       "      <th>count</th>\n",
       "      <td>20.000000</td>\n",
       "      <td>20.0</td>\n",
       "    </tr>\n",
       "    <tr>\n",
       "      <th>mean</th>\n",
       "      <td>19.735000</td>\n",
       "      <td>1.0</td>\n",
       "    </tr>\n",
       "    <tr>\n",
       "      <th>std</th>\n",
       "      <td>4.415436</td>\n",
       "      <td>0.0</td>\n",
       "    </tr>\n",
       "    <tr>\n",
       "      <th>min</th>\n",
       "      <td>13.600000</td>\n",
       "      <td>1.0</td>\n",
       "    </tr>\n",
       "    <tr>\n",
       "      <th>25%</th>\n",
       "      <td>16.250000</td>\n",
       "      <td>1.0</td>\n",
       "    </tr>\n",
       "    <tr>\n",
       "      <th>50%</th>\n",
       "      <td>19.250000</td>\n",
       "      <td>1.0</td>\n",
       "    </tr>\n",
       "    <tr>\n",
       "      <th>75%</th>\n",
       "      <td>23.375000</td>\n",
       "      <td>1.0</td>\n",
       "    </tr>\n",
       "    <tr>\n",
       "      <th>max</th>\n",
       "      <td>27.300000</td>\n",
       "      <td>1.0</td>\n",
       "    </tr>\n",
       "  </tbody>\n",
       "</table>\n",
       "</div>"
      ],
      "text/plain": [
       "             len  dose\n",
       "count  20.000000  20.0\n",
       "mean   19.735000   1.0\n",
       "std     4.415436   0.0\n",
       "min    13.600000   1.0\n",
       "25%    16.250000   1.0\n",
       "50%    19.250000   1.0\n",
       "75%    23.375000   1.0\n",
       "max    27.300000   1.0"
      ]
     },
     "execution_count": 14,
     "metadata": {},
     "output_type": "execute_result"
    }
   ],
   "source": [
    "med_df.describe()"
   ]
  },
  {
   "cell_type": "code",
   "execution_count": 15,
   "id": "05202790",
   "metadata": {
    "pycharm": {
     "name": "#%%\n"
    }
   },
   "outputs": [
    {
     "data": {
      "text/html": [
       "<div>\n",
       "<style scoped>\n",
       "    .dataframe tbody tr th:only-of-type {\n",
       "        vertical-align: middle;\n",
       "    }\n",
       "\n",
       "    .dataframe tbody tr th {\n",
       "        vertical-align: top;\n",
       "    }\n",
       "\n",
       "    .dataframe thead th {\n",
       "        text-align: right;\n",
       "    }\n",
       "</style>\n",
       "<table border=\"1\" class=\"dataframe\">\n",
       "  <thead>\n",
       "    <tr style=\"text-align: right;\">\n",
       "      <th></th>\n",
       "      <th>len</th>\n",
       "      <th>dose</th>\n",
       "    </tr>\n",
       "  </thead>\n",
       "  <tbody>\n",
       "    <tr>\n",
       "      <th>count</th>\n",
       "      <td>20.00000</td>\n",
       "      <td>20.0</td>\n",
       "    </tr>\n",
       "    <tr>\n",
       "      <th>mean</th>\n",
       "      <td>26.10000</td>\n",
       "      <td>2.0</td>\n",
       "    </tr>\n",
       "    <tr>\n",
       "      <th>std</th>\n",
       "      <td>3.77415</td>\n",
       "      <td>0.0</td>\n",
       "    </tr>\n",
       "    <tr>\n",
       "      <th>min</th>\n",
       "      <td>18.50000</td>\n",
       "      <td>2.0</td>\n",
       "    </tr>\n",
       "    <tr>\n",
       "      <th>25%</th>\n",
       "      <td>23.52500</td>\n",
       "      <td>2.0</td>\n",
       "    </tr>\n",
       "    <tr>\n",
       "      <th>50%</th>\n",
       "      <td>25.95000</td>\n",
       "      <td>2.0</td>\n",
       "    </tr>\n",
       "    <tr>\n",
       "      <th>75%</th>\n",
       "      <td>27.82500</td>\n",
       "      <td>2.0</td>\n",
       "    </tr>\n",
       "    <tr>\n",
       "      <th>max</th>\n",
       "      <td>33.90000</td>\n",
       "      <td>2.0</td>\n",
       "    </tr>\n",
       "  </tbody>\n",
       "</table>\n",
       "</div>"
      ],
      "text/plain": [
       "            len  dose\n",
       "count  20.00000  20.0\n",
       "mean   26.10000   2.0\n",
       "std     3.77415   0.0\n",
       "min    18.50000   2.0\n",
       "25%    23.52500   2.0\n",
       "50%    25.95000   2.0\n",
       "75%    27.82500   2.0\n",
       "max    33.90000   2.0"
      ]
     },
     "execution_count": 15,
     "metadata": {},
     "output_type": "execute_result"
    }
   ],
   "source": [
    "high_df.describe()"
   ]
  },
  {
   "cell_type": "markdown",
   "id": "1d3f90c8",
   "metadata": {
    "pycharm": {
     "name": "#%% md\n"
    }
   },
   "source": [
    "From our visual look at data, and the experiment that we are observing we are likely wanting to determine if there is a difference between the various sample categories and looking at our summary statistics confirms that there is likely some significant differences between the various treament groups."
   ]
  },
  {
   "cell_type": "markdown",
   "id": "d1548401",
   "metadata": {
    "pycharm": {
     "name": "#%% md\n"
    }
   },
   "source": [
    "### Question 2: Check for data normality, using both methods\n",
    "\n",
    "---\n",
    "\n",
    "- **Graphically check for normality**"
   ]
  },
  {
   "cell_type": "code",
   "execution_count": 16,
   "id": "c0a423a7",
   "metadata": {
    "pycharm": {
     "name": "#%%\n"
    }
   },
   "outputs": [
    {
     "data": {
      "text/plain": [
       "<seaborn.axisgrid.FacetGrid at 0x7fb1c4a69eb0>"
      ]
     },
     "execution_count": 16,
     "metadata": {},
     "output_type": "execute_result"
    },
    {
     "data": {
      "image/png": "[encoded data removed]",
      "text/plain": [
       "<Figure size 360x360 with 1 Axes>"
      ]
     },
     "metadata": {
      "needs_background": "light"
     },
     "output_type": "display_data"
    }
   ],
   "source": [
    "# adapted command from 4_Hypothesis_Testing at https://worldclass.regis.edu/d2l/le/content/285076/viewContent/4152278/View\n",
    "# histogram plot - the kde argument adds the line to show the general shape of the distribution\n",
    "\n",
    "sns.displot(teeth_df['len'],kde=True)"
   ]
  },
  {
   "cell_type": "code",
   "execution_count": 17,
   "id": "6d388ceb",
   "metadata": {
    "pycharm": {
     "name": "#%%\n"
    }
   },
   "outputs": [
    {
     "data": {
      "image/png": "[encoded data removed]",
      "text/plain": [
       "<Figure size 432x288 with 1 Axes>"
      ]
     },
     "metadata": {
      "needs_background": "light"
     },
     "output_type": "display_data"
    }
   ],
   "source": [
    "# adapted command from 4_Hypothesis_Testing at https://worldclass.regis.edu/d2l/le/content/285076/viewContent/4152278/View\n",
    "\n",
    "res = stats.probplot(teeth_df['len'], plot=plt)"
   ]
  },
  {
   "cell_type": "markdown",
   "id": "ad2ade6c",
   "metadata": {
    "pycharm": {
     "name": "#%% md\n"
    }
   },
   "source": [
    "The results of our probplot show that we are very close to a normal distribution, and when combined with the small sample size of our dataset I think we can safetly say that this distribution \"looks\" normal."
   ]
  },
  {
   "cell_type": "markdown",
   "id": "354a2e60",
   "metadata": {
    "pycharm": {
     "name": "#%% md\n"
    }
   },
   "source": [
    "- **Statistical test for normality**"
   ]
  },
  {
   "cell_type": "code",
   "execution_count": 18,
   "id": "60eb55b7",
   "metadata": {
    "pycharm": {
     "name": "#%%\n"
    }
   },
   "outputs": [
    {
     "name": "stdout",
     "output_type": "stream",
     "text": [
      "Statistics=0.967, p=0.109\n",
      "Sample looks normally distributed (fail to reject H0)\n"
     ]
    }
   ],
   "source": [
    "# adapted command from 4_Hypothesis_Testing at https://worldclass.regis.edu/d2l/le/content/285076/viewContent/4152278/View\n",
    "from scipy.stats import shapiro\n",
    "\n",
    "# normality test\n",
    "stat, p = shapiro(teeth_df['len'])\n",
    "print('Statistics=%.3f, p=%.3f' % (stat, p))\n",
    "\n",
    "# interpret\n",
    "alpha = 0.05\n",
    "if p > alpha:\n",
    "    print('Sample looks normally distributed (fail to reject H0)')\n",
    "else:\n",
    "    print('Sample does not look normally distributed (reject H0)')"
   ]
  },
  {
   "cell_type": "code",
   "execution_count": 19,
   "id": "3a0eb172",
   "metadata": {
    "pycharm": {
     "name": "#%%\n"
    }
   },
   "outputs": [
    {
     "name": "stdout",
     "output_type": "stream",
     "text": [
      "Statistics=6.490, p=0.039\n",
      "Sample does not look normally distributed (reject H0)\n"
     ]
    }
   ],
   "source": [
    "# adapted command from 4_Hypothesis_Testing at https://worldclass.regis.edu/d2l/le/content/285076/viewContent/4152278/View\n",
    "from scipy.stats import normaltest\n",
    "\n",
    "# normality test\n",
    "stat, p = normaltest(teeth_df['len'])\n",
    "print('Statistics=%.3f, p=%.3f' % (stat, p))\n",
    "\n",
    "# interpret\n",
    "alpha = 0.05\n",
    "if p > alpha:\n",
    "    print('Sample looks normally distributed (fail to reject H0)')\n",
    "else:\n",
    "    print('Sample does not look normally distributed (reject H0)')"
   ]
  },
  {
   "cell_type": "code",
   "execution_count": 20,
   "id": "b4d15083",
   "metadata": {
    "pycharm": {
     "name": "#%%\n"
    }
   },
   "outputs": [
    {
     "name": "stdout",
     "output_type": "stream",
     "text": [
      "Skewness: -0.14995189829252065\n",
      "Kurtosis: -0.9549824842435792\n"
     ]
    }
   ],
   "source": [
    "# adapted command from 4_Hypothesis_Testing at https://worldclass.regis.edu/d2l/le/content/285076/viewContent/4152278/View\n",
    "\n",
    "print(f'Skewness: {teeth_df[\"len\"].skew()}')\n",
    "print(f'Kurtosis: {teeth_df[\"len\"].kurt()}')"
   ]
  },
  {
   "cell_type": "markdown",
   "id": "03754142",
   "metadata": {
    "pycharm": {
     "name": "#%% md\n"
    }
   },
   "source": [
    "Similar to our visual evaluation of the distribution we have a mix between our methods on whether the dataset is normally distributed or not. With the small sample size and the mix we are seeing I think that we can safetly assume that the dataset is normal."
   ]
  },
  {
   "cell_type": "markdown",
   "id": "9aef2b26",
   "metadata": {
    "pycharm": {
     "name": "#%% md\n"
    }
   },
   "source": [
    "### Question 3: Define a null and alternative hypothesis (${H_0}$ and ${H_a}$) for the dataset\n",
    "---\n",
    "- **Be specific and clear in your definitions**"
   ]
  },
  {
   "cell_type": "markdown",
   "id": "39469491",
   "metadata": {
    "pycharm": {
     "name": "#%% md\n"
    }
   },
   "source": [
    "Defining the our hypothesis:\n",
    "\n",
    "${H_0}$\n",
    "*= If we change the vitamin C dose given to our guinea pig sample, then tooth length will remain the same.*\n",
    "<br>\n",
    "${H_0 = \\bar{x}_1 = \\bar{x}_2 = \\bar{x}_3}$\n",
    "\n",
    "${H_\\alpha}$\n",
    "*= If we change the vitamin C dose given to our guinea pig sample, then tooth length will not remain the same.*\n",
    "<br>\n",
    "${H_\\alpha = \\bar{x}_1 \\neq \\bar{x}_2 \\neq \\bar{x}_3}$\n",
    "<br>\n",
    "<br>\n",
    "${\\alpha = 0.05}$"
   ]
  },
  {
   "cell_type": "markdown",
   "id": "218f5372",
   "metadata": {
    "pycharm": {
     "name": "#%% md\n"
    }
   },
   "source": [
    "### Question 4:  Hypothesis Testing\n",
    "---\n",
    "- **Explain why you chose the test(s) you are using**"
   ]
  },
  {
   "cell_type": "markdown",
   "id": "b006c4ef",
   "metadata": {
    "pycharm": {
     "name": "#%% md\n"
    }
   },
   "source": [
    "In testing our hypothesis we are going to need to use the t-test due to the small sample sizes. We are going to want to use the two sample approach to using the t-test because we will be comparing two samples to determine if there is a difference between them.\n",
    "\n",
    "T-Test Assumptions:\n",
    "1. The data is continuous.\n",
    "2. The data is a simple random sample.\n",
    "3. The data is normally distributed.\n",
    "4. The data has homogeneity of variance."
   ]
  },
  {
   "cell_type": "markdown",
   "id": "682f4bf0",
   "metadata": {
    "pycharm": {
     "name": "#%% md\n"
    }
   },
   "source": [
    "**Hypothesis:**"
   ]
  },
  {
   "cell_type": "code",
   "execution_count": 21,
   "id": "a7cd3528",
   "metadata": {
    "pycharm": {
     "name": "#%%\n"
    }
   },
   "outputs": [],
   "source": [
    "# We are comparing to our confidence value a lot so I am pulling this out into a function for this section\n",
    "\n",
    "def compare_alpha(res):\n",
    "    alpha = 0.05\n",
    "    if res <= alpha:\n",
    "        print('Reject the null hypothesis')\n",
    "    else:\n",
    "        print('Failed to reject the null hypothesis')\n",
    "        \n",
    "# F-test function\n",
    "# adapted code for f_test from https://www.statology.org/f-test-python/\n",
    "\n",
    "def f_test(x, y):\n",
    "    x = np.array(x)\n",
    "    y = np.array(y)\n",
    "    f = np.var(x, ddof=1)/np.var(y, ddof=1)\n",
    "    dfn = x.size-1\n",
    "    dfd = y.size-1\n",
    "    p = 1-stats.f.cdf(f, dfn, dfd)\n",
    "    return f, p"
   ]
  },
  {
   "cell_type": "code",
   "execution_count": 22,
   "id": "7757bf3b",
   "metadata": {
    "pycharm": {
     "name": "#%%\n"
    }
   },
   "outputs": [
    {
     "name": "stdout",
     "output_type": "stream",
     "text": [
      "Failed to reject the null hypothesis\n"
     ]
    }
   ],
   "source": [
    "# Validating our assumption of homogeneity of variance using the f-test\n",
    "\n",
    "f, p = f_test(low_df['len'], med_df['len'])\n",
    "compare_alpha(p)"
   ]
  },
  {
   "cell_type": "code",
   "execution_count": 23,
   "id": "7b68ca49",
   "metadata": {
    "pycharm": {
     "name": "#%%\n"
    }
   },
   "outputs": [
    {
     "name": "stdout",
     "output_type": "stream",
     "text": [
      "Failed to reject the null hypothesis\n"
     ]
    }
   ],
   "source": [
    "f, p = f_test(med_df['len'], high_df['len'])\n",
    "compare_alpha(p)"
   ]
  },
  {
   "cell_type": "code",
   "execution_count": 24,
   "id": "a8a235c8",
   "metadata": {
    "pycharm": {
     "name": "#%%\n"
    }
   },
   "outputs": [
    {
     "name": "stdout",
     "output_type": "stream",
     "text": [
      "Failed to reject the null hypothesis\n"
     ]
    }
   ],
   "source": [
    "f, p = f_test(low_df['len'], high_df['len'])\n",
    "compare_alpha(p)"
   ]
  },
  {
   "cell_type": "markdown",
   "id": "ba48addc",
   "metadata": {
    "pycharm": {
     "name": "#%% md\n"
    }
   },
   "source": [
    "Because we were unable to reject the null hypothesis on the F-test we can continue with the assumption that our data satisfies the homogeneity of variance."
   ]
  },
  {
   "cell_type": "code",
   "execution_count": 25,
   "id": "1ae3a172",
   "metadata": {
    "pycharm": {
     "name": "#%%\n"
    }
   },
   "outputs": [],
   "source": [
    "# Independent Samples T-test on split df lengths to determine if the means vary significantly from eachother\n",
    "\n",
    "s, p = stats.ttest_rel(low_df['len'], med_df['len'])"
   ]
  },
  {
   "cell_type": "code",
   "execution_count": 26,
   "id": "1fa52787",
   "metadata": {
    "pycharm": {
     "name": "#%%\n"
    }
   },
   "outputs": [
    {
     "name": "stdout",
     "output_type": "stream",
     "text": [
      "T-test Statistic: -6.966880729531586\n",
      "T-test P-value: 1.2254366960807943e-06\n",
      "Dose 0.5 Mean: 10.604999999999999\n",
      "Dose 1.0 Mean: 19.735000000000003\n",
      "Reject the null hypothesis\n"
     ]
    }
   ],
   "source": [
    "print(f'T-test Statistic: {s}')\n",
    "print(f'T-test P-value: {p}')\n",
    "print(f'Dose 0.5 Mean: {low_df[\"len\"].mean()}')\n",
    "print(f'Dose 1.0 Mean: {med_df[\"len\"].mean()}')\n",
    "compare_alpha(p)"
   ]
  },
  {
   "cell_type": "code",
   "execution_count": 27,
   "id": "ec047bfa",
   "metadata": {
    "pycharm": {
     "name": "#%%\n"
    }
   },
   "outputs": [],
   "source": [
    "s, p = stats.ttest_rel(med_df['len'], high_df['len'])"
   ]
  },
  {
   "cell_type": "code",
   "execution_count": 28,
   "id": "06a98026",
   "metadata": {
    "pycharm": {
     "name": "#%%\n"
    }
   },
   "outputs": [
    {
     "name": "stdout",
     "output_type": "stream",
     "text": [
      "T-test Statistic: -4.604646811976588\n",
      "T-test P-value: 0.00019341860475191383\n",
      "Dose 1.0 Mean: 19.735000000000003\n",
      "Dose 2.0 Mean: 26.1\n",
      "Reject the null hypothesis\n"
     ]
    }
   ],
   "source": [
    "print(f'T-test Statistic: {s}')\n",
    "print(f'T-test P-value: {p}')\n",
    "print(f'Dose 1.0 Mean: {med_df[\"len\"].mean()}')\n",
    "print(f'Dose 2.0 Mean: {high_df[\"len\"].mean()}')\n",
    "compare_alpha(p)"
   ]
  },
  {
   "cell_type": "code",
   "execution_count": 29,
   "id": "c95bf403",
   "metadata": {
    "pycharm": {
     "name": "#%%\n"
    }
   },
   "outputs": [],
   "source": [
    "s, p = stats.ttest_rel(low_df['len'], high_df['len'])"
   ]
  },
  {
   "cell_type": "code",
   "execution_count": 30,
   "id": "070f68cf",
   "metadata": {
    "pycharm": {
     "name": "#%%\n"
    }
   },
   "outputs": [
    {
     "name": "stdout",
     "output_type": "stream",
     "text": [
      "T-test Statistic: -11.29149376779477\n",
      "T-test P-value: 7.190254502934541e-10\n",
      "Dose 0.5 Mean: 10.604999999999999\n",
      "Dose 2.0 Mean: 26.1\n",
      "Reject the null hypothesis\n"
     ]
    }
   ],
   "source": [
    "print(f'T-test Statistic: {s}')\n",
    "print(f'T-test P-value: {p}')\n",
    "print(f'Dose 0.5 Mean: {low_df[\"len\"].mean()}')\n",
    "print(f'Dose 2.0 Mean: {high_df[\"len\"].mean()}')\n",
    "compare_alpha(p)"
   ]
  },
  {
   "cell_type": "markdown",
   "id": "67f73f2c",
   "metadata": {
    "pycharm": {
     "name": "#%% md\n"
    }
   },
   "source": [
    "Conclusion: In all three cases, comparing dose = 0.5, 1.0, and 2.0 we can reject the null hypothesis that these samples could be the same by random chance."
   ]
  },
  {
   "cell_type": "markdown",
   "id": "ece0813c",
   "metadata": {
    "pycharm": {
     "name": "#%% md\n"
    }
   },
   "source": [
    "- **Summarize your findings from the test(s) you performed**"
   ]
  },
  {
   "cell_type": "markdown",
   "id": "f7886863",
   "metadata": {
    "pycharm": {
     "name": "#%% md\n"
    }
   },
   "source": [
    "We started both hypothesis tests with an F-test to ensure that we could assume homogeneity of variance, then we performed a T-tests on each sample and compared the calculated P-value to our alpha to determine our confidence level when rejecting the null hypothesis. We were able to reject the null hypothesis that the mean value of samples divided by dose would be the same with a 95% confidence. We were also unable to reject the null hypothesis that the mean value of samples divided supplement type were the same at the 95% confidence level."
   ]
  },
  {
   "cell_type": "markdown",
   "id": "6acddf24",
   "metadata": {
    "pycharm": {
     "name": "#%% md\n"
    }
   },
   "source": [
    "### Question 5: Conclusion based on your analysis\n",
    "\n",
    "***\n",
    "\n",
    "- **Be sure to defend your conclusion. Include supporting information for your analysis.**"
   ]
  },
  {
   "cell_type": "markdown",
   "id": "70cccd04",
   "metadata": {
    "pycharm": {
     "name": "#%% md\n"
    }
   },
   "source": [
    "Our tests were both two sample T-tests comparing samples split along a categorical variable, after validating the T-test assumptions from our previous work and failing to reject the null hypothesis of an F-test. The T-test was chosen due to the small sample sizes we are working with, and that we are looking for differences between various sample categories. From our hypothesis testing we found that we could reject the null hypothesis that dose does not effect the tooth length. We came to this conclusion by calculating the p-value and T-statistic for each sample set and comparing the p-value to our alpha of 0.05 for a 95% confidence in our conclusion.\n",
    "<br><br>\n",
    "**Hypothesis Results:**\n",
    "<br>\n",
    "T-test Statistic: -6.966880729531586<br>\n",
    "T-test P-value: 1.2254366960807943e-06<br>\n",
    "Dose 0.5 Mean: 10.604999999999999<br>\n",
    "Dose 1.0 Mean: 19.735000000000003<br>\n",
    "Reject the null hypothesis<br>\n",
    "<br>\n",
    "T-test Statistic: -4.604646811976588<br>\n",
    "T-test P-value: 0.00019341860475191383<br>\n",
    "Dose 1.0 Mean: 19.735000000000003<br>\n",
    "Dose 2.0 Mean: 26.1<br>\n",
    "Reject the null hypothesis<br>\n",
    "<br>\n",
    "T-test Statistic: -11.29149376779477<br>\n",
    "T-test P-value: 7.190254502934541e-10<br>\n",
    "Dose 0.5 Mean: 10.604999999999999<br>\n",
    "Dose 2.0 Mean: 26.1<br>\n",
    "Reject the null hypothesis<br>\n",
    "<br>\n",
    "Not only are our P-values below our 0.05 threshold we can see large negative T-statistics implying a high level of reproducability and direction."
   ]
  },
  {
   "cell_type": "markdown",
   "id": "b4022c00",
   "metadata": {
    "pycharm": {
     "name": "#%% md\n"
    }
   },
   "source": [
    "### Question 6: Refine your initial hypothesis and repeat steps 3 through 5\n",
    "\n",
    "***"
   ]
  },
  {
   "cell_type": "markdown",
   "id": "146f9f78",
   "metadata": {
    "pycharm": {
     "name": "#%% md\n"
    }
   },
   "source": [
    "Step 3 - Defining the refined hypothesis:\n",
    "\n",
    "${H_0}$\n",
    "*= If we change the vitamin C dose given to our guinea pig sample, then tooth length will not remain the same.*\n",
    "<br>\n",
    "${H_\\alpha = \\bar{x}_1 \\neq \\bar{x}_2 \\neq \\bar{x}_3}$\n",
    "\n",
    "${H_\\alpha}$\n",
    "*= If we increase the vitamin C dose given to our guinea pig sample, then tooth length will increase or remain the same.*\n",
    "<br>\n",
    "${H_\\alpha = \\bar{x}_1 \\le \\bar{x}_2 \\le \\bar{x}_3}$\n",
    "<br>\n",
    "<br>\n",
    "${\\alpha = 0.05}$"
   ]
  },
  {
   "cell_type": "code",
   "execution_count": 34,
   "id": "77bb4be6",
   "metadata": {
    "pycharm": {
     "name": "#%%\n"
    }
   },
   "outputs": [],
   "source": [
    "# Step 4 - Testing the hypothesis\n",
    "# Compare the means of each category and see if they hold to the alternative hypothesis\n",
    "\n",
    "x_bar_1 = low_df['len'].mean()\n",
    "x_bar_2 = med_df['len'].mean()\n",
    "x_bar_3 = high_df['len'].mean()"
   ]
  },
  {
   "cell_type": "code",
   "execution_count": 35,
   "id": "b59018c4",
   "metadata": {
    "pycharm": {
     "name": "#%%\n"
    }
   },
   "outputs": [
    {
     "data": {
      "text/plain": [
       "True"
      ]
     },
     "execution_count": 35,
     "metadata": {},
     "output_type": "execute_result"
    }
   ],
   "source": [
    "x_bar_1 <= x_bar_2"
   ]
  },
  {
   "cell_type": "code",
   "execution_count": 36,
   "id": "2463723a",
   "metadata": {
    "pycharm": {
     "name": "#%%\n"
    }
   },
   "outputs": [
    {
     "data": {
      "text/plain": [
       "True"
      ]
     },
     "execution_count": 36,
     "metadata": {},
     "output_type": "execute_result"
    }
   ],
   "source": [
    "x_bar_2 <= x_bar_3"
   ]
  },
  {
   "cell_type": "code",
   "execution_count": 40,
   "id": "34f08245",
   "metadata": {
    "pycharm": {
     "name": "#%%\n"
    }
   },
   "outputs": [
    {
     "name": "stdout",
     "output_type": "stream",
     "text": [
      "interval columns not set, guessing: ['len', 'dose']\n"
     ]
    },
    {
     "data": {
      "text/plain": [
       "<AxesSubplot:>"
      ]
     },
     "execution_count": 40,
     "metadata": {},
     "output_type": "execute_result"
    },
    {
     "data": {
      "image/png": "[encoded data removed]",
      "text/plain": [
       "<Figure size 432x288 with 2 Axes>"
      ]
     },
     "metadata": {
      "needs_background": "light"
     },
     "output_type": "display_data"
    }
   ],
   "source": [
    "# Sanity check looking at the correlations and heat map\n",
    "\n",
    "sns.heatmap(teeth_df.phik_matrix())"
   ]
  },
  {
   "cell_type": "code",
   "execution_count": 38,
   "id": "2bb13f2b",
   "metadata": {
    "pycharm": {
     "name": "#%%\n"
    }
   },
   "outputs": [
    {
     "data": {
      "text/html": [
       "<div>\n",
       "<style scoped>\n",
       "    .dataframe tbody tr th:only-of-type {\n",
       "        vertical-align: middle;\n",
       "    }\n",
       "\n",
       "    .dataframe tbody tr th {\n",
       "        vertical-align: top;\n",
       "    }\n",
       "\n",
       "    .dataframe thead th {\n",
       "        text-align: right;\n",
       "    }\n",
       "</style>\n",
       "<table border=\"1\" class=\"dataframe\">\n",
       "  <thead>\n",
       "    <tr style=\"text-align: right;\">\n",
       "      <th></th>\n",
       "      <th>len</th>\n",
       "      <th>dose</th>\n",
       "    </tr>\n",
       "  </thead>\n",
       "  <tbody>\n",
       "    <tr>\n",
       "      <th>len</th>\n",
       "      <td>1.000000</td>\n",
       "      <td>0.802691</td>\n",
       "    </tr>\n",
       "    <tr>\n",
       "      <th>dose</th>\n",
       "      <td>0.802691</td>\n",
       "      <td>1.000000</td>\n",
       "    </tr>\n",
       "  </tbody>\n",
       "</table>\n",
       "</div>"
      ],
      "text/plain": [
       "           len      dose\n",
       "len   1.000000  0.802691\n",
       "dose  0.802691  1.000000"
      ]
     },
     "execution_count": 38,
     "metadata": {},
     "output_type": "execute_result"
    }
   ],
   "source": [
    "teeth_df.corr()"
   ]
  },
  {
   "cell_type": "markdown",
   "id": "0abb9c1d",
   "metadata": {
    "pycharm": {
     "name": "#%% md\n"
    }
   },
   "source": [
    "- **How did the outcome(s) change between your original Ho/Ha and your refined Ho/Ha?**"
   ]
  },
  {
   "cell_type": "markdown",
   "id": "8324a926",
   "metadata": {
    "pycharm": {
     "name": "#%% md\n"
    }
   },
   "source": [
    "Step 5 - Conclusion\n",
    "<br><br>\n",
    "In refining this hypothesis I made a few assumptions which I am not sure if I have sufficiently supported. My logic is that I have sufficiently supported that each category is different about the mean in a statistically reproducable way with a 95% confidence. Then, I made the assumption that I can then say that if the means of the samples have an order to mean values then I can further refine my hypothesis with that order. I was not able to find a good source that did more than hand wave this step so I put it in like this so that we can discuss if I am incorrect.\n",
    "<br><br>\n",
    "The refined hypothesis should then be supported by our assumptions, F-test, T-test, and the order found in the means of the samples. We should then be able to conclude that giving our guinea pigs higher doses of vitamin C, from 0.5mg to 2.0mg, will result in a higher tooth length corresponding to the higher doseage."
   ]
  },
  {
   "cell_type": "markdown",
   "id": "b7b838bf",
   "metadata": {
    "pycharm": {
     "name": "#%% md\n"
    }
   },
   "source": [
    "## V. Conclusion"
   ]
  },
  {
   "cell_type": "markdown",
   "id": "ae206099",
   "metadata": {
    "pycharm": {
     "name": "#%% md\n"
    }
   },
   "source": [
    "From the above analysis we can conclude that the null hypothesis that the dose of vitamin C is unrelated to the tooth length in our guinea pigs can be rejected. This was shown by first satisfying the assumptions we need to use the Students T-test for related samples. Specifically that our data is continuous, that the sample selection is a simple random sample, that our data is normally distributed (confirmed visually on the QQ-plot and empirically with the Shapiro-Wilk test), and that our data has homogeneity of variance (confirmed using the F-test). We then performed our T-test on each sample to each other sample and found that our P-values of 1.2254366960807943e-06, 0.00019341860475191383, and 7.190254502934541e-10 were all less than our alpha value of 0.05 giving us a 95% confidence in rejecting the null hypothesis. The alternative hypothesis that dose of vitamin C is related to tooth length was then further refined by showing the order of the means of each sample. We assumed that this correctly refines the hypothesis, per the previous section, and now reads that if we increase the dose of vitamin C to our guinea pigs, then the tooth length will increase or stay the same."
   ]
  },
  {
   "cell_type": "markdown",
   "id": "3f3e3f6f",
   "metadata": {
    "pycharm": {
     "name": "#%% md\n"
    }
   },
   "source": [
    "## VI. References"
   ]
  },
  {
   "cell_type": "markdown",
   "id": "456cc4c4",
   "metadata": {
    "pycharm": {
     "name": "#%% md\n"
    }
   },
   "source": [
    "MSDS 650 - Week 4 Content:\n",
    "\n",
    "\n",
    "1.) __[From the Experts: Inferential Statistics](https://worldclass.regis.edu/d2l/le/content/285076/viewContent/4152283/View)__\n",
    "\n",
    "2.) __[Week 4: Hypothesis Testing](https://worldclass.regis.edu/d2l/le/content/285076/viewContent/4152278/View)__\n",
    "\n",
    "3.) __[Week 4 Assignment](https://worldclass.regis.edu/d2l/le/content/285076/viewContent/4152276/View)__\n",
    "\n",
    "4.) __[How to Perform an F-Test in Python](https://www.statology.org/f-test-python/)__\n",
    " "
   ]
  }
 ],
 "metadata": {
  "kernelspec": {
   "display_name": "Python 3 (ipykernel)",
   "language": "python",
   "name": "python3"
  },
  "language_info": {
   "codemirror_mode": {
    "name": "ipython",
    "version": 3
   },
   "file_extension": ".py",
   "mimetype": "text/x-python",
   "name": "python",
   "nbconvert_exporter": "python",
   "pygments_lexer": "ipython3",
   "version": "3.8.10"
  }
 },
 "nbformat": 4,
 "nbformat_minor": 5
}