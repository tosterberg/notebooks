{
 "cells": [
  {
   "cell_type": "markdown",
   "metadata": {
    "pycharm": {
     "name": "#%% md\n"
    }
   },
   "source": [
    "# Week 7 Lab: Text Analytics"
   ]
  },
  {
   "cell_type": "markdown",
   "metadata": {
    "pycharm": {
     "name": "#%% md\n"
    }
   },
   "source": [
    "This week's assignment will focus on text analysis of BBC News articles.\n",
    "\n",
    "## Our Dataset: \n",
    "**Dataset:** bbc.csv(Provided in folder assign_wk7)<br>\n",
    "Consists of 2225 documents from the BBC news website corresponding to stories in five topical areas from 2004-2005. <br>\n",
    "Class Labels: 5 (business, entertainment, politics, sport, tech)\n",
    "\n",
    "## Text Analytics Lab\n",
    "\n",
    "**Objective:** \n",
    "To demostrate all of the text analysis techniques covered int his week's lecture material. Your submission needs to include the following:\n",
    "   - Preparation of the text data for analysis\n",
    "       * Elimination of stopwords, punctuation, digits, lowercase\n",
    "   - Identify the 10 most frequently used words in the text\n",
    "       * How about the ten least frequently used words? \n",
    "       * How does lemmatization change the most/least frequent words?\n",
    "           - Explain and demonstrate this topic\n",
    "   - Generate a world cloud for the text\n",
    "   - Demonstrate the generation of n-grams and part of speech tagging\n",
    "   - Create a Topic model of the text\n",
    "       * Find the optimal number of topics\n",
    "       * test the accuracy of your model\n",
    "       * Display your results 2 different ways.\n",
    "           1) Print the topics and explain any insights at this point.\n",
    "           2) Graph the topics and explain any insights at this point.\n",
    "\n"
   ]
  },
  {
   "cell_type": "markdown",
   "metadata": {
    "pycharm": {
     "name": "#%% md\n"
    }
   },
   "source": [
    "## I. Introduction"
   ]
  },
  {
   "cell_type": "markdown",
   "metadata": {
    "pycharm": {
     "name": "#%% md\n"
    }
   },
   "source": [
    "This weeks analysis is on at text dataset of news stories from the BBC. These BBC news articles are given with an index and a type. Our output for this weeks lab is the creation and display of the topics that we mine from the text of these BBC articles. The number and accuracy of the topics will be maximized with the best values used for final evaluation."
   ]
  },
  {
   "cell_type": "markdown",
   "metadata": {
    "pycharm": {
     "name": "#%% md\n"
    }
   },
   "source": [
    "## II. Methods/Code, III. Results/Output, IV. Analysis of Results"
   ]
  },
  {
   "cell_type": "markdown",
   "metadata": {
    "pycharm": {
     "name": "#%% md\n"
    }
   },
   "source": [
    "### Setup\n",
    "---"
   ]
  },
  {
   "cell_type": "code",
   "execution_count": 1,
   "metadata": {
    "pycharm": {
     "name": "#%%\n"
    }
   },
   "outputs": [
    {
     "name": "stderr",
     "output_type": "stream",
     "text": [
      "/home/tosterberg/.local/lib/python3.8/site-packages/sklearn/decomposition/_lda.py:28: DeprecationWarning: `np.float` is a deprecated alias for the builtin `float`. To silence this warning, use `float` by itself. Doing this will not modify any behavior and is safe. If you specifically wanted the numpy scalar type, use `np.float64` here.\n",
      "Deprecated in NumPy 1.20; for more details and guidance: https://numpy.org/devdocs/release/1.20.0-notes.html#deprecations\n",
      "  EPS = np.finfo(np.float).eps\n"
     ]
    }
   ],
   "source": [
    "%matplotlib inline\n",
    "\n",
    "import pandas as pd\n",
    "import numpy as np\n",
    "from scipy import stats\n",
    "from collections import Counter\n",
    "\n",
    "import nltk\n",
    "from nltk.stem import WordNetLemmatizer\n",
    "from nltk.corpus import stopwords, words\n",
    "from nltk.tag import pos_tag\n",
    "\n",
    "import gensim\n",
    "import gensim.corpora as corpora\n",
    "from gensim.models import CoherenceModel\n",
    "\n",
    "import pyLDAvis\n",
    "import pyLDAvis.gensim\n",
    "\n",
    "from wordcloud import WordCloud\n",
    "import matplotlib.pylab as plt\n",
    "import seaborn as sns\n",
    "\n",
    "import warnings\n",
    "warnings.filterwarnings(\"ignore\")"
   ]
  },
  {
   "cell_type": "code",
   "execution_count": 2,
   "metadata": {
    "pycharm": {
     "name": "#%%\n"
    }
   },
   "outputs": [
    {
     "name": "stdout",
     "output_type": "stream",
     "text": [
      "id,news,type\r\n",
      "0,\"UK economy facing 'major risks'\r\n",
      " \r\n",
      " The UK manufacturing sector will continue to face \"\"serious challenges\"\" over the next two years, the British Chamber of Commerce (BCC) has said.\r\n",
      " \r\n",
      " The group's quarterly survey of companies found exports had picked up in the last three months of 2004 to their best levels in eight years. The rise came despite exchange rates being cited as a major concern. However, the BCC found the whole UK economy still faced \"\"major risks\"\" and warned that growth is set to slow. It recently forecast economic growth will slow from more than 3% in 2004 to a little below 2.5% in both 2005 and 2006.\r\n",
      " \r\n",
      " Manufacturers' domestic sales growth fell back slightly in the quarter, the survey of 5,196 firms found. Employment in manufacturing also fell and job expectations were at their lowest level for a year.\r\n",
      " \r\n",
      " \"\"Despite some positive news for the export sector, there are worrying signs for manufacturing,\"\" the BCC said. \"\"These results reinforce our concern over the sector's persistent inability to sustain recovery.\"\" The outlook for the service sector was \"\"uncertain\"\" despite an increase in exports and orders over the quarter, the BCC noted.\r\n"
     ]
    }
   ],
   "source": [
    "!head assign_wk7/bbc.csv"
   ]
  },
  {
   "cell_type": "markdown",
   "metadata": {
    "pycharm": {
     "name": "#%% md\n"
    }
   },
   "source": [
    "It looks like our article length is pretty long, so I am expecting a lot of stop words and other reporting filler that will need to be addressed to improve our topics at the end."
   ]
  },
  {
   "cell_type": "code",
   "execution_count": 3,
   "metadata": {
    "pycharm": {
     "name": "#%%\n"
    }
   },
   "outputs": [
    {
     "data": {
      "text/html": [
       "<div>\n",
       "<style scoped>\n",
       "    .dataframe tbody tr th:only-of-type {\n",
       "        vertical-align: middle;\n",
       "    }\n",
       "\n",
       "    .dataframe tbody tr th {\n",
       "        vertical-align: top;\n",
       "    }\n",
       "\n",
       "    .dataframe thead th {\n",
       "        text-align: right;\n",
       "    }\n",
       "</style>\n",
       "<table border=\"1\" class=\"dataframe\">\n",
       "  <thead>\n",
       "    <tr style=\"text-align: right;\">\n",
       "      <th></th>\n",
       "      <th>news</th>\n",
       "      <th>type</th>\n",
       "    </tr>\n",
       "    <tr>\n",
       "      <th>id</th>\n",
       "      <th></th>\n",
       "      <th></th>\n",
       "    </tr>\n",
       "  </thead>\n",
       "  <tbody>\n",
       "    <tr>\n",
       "      <th>0</th>\n",
       "      <td>UK economy facing 'major risks'\\n \\n The UK ma...</td>\n",
       "      <td>business</td>\n",
       "    </tr>\n",
       "    <tr>\n",
       "      <th>1</th>\n",
       "      <td>Aids and climate top Davos agenda\\n \\n Climate...</td>\n",
       "      <td>business</td>\n",
       "    </tr>\n",
       "    <tr>\n",
       "      <th>2</th>\n",
       "      <td>Asian quake hits European shares\\n \\n Shares i...</td>\n",
       "      <td>business</td>\n",
       "    </tr>\n",
       "    <tr>\n",
       "      <th>3</th>\n",
       "      <td>India power shares jump on debut\\n \\n Shares i...</td>\n",
       "      <td>business</td>\n",
       "    </tr>\n",
       "    <tr>\n",
       "      <th>4</th>\n",
       "      <td>Lacroix label bought by US firm\\n \\n Luxury go...</td>\n",
       "      <td>business</td>\n",
       "    </tr>\n",
       "    <tr>\n",
       "      <th>...</th>\n",
       "      <td>...</td>\n",
       "      <td>...</td>\n",
       "    </tr>\n",
       "    <tr>\n",
       "      <th>2220</th>\n",
       "      <td>Warning over Windows Word files\\n \\n Writing a...</td>\n",
       "      <td>tech</td>\n",
       "    </tr>\n",
       "    <tr>\n",
       "      <th>2221</th>\n",
       "      <td>Fast lifts rise into record books\\n \\n Two hig...</td>\n",
       "      <td>tech</td>\n",
       "    </tr>\n",
       "    <tr>\n",
       "      <th>2222</th>\n",
       "      <td>Nintendo adds media playing to DS\\n \\n Nintend...</td>\n",
       "      <td>tech</td>\n",
       "    </tr>\n",
       "    <tr>\n",
       "      <th>2223</th>\n",
       "      <td>Fast moving phone viruses appear\\n \\n Security...</td>\n",
       "      <td>tech</td>\n",
       "    </tr>\n",
       "    <tr>\n",
       "      <th>2224</th>\n",
       "      <td>Hacker threat to Apple's iTunes\\n \\n Users of ...</td>\n",
       "      <td>tech</td>\n",
       "    </tr>\n",
       "  </tbody>\n",
       "</table>\n",
       "<p>2225 rows × 2 columns</p>\n",
       "</div>"
      ],
      "text/plain": [
       "                                                   news      type\n",
       "id                                                               \n",
       "0     UK economy facing 'major risks'\\n \\n The UK ma...  business\n",
       "1     Aids and climate top Davos agenda\\n \\n Climate...  business\n",
       "2     Asian quake hits European shares\\n \\n Shares i...  business\n",
       "3     India power shares jump on debut\\n \\n Shares i...  business\n",
       "4     Lacroix label bought by US firm\\n \\n Luxury go...  business\n",
       "...                                                 ...       ...\n",
       "2220  Warning over Windows Word files\\n \\n Writing a...      tech\n",
       "2221  Fast lifts rise into record books\\n \\n Two hig...      tech\n",
       "2222  Nintendo adds media playing to DS\\n \\n Nintend...      tech\n",
       "2223  Fast moving phone viruses appear\\n \\n Security...      tech\n",
       "2224  Hacker threat to Apple's iTunes\\n \\n Users of ...      tech\n",
       "\n",
       "[2225 rows x 2 columns]"
      ]
     },
     "execution_count": 3,
     "metadata": {},
     "output_type": "execute_result"
    }
   ],
   "source": [
    "bbc_df = pd.read_csv('assign_wk7/bbc.csv', index_col='id')\n",
    "bbc_df"
   ]
  },
  {
   "cell_type": "code",
   "execution_count": 4,
   "metadata": {
    "pycharm": {
     "name": "#%%\n"
    }
   },
   "outputs": [
    {
     "name": "stdout",
     "output_type": "stream",
     "text": [
      "UK economy facing 'major risks'\n",
      " \n",
      " The UK manufacturing sector will continue to face \"serious challenges\" over the next two years, the British Chamber of Commerce (BCC) has said.\n",
      " \n",
      " The group's quarterly survey of companies found exports had picked up in the last three months of 2004 to their best levels in eight years. The rise came despite exchange rates being cited as a major concern. However, the BCC found the whole UK economy still faced \"major risks\" and warned that growth is set to slow. It recently forecast economic growth will slow from more than 3% in 2004 to a little below 2.5% in both 2005 and 2006.\n",
      " \n",
      " Manufacturers' domestic sales growth fell back slightly in the quarter, the survey of 5,196 firms found. Employment in manufacturing also fell and job expectations were at their lowest level for a year.\n",
      " \n",
      " \"Despite some positive news for the export sector, there are worrying signs for manufacturing,\" the BCC said. \"These results reinforce our concern over the sector's persistent inability to sustain recovery.\" The outlook for the service sector was \"uncertain\" despite an increase in exports and orders over the quarter, the BCC noted.\n",
      " \n",
      " The BCC found confidence increased in the quarter across both the manufacturing and service sectors although overall it failed to reach the levels at the start of 2004. The reduced threat of interest rate increases had contributed to improved confidence, it said. The Bank of England raised interest rates five times between November 2003 and August last year. But rates have been kept on hold since then amid signs of falling consumer confidence and a slowdown in output. \"The pressure on costs and margins, the relentless increase in regulations, and the threat of higher taxes remain serious problems,\" BCC director general David Frost said. \"While consumer spending is set to decelerate significantly over the next 12-18 months, it is unlikely that investment and exports will rise sufficiently strongly to pick up the slack.\"\n",
      "\n"
     ]
    }
   ],
   "source": [
    "print(bbc_df.news[0])"
   ]
  },
  {
   "cell_type": "code",
   "execution_count": 5,
   "metadata": {
    "pycharm": {
     "name": "#%%\n"
    }
   },
   "outputs": [
    {
     "name": "stdout",
     "output_type": "stream",
     "text": [
      "UK bank seals South Korean deal\n",
      " \n",
      " UK-based bank Standard Chartered said it would spend $3.3bn (£1.8bn) to buy one of South Korea's main retail banks.\n",
      " \n",
      " Standard Chartered said acquiring Korea First Bank (KFB) fulfilled a strategic objective of building a bigger presence in Asia's third largest economy. Its shares fell nearly 3% in London as the bank raised funds for the deal by selling new stocks worth £1bn ($1.8bn), equal to 10% of its share capital. Standard Chartered expects about 16% of future group revenue to come from KFB.\n",
      " \n",
      " The South Korean bank will also make up 22% of the group's total assets. The move, a year after Citigroup beat Standard Chartered to buy Koram bank, would be the South Korean financial sector's biggest foreign takeover. This time around, Standard Chartered is thought to have beaten HSBC to the deal. KFB is South Korea's seventh largest bank, with 3 million retail customers, 6% of the country's banking market and an extensive branch network.\n",
      " \n",
      " The country's banking market is three times the size of Hong Kong's with annual revenues of $44bn. Standard Chartered has its headquarters in London but does two thirds of its business in Asia, and much of the rest in Africa. \"We're comfortable with the price paid...the key here has been speed and decisiveness in making sure that we won,\" said Standard Chartered chief executive Mervyn Davies at a London press conference. Standard Chartered said KFB was a \"well-managed, conservatively run bank with a highly skilled workforce\" and represented a \"significant acquisition in a growth market\". In London, Standard Chartered's sale of 118 million new shares to institutional investors pushed its share price down, and contributing to the FTSE 100's 0.3% decline. Standard Chartered's shares were 28 pence lower at 925p by midday. Some analysts also queried whether Standard Chartered had overpaid for KFB. The deal, which requires regulatory approval, is expected to be completed by April 2005 and to be earnings accretive in 2006, Standard Chartered said.\n",
      " \n",
      " Rival banking giant HSBC, which is based in London and Hong Kong, was also in the running. Standard Chartered is believed to have gained the initiative by putting together a bid during the Christmas break. \"They were able to move so quickly it caught HSBC by surprise,\" the Financial Times newspaper quoted an insider in the talks as saying. HSBC will now have to wait for the next South Korean bank in line to be sold off - thought likely to be Korea Exchange Bank, also currently in the hands of a US group. Standard Chartered said it was buying 100% of KFB, an agreement that would bring an end to the bank's complex dual ownership. The South Korean government owns 51.4% of KFB, while the remaining shareholding, and operational control, are in the hands of US private equity group Newbridge Capital. Newbridge bought its stake during the government's nationalisation of several banks in the wake of the 1997 Asia-wide currency crisis which crippled South Korea's financial institutions.\n",
      " \n",
      " South Korea's economy is expected to grow by 4.5% this year. Although often thought of an export-driven economy, South Korea's service sector has overtaken manufacturing in the last decade or so. Services now make up roughly 40% of the economy, and consumer spending and retail banking have become increasingly important. In the aftermath of the Asian financial crisis, the government encouraged the growth of consumer credit. Bad loan problems followed; LG Card, the country's biggest credit card provider, has been struggling to avoid bankruptcy for months, for instance. But analysts believe South Korea's financial services industry is still in its infancy, offering plenty of scope for new products. Standard Chartered sees \"the opportunity to create value by the introduction of more sophisticated banking products\". Since 1999, KFB has been restructured from a wholesale bank into a retail bank focused on mortgage lending, which makes up 45% of its loans.\n",
      "\n"
     ]
    }
   ],
   "source": [
    "print(bbc_df.news[315])"
   ]
  },
  {
   "cell_type": "markdown",
   "metadata": {
    "pycharm": {
     "name": "#%% md\n"
    }
   },
   "source": [
    "- **Categorical vs numeric columns in your dataset**"
   ]
  },
  {
   "cell_type": "code",
   "execution_count": 6,
   "metadata": {
    "pycharm": {
     "name": "#%%\n"
    }
   },
   "outputs": [
    {
     "name": "stdout",
     "output_type": "stream",
     "text": [
      "<class 'pandas.core.frame.DataFrame'>\n",
      "Int64Index: 2225 entries, 0 to 2224\n",
      "Data columns (total 2 columns):\n",
      " #   Column  Non-Null Count  Dtype \n",
      "---  ------  --------------  ----- \n",
      " 0   news    2225 non-null   object\n",
      " 1   type    2225 non-null   object\n",
      "dtypes: object(2)\n",
      "memory usage: 116.7+ KB\n"
     ]
    }
   ],
   "source": [
    "bbc_df.info()"
   ]
  },
  {
   "cell_type": "code",
   "execution_count": 7,
   "metadata": {
    "pycharm": {
     "name": "#%%\n"
    }
   },
   "outputs": [
    {
     "data": {
      "text/plain": [
       "sport            511\n",
       "business         510\n",
       "politics         417\n",
       "tech             401\n",
       "entertainment    386\n",
       "Name: type, dtype: int64"
      ]
     },
     "execution_count": 7,
     "metadata": {},
     "output_type": "execute_result"
    }
   ],
   "source": [
    "bbc_df.type.value_counts()"
   ]
  },
  {
   "cell_type": "markdown",
   "metadata": {
    "pycharm": {
     "name": "#%% md\n"
    }
   },
   "source": [
    "It does not look like there is much to this dataset other than the five types that the articles in news are assigned to and an index."
   ]
  },
  {
   "cell_type": "markdown",
   "metadata": {
    "pycharm": {
     "name": "#%% md\n"
    }
   },
   "source": [
    "- **Word count**"
   ]
  },
  {
   "cell_type": "markdown",
   "metadata": {
    "pycharm": {
     "name": "#%% md\n"
    }
   },
   "source": [
    "Starting our analysis we should get a feel for the size of the articles that we are performing our analysis on."
   ]
  },
  {
   "cell_type": "code",
   "execution_count": 8,
   "metadata": {
    "pycharm": {
     "name": "#%%\n"
    }
   },
   "outputs": [],
   "source": [
    "# Code adapted from https://worldclass.regis.edu/d2l/le/content/285076/viewContent/4152319/View\n",
    "\n",
    "bbc_df['word_cnt'] = bbc_df.news.apply(lambda x: len(str(x).split(\" \")))"
   ]
  },
  {
   "cell_type": "code",
   "execution_count": 9,
   "metadata": {
    "pycharm": {
     "name": "#%%\n"
    }
   },
   "outputs": [
    {
     "data": {
      "text/html": [
       "<div>\n",
       "<style scoped>\n",
       "    .dataframe tbody tr th:only-of-type {\n",
       "        vertical-align: middle;\n",
       "    }\n",
       "\n",
       "    .dataframe tbody tr th {\n",
       "        vertical-align: top;\n",
       "    }\n",
       "\n",
       "    .dataframe thead th {\n",
       "        text-align: right;\n",
       "    }\n",
       "</style>\n",
       "<table border=\"1\" class=\"dataframe\">\n",
       "  <thead>\n",
       "    <tr style=\"text-align: right;\">\n",
       "      <th></th>\n",
       "      <th>news</th>\n",
       "      <th>type</th>\n",
       "      <th>word_cnt</th>\n",
       "    </tr>\n",
       "    <tr>\n",
       "      <th>id</th>\n",
       "      <th></th>\n",
       "      <th></th>\n",
       "      <th></th>\n",
       "    </tr>\n",
       "  </thead>\n",
       "  <tbody>\n",
       "    <tr>\n",
       "      <th>0</th>\n",
       "      <td>UK economy facing 'major risks'\\n \\n The UK ma...</td>\n",
       "      <td>business</td>\n",
       "      <td>329</td>\n",
       "    </tr>\n",
       "    <tr>\n",
       "      <th>1</th>\n",
       "      <td>Aids and climate top Davos agenda\\n \\n Climate...</td>\n",
       "      <td>business</td>\n",
       "      <td>454</td>\n",
       "    </tr>\n",
       "    <tr>\n",
       "      <th>2</th>\n",
       "      <td>Asian quake hits European shares\\n \\n Shares i...</td>\n",
       "      <td>business</td>\n",
       "      <td>553</td>\n",
       "    </tr>\n",
       "    <tr>\n",
       "      <th>3</th>\n",
       "      <td>India power shares jump on debut\\n \\n Shares i...</td>\n",
       "      <td>business</td>\n",
       "      <td>175</td>\n",
       "    </tr>\n",
       "    <tr>\n",
       "      <th>4</th>\n",
       "      <td>Lacroix label bought by US firm\\n \\n Luxury go...</td>\n",
       "      <td>business</td>\n",
       "      <td>152</td>\n",
       "    </tr>\n",
       "  </tbody>\n",
       "</table>\n",
       "</div>"
      ],
      "text/plain": [
       "                                                 news      type  word_cnt\n",
       "id                                                                       \n",
       "0   UK economy facing 'major risks'\\n \\n The UK ma...  business       329\n",
       "1   Aids and climate top Davos agenda\\n \\n Climate...  business       454\n",
       "2   Asian quake hits European shares\\n \\n Shares i...  business       553\n",
       "3   India power shares jump on debut\\n \\n Shares i...  business       175\n",
       "4   Lacroix label bought by US firm\\n \\n Luxury go...  business       152"
      ]
     },
     "execution_count": 9,
     "metadata": {},
     "output_type": "execute_result"
    }
   ],
   "source": [
    "bbc_df.head(5)"
   ]
  },
  {
   "cell_type": "code",
   "execution_count": 10,
   "metadata": {
    "pycharm": {
     "name": "#%%\n"
    }
   },
   "outputs": [
    {
     "data": {
      "text/plain": [
       "count    2225.000000\n",
       "mean      388.967640\n",
       "std       241.594413\n",
       "min        91.000000\n",
       "25%       249.000000\n",
       "50%       336.000000\n",
       "75%       477.000000\n",
       "max      4489.000000\n",
       "Name: word_cnt, dtype: float64"
      ]
     },
     "execution_count": 10,
     "metadata": {},
     "output_type": "execute_result"
    }
   ],
   "source": [
    "bbc_df.word_cnt.describe()"
   ]
  },
  {
   "cell_type": "code",
   "execution_count": 11,
   "metadata": {
    "pycharm": {
     "name": "#%%\n"
    }
   },
   "outputs": [
    {
     "data": {
      "text/plain": [
       "<AxesSubplot:xlabel='word_cnt', ylabel='Count'>"
      ]
     },
     "execution_count": 11,
     "metadata": {},
     "output_type": "execute_result"
    },
    {
     "data": {
      "image/png": "[encoded data removed]",
      "text/plain": [
       "<Figure size 432x288 with 1 Axes>"
      ]
     },
     "metadata": {
      "needs_background": "light"
     },
     "output_type": "display_data"
    }
   ],
   "source": [
    "sns.histplot(data=bbc_df, x='word_cnt', hue='type')"
   ]
  },
  {
   "cell_type": "markdown",
   "metadata": {
    "pycharm": {
     "name": "#%% md\n"
    }
   },
   "source": [
    "- **Character count**"
   ]
  },
  {
   "cell_type": "markdown",
   "metadata": {
    "pycharm": {
     "name": "#%% md\n"
    }
   },
   "source": [
    "Here we will do the same context building that we did with word count with the number of characters."
   ]
  },
  {
   "cell_type": "code",
   "execution_count": 12,
   "metadata": {
    "pycharm": {
     "name": "#%%\n"
    }
   },
   "outputs": [],
   "source": [
    "# Code adapted from https://worldclass.regis.edu/d2l/le/content/285076/viewContent/4152319/View\n",
    "\n",
    "bbc_df['char_cnt'] = bbc_df.news.str.len()"
   ]
  },
  {
   "cell_type": "code",
   "execution_count": 13,
   "metadata": {
    "pycharm": {
     "name": "#%%\n"
    }
   },
   "outputs": [
    {
     "data": {
      "text/html": [
       "<div>\n",
       "<style scoped>\n",
       "    .dataframe tbody tr th:only-of-type {\n",
       "        vertical-align: middle;\n",
       "    }\n",
       "\n",
       "    .dataframe tbody tr th {\n",
       "        vertical-align: top;\n",
       "    }\n",
       "\n",
       "    .dataframe thead th {\n",
       "        text-align: right;\n",
       "    }\n",
       "</style>\n",
       "<table border=\"1\" class=\"dataframe\">\n",
       "  <thead>\n",
       "    <tr style=\"text-align: right;\">\n",
       "      <th></th>\n",
       "      <th>news</th>\n",
       "      <th>type</th>\n",
       "      <th>word_cnt</th>\n",
       "      <th>char_cnt</th>\n",
       "    </tr>\n",
       "    <tr>\n",
       "      <th>id</th>\n",
       "      <th></th>\n",
       "      <th></th>\n",
       "      <th></th>\n",
       "      <th></th>\n",
       "    </tr>\n",
       "  </thead>\n",
       "  <tbody>\n",
       "    <tr>\n",
       "      <th>0</th>\n",
       "      <td>UK economy facing 'major risks'\\n \\n The UK ma...</td>\n",
       "      <td>business</td>\n",
       "      <td>329</td>\n",
       "      <td>1996</td>\n",
       "    </tr>\n",
       "    <tr>\n",
       "      <th>1</th>\n",
       "      <td>Aids and climate top Davos agenda\\n \\n Climate...</td>\n",
       "      <td>business</td>\n",
       "      <td>454</td>\n",
       "      <td>2727</td>\n",
       "    </tr>\n",
       "    <tr>\n",
       "      <th>2</th>\n",
       "      <td>Asian quake hits European shares\\n \\n Shares i...</td>\n",
       "      <td>business</td>\n",
       "      <td>553</td>\n",
       "      <td>3444</td>\n",
       "    </tr>\n",
       "    <tr>\n",
       "      <th>3</th>\n",
       "      <td>India power shares jump on debut\\n \\n Shares i...</td>\n",
       "      <td>business</td>\n",
       "      <td>175</td>\n",
       "      <td>1038</td>\n",
       "    </tr>\n",
       "    <tr>\n",
       "      <th>4</th>\n",
       "      <td>Lacroix label bought by US firm\\n \\n Luxury go...</td>\n",
       "      <td>business</td>\n",
       "      <td>152</td>\n",
       "      <td>894</td>\n",
       "    </tr>\n",
       "  </tbody>\n",
       "</table>\n",
       "</div>"
      ],
      "text/plain": [
       "                                                 news      type  word_cnt  \\\n",
       "id                                                                          \n",
       "0   UK economy facing 'major risks'\\n \\n The UK ma...  business       329   \n",
       "1   Aids and climate top Davos agenda\\n \\n Climate...  business       454   \n",
       "2   Asian quake hits European shares\\n \\n Shares i...  business       553   \n",
       "3   India power shares jump on debut\\n \\n Shares i...  business       175   \n",
       "4   Lacroix label bought by US firm\\n \\n Luxury go...  business       152   \n",
       "\n",
       "    char_cnt  \n",
       "id            \n",
       "0       1996  \n",
       "1       2727  \n",
       "2       3444  \n",
       "3       1038  \n",
       "4        894  "
      ]
     },
     "execution_count": 13,
     "metadata": {},
     "output_type": "execute_result"
    }
   ],
   "source": [
    "bbc_df.head(5)"
   ]
  },
  {
   "cell_type": "code",
   "execution_count": 14,
   "metadata": {
    "pycharm": {
     "name": "#%%\n"
    }
   },
   "outputs": [
    {
     "data": {
      "text/plain": [
       "count     2225.000000\n",
       "mean      2274.733483\n",
       "std       1370.571487\n",
       "min        507.000000\n",
       "25%       1454.000000\n",
       "50%       1979.000000\n",
       "75%       2815.000000\n",
       "max      25597.000000\n",
       "Name: char_cnt, dtype: float64"
      ]
     },
     "execution_count": 14,
     "metadata": {},
     "output_type": "execute_result"
    }
   ],
   "source": [
    "bbc_df.char_cnt.describe()"
   ]
  },
  {
   "cell_type": "code",
   "execution_count": 15,
   "metadata": {
    "pycharm": {
     "name": "#%%\n"
    }
   },
   "outputs": [
    {
     "data": {
      "text/plain": [
       "<AxesSubplot:xlabel='char_cnt', ylabel='Count'>"
      ]
     },
     "execution_count": 15,
     "metadata": {},
     "output_type": "execute_result"
    },
    {
     "data": {
      "image/png": "[encoded data removed]",
      "text/plain": [
       "<Figure size 432x288 with 1 Axes>"
      ]
     },
     "metadata": {
      "needs_background": "light"
     },
     "output_type": "display_data"
    }
   ],
   "source": [
    "sns.histplot(data=bbc_df, x='char_cnt', hue='type')"
   ]
  },
  {
   "cell_type": "markdown",
   "metadata": {
    "pycharm": {
     "name": "#%% md\n"
    }
   },
   "source": [
    "- **Stopwords**"
   ]
  },
  {
   "cell_type": "code",
   "execution_count": 16,
   "metadata": {
    "pycharm": {
     "name": "#%%\n"
    }
   },
   "outputs": [],
   "source": [
    "# Code adapted from https://worldclass.regis.edu/d2l/le/content/285076/viewContent/4152319/View\n",
    "stop = stopwords.words('english')\n",
    "\n",
    "bbc_df['stopwords'] = bbc_df.news.apply(lambda x: len([x for x in x.split() if x in stop]))"
   ]
  },
  {
   "cell_type": "code",
   "execution_count": 17,
   "metadata": {
    "pycharm": {
     "name": "#%%\n"
    }
   },
   "outputs": [
    {
     "data": {
      "text/html": [
       "<div>\n",
       "<style scoped>\n",
       "    .dataframe tbody tr th:only-of-type {\n",
       "        vertical-align: middle;\n",
       "    }\n",
       "\n",
       "    .dataframe tbody tr th {\n",
       "        vertical-align: top;\n",
       "    }\n",
       "\n",
       "    .dataframe thead th {\n",
       "        text-align: right;\n",
       "    }\n",
       "</style>\n",
       "<table border=\"1\" class=\"dataframe\">\n",
       "  <thead>\n",
       "    <tr style=\"text-align: right;\">\n",
       "      <th></th>\n",
       "      <th>news</th>\n",
       "      <th>type</th>\n",
       "      <th>word_cnt</th>\n",
       "      <th>char_cnt</th>\n",
       "      <th>stopwords</th>\n",
       "    </tr>\n",
       "    <tr>\n",
       "      <th>id</th>\n",
       "      <th></th>\n",
       "      <th></th>\n",
       "      <th></th>\n",
       "      <th></th>\n",
       "      <th></th>\n",
       "    </tr>\n",
       "  </thead>\n",
       "  <tbody>\n",
       "    <tr>\n",
       "      <th>0</th>\n",
       "      <td>UK economy facing 'major risks'\\n \\n The UK ma...</td>\n",
       "      <td>business</td>\n",
       "      <td>329</td>\n",
       "      <td>1996</td>\n",
       "      <td>112</td>\n",
       "    </tr>\n",
       "    <tr>\n",
       "      <th>1</th>\n",
       "      <td>Aids and climate top Davos agenda\\n \\n Climate...</td>\n",
       "      <td>business</td>\n",
       "      <td>454</td>\n",
       "      <td>2727</td>\n",
       "      <td>161</td>\n",
       "    </tr>\n",
       "    <tr>\n",
       "      <th>2</th>\n",
       "      <td>Asian quake hits European shares\\n \\n Shares i...</td>\n",
       "      <td>business</td>\n",
       "      <td>553</td>\n",
       "      <td>3444</td>\n",
       "      <td>171</td>\n",
       "    </tr>\n",
       "    <tr>\n",
       "      <th>3</th>\n",
       "      <td>India power shares jump on debut\\n \\n Shares i...</td>\n",
       "      <td>business</td>\n",
       "      <td>175</td>\n",
       "      <td>1038</td>\n",
       "      <td>55</td>\n",
       "    </tr>\n",
       "    <tr>\n",
       "      <th>4</th>\n",
       "      <td>Lacroix label bought by US firm\\n \\n Luxury go...</td>\n",
       "      <td>business</td>\n",
       "      <td>152</td>\n",
       "      <td>894</td>\n",
       "      <td>47</td>\n",
       "    </tr>\n",
       "  </tbody>\n",
       "</table>\n",
       "</div>"
      ],
      "text/plain": [
       "                                                 news      type  word_cnt  \\\n",
       "id                                                                          \n",
       "0   UK economy facing 'major risks'\\n \\n The UK ma...  business       329   \n",
       "1   Aids and climate top Davos agenda\\n \\n Climate...  business       454   \n",
       "2   Asian quake hits European shares\\n \\n Shares i...  business       553   \n",
       "3   India power shares jump on debut\\n \\n Shares i...  business       175   \n",
       "4   Lacroix label bought by US firm\\n \\n Luxury go...  business       152   \n",
       "\n",
       "    char_cnt  stopwords  \n",
       "id                       \n",
       "0       1996        112  \n",
       "1       2727        161  \n",
       "2       3444        171  \n",
       "3       1038         55  \n",
       "4        894         47  "
      ]
     },
     "execution_count": 17,
     "metadata": {},
     "output_type": "execute_result"
    }
   ],
   "source": [
    "bbc_df.head(5)"
   ]
  },
  {
   "cell_type": "code",
   "execution_count": 18,
   "metadata": {
    "pycharm": {
     "name": "#%%\n"
    }
   },
   "outputs": [
    {
     "data": {
      "text/plain": [
       "count    2225.000000\n",
       "mean      144.644045\n",
       "std        99.353146\n",
       "min        16.000000\n",
       "25%        89.000000\n",
       "50%       125.000000\n",
       "75%       178.000000\n",
       "max      1917.000000\n",
       "Name: stopwords, dtype: float64"
      ]
     },
     "execution_count": 18,
     "metadata": {},
     "output_type": "execute_result"
    }
   ],
   "source": [
    "bbc_df.stopwords.describe()"
   ]
  },
  {
   "cell_type": "code",
   "execution_count": 19,
   "metadata": {
    "pycharm": {
     "name": "#%%\n"
    }
   },
   "outputs": [
    {
     "data": {
      "text/plain": [
       "<AxesSubplot:xlabel='stopwords', ylabel='Count'>"
      ]
     },
     "execution_count": 19,
     "metadata": {},
     "output_type": "execute_result"
    },
    {
     "data": {
      "image/png": "[encoded data removed]",
      "text/plain": [
       "<Figure size 432x288 with 1 Axes>"
      ]
     },
     "metadata": {
      "needs_background": "light"
     },
     "output_type": "display_data"
    }
   ],
   "source": [
    "sns.histplot(data=bbc_df, x='stopwords', hue='type')"
   ]
  },
  {
   "cell_type": "markdown",
   "metadata": {
    "pycharm": {
     "name": "#%% md\n"
    }
   },
   "source": [
    "### Data Cleanup\n",
    "***"
   ]
  },
  {
   "cell_type": "markdown",
   "metadata": {
    "pycharm": {
     "name": "#%% md\n"
    }
   },
   "source": [
    "Now that we have looked into the composition of the articles we will be doing our text analysis on we can see that we need to now create a cleaned version of the text for the next analysis. This will included removing of the stopwords that we counted, and getting the text into a regular format. In this case we will be doing this with lowercase, without numbers or punctuation."
   ]
  },
  {
   "cell_type": "markdown",
   "metadata": {
    "pycharm": {
     "name": "#%% md\n"
    }
   },
   "source": [
    "#### Preparation of the text data for analysis\n",
    "---"
   ]
  },
  {
   "cell_type": "markdown",
   "metadata": {
    "pycharm": {
     "name": "#%% md\n"
    }
   },
   "source": [
    "- **Covert Text to Lowercase**"
   ]
  },
  {
   "cell_type": "code",
   "execution_count": 20,
   "metadata": {
    "pycharm": {
     "name": "#%%\n"
    }
   },
   "outputs": [],
   "source": [
    "# Code adapted from https://worldclass.regis.edu/d2l/le/content/285076/viewContent/4152319/View\n",
    "\n",
    "bbc_df['clean_text'] = bbc_df.news.apply(lambda x: \" \".join(x.lower() for x in x.split()))"
   ]
  },
  {
   "cell_type": "code",
   "execution_count": 21,
   "metadata": {
    "pycharm": {
     "name": "#%%\n"
    }
   },
   "outputs": [
    {
     "data": {
      "text/plain": [
       "'uk economy facing \\'major risks\\' the uk manufacturing sector will continue to face \"serious challenges\" over the next two years, the british chamber of commerce (bcc) has said. the group\\'s quarterly survey of companies found exports had picked up in the last three months of 2004 to their best levels in eight years. the rise came despite exchange rates being cited as a major concern. however, the bcc found the whole uk economy still faced \"major risks\" and warned that growth is set to slow. it recently forecast economic growth will slow from more than 3% in 2004 to a little below 2.5% in both 2005 and 2006. manufacturers\\' domestic sales growth fell back slightly in the quarter, the survey of 5,196 firms found. employment in manufacturing also fell and job expectations were at their lowest level for a year. \"despite some positive news for the export sector, there are worrying signs for manufacturing,\" the bcc said. \"these results reinforce our concern over the sector\\'s persistent inability to sustain recovery.\" the outlook for the service sector was \"uncertain\" despite an increase in exports and orders over the quarter, the bcc noted. the bcc found confidence increased in the quarter across both the manufacturing and service sectors although overall it failed to reach the levels at the start of 2004. the reduced threat of interest rate increases had contributed to improved confidence, it said. the bank of england raised interest rates five times between november 2003 and august last year. but rates have been kept on hold since then amid signs of falling consumer confidence and a slowdown in output. \"the pressure on costs and margins, the relentless increase in regulations, and the threat of higher taxes remain serious problems,\" bcc director general david frost said. \"while consumer spending is set to decelerate significantly over the next 12-18 months, it is unlikely that investment and exports will rise sufficiently strongly to pick up the slack.\"'"
      ]
     },
     "execution_count": 21,
     "metadata": {},
     "output_type": "execute_result"
    }
   ],
   "source": [
    "bbc_df.clean_text[0]"
   ]
  },
  {
   "cell_type": "markdown",
   "metadata": {
    "pycharm": {
     "name": "#%% md\n"
    }
   },
   "source": [
    "- **Removing Punctuation**"
   ]
  },
  {
   "cell_type": "code",
   "execution_count": 22,
   "metadata": {
    "pycharm": {
     "name": "#%%\n"
    }
   },
   "outputs": [],
   "source": [
    "bbc_df['clean_text'] = bbc_df.clean_text.str.replace('[^\\w\\s]','')"
   ]
  },
  {
   "cell_type": "code",
   "execution_count": 23,
   "metadata": {
    "pycharm": {
     "name": "#%%\n"
    }
   },
   "outputs": [
    {
     "data": {
      "text/plain": [
       "'uk economy facing major risks the uk manufacturing sector will continue to face serious challenges over the next two years the british chamber of commerce bcc has said the groups quarterly survey of companies found exports had picked up in the last three months of 2004 to their best levels in eight years the rise came despite exchange rates being cited as a major concern however the bcc found the whole uk economy still faced major risks and warned that growth is set to slow it recently forecast economic growth will slow from more than 3 in 2004 to a little below 25 in both 2005 and 2006 manufacturers domestic sales growth fell back slightly in the quarter the survey of 5196 firms found employment in manufacturing also fell and job expectations were at their lowest level for a year despite some positive news for the export sector there are worrying signs for manufacturing the bcc said these results reinforce our concern over the sectors persistent inability to sustain recovery the outlook for the service sector was uncertain despite an increase in exports and orders over the quarter the bcc noted the bcc found confidence increased in the quarter across both the manufacturing and service sectors although overall it failed to reach the levels at the start of 2004 the reduced threat of interest rate increases had contributed to improved confidence it said the bank of england raised interest rates five times between november 2003 and august last year but rates have been kept on hold since then amid signs of falling consumer confidence and a slowdown in output the pressure on costs and margins the relentless increase in regulations and the threat of higher taxes remain serious problems bcc director general david frost said while consumer spending is set to decelerate significantly over the next 1218 months it is unlikely that investment and exports will rise sufficiently strongly to pick up the slack'"
      ]
     },
     "execution_count": 23,
     "metadata": {},
     "output_type": "execute_result"
    }
   ],
   "source": [
    "bbc_df.clean_text[0]"
   ]
  },
  {
   "cell_type": "markdown",
   "metadata": {
    "pycharm": {
     "name": "#%% md\n"
    }
   },
   "source": [
    "- **Removing Digits**"
   ]
  },
  {
   "cell_type": "code",
   "execution_count": 24,
   "metadata": {
    "pycharm": {
     "name": "#%%\n"
    }
   },
   "outputs": [],
   "source": [
    "bbc_df['clean_text'] = bbc_df.clean_text.str.replace('\\d+','')"
   ]
  },
  {
   "cell_type": "code",
   "execution_count": 25,
   "metadata": {
    "pycharm": {
     "name": "#%%\n"
    }
   },
   "outputs": [
    {
     "data": {
      "text/plain": [
       "'uk economy facing major risks the uk manufacturing sector will continue to face serious challenges over the next two years the british chamber of commerce bcc has said the groups quarterly survey of companies found exports had picked up in the last three months of  to their best levels in eight years the rise came despite exchange rates being cited as a major concern however the bcc found the whole uk economy still faced major risks and warned that growth is set to slow it recently forecast economic growth will slow from more than  in  to a little below  in both  and  manufacturers domestic sales growth fell back slightly in the quarter the survey of  firms found employment in manufacturing also fell and job expectations were at their lowest level for a year despite some positive news for the export sector there are worrying signs for manufacturing the bcc said these results reinforce our concern over the sectors persistent inability to sustain recovery the outlook for the service sector was uncertain despite an increase in exports and orders over the quarter the bcc noted the bcc found confidence increased in the quarter across both the manufacturing and service sectors although overall it failed to reach the levels at the start of  the reduced threat of interest rate increases had contributed to improved confidence it said the bank of england raised interest rates five times between november  and august last year but rates have been kept on hold since then amid signs of falling consumer confidence and a slowdown in output the pressure on costs and margins the relentless increase in regulations and the threat of higher taxes remain serious problems bcc director general david frost said while consumer spending is set to decelerate significantly over the next  months it is unlikely that investment and exports will rise sufficiently strongly to pick up the slack'"
      ]
     },
     "execution_count": 25,
     "metadata": {},
     "output_type": "execute_result"
    }
   ],
   "source": [
    "bbc_df.clean_text[0]"
   ]
  },
  {
   "cell_type": "markdown",
   "metadata": {
    "pycharm": {
     "name": "#%% md\n"
    }
   },
   "source": [
    "- **Removing Stopwords**"
   ]
  },
  {
   "cell_type": "code",
   "execution_count": 26,
   "metadata": {
    "pycharm": {
     "name": "#%%\n"
    }
   },
   "outputs": [],
   "source": [
    "bbc_df['clean_text'] = bbc_df.clean_text.apply(lambda x: \" \".join(w for w in x.split() if w not in stop))"
   ]
  },
  {
   "cell_type": "code",
   "execution_count": 27,
   "metadata": {
    "pycharm": {
     "name": "#%%\n"
    }
   },
   "outputs": [
    {
     "data": {
      "text/plain": [
       "'uk economy facing major risks uk manufacturing sector continue face serious challenges next two years british chamber commerce bcc said groups quarterly survey companies found exports picked last three months best levels eight years rise came despite exchange rates cited major concern however bcc found whole uk economy still faced major risks warned growth set slow recently forecast economic growth slow little manufacturers domestic sales growth fell back slightly quarter survey firms found employment manufacturing also fell job expectations lowest level year despite positive news export sector worrying signs manufacturing bcc said results reinforce concern sectors persistent inability sustain recovery outlook service sector uncertain despite increase exports orders quarter bcc noted bcc found confidence increased quarter across manufacturing service sectors although overall failed reach levels start reduced threat interest rate increases contributed improved confidence said bank england raised interest rates five times november august last year rates kept hold since amid signs falling consumer confidence slowdown output pressure costs margins relentless increase regulations threat higher taxes remain serious problems bcc director general david frost said consumer spending set decelerate significantly next months unlikely investment exports rise sufficiently strongly pick slack'"
      ]
     },
     "execution_count": 27,
     "metadata": {},
     "output_type": "execute_result"
    }
   ],
   "source": [
    "bbc_df.clean_text[0]"
   ]
  },
  {
   "cell_type": "markdown",
   "metadata": {
    "pycharm": {
     "name": "#%% md\n"
    }
   },
   "source": [
    "At this point we have done the cleanup that we had originally outlined but there are a few more things that we can do to give our topic modelling a better shot at producing a good result."
   ]
  },
  {
   "cell_type": "markdown",
   "metadata": {
    "pycharm": {
     "name": "#%% md\n"
    }
   },
   "source": [
    "- **Word Tokenization**"
   ]
  },
  {
   "cell_type": "markdown",
   "metadata": {
    "pycharm": {
     "name": "#%% md\n"
    }
   },
   "source": [
    "We can start with tokenizing the words that we have in our articles, and from here we can determine the frequency of each word to see what the most common are."
   ]
  },
  {
   "cell_type": "code",
   "execution_count": 28,
   "metadata": {
    "pycharm": {
     "name": "#%%\n"
    }
   },
   "outputs": [
    {
     "data": {
      "text/plain": [
       "['uk',\n",
       " 'economy',\n",
       " 'facing',\n",
       " 'major',\n",
       " 'risks',\n",
       " 'uk',\n",
       " 'manufacturing',\n",
       " 'sector',\n",
       " 'continue',\n",
       " 'face',\n",
       " 'serious',\n",
       " 'challenges',\n",
       " 'next',\n",
       " 'two',\n",
       " 'years',\n",
       " 'british',\n",
       " 'chamber',\n",
       " 'commerce',\n",
       " 'bcc',\n",
       " 'said']"
      ]
     },
     "execution_count": 28,
     "metadata": {},
     "output_type": "execute_result"
    }
   ],
   "source": [
    "# Code adapted from https://worldclass.regis.edu/d2l/le/content/285076/viewContent/4152319/View\n",
    "\n",
    "tokens = ' '.join(bbc_df.clean_text).split()\n",
    "tokens[:20]"
   ]
  },
  {
   "cell_type": "code",
   "execution_count": 29,
   "metadata": {
    "pycharm": {
     "name": "#%%\n"
    }
   },
   "outputs": [
    {
     "data": {
      "text/plain": [
       "[('said', 7253),\n",
       " ('mr', 3004),\n",
       " ('would', 2577),\n",
       " ('also', 2156),\n",
       " ('new', 1970),\n",
       " ('people', 1969),\n",
       " ('us', 1923),\n",
       " ('one', 1739),\n",
       " ('year', 1637),\n",
       " ('could', 1510)]"
      ]
     },
     "execution_count": 29,
     "metadata": {},
     "output_type": "execute_result"
    }
   ],
   "source": [
    "freq = pd.Series(' '.join(bbc_df.clean_text).split()).value_counts().to_dict()\n",
    "\n",
    "list(freq.items())[:10]"
   ]
  },
  {
   "cell_type": "markdown",
   "metadata": {
    "pycharm": {
     "name": "#%% md\n"
    }
   },
   "source": [
    "Interesting, it looks said Mr. is our most common two words, and is most likely a bigram as well. This is likely due to the common form of report writing done by the BBC and will likely need us to do some cleanup. I also see some words that are likely showing up in multiple contexts where we would need the n-grams to better understand them ie. \"us\". The token for \"us\" could come from both \"us\" and \"U.S.\" from our text cleaning efforts. I do not think that there is anything for us to do at the moment with that but if it comes up we should see how we can address it."
   ]
  },
  {
   "cell_type": "code",
   "execution_count": 30,
   "metadata": {
    "pycharm": {
     "name": "#%%\n"
    }
   },
   "outputs": [
    {
     "data": {
      "text/plain": [
       "[('flulike', 1),\n",
       " ('stub', 1),\n",
       " ('accoustic', 1),\n",
       " ('ruptured', 1),\n",
       " ('aneurysm', 1),\n",
       " ('boyzone', 1),\n",
       " ('gibb', 1),\n",
       " ('olivia', 1),\n",
       " ('newtonjohn', 1),\n",
       " ('mu', 1)]"
      ]
     },
     "execution_count": 30,
     "metadata": {},
     "output_type": "execute_result"
    }
   ],
   "source": [
    "list(freq.items())[-10:]"
   ]
  },
  {
   "cell_type": "markdown",
   "metadata": {
    "pycharm": {
     "name": "#%% md\n"
    }
   },
   "source": [
    "Our least frequent items look to be several rare words, or names that must have only occurred once in the dataset. I think it will be worthwile to see how many of these single instance words we have inside of our corpus."
   ]
  },
  {
   "cell_type": "code",
   "execution_count": 31,
   "metadata": {
    "pycharm": {
     "name": "#%%\n"
    }
   },
   "outputs": [
    {
     "data": {
      "text/plain": [
       "[('licking', 1),\n",
       " ('backfive', 1),\n",
       " ('conditional', 1),\n",
       " ('multiculturalism', 1),\n",
       " ('teliasonera', 1),\n",
       " ('fatigued', 1),\n",
       " ('prodded', 1),\n",
       " ('tanner', 1),\n",
       " ('perfectlyweighted', 1),\n",
       " ('nordic', 1),\n",
       " ('invigorate', 1),\n",
       " ('ym', 1),\n",
       " ('mailing', 1),\n",
       " ('exclaimed', 1),\n",
       " ('telephoto', 1),\n",
       " ('wriggled', 1),\n",
       " ('marcas', 1),\n",
       " ('volvi', 1),\n",
       " ('rueing', 1),\n",
       " ('egovernment', 1),\n",
       " ('nappies', 1),\n",
       " ('reesjones', 1),\n",
       " ('londonderry', 1),\n",
       " ('reflex', 1),\n",
       " ('wilting', 1),\n",
       " ('barren', 1),\n",
       " ('kirwans', 1),\n",
       " ('topfour', 1),\n",
       " ('thrusts', 1),\n",
       " ('portugalbased', 1),\n",
       " ('negras', 1),\n",
       " ('middleman', 1),\n",
       " ('miscreants', 1),\n",
       " ('recapturing', 1),\n",
       " ('coachs', 1),\n",
       " ('resuming', 1),\n",
       " ('cliques', 1),\n",
       " ('palancas', 1),\n",
       " ('insubstantial', 1),\n",
       " ('twoall', 1),\n",
       " ('ugliness', 1),\n",
       " ('pectoral', 1),\n",
       " ('ato', 1),\n",
       " ('quarterofanhour', 1),\n",
       " ('zambians', 1),\n",
       " ('conserving', 1),\n",
       " ('levine', 1),\n",
       " ('schoolboy', 1),\n",
       " ('departures', 1),\n",
       " ('montenegros', 1),\n",
       " ('signings', 1),\n",
       " ('overseasbased', 1),\n",
       " ('lamonts', 1),\n",
       " ('watchable', 1),\n",
       " ('armagh', 1),\n",
       " ('inauspiciously', 1),\n",
       " ('rohm', 1),\n",
       " ('invincibles', 1),\n",
       " ('pendulum', 1),\n",
       " ('huey', 1),\n",
       " ('byrnes', 1),\n",
       " ('hutchinson', 1),\n",
       " ('llanellis', 1),\n",
       " ('whelans', 1),\n",
       " ('numerically', 1),\n",
       " ('lusakas', 1),\n",
       " ('witchhunt', 1),\n",
       " ('naivety', 1),\n",
       " ('anglowelsh', 1),\n",
       " ('swappers', 1),\n",
       " ('garrido', 1),\n",
       " ('welchia', 1),\n",
       " ('excellentvalue', 1),\n",
       " ('idefence', 1),\n",
       " ('booing', 1),\n",
       " ('tightlyknit', 1),\n",
       " ('boldon', 1),\n",
       " ('hardearned', 1),\n",
       " ('tragedies', 1),\n",
       " ('shaved', 1),\n",
       " ('ipprs', 1),\n",
       " ('shinbae', 1),\n",
       " ('coleraines', 1),\n",
       " ('warnocks', 1),\n",
       " ('chan', 1),\n",
       " ('haslam', 1),\n",
       " ('dimech', 1),\n",
       " ('emerald', 1),\n",
       " ('scalps', 1),\n",
       " ('unparalleled', 1),\n",
       " ('romantics', 1),\n",
       " ('auld', 1),\n",
       " ('pls', 1),\n",
       " ('haystead', 1),\n",
       " ('srs', 1),\n",
       " ('legions', 1),\n",
       " ('enlightened', 1),\n",
       " ('goodpub', 1),\n",
       " ('bleus', 1),\n",
       " ('playerswap', 1),\n",
       " ('shuts', 1),\n",
       " ('towergroup', 1),\n",
       " ('carlisles', 1),\n",
       " ('kabba', 1),\n",
       " ('thirlwell', 1),\n",
       " ('halfchance', 1),\n",
       " ('precaution', 1),\n",
       " ('indexes', 1),\n",
       " ('nearlymen', 1),\n",
       " ('artell', 1),\n",
       " ('halfbreak', 1),\n",
       " ('mcintosh', 1),\n",
       " ('ignominy', 1),\n",
       " ('vassell', 1),\n",
       " ('saah', 1),\n",
       " ('whitemackie', 1),\n",
       " ('donny', 1),\n",
       " ('phalanx', 1),\n",
       " ('alleviated', 1),\n",
       " ('lockwood', 1),\n",
       " ('bereft', 1),\n",
       " ('jpr', 1),\n",
       " ('caucaunibuca', 1),\n",
       " ('undefeated', 1),\n",
       " ('tenterhooks', 1),\n",
       " ('blossoming', 1),\n",
       " ('psychoacoustics', 1),\n",
       " ('warne', 1),\n",
       " ('instatmdrs', 1),\n",
       " ('dawns', 1),\n",
       " ('revell', 1),\n",
       " ('corden', 1),\n",
       " ('whistling', 1),\n",
       " ('fowlers', 1),\n",
       " ('bromby', 1),\n",
       " ('wellworked', 1),\n",
       " ('eboue', 1),\n",
       " ('agio', 1),\n",
       " ('maoris', 1),\n",
       " ('tame', 1),\n",
       " ('eyton', 1),\n",
       " ('jutge', 1),\n",
       " ('warbrick', 1),\n",
       " ('secam', 1),\n",
       " ('syne', 1),\n",
       " ('wheelock', 1),\n",
       " ('currentily', 1),\n",
       " ('equations', 1),\n",
       " ('mccambridge', 1),\n",
       " ('twentytwo', 1),\n",
       " ('kennys', 1),\n",
       " ('longcourse', 1),\n",
       " ('fionnualla', 1),\n",
       " ('britton', 1),\n",
       " ('empathy', 1),\n",
       " ('ethos', 1),\n",
       " ('owusuabeyies', 1),\n",
       " ('orqueras', 1),\n",
       " ('encyclopaedia', 1),\n",
       " ('gearys', 1),\n",
       " ('unfeasible', 1),\n",
       " ('cobh', 1),\n",
       " ('scuttle', 1),\n",
       " ('lang', 1),\n",
       " ('reigns', 1),\n",
       " ('reasserted', 1),\n",
       " ('geary', 1),\n",
       " ('costas', 1),\n",
       " ('munro', 1),\n",
       " ('reflecion', 1),\n",
       " ('leyton', 1),\n",
       " ('pacy', 1),\n",
       " ('macqueens', 1),\n",
       " ('nil', 1),\n",
       " ('midmarch', 1),\n",
       " ('psyche', 1),\n",
       " ('michalis', 1),\n",
       " ('instigating', 1),\n",
       " ('dimitrakopoulos', 1),\n",
       " ('joses', 1),\n",
       " ('recharged', 1),\n",
       " ('pakiha', 1),\n",
       " ('encarta', 1),\n",
       " ('perreira', 1),\n",
       " ('jongleurs', 1),\n",
       " ('etienne', 1),\n",
       " ('darius', 1),\n",
       " ('commanding', 1),\n",
       " ('lapse', 1),\n",
       " ('algorithmic', 1),\n",
       " ('publiclyrecognised', 1),\n",
       " ('molloy', 1),\n",
       " ('multiprocessing', 1),\n",
       " ('pools', 1),\n",
       " ('davenports', 1),\n",
       " ('irreplaceable', 1),\n",
       " ('minicrisis', 1),\n",
       " ('kart', 1),\n",
       " ('equalisers', 1),\n",
       " ('decentralised', 1),\n",
       " ('byg', 1),\n",
       " ('eightplayer', 1),\n",
       " ('legbreaker', 1),\n",
       " ('tasting', 1),\n",
       " ('craigs', 1),\n",
       " ('goodpractice', 1),\n",
       " ('selfdestruct', 1),\n",
       " ('excites', 1),\n",
       " ('exreds', 1),\n",
       " ('pragmatist', 1),\n",
       " ('slammer', 1),\n",
       " ('northsouth', 1),\n",
       " ('sweetest', 1),\n",
       " ('oneseason', 1),\n",
       " ('presentable', 1),\n",
       " ('adaptibility', 1),\n",
       " ('balague', 1),\n",
       " ('foiled', 1),\n",
       " ('yeob', 1),\n",
       " ('folded', 1),\n",
       " ('yeun', 1),\n",
       " ('lockcumflanker', 1),\n",
       " ('rectified', 1),\n",
       " ('spontaneously', 1),\n",
       " ('lunging', 1),\n",
       " ('negotiates', 1),\n",
       " ('schv', 1),\n",
       " ('deathbed', 1),\n",
       " ('starters', 1),\n",
       " ('cohost', 1),\n",
       " ('stray', 1),\n",
       " ('strongholds', 1),\n",
       " ('europay', 1),\n",
       " ('patersons', 1),\n",
       " ('guillem', 1),\n",
       " ('illfeeling', 1),\n",
       " ('searing', 1),\n",
       " ('ultimitely', 1),\n",
       " ('sydneys', 1),\n",
       " ('splashed', 1),\n",
       " ('ibehre', 1),\n",
       " ('satoru', 1),\n",
       " ('agreeable', 1),\n",
       " ('deluge', 1),\n",
       " ('threegame', 1),\n",
       " ('celts', 1),\n",
       " ('savour', 1),\n",
       " ('echoes', 1),\n",
       " ('crowning', 1),\n",
       " ('rawaqa', 1),\n",
       " ('stereowidening', 1),\n",
       " ('quickthinking', 1),\n",
       " ('mcmahon', 1),\n",
       " ('radioscape', 1),\n",
       " ('shaky', 1),\n",
       " ('seasonlong', 1),\n",
       " ('zakuani', 1),\n",
       " ('churlishly', 1),\n",
       " ('newey', 1),\n",
       " ('ebaytype', 1),\n",
       " ('burrow', 1),\n",
       " ('montrose', 1),\n",
       " ('wardley', 1),\n",
       " ('heady', 1),\n",
       " ('despatched', 1),\n",
       " ('soulsearching', 1),\n",
       " ('edemocracy', 1),\n",
       " ('diabolical', 1),\n",
       " ('mastercard', 1),\n",
       " ('cheapened', 1),\n",
       " ('archrivals', 1),\n",
       " ('buffers', 1),\n",
       " ('scoreboard', 1),\n",
       " ('laughter', 1),\n",
       " ('moneyorientated', 1),\n",
       " ('collision', 1),\n",
       " ('sanzar', 1),\n",
       " ('heinzes', 1),\n",
       " ('collided', 1),\n",
       " ('reihana', 1),\n",
       " ('manor', 1),\n",
       " ('begrudge', 1),\n",
       " ('savoured', 1),\n",
       " ('titlewinning', 1),\n",
       " ('unhelpful', 1),\n",
       " ('triumphs', 1),\n",
       " ('beckon', 1),\n",
       " ('prelegislation', 1),\n",
       " ('flounders', 1),\n",
       " ('rubbed', 1),\n",
       " ('toughscrummaging', 1),\n",
       " ('pidgeley', 1),\n",
       " ('loco', 1),\n",
       " ('bautista', 1),\n",
       " ('bruins', 1),\n",
       " ('certification', 1),\n",
       " ('rambus', 1),\n",
       " ('clemence', 1),\n",
       " ('tonny', 1),\n",
       " ('waalwijk', 1),\n",
       " ('rossvan', 1),\n",
       " ('dorp', 1),\n",
       " ('indemnify', 1),\n",
       " ('calms', 1),\n",
       " ('koeman', 1),\n",
       " ('jeannemarie', 1),\n",
       " ('ubisofts', 1),\n",
       " ('filmic', 1),\n",
       " ('jumpstart', 1),\n",
       " ('cudicinis', 1),\n",
       " ('scapegoat', 1),\n",
       " ('beal', 1),\n",
       " ('ebanking', 1),\n",
       " ('krol', 1),\n",
       " ('dutchmans', 1),\n",
       " ('hyperlinks', 1),\n",
       " ('rankles', 1),\n",
       " ('routed', 1),\n",
       " ('taller', 1),\n",
       " ('shaft', 1),\n",
       " ('neeskens', 1),\n",
       " ('indignation', 1),\n",
       " ('shopaholics', 1),\n",
       " ('accidently', 1),\n",
       " ('knvb', 1),\n",
       " ('huizinga', 1),\n",
       " ('cologne', 1),\n",
       " ('jaap', 1),\n",
       " ('dogging', 1),\n",
       " ('taipeis', 1),\n",
       " ('additionally', 1),\n",
       " ('manolete', 1),\n",
       " ('bullfighter', 1),\n",
       " ('kalusha', 1),\n",
       " ('islero', 1),\n",
       " ('dinamo', 1),\n",
       " ('unduly', 1),\n",
       " ('sniffing', 1),\n",
       " ('duffer', 1),\n",
       " ('runout', 1),\n",
       " ('tillen', 1),\n",
       " ('pixel', 1),\n",
       " ('ebb', 1),\n",
       " ('untried', 1),\n",
       " ('massivemoney', 1),\n",
       " ('laughably', 1),\n",
       " ('fossilhunting', 1),\n",
       " ('optinrealbigcom', 1),\n",
       " ('wanderers', 1),\n",
       " ('halfterm', 1),\n",
       " ('tokenbased', 1),\n",
       " ('furiously', 1),\n",
       " ('bolt', 1),\n",
       " ('juve', 1),\n",
       " ('deserting', 1),\n",
       " ('scotlandborn', 1),\n",
       " ('lenient', 1),\n",
       " ('succeeds', 1),\n",
       " ('steaua', 1),\n",
       " ('indistinguishable', 1),\n",
       " ('decorum', 1),\n",
       " ('ellery', 1),\n",
       " ('cga', 1),\n",
       " ('fifthfastest', 1),\n",
       " ('fiorentina', 1),\n",
       " ('deputised', 1),\n",
       " ('hudell', 1),\n",
       " ('keenan', 1),\n",
       " ('germanbased', 1),\n",
       " ('fullscreen', 1),\n",
       " ('itd', 1),\n",
       " ('motivating', 1),\n",
       " ('mauresmos', 1),\n",
       " ('petronas', 1),\n",
       " ('rinus', 1),\n",
       " ('merriamwebsters', 1),\n",
       " ('hush', 1),\n",
       " ('lips', 1),\n",
       " ('mackays', 1),\n",
       " ('waging', 1),\n",
       " ('multicore', 1),\n",
       " ('flic', 1),\n",
       " ('gabriele', 1),\n",
       " ('kleynhans', 1),\n",
       " ('booths', 1),\n",
       " ('meta', 1),\n",
       " ('strings', 1),\n",
       " ('acrimony', 1),\n",
       " ('touchscreen', 1),\n",
       " ('nunezs', 1),\n",
       " ('thminute', 1),\n",
       " ('encoding', 1),\n",
       " ('banished', 1),\n",
       " ('hushing', 1),\n",
       " ('simmering', 1),\n",
       " ('soulmate', 1),\n",
       " ('claassens', 1),\n",
       " ('disliking', 1),\n",
       " ('singletons', 1),\n",
       " ('shimange', 1),\n",
       " ('prepackaged', 1),\n",
       " ('linde', 1),\n",
       " ('britz', 1),\n",
       " ('rossouw', 1),\n",
       " ('toitj', 1),\n",
       " ('nowin', 1),\n",
       " ('quickestever', 1),\n",
       " ('stale', 1),\n",
       " ('wellearned', 1),\n",
       " ('twitches', 1),\n",
       " ('finlay', 1),\n",
       " ('kezmans', 1),\n",
       " ('hyped', 1),\n",
       " ('nia', 1),\n",
       " ('oxby', 1),\n",
       " ('dorries', 1),\n",
       " ('cafu', 1),\n",
       " ('skyscraper', 1),\n",
       " ('cannisters', 1),\n",
       " ('blowing', 1),\n",
       " ('electrician', 1),\n",
       " ('indiscretion', 1),\n",
       " ('accosiation', 1),\n",
       " ('breakout', 1),\n",
       " ('upfield', 1),\n",
       " ('rankled', 1),\n",
       " ('lakers', 1),\n",
       " ('facesaving', 1),\n",
       " ('bicep', 1),\n",
       " ('fullcontact', 1),\n",
       " ('monopolise', 1),\n",
       " ('haematoma', 1),\n",
       " ('ricochets', 1),\n",
       " ('bisected', 1),\n",
       " ('kuznetsovas', 1),\n",
       " ('ghosts', 1),\n",
       " ('pictochat', 1),\n",
       " ('mins', 1),\n",
       " ('fabrication', 1),\n",
       " ('selfdeclared', 1),\n",
       " ('namibian', 1),\n",
       " ('nfl', 1),\n",
       " ('supercharged', 1),\n",
       " ('blustery', 1),\n",
       " ('lamine', 1),\n",
       " ('kampen', 1),\n",
       " ('demystify', 1),\n",
       " ('whiteshirted', 1),\n",
       " ('nextgen', 1),\n",
       " ('fourthminute', 1),\n",
       " ('jerseys', 1),\n",
       " ('shamil', 1),\n",
       " ('nutrition', 1),\n",
       " ('ooze', 1),\n",
       " ('chinawatcher', 1),\n",
       " ('diversionary', 1),\n",
       " ('shimono', 1),\n",
       " ('jaidi', 1),\n",
       " ('eliminated', 1),\n",
       " ('gargantuan', 1),\n",
       " ('higdon', 1),\n",
       " ('mauls', 1),\n",
       " ('contaminated', 1),\n",
       " ('rucks', 1),\n",
       " ('teak', 1),\n",
       " ('countrymen', 1),\n",
       " ('captaining', 1),\n",
       " ('revered', 1),\n",
       " ('regulates', 1),\n",
       " ('sic', 1),\n",
       " ('cramping', 1),\n",
       " ('leaps', 1),\n",
       " ('redhot', 1),\n",
       " ('yugoslavianborn', 1),\n",
       " ('campo', 1),\n",
       " ('te', 1),\n",
       " ('aboutroughly', 1),\n",
       " ('rematch', 1),\n",
       " ('hifis', 1),\n",
       " ('teessiders', 1),\n",
       " ('statedominated', 1),\n",
       " ('gaizka', 1),\n",
       " ('mendieta', 1),\n",
       " ('unknowns', 1),\n",
       " ('footwork', 1),\n",
       " ('stab', 1),\n",
       " ('bloodied', 1),\n",
       " ('marches', 1),\n",
       " ('recuperating', 1),\n",
       " ('masayuki', 1),\n",
       " ('authoritative', 1),\n",
       " ('codename', 1),\n",
       " ('recordholders', 1),\n",
       " ('psx', 1),\n",
       " ('snatching', 1),\n",
       " ('euroafrica', 1),\n",
       " ('gelled', 1),\n",
       " ('upended', 1),\n",
       " ('craved', 1),\n",
       " ('fumble', 1),\n",
       " ('salvo', 1),\n",
       " ('aided', 1),\n",
       " ('personified', 1),\n",
       " ('shuddering', 1),\n",
       " ('taits', 1),\n",
       " ('sinbin', 1),\n",
       " ('murrays', 1),\n",
       " ('prospered', 1),\n",
       " ('allenveloping', 1),\n",
       " ('nonchantly', 1),\n",
       " ('toying', 1),\n",
       " ('pda', 1),\n",
       " ('reckoned', 1),\n",
       " ('savouring', 1),\n",
       " ('glided', 1),\n",
       " ('repelled', 1),\n",
       " ('freshly', 1),\n",
       " ('ado', 1),\n",
       " ('spikey', 1),\n",
       " ('quaking', 1),\n",
       " ('sixthseeded', 1),\n",
       " ('thranked', 1),\n",
       " ('jointventure', 1),\n",
       " ('nervelessly', 1),\n",
       " ('improbable', 1),\n",
       " ('gregs', 1),\n",
       " ('selfassurance', 1),\n",
       " ('relished', 1),\n",
       " ('outlasting', 1),\n",
       " ('din', 1),\n",
       " ('howitzer', 1),\n",
       " ('silverbooted', 1),\n",
       " ('likeliest', 1),\n",
       " ('selfconfidence', 1),\n",
       " ('jonnys', 1),\n",
       " ('elevator', 1),\n",
       " ('amoruso', 1),\n",
       " ('ngotty', 1),\n",
       " ('commendable', 1),\n",
       " ('seoul', 1),\n",
       " ('amorusos', 1),\n",
       " ('longerrange', 1),\n",
       " ('dispense', 1),\n",
       " ('delaigues', 1),\n",
       " ('botch', 1),\n",
       " ('arnesens', 1),\n",
       " ('pieter', 1),\n",
       " ('forwardthinking', 1),\n",
       " ('engendered', 1),\n",
       " ('instigate', 1),\n",
       " ('betray', 1),\n",
       " ('ascertain', 1),\n",
       " ('scoreless', 1),\n",
       " ('retaken', 1),\n",
       " ('booted', 1),\n",
       " ('marconnets', 1),\n",
       " ('abbotts', 1),\n",
       " ('jayjay', 1),\n",
       " ('straying', 1),\n",
       " ('unerring', 1),\n",
       " ('flakier', 1),\n",
       " ('activcards', 1),\n",
       " ('jussi', 1),\n",
       " ('dyers', 1),\n",
       " ('microwave', 1),\n",
       " ('scrumhalfs', 1),\n",
       " ('nibbled', 1),\n",
       " ('carrs', 1),\n",
       " ('jansens', 1),\n",
       " ('magne', 1),\n",
       " ('tabacco', 1),\n",
       " ('freak', 1),\n",
       " ('lievremont', 1),\n",
       " ('industrious', 1),\n",
       " ('striding', 1),\n",
       " ('abundantly', 1),\n",
       " ('caveats', 1),\n",
       " ('ideals', 1),\n",
       " ('maneuvers', 1),\n",
       " ('naturalborn', 1),\n",
       " ('boumsong', 1),\n",
       " ('injuryfree', 1),\n",
       " ('debrief', 1),\n",
       " ('honeymoons', 1),\n",
       " ('scammer', 1),\n",
       " ('retirements', 1),\n",
       " ('honed', 1),\n",
       " ('bloodthirsty', 1),\n",
       " ('fallingout', 1),\n",
       " ('weekout', 1),\n",
       " ('ruigang', 1),\n",
       " ('sportsmans', 1),\n",
       " ('substituted', 1),\n",
       " ('weekin', 1),\n",
       " ('fadiga', 1),\n",
       " ('golfers', 1),\n",
       " ('rigours', 1),\n",
       " ('cynically', 1),\n",
       " ('horsepower', 1),\n",
       " ('widereaching', 1),\n",
       " ('zara', 1),\n",
       " ('sixty', 1),\n",
       " ('boramae', 1),\n",
       " ('twomonth', 1),\n",
       " ('adera', 1),\n",
       " ('frustrate', 1),\n",
       " ('leadsnosoftwarepatentscom', 1),\n",
       " ('fairway', 1),\n",
       " ('snapshot', 1),\n",
       " ('roux', 1),\n",
       " ('hein', 1),\n",
       " ('miscounted', 1),\n",
       " ('fitagain', 1),\n",
       " ('outkicked', 1),\n",
       " ('slovenias', 1),\n",
       " ('lethargic', 1),\n",
       " ('ebusiness', 1),\n",
       " ('layer', 1),\n",
       " ('okken', 1),\n",
       " ('mcilory', 1),\n",
       " ('saumil', 1),\n",
       " ('commencing', 1),\n",
       " ('tearful', 1),\n",
       " ('onehundreth', 1),\n",
       " ('wield', 1),\n",
       " ('sparkassen', 1),\n",
       " ('slant', 1),\n",
       " ('condone', 1),\n",
       " ('zurichs', 1),\n",
       " ('zander', 1),\n",
       " ('derive', 1),\n",
       " ('cantonas', 1),\n",
       " ('marta', 1),\n",
       " ('kungfu', 1),\n",
       " ('mulle', 1),\n",
       " ('wolfram', 1),\n",
       " ('sepp', 1),\n",
       " ('nanavati', 1),\n",
       " ('unremarkable', 1),\n",
       " ('quench', 1),\n",
       " ('abensur', 1),\n",
       " ('livebox', 1),\n",
       " ('budapest', 1),\n",
       " ('bowing', 1),\n",
       " ('stavanger', 1),\n",
       " ('scupper', 1),\n",
       " ('eightminute', 1),\n",
       " ('fiveyeardeal', 1),\n",
       " ('munoz', 1),\n",
       " ('copout', 1),\n",
       " ('fervent', 1),\n",
       " ('entitles', 1),\n",
       " ('jesper', 1),\n",
       " ('highdata', 1),\n",
       " ('censoring', 1),\n",
       " ('toni', 1),\n",
       " ('videogame', 1),\n",
       " ('simms', 1),\n",
       " ('fipro', 1),\n",
       " ('threadbare', 1),\n",
       " ('outofcontract', 1),\n",
       " ('nflstyle', 1),\n",
       " ('robertsons', 1),\n",
       " ('ferencvaros', 1),\n",
       " ('knuckles', 1),\n",
       " ('basle', 1),\n",
       " ('humility', 1),\n",
       " ('hennigar', 1),\n",
       " ('bellyup', 1),\n",
       " ('drugtesting', 1),\n",
       " ('pacemaking', 1),\n",
       " ('muchimproved', 1),\n",
       " ('blazers', 1),\n",
       " ('melanie', 1),\n",
       " ('serbias', 1),\n",
       " ('teaming', 1),\n",
       " ('assessor', 1),\n",
       " ('haranguing', 1),\n",
       " ('groove', 1),\n",
       " ('remonstrating', 1),\n",
       " ('nixon', 1),\n",
       " ('shelflife', 1),\n",
       " ('rofe', 1),\n",
       " ('deflects', 1),\n",
       " ('teag', 1),\n",
       " ('alcock', 1),\n",
       " ('canio', 1),\n",
       " ('amalgamated', 1),\n",
       " ('dizzyinglyextensive', 1),\n",
       " ('lomana', 1),\n",
       " ('ctia', 1),\n",
       " ('gnoll', 1),\n",
       " ('eldon', 1),\n",
       " ('howley', 1),\n",
       " ('eclipses', 1),\n",
       " ('tvenabled', 1),\n",
       " ('reina', 1),\n",
       " ('arnoud', 1),\n",
       " ('melinda', 1),\n",
       " ('brunos', 1),\n",
       " ('wager', 1),\n",
       " ('strutted', 1),\n",
       " ('sohucom', 1),\n",
       " ('footprint', 1),\n",
       " ('athleticism', 1),\n",
       " ('galwaybased', 1),\n",
       " ('lauding', 1),\n",
       " ('immaculately', 1),\n",
       " ('blomefontein', 1),\n",
       " ('boks', 1),\n",
       " ('galacticos', 1),\n",
       " ('seeping', 1),\n",
       " ('multispeaker', 1),\n",
       " ('britneys', 1),\n",
       " ('rockstars', 1),\n",
       " ('finsihed', 1),\n",
       " ('identifiable', 1),\n",
       " ('beams', 1),\n",
       " ('beileve', 1),\n",
       " ('sibbald', 1),\n",
       " ('igels', 1),\n",
       " ('zambias', 1),\n",
       " ('bernabu', 1),\n",
       " ('sinacom', 1),\n",
       " ('riaa', 1),\n",
       " ('chilling', 1),\n",
       " ('casillas', 1),\n",
       " ('manged', 1),\n",
       " ('marchena', 1),\n",
       " ('livelihood', 1),\n",
       " ('unitedarsenal', 1),\n",
       " ('robsons', 1),\n",
       " ('anybodys', 1),\n",
       " ('duel', 1),\n",
       " ('cute', 1),\n",
       " ('preambles', 1),\n",
       " ('energysapping', 1),\n",
       " ('outwardly', 1),\n",
       " ('pipe', 1),\n",
       " ('tis', 1),\n",
       " ('ovett', 1),\n",
       " ('thirsts', 1),\n",
       " ('halfdead', 1),\n",
       " ('simpsondaniels', 1),\n",
       " ('unwavering', 1),\n",
       " ('repressive', 1),\n",
       " ('router', 1),\n",
       " ('rokr', 1),\n",
       " ('vonage', 1),\n",
       " ('cherry', 1),\n",
       " ('voiceoverpacket', 1),\n",
       " ('propostition', 1),\n",
       " ('hitwise', 1),\n",
       " ('dmitriy', 1),\n",
       " ('bogdanov', 1),\n",
       " ('djibril', 1),\n",
       " ('canvas', 1),\n",
       " ('frontend', 1),\n",
       " ('rehab', 1),\n",
       " ('oodles', 1),\n",
       " ('dodds', 1),\n",
       " ('simultaneous', 1),\n",
       " ('artform', 1),\n",
       " ('sorrow', 1),\n",
       " ('solves', 1),\n",
       " ('minimise', 1),\n",
       " ('simmelink', 1),\n",
       " ('unforgiving', 1),\n",
       " ('flyhalfcumcentre', 1),\n",
       " ('heikkinen', 1),\n",
       " ('mcilroys', 1),\n",
       " ('lesters', 1),\n",
       " ('mcnaughton', 1),\n",
       " ('everest', 1),\n",
       " ('subversive', 1),\n",
       " ('setto', 1),\n",
       " ('musicenabled', 1),\n",
       " ('straightsets', 1),\n",
       " ('shaders', 1),\n",
       " ('rocksolid', 1),\n",
       " ('gandula', 1),\n",
       " ('warmweather', 1),\n",
       " ('lanzarote', 1),\n",
       " ('taser', 1),\n",
       " ('froth', 1),\n",
       " ('beatable', 1),\n",
       " ('abdomen', 1),\n",
       " ('blisters', 1),\n",
       " ('scandinavia', 1),\n",
       " ('ferreriras', 1),\n",
       " ('complying', 1),\n",
       " ('xdr', 1),\n",
       " ('whizzy', 1),\n",
       " ('compass', 1),\n",
       " ('wellbeaten', 1),\n",
       " ('poached', 1),\n",
       " ('backline', 1),\n",
       " ('horgans', 1),\n",
       " ('hockeywise', 1),\n",
       " ('mimic', 1),\n",
       " ('vesty', 1),\n",
       " ('bucklandcockerill', 1),\n",
       " ('gama', 1),\n",
       " ('hangarlike', 1),\n",
       " ('vasco', 1),\n",
       " ('londoner', 1),\n",
       " ('rabeni', 1),\n",
       " ('usefulpopular', 1),\n",
       " ('filethat', 1),\n",
       " ('johnsonb', 1),\n",
       " ('tuiliagi', 1),\n",
       " ('umbrage', 1),\n",
       " ('tuilagi', 1),\n",
       " ('chipmakers', 1),\n",
       " ('bemand', 1),\n",
       " ('irishmans', 1),\n",
       " ('mixedrace', 1),\n",
       " ('instal', 1),\n",
       " ('dictionaries', 1),\n",
       " ('magician', 1),\n",
       " ('stung', 1),\n",
       " ('drogbas', 1),\n",
       " ('joubert', 1),\n",
       " ('willemse', 1),\n",
       " ('wellorganised', 1),\n",
       " ('enliven', 1),\n",
       " ('drab', 1),\n",
       " ('transformative', 1),\n",
       " ('westhuyzen', 1),\n",
       " ('preez', 1),\n",
       " ('likelier', 1),\n",
       " ('wltm', 1),\n",
       " ('botha', 1),\n",
       " ('germain', 1),\n",
       " ('powerfullystruck', 1),\n",
       " ('aj', 1),\n",
       " ('wlts', 1),\n",
       " ('venter', 1),\n",
       " ('paulse', 1),\n",
       " ('djimi', 1),\n",
       " ('ankletap', 1),\n",
       " ('callow', 1),\n",
       " ('dualscreen', 1),\n",
       " ('threetoone', 1),\n",
       " ('slotting', 1),\n",
       " ('dangerously', 1),\n",
       " ('adroit', 1),\n",
       " ('calloffs', 1),\n",
       " ('transgression', 1),\n",
       " ('accesses', 1),\n",
       " ('adultthemes', 1),\n",
       " ('chatting', 1),\n",
       " ('shading', 1),\n",
       " ('vitae', 1),\n",
       " ('similaryethugelydifferent', 1),\n",
       " ('invective', 1),\n",
       " ('dumbarton', 1),\n",
       " ('pescatore', 1),\n",
       " ('illustrates', 1),\n",
       " ('ballboy', 1),\n",
       " ('mcdowell', 1),\n",
       " ('biljon', 1),\n",
       " ('gobbled', 1),\n",
       " ('secondrow', 1),\n",
       " ('cordon', 1),\n",
       " ('roundsaid', 1),\n",
       " ('disintegrating', 1),\n",
       " ('arcadelike', 1),\n",
       " ('chap', 1),\n",
       " ('punisher', 1),\n",
       " ('tacklers', 1),\n",
       " ('arjens', 1),\n",
       " ('purged', 1),\n",
       " ('chiropractor', 1),\n",
       " ('sav', 1),\n",
       " ('epitomises', 1),\n",
       " ('backfoot', 1),\n",
       " ('nhl', 1),\n",
       " ('spearheads', 1),\n",
       " ('cosh', 1),\n",
       " ('wellconceived', 1),\n",
       " ('odriscolls', 1),\n",
       " ('centimetre', 1),\n",
       " ('katarina', 1),\n",
       " ('halfeffort', 1),\n",
       " ('stipulates', 1),\n",
       " ('fifas', 1),\n",
       " ('srebotnik', 1),\n",
       " ('agnes', 1),\n",
       " ('apocalypse', 1),\n",
       " ('yle', 1),\n",
       " ('clem', 1),\n",
       " ('readwe', 1),\n",
       " ('rambo', 1),\n",
       " ('scooping', 1),\n",
       " ('dribble', 1),\n",
       " ('feint', 1),\n",
       " ('appalling', 1),\n",
       " ('escalated', 1),\n",
       " ('subeight', 1),\n",
       " ('resurgent', 1),\n",
       " ('pellegrino', 1),\n",
       " ('espns', 1),\n",
       " ('nongeographical', 1),\n",
       " ('synergistic', 1),\n",
       " ('sphere', 1),\n",
       " ('inserting', 1),\n",
       " ('encoder', 1),\n",
       " ('rainbowcoloured', 1),\n",
       " ('higherpriced', 1),\n",
       " ('acquainted', 1),\n",
       " ('restless', 1),\n",
       " ('soda', 1),\n",
       " ('hounded', 1),\n",
       " ('disorganized', 1),\n",
       " ('vacate', 1),\n",
       " ('palermo', 1),\n",
       " ('spearheaded', 1),\n",
       " ('remotes', 1),\n",
       " ('preteen', 1),\n",
       " ('saluted', 1),\n",
       " ('causeway', 1),\n",
       " ('reams', 1),\n",
       " ('hurdlers', 1),\n",
       " ('gisbergens', 1),\n",
       " ('kwayke', 1),\n",
       " ('libertadores', 1),\n",
       " ('pounded', 1),\n",
       " ('copa', 1),\n",
       " ('ambushed', 1),\n",
       " ('scrums', 1),\n",
       " ('tonline', 1),\n",
       " ('ginsberg', 1),\n",
       " ('relinquish', 1),\n",
       " ('pel', 1),\n",
       " ('passionately', 1),\n",
       " ('metropolis', 1),\n",
       " ('astro', 1),\n",
       " ('fizzy', 1),\n",
       " ('communitybased', 1),\n",
       " ('sghi', 1),\n",
       " ('uzzell', 1),\n",
       " ('seuss', 1),\n",
       " ('collaboratively', 1),\n",
       " ('satisfies', 1),\n",
       " ('classrooms', 1),\n",
       " ('eschewed', 1),\n",
       " ('simulates', 1),\n",
       " ('useable', 1),\n",
       " ('horde', 1),\n",
       " ('remembrance', 1),\n",
       " ('onetrickpony', 1),\n",
       " ('strips', 1),\n",
       " ('schlock', 1),\n",
       " ('nivens', 1),\n",
       " ('tailed', 1),\n",
       " ('ringworld', 1),\n",
       " ('oxfordbased', 1),\n",
       " ('starship', 1),\n",
       " ('troopers', 1),\n",
       " ('doubtless', 1),\n",
       " ('dolby', 1),\n",
       " ('playability', 1),\n",
       " ('enormouslyhigh', 1),\n",
       " ('outputs', 1),\n",
       " ('scrambling', 1),\n",
       " ('randomly', 1),\n",
       " ('uncouth', 1),\n",
       " ('bennallack', 1),\n",
       " ('owain', 1),\n",
       " ('gdcs', 1),\n",
       " ('subway', 1),\n",
       " ('inbuilt', 1),\n",
       " ('filo', 1),\n",
       " ('photorealistic', 1),\n",
       " ('jerrys', 1),\n",
       " ('unsophisticated', 1),\n",
       " ('satirist', 1),\n",
       " ('liverpoolbased', 1),\n",
       " ('gullivers', 1),\n",
       " ('capitalists', 1),\n",
       " ('sequoia', 1),\n",
       " ('transplanted', 1),\n",
       " ('habitat', 1),\n",
       " ('genemation', 1),\n",
       " ('lessens', 1),\n",
       " ('animate', 1),\n",
       " ('crumples', 1),\n",
       " ('peoplewatching', 1),\n",
       " ('baggins', 1),\n",
       " ('permissions', 1),\n",
       " ('frodo', 1),\n",
       " ('clie', 1),\n",
       " ('ux', 1),\n",
       " ('swivel', 1),\n",
       " ('ra', 1),\n",
       " ('leds', 1),\n",
       " ('inventing', 1),\n",
       " ('lucid', 1),\n",
       " ('motioncontrol', 1),\n",
       " ...]"
      ]
     },
     "execution_count": 31,
     "metadata": {},
     "output_type": "execute_result"
    }
   ],
   "source": [
    "single_instance_words = list(filter(lambda x: (x[1] == 1), list(freq.items())))\n",
    "single_instance_words"
   ]
  },
  {
   "cell_type": "code",
   "execution_count": 32,
   "metadata": {
    "pycharm": {
     "name": "#%%\n"
    }
   },
   "outputs": [
    {
     "data": {
      "text/plain": [
       "11440"
      ]
     },
     "execution_count": 32,
     "metadata": {},
     "output_type": "execute_result"
    }
   ],
   "source": [
    "len(single_instance_words)"
   ]
  },
  {
   "cell_type": "markdown",
   "metadata": {
    "pycharm": {
     "name": "#%% md\n"
    }
   },
   "source": [
    "It appears that before any further removal of words from our tokens list we have over 10,000 words that only appear once within the corpus. Part of this weeks lab is to show the ten least used words, and with this knowledge it only shows the tip of the tail of words with only a single use."
   ]
  },
  {
   "cell_type": "markdown",
   "metadata": {
    "pycharm": {
     "name": "#%% md\n"
    }
   },
   "source": [
    "- **Lemmatization**"
   ]
  },
  {
   "cell_type": "markdown",
   "metadata": {
    "pycharm": {
     "name": "#%% md\n"
    }
   },
   "source": [
    "In addition to removing stopwords we can also use Lemmatization to convert our words into their root, which will likely increase the frequency of words that have multiple spellings which point back to the same root word."
   ]
  },
  {
   "cell_type": "code",
   "execution_count": 33,
   "metadata": {
    "pycharm": {
     "name": "#%%\n"
    }
   },
   "outputs": [
    {
     "name": "stderr",
     "output_type": "stream",
     "text": [
      "[nltk_data] Downloading package wordnet to\n",
      "[nltk_data]     /home/tosterberg/nltk_data...\n",
      "[nltk_data]   Package wordnet is already up-to-date!\n",
      "[nltk_data] Downloading package omw-1.4 to\n",
      "[nltk_data]     /home/tosterberg/nltk_data...\n",
      "[nltk_data]   Package omw-1.4 is already up-to-date!\n"
     ]
    }
   ],
   "source": [
    "# Code adapted from https://worldclass.regis.edu/d2l/le/content/285076/viewContent/4152319/View\n",
    "\n",
    "nltk.download('wordnet')\n",
    "nltk.download('omw-1.4')\n",
    "\n",
    "wordnet_lemmatizer = WordNetLemmatizer()"
   ]
  },
  {
   "cell_type": "code",
   "execution_count": 34,
   "metadata": {
    "pycharm": {
     "name": "#%%\n"
    }
   },
   "outputs": [],
   "source": [
    "bbc_df['clean_text'] = bbc_df.clean_text.apply(lambda x: \" \".join(wordnet_lemmatizer.lemmatize(w) for w in x.split()))"
   ]
  },
  {
   "cell_type": "code",
   "execution_count": 35,
   "metadata": {
    "pycharm": {
     "name": "#%%\n"
    }
   },
   "outputs": [
    {
     "data": {
      "text/plain": [
       "'uk economy facing major risk uk manufacturing sector continue face serious challenge next two year british chamber commerce bcc said group quarterly survey company found export picked last three month best level eight year rise came despite exchange rate cited major concern however bcc found whole uk economy still faced major risk warned growth set slow recently forecast economic growth slow little manufacturer domestic sale growth fell back slightly quarter survey firm found employment manufacturing also fell job expectation lowest level year despite positive news export sector worrying sign manufacturing bcc said result reinforce concern sector persistent inability sustain recovery outlook service sector uncertain despite increase export order quarter bcc noted bcc found confidence increased quarter across manufacturing service sector although overall failed reach level start reduced threat interest rate increase contributed improved confidence said bank england raised interest rate five time november august last year rate kept hold since amid sign falling consumer confidence slowdown output pressure cost margin relentless increase regulation threat higher tax remain serious problem bcc director general david frost said consumer spending set decelerate significantly next month unlikely investment export rise sufficiently strongly pick slack'"
      ]
     },
     "execution_count": 35,
     "metadata": {},
     "output_type": "execute_result"
    }
   ],
   "source": [
    "bbc_df.clean_text[0]"
   ]
  },
  {
   "cell_type": "code",
   "execution_count": 36,
   "metadata": {
    "pycharm": {
     "name": "#%%\n"
    }
   },
   "outputs": [
    {
     "data": {
      "text/plain": [
       "[('said', 7253),\n",
       " ('mr', 3045),\n",
       " ('year', 2860),\n",
       " ('would', 2577),\n",
       " ('also', 2156),\n",
       " ('people', 2044),\n",
       " ('new', 1970),\n",
       " ('u', 1955),\n",
       " ('one', 1809),\n",
       " ('could', 1510)]"
      ]
     },
     "execution_count": 36,
     "metadata": {},
     "output_type": "execute_result"
    }
   ],
   "source": [
    "freq = pd.Series(' '.join(bbc_df.clean_text).split()).value_counts().to_dict()\n",
    "\n",
    "list(freq.items())[:10]"
   ]
  },
  {
   "cell_type": "markdown",
   "metadata": {
    "pycharm": {
     "name": "#%% md\n"
    }
   },
   "source": [
    "Our major changes after Lemmatization are the word 'year' shooting up to number three, and 'u' joing our top ten."
   ]
  },
  {
   "cell_type": "markdown",
   "metadata": {
    "pycharm": {
     "name": "#%% md\n"
    }
   },
   "source": [
    "A lot of the words that are floating to the top in this analysis seem to be the lexicon of reporting or single letters that are not english words. In particular we can see that said Mr. is our top two and those don't really add much value to the topic. I think cleaning up the top 25 will help us get a better topic output at the end."
   ]
  },
  {
   "cell_type": "code",
   "execution_count": 37,
   "metadata": {
    "pycharm": {
     "name": "#%%\n"
    }
   },
   "outputs": [
    {
     "data": {
      "text/plain": [
       "[('said', 7253),\n",
       " ('mr', 3045),\n",
       " ('year', 2860),\n",
       " ('would', 2577),\n",
       " ('also', 2156),\n",
       " ('people', 2044),\n",
       " ('new', 1970),\n",
       " ('u', 1955),\n",
       " ('one', 1809),\n",
       " ('could', 1510),\n",
       " ('game', 1474),\n",
       " ('time', 1450),\n",
       " ('last', 1381),\n",
       " ('first', 1283),\n",
       " ('say', 1268),\n",
       " ('world', 1214),\n",
       " ('government', 1189),\n",
       " ('two', 1181),\n",
       " ('film', 1113),\n",
       " ('company', 1113),\n",
       " ('uk', 1078),\n",
       " ('make', 1072),\n",
       " ('firm', 1002),\n",
       " ('get', 967),\n",
       " ('bn', 945)]"
      ]
     },
     "execution_count": 37,
     "metadata": {},
     "output_type": "execute_result"
    }
   ],
   "source": [
    "list(freq.items())[:25]"
   ]
  },
  {
   "cell_type": "code",
   "execution_count": 38,
   "metadata": {
    "pycharm": {
     "name": "#%%\n"
    }
   },
   "outputs": [],
   "source": [
    "# Remove single letter words like 'u'\n",
    "\n",
    "bbc_df['clean_text'] = bbc_df.clean_text.apply(lambda x: \" \".join(x for x in x.split() if len(x) > 1))"
   ]
  },
  {
   "cell_type": "code",
   "execution_count": 39,
   "metadata": {
    "pycharm": {
     "name": "#%%\n"
    }
   },
   "outputs": [],
   "source": [
    "# Extend our stopwords list to remove some of the reporter lexicon, and two letter words that no longer make sense\n",
    "\n",
    "stop.extend(['said', 'mr', 'year', 'also', 'would', 'could', 'say', 'bn'])"
   ]
  },
  {
   "cell_type": "code",
   "execution_count": 40,
   "metadata": {
    "pycharm": {
     "name": "#%%\n"
    }
   },
   "outputs": [],
   "source": [
    "bbc_df['clean_text'] = bbc_df.clean_text.apply(lambda x: \" \".join(w for w in x.split() if w not in stop))"
   ]
  },
  {
   "cell_type": "code",
   "execution_count": 41,
   "metadata": {
    "pycharm": {
     "name": "#%%\n"
    }
   },
   "outputs": [
    {
     "data": {
      "text/plain": [
       "'uk economy facing major risk uk manufacturing sector continue face serious challenge next two british chamber commerce bcc group quarterly survey company found export picked last three month best level eight rise came despite exchange rate cited major concern however bcc found whole uk economy still faced major risk warned growth set slow recently forecast economic growth slow little manufacturer domestic sale growth fell back slightly quarter survey firm found employment manufacturing fell job expectation lowest level despite positive news export sector worrying sign manufacturing bcc result reinforce concern sector persistent inability sustain recovery outlook service sector uncertain despite increase export order quarter bcc noted bcc found confidence increased quarter across manufacturing service sector although overall failed reach level start reduced threat interest rate increase contributed improved confidence bank england raised interest rate five time november august last rate kept hold since amid sign falling consumer confidence slowdown output pressure cost margin relentless increase regulation threat higher tax remain serious problem bcc director general david frost consumer spending set decelerate significantly next month unlikely investment export rise sufficiently strongly pick slack'"
      ]
     },
     "execution_count": 41,
     "metadata": {},
     "output_type": "execute_result"
    }
   ],
   "source": [
    "bbc_df.clean_text[0]"
   ]
  },
  {
   "cell_type": "markdown",
   "metadata": {
    "pycharm": {
     "name": "#%% md\n"
    }
   },
   "source": [
    "### Text Analytics\n",
    "***"
   ]
  },
  {
   "cell_type": "markdown",
   "metadata": {
    "pycharm": {
     "name": "#%% md\n"
    }
   },
   "source": [
    "The dataset now has a column of clean text for us to begin our analysis on. We will go over the most and least used words, create a visualization using a WordCloud, create lists of n-grams, parts of speech, and finally model our topics for the dataset."
   ]
  },
  {
   "cell_type": "markdown",
   "metadata": {
    "pycharm": {
     "name": "#%% md\n"
    }
   },
   "source": [
    "#### Text Visualization - WordCloud\n",
    "***"
   ]
  },
  {
   "cell_type": "markdown",
   "metadata": {
    "pycharm": {
     "name": "#%% md\n"
    }
   },
   "source": [
    "There have been several text cleaning steps to this point so it would be useful for us to look at the top and bottom frequency word tokens, and regenerate our tokens with the most up to date text."
   ]
  },
  {
   "cell_type": "markdown",
   "metadata": {
    "pycharm": {
     "name": "#%% md\n"
    }
   },
   "source": [
    "- **Ten most used words**"
   ]
  },
  {
   "cell_type": "code",
   "execution_count": 42,
   "metadata": {
    "pycharm": {
     "name": "#%%\n"
    }
   },
   "outputs": [
    {
     "data": {
      "text/plain": [
       "[('people', 2044),\n",
       " ('new', 1970),\n",
       " ('one', 1809),\n",
       " ('game', 1474),\n",
       " ('time', 1450),\n",
       " ('last', 1381),\n",
       " ('first', 1283),\n",
       " ('world', 1214),\n",
       " ('government', 1189),\n",
       " ('two', 1181)]"
      ]
     },
     "execution_count": 42,
     "metadata": {},
     "output_type": "execute_result"
    }
   ],
   "source": [
    "# Code adapted from https://worldclass.regis.edu/d2l/le/content/285076/viewContent/4152319/View\n",
    "freq = pd.Series(' '.join(bbc_df.clean_text).split()).value_counts().to_dict()\n",
    "\n",
    "list(freq.items())[:10]"
   ]
  },
  {
   "cell_type": "markdown",
   "metadata": {
    "pycharm": {
     "name": "#%% md\n"
    }
   },
   "source": [
    "Our top word tokens make a lot of sense given the dataset we are working from. We would expect articles from reporters to frequently discuss sports, people, and government."
   ]
  },
  {
   "cell_type": "markdown",
   "metadata": {
    "pycharm": {
     "name": "#%% md\n"
    }
   },
   "source": [
    "- **Ten least used words**"
   ]
  },
  {
   "cell_type": "code",
   "execution_count": 43,
   "metadata": {
    "pycharm": {
     "name": "#%%\n"
    }
   },
   "outputs": [
    {
     "data": {
      "text/plain": [
       "[('taskforce', 1),\n",
       " ('patois', 1),\n",
       " ('fi', 1),\n",
       " ('weh', 1),\n",
       " ('degenerative', 1),\n",
       " ('rheumatic', 1),\n",
       " ('miyazaki', 1),\n",
       " ('proclaim', 1),\n",
       " ('masahiro', 1),\n",
       " ('mu', 1)]"
      ]
     },
     "execution_count": 43,
     "metadata": {},
     "output_type": "execute_result"
    }
   ],
   "source": [
    "list(freq.items())[-10:]"
   ]
  },
  {
   "cell_type": "markdown",
   "metadata": {
    "pycharm": {
     "name": "#%% md\n"
    }
   },
   "source": [
    "We mentioned above that there is a large number of individual use words from this dataset, so there is not a lot to learn hear."
   ]
  },
  {
   "cell_type": "markdown",
   "metadata": {
    "pycharm": {
     "name": "#%% md\n"
    }
   },
   "source": [
    "- **WordCloud**"
   ]
  },
  {
   "cell_type": "code",
   "execution_count": 44,
   "metadata": {
    "pycharm": {
     "name": "#%%\n"
    }
   },
   "outputs": [],
   "source": [
    "# Code adapted from https://worldclass.regis.edu/d2l/le/content/285076/viewContent/4152319/View\n",
    "\n",
    "wc = WordCloud(width=1000, height=600, max_words=200).generate_from_frequencies(freq)"
   ]
  },
  {
   "cell_type": "code",
   "execution_count": 45,
   "metadata": {
    "pycharm": {
     "name": "#%%\n"
    }
   },
   "outputs": [
    {
     "data": {
      "image/png": "[encoded data removed]",
      "text/plain": [
       "<Figure size 720x720 with 1 Axes>"
      ]
     },
     "metadata": {
      "needs_background": "light"
     },
     "output_type": "display_data"
    }
   ],
   "source": [
    "plt.figure(figsize=(10, 10))\n",
    "plt.imshow(wc, interpolation='bilinear')\n",
    "plt.axis('off')\n",
    "plt.show()"
   ]
  },
  {
   "cell_type": "markdown",
   "metadata": {
    "pycharm": {
     "name": "#%% md\n"
    }
   },
   "source": [
    "This is the WordCloud for our cleaned up text. We can see a lot of intent inside of this graphic, as well as it showing us places where we might further cull our list of words for topic modeling if we later decided to. We have a few names, numbers, and titles that might be good to remove if we wanted to do further refinement."
   ]
  },
  {
   "cell_type": "markdown",
   "metadata": {
    "pycharm": {
     "name": "#%% md\n"
    }
   },
   "source": [
    "#### Generate n-grams and part of speech tagging\n",
    "---"
   ]
  },
  {
   "cell_type": "markdown",
   "metadata": {
    "pycharm": {
     "name": "#%% md\n"
    }
   },
   "source": [
    "- **N-grams**"
   ]
  },
  {
   "cell_type": "markdown",
   "metadata": {
    "pycharm": {
     "name": "#%% md\n"
    }
   },
   "source": [
    "To create our various n-grams of word tuples and their frequency we will start with our tokens, use our nltk library and create another frequency array with the tuple and count of that tuple's occurences."
   ]
  },
  {
   "cell_type": "code",
   "execution_count": 46,
   "metadata": {
    "pycharm": {
     "name": "#%%\n"
    }
   },
   "outputs": [],
   "source": [
    "# Code adapted from https://worldclass.regis.edu/d2l/le/content/285076/viewContent/4152319/View\n",
    "\n",
    "#regenerate the tokens list, remember we did more data cleaning since we last generated this list\n",
    "tokens = ' '.join(bbc_df.clean_text).split()"
   ]
  },
  {
   "cell_type": "code",
   "execution_count": 47,
   "metadata": {
    "pycharm": {
     "name": "#%%\n"
    }
   },
   "outputs": [
    {
     "data": {
      "text/plain": [
       "[(('told', 'bbc'), 348),\n",
       " (('prime', 'minister'), 319),\n",
       " (('chief', 'executive'), 206),\n",
       " (('last', 'week'), 188),\n",
       " (('tony', 'blair'), 186),\n",
       " (('mobile', 'phone'), 183),\n",
       " (('bbc', 'news'), 178),\n",
       " (('general', 'election'), 177),\n",
       " (('new', 'york'), 167),\n",
       " (('six', 'nation'), 162),\n",
       " (('liberal', 'democrat'), 157),\n",
       " (('number', 'one'), 147),\n",
       " (('first', 'time'), 140),\n",
       " (('michael', 'howard'), 130),\n",
       " (('last', 'month'), 122),\n",
       " (('human', 'right'), 118),\n",
       " (('bbc', 'radio'), 114),\n",
       " (('gordon', 'brown'), 113),\n",
       " (('interest', 'rate'), 113),\n",
       " (('lib', 'dems'), 106)]"
      ]
     },
     "execution_count": 47,
     "metadata": {},
     "output_type": "execute_result"
    }
   ],
   "source": [
    "# creating the bigrams\n",
    "ngrams_2 = nltk.bigrams(tokens)\n",
    "\n",
    "# freq distribution for these\n",
    "freq_2grams = pd.Series(ngrams_2).value_counts().to_dict()\n",
    "list(freq_2grams.items())[:20]"
   ]
  },
  {
   "cell_type": "markdown",
   "metadata": {
    "pycharm": {
     "name": "#%% md\n"
    }
   },
   "source": [
    "We can see here how our removal of the `('said', 'mr')` tuple prior to reaching this point was replaced with a similar lexical element `('told','bbc')`. We also see a lot of repeated titles/names as part of these frequent bigrams, like prime minister, and bbc news."
   ]
  },
  {
   "cell_type": "code",
   "execution_count": 48,
   "metadata": {
    "pycharm": {
     "name": "#%%\n"
    }
   },
   "outputs": [
    {
     "data": {
      "text/plain": [
       "[(('told', 'bbc', 'news'), 147),\n",
       " (('bbc', 'news', 'website'), 97),\n",
       " (('told', 'bbc', 'radio'), 76),\n",
       " (('leader', 'michael', 'howard'), 58),\n",
       " (('million', 'dollar', 'baby'), 53),\n",
       " (('radio', 'today', 'programme'), 49),\n",
       " (('told', 'bbc', 'sport'), 48),\n",
       " (('bbc', 'radio', 'today'), 47),\n",
       " (('tory', 'leader', 'michael'), 41),\n",
       " (('next', 'general', 'election'), 39),\n",
       " (('chancellor', 'gordon', 'brown'), 33),\n",
       " (('minister', 'tony', 'blair'), 32),\n",
       " (('leader', 'charles', 'kennedy'), 32),\n",
       " (('prime', 'minister', 'tony'), 32),\n",
       " (('digital', 'music', 'player'), 30),\n",
       " (('world', 'number', 'one'), 27),\n",
       " (('coach', 'andy', 'robinson'), 27),\n",
       " (('bbc', 'world', 'service'), 26),\n",
       " (('london', 'stock', 'exchange'), 25),\n",
       " (('deputy', 'prime', 'minister'), 24)]"
      ]
     },
     "execution_count": 48,
     "metadata": {},
     "output_type": "execute_result"
    }
   ],
   "source": [
    "# creating the trigrams\n",
    "ngrams_3 = nltk.trigrams(tokens)\n",
    "\n",
    "# freq distribution for these\n",
    "freq_3grams = pd.Series(ngrams_3).value_counts().to_dict()\n",
    "list(freq_3grams.items())[:20]"
   ]
  },
  {
   "cell_type": "markdown",
   "metadata": {
    "pycharm": {
     "name": "#%% md\n"
    }
   },
   "source": [
    "#### Part of speech\n",
    "---"
   ]
  },
  {
   "cell_type": "code",
   "execution_count": 49,
   "metadata": {
    "pycharm": {
     "name": "#%%\n"
    }
   },
   "outputs": [
    {
     "name": "stderr",
     "output_type": "stream",
     "text": [
      "[nltk_data] Downloading package averaged_perceptron_tagger to\n",
      "[nltk_data]     /home/tosterberg/nltk_data...\n",
      "[nltk_data]   Package averaged_perceptron_tagger is already up-to-\n",
      "[nltk_data]       date!\n"
     ]
    },
    {
     "data": {
      "text/plain": [
       "[('uk', 'JJ'),\n",
       " ('economy', 'NN'),\n",
       " ('facing', 'VBG'),\n",
       " ('major', 'JJ'),\n",
       " ('risk', 'NN'),\n",
       " ('uk', 'IN'),\n",
       " ('manufacturing', 'VBG'),\n",
       " ('sector', 'NN'),\n",
       " ('continue', 'VBP'),\n",
       " ('face', 'VBP'),\n",
       " ('serious', 'JJ'),\n",
       " ('challenge', 'NN'),\n",
       " ('next', 'JJ'),\n",
       " ('two', 'CD'),\n",
       " ('british', 'JJ'),\n",
       " ('chamber', 'NN'),\n",
       " ('commerce', 'NN'),\n",
       " ('bcc', 'NN'),\n",
       " ('group', 'NN'),\n",
       " ('quarterly', 'JJ')]"
      ]
     },
     "execution_count": 49,
     "metadata": {},
     "output_type": "execute_result"
    }
   ],
   "source": [
    "# Code adapted from https://worldclass.regis.edu/d2l/le/content/285076/viewContent/4152319/View\n",
    "\n",
    "nltk.download('averaged_perceptron_tagger')\n",
    "\n",
    "pos_tags = pos_tag(tokens)\n",
    "pos_tags[:20]"
   ]
  },
  {
   "cell_type": "code",
   "execution_count": 50,
   "metadata": {
    "pycharm": {
     "name": "#%%\n"
    }
   },
   "outputs": [
    {
     "data": {
      "text/plain": [
       "Counter({'JJ': 91403,\n",
       "         'NN': 222698,\n",
       "         'VBG': 20196,\n",
       "         'IN': 8115,\n",
       "         'VBP': 14101,\n",
       "         'CD': 6672,\n",
       "         'VBD': 28161,\n",
       "         'RBS': 146,\n",
       "         'RB': 21114,\n",
       "         'VBN': 12721,\n",
       "         'VB': 7629,\n",
       "         'JJS': 2419,\n",
       "         'JJR': 1817,\n",
       "         'RBR': 1092,\n",
       "         'NNS': 10348,\n",
       "         'WP$': 123,\n",
       "         'MD': 1279,\n",
       "         'VBZ': 3307,\n",
       "         'DT': 824,\n",
       "         'NNP': 923,\n",
       "         'CC': 278,\n",
       "         'RP': 358,\n",
       "         'FW': 784,\n",
       "         'WRB': 54,\n",
       "         'WDT': 62,\n",
       "         'PRP': 120,\n",
       "         'WP': 54,\n",
       "         'POS': 6,\n",
       "         'NNPS': 4,\n",
       "         'PDT': 6,\n",
       "         'PRP$': 14,\n",
       "         'TO': 3,\n",
       "         'UH': 4,\n",
       "         'EX': 1})"
      ]
     },
     "execution_count": 50,
     "metadata": {},
     "output_type": "execute_result"
    }
   ],
   "source": [
    "Counter([j for i,j in pos_tag(tokens)])"
   ]
  },
  {
   "cell_type": "markdown",
   "metadata": {
    "pycharm": {
     "name": "#%% md\n"
    }
   },
   "source": [
    "It is interesting to see the frequencies of each of the parts of speech that are being used in these articles, but in order to go deeper into the analysis on how these articles are constructed and associated with distributions of parts of speech we would need to go to a differently cleaned text where we haven't removed stopwords or similar."
   ]
  },
  {
   "cell_type": "markdown",
   "metadata": {
    "pycharm": {
     "name": "#%% md\n"
    }
   },
   "source": [
    "#### Topic Modeling\n",
    "---"
   ]
  },
  {
   "cell_type": "markdown",
   "metadata": {
    "pycharm": {
     "name": "#%% md\n"
    }
   },
   "source": [
    "Modeling the topics for our texts is going to be a similar endeavor as our unsupervised learning that we did in last weeks lab. We will be seeing how we can split up our text articles, and then associating them with a topic. Afterwards we will look for the optimal number of topics by iterating through the likely range and choosing the best scoring model."
   ]
  },
  {
   "cell_type": "code",
   "execution_count": 51,
   "metadata": {
    "pycharm": {
     "name": "#%%\n"
    }
   },
   "outputs": [
    {
     "name": "stdout",
     "output_type": "stream",
     "text": [
      "[['uk', 'economy', 'facing', 'major', 'risk', 'uk', 'manufacturing', 'sector', 'continue', 'face', 'serious', 'challenge', 'next', 'two', 'british', 'chamber', 'commerce', 'bcc', 'group', 'quarterly', 'survey', 'company', 'found', 'export', 'picked', 'last', 'three', 'month', 'best', 'level', 'eight', 'rise', 'came', 'despite', 'exchange', 'rate', 'cited', 'major', 'concern', 'however', 'bcc', 'found', 'whole', 'uk', 'economy', 'still', 'faced', 'major', 'risk', 'warned', 'growth', 'set', 'slow', 'recently', 'forecast', 'economic', 'growth', 'slow', 'little', 'manufacturer', 'domestic', 'sale', 'growth', 'fell', 'back', 'slightly', 'quarter', 'survey', 'firm', 'found', 'employment', 'manufacturing', 'fell', 'job', 'expectation', 'lowest', 'level', 'despite', 'positive', 'news', 'export', 'sector', 'worrying', 'sign', 'manufacturing', 'bcc', 'result', 'reinforce', 'concern', 'sector', 'persistent', 'inability', 'sustain', 'recovery', 'outlook', 'service', 'sector', 'uncertain', 'despite', 'increase', 'export', 'order', 'quarter', 'bcc', 'noted', 'bcc', 'found', 'confidence', 'increased', 'quarter', 'across', 'manufacturing', 'service', 'sector', 'although', 'overall', 'failed', 'reach', 'level', 'start', 'reduced', 'threat', 'interest', 'rate', 'increase', 'contributed', 'improved', 'confidence', 'bank', 'england', 'raised', 'interest', 'rate', 'five', 'time', 'november', 'august', 'last', 'rate', 'kept', 'hold', 'since', 'amid', 'sign', 'falling', 'consumer', 'confidence', 'slowdown', 'output', 'pressure', 'cost', 'margin', 'relentless', 'increase', 'regulation', 'threat', 'higher', 'tax', 'remain', 'serious', 'problem', 'bcc', 'director', 'general', 'david', 'frost', 'consumer', 'spending', 'set', 'decelerate', 'significantly', 'next', 'month', 'unlikely', 'investment', 'export', 'rise', 'sufficiently', 'strongly', 'pick', 'slack'], ['aid', 'climate', 'top', 'davos', 'agenda', 'climate', 'change', 'fight', 'aid', 'leading', 'list', 'concern', 'first', 'day', 'world', 'economic', 'forum', 'swiss', 'resort', 'davos', 'business', 'political', 'leader', 'around', 'globe', 'listen', 'uk', 'prime', 'minister', 'tony', 'blair', 'opening', 'speech', 'wednesday', 'blair', 'focus', 'africa', 'development', 'plan', 'global', 'warming', 'earlier', 'day', 'came', 'update', 'effort', 'million', 'people', 'antiaids', 'drug', 'end', 'world', 'health', 'organisation', 'people', 'poor', 'country', 'lifeextending', 'drug', 'six', 'month', 'earlier', 'amounting', 'million', 'needed', 'funding', 'gap', 'still', 'stood', 'way', 'hitting', 'target', 'theme', 'stressed', 'blair', 'whose', 'attendance', 'announced', 'last', 'minute', 'want', 'dominate', 'uk', 'chairmanship', 'group', 'industrialised', 'state', 'issue', 'discussed', 'fiveday', 'conference', 'range', 'china', 'economic', 'power', 'iraq', 'future', 'sunday', 'election', 'aside', 'blair', 'world', 'leader', 'expected', 'attend', 'including', 'french', 'president', 'jacques', 'chirac', 'due', 'speak', 'video', 'link', 'bad', 'weather', 'delayed', 'helicopter', 'south', 'african', 'president', 'thabo', 'mbeki', 'whose', 'arrival', 'delayed', 'ivory', 'coast', 'peace', 'talk', 'ukraine', 'new', 'president', 'viktor', 'yushchenko', 'newly', 'elected', 'palestinian', 'leader', 'mahmoud', 'abbas', 'showbiz', 'figure', 'put', 'appearance', 'frontman', 'bono', 'wellknown', 'campaigner', 'trade', 'development', 'issue', 'angelina', 'jolie', 'goodwill', 'campaigner', 'un', 'refugee', 'unlike', 'previous', 'protest', 'wef', 'expected', 'muted', 'antiglobalisation', 'campaigner', 'called', 'demonstration', 'planned', 'weekend', 'time', 'people', 'expected', 'converge', 'brazilian', 'resort', 'porto', 'alegre', 'world', 'social', 'forum', 'socalled', 'antidavos', 'campaigner', 'globalisation', 'fair', 'trade', 'many', 'cause', 'contrast', 'davos', 'forum', 'dominated', 'business', 'issue', 'outsourcing', 'corporate', 'leadership', 'boss', 'fifth', 'world', 'largest', 'company', 'scheduled', 'attend', 'survey', 'published', 'eve', 'conference', 'pricewaterhousecoopers', 'four', 'ten', 'business', 'leader', 'confident', 'company', 'see', 'sale', 'rise', 'asian', 'american', 'executive', 'however', 'much', 'confident', 'european', 'counterpart', 'political', 'discussion', 'focusing', 'iran', 'iraq', 'china', 'likely', 'dominate', 'medium', 'attention']]\n"
     ]
    }
   ],
   "source": [
    "# Code adapted from https://worldclass.regis.edu/d2l/le/content/285076/viewContent/4152319/View\n",
    "\n",
    "lem_ls = list(bbc_df.clean_text.apply(lambda x: list(x.split())))\n",
    "print(lem_ls[:2])"
   ]
  },
  {
   "cell_type": "code",
   "execution_count": 52,
   "metadata": {
    "pycharm": {
     "name": "#%%\n"
    }
   },
   "outputs": [],
   "source": [
    "# Create Dictionary\n",
    "id2word = corpora.Dictionary(lem_ls)\n",
    "\n",
    "# Term Document Frequency Corpus\n",
    "corpus = [id2word.doc2bow(post) for post in lem_ls]"
   ]
  },
  {
   "cell_type": "code",
   "execution_count": 53,
   "metadata": {
    "pycharm": {
     "name": "#%%\n"
    }
   },
   "outputs": [],
   "source": [
    "# Build Basic LDA model\n",
    "lda_model = gensim.models.LdaMulticore(corpus=corpus,\n",
    "                                       id2word=id2word,\n",
    "                                       num_topics=10, \n",
    "                                       random_state=42,\n",
    "                                       chunksize=100,\n",
    "                                       passes=10,\n",
    "                                       per_word_topics=True)"
   ]
  },
  {
   "cell_type": "code",
   "execution_count": 54,
   "metadata": {
    "pycharm": {
     "name": "#%%\n"
    }
   },
   "outputs": [
    {
     "name": "stdout",
     "output_type": "stream",
     "text": [
      "[(0, '0.007*\"people\" + 0.005*\"service\" + 0.004*\"mobile\" + 0.004*\"one\" + 0.004*\"uk\" + 0.004*\"new\" + 0.004*\"broadband\" + 0.004*\"phone\" + 0.003*\"show\" + 0.003*\"net\"'), (1, '0.004*\"government\" + 0.004*\"firm\" + 0.004*\"yukos\" + 0.004*\"company\" + 0.004*\"new\" + 0.003*\"law\" + 0.003*\"right\" + 0.003*\"people\" + 0.003*\"court\" + 0.003*\"told\"'), (2, '0.006*\"england\" + 0.005*\"government\" + 0.005*\"wale\" + 0.004*\"new\" + 0.003*\"game\" + 0.003*\"first\" + 0.003*\"rugby\" + 0.003*\"minister\" + 0.003*\"ireland\" + 0.003*\"six\"'), (3, '0.006*\"people\" + 0.005*\"user\" + 0.005*\"software\" + 0.004*\"new\" + 0.004*\"system\" + 0.004*\"company\" + 0.004*\"security\" + 0.003*\"firm\" + 0.003*\"search\" + 0.003*\"site\"'), (4, '0.008*\"game\" + 0.007*\"people\" + 0.007*\"music\" + 0.005*\"one\" + 0.005*\"new\" + 0.005*\"technology\" + 0.005*\"mobile\" + 0.004*\"time\" + 0.004*\"tv\" + 0.004*\"digital\"'), (5, '0.008*\"labour\" + 0.006*\"election\" + 0.006*\"party\" + 0.006*\"blair\" + 0.006*\"people\" + 0.005*\"brown\" + 0.005*\"tax\" + 0.005*\"tory\" + 0.005*\"minister\" + 0.005*\"government\"'), (6, '0.008*\"game\" + 0.005*\"club\" + 0.005*\"player\" + 0.004*\"time\" + 0.004*\"new\" + 0.003*\"one\" + 0.003*\"united\" + 0.003*\"last\" + 0.003*\"chelsea\" + 0.003*\"first\"'), (7, '0.006*\"sale\" + 0.006*\"market\" + 0.005*\"growth\" + 0.005*\"economy\" + 0.005*\"new\" + 0.005*\"company\" + 0.004*\"firm\" + 0.004*\"price\" + 0.004*\"economic\" + 0.004*\"month\"'), (8, '0.005*\"world\" + 0.004*\"one\" + 0.003*\"new\" + 0.003*\"time\" + 0.003*\"last\" + 0.003*\"film\" + 0.003*\"company\" + 0.003*\"people\" + 0.003*\"two\" + 0.003*\"first\"'), (9, '0.015*\"film\" + 0.012*\"best\" + 0.010*\"award\" + 0.005*\"one\" + 0.005*\"star\" + 0.005*\"actor\" + 0.004*\"director\" + 0.004*\"oscar\" + 0.003*\"number\" + 0.003*\"british\"')]\n"
     ]
    }
   ],
   "source": [
    "# Print the Keyword in the 10 topics\n",
    "print(lda_model.print_topics())"
   ]
  },
  {
   "cell_type": "code",
   "execution_count": 55,
   "metadata": {
    "pycharm": {
     "name": "#%%\n"
    }
   },
   "outputs": [
    {
     "name": "stdout",
     "output_type": "stream",
     "text": [
      "\n",
      "Coherence Score:  0.4485662471546834\n"
     ]
    }
   ],
   "source": [
    "# compute the coherence score\n",
    "coherence_model_lda = CoherenceModel(model=lda_model, \n",
    "                                     texts=lem_ls, \n",
    "                                     dictionary=id2word, \n",
    "                                     coherence='c_v')\n",
    "\n",
    "# retreive the coherence_scores\n",
    "coherence_lda = coherence_model_lda.get_coherence()\n",
    "\n",
    "print('\\nCoherence Score: ', coherence_lda)"
   ]
  },
  {
   "cell_type": "markdown",
   "metadata": {
    "pycharm": {
     "name": "#%% md\n"
    }
   },
   "source": [
    "- **Finding the optimal number of topics**"
   ]
  },
  {
   "cell_type": "markdown",
   "metadata": {
    "pycharm": {
     "name": "#%% md\n"
    }
   },
   "source": [
    "In order to find our optimal number of topics we will loop through a few different values of the number of topics in our LDA model. We will assess the scores of those models for coherence and perplexity to determine our best model."
   ]
  },
  {
   "cell_type": "code",
   "execution_count": 56,
   "metadata": {
    "pycharm": {
     "name": "#%%\n"
    }
   },
   "outputs": [
    {
     "name": "stdout",
     "output_type": "stream",
     "text": [
      "Calcuting for 2 topics\n",
      "Calcuting for 3 topics\n",
      "Calcuting for 4 topics\n",
      "Calcuting for 5 topics\n",
      "Calcuting for 6 topics\n",
      "Calcuting for 7 topics\n",
      "Calcuting for 8 topics\n",
      "Calcuting for 9 topics\n",
      "Calcuting for 10 topics\n",
      "Calcuting for 11 topics\n",
      "Calcuting for 12 topics\n",
      "Calcuting for 13 topics\n",
      "Calcuting for 14 topics\n"
     ]
    }
   ],
   "source": [
    "# Code adapted from https://worldclass.regis.edu/d2l/le/content/285076/viewContent/4152319/View\n",
    "# range of 2 to 14 topics\n",
    "\n",
    "scores = []\n",
    "for i in range(2,15):\n",
    "    print(f'Calcuting for {i} topics')\n",
    "    lda_model = gensim.models.LdaMulticore(corpus=corpus,\n",
    "                                       id2word=id2word,\n",
    "                                       num_topics=i, \n",
    "                                       random_state=42,\n",
    "                                       chunksize=100,\n",
    "                                       passes=10,\n",
    "                                       per_word_topics=True)\n",
    "    # compute the coherence score\n",
    "    coherence_model_lda = CoherenceModel(model=lda_model, \n",
    "                                         texts=lem_ls, \n",
    "                                         dictionary=id2word, \n",
    "                                         coherence='c_v')\n",
    "\n",
    "    # retreive the coherence_scores\n",
    "    coherence_lda = coherence_model_lda.get_coherence()\n",
    "    \n",
    "    # retreive the perplexity_scores\n",
    "    perplexity_lda = lda_model.log_perplexity(corpus)\n",
    "    \n",
    "    scores.append((i,coherence_lda,perplexity_lda))"
   ]
  },
  {
   "cell_type": "code",
   "execution_count": 57,
   "metadata": {
    "pycharm": {
     "name": "#%%\n"
    }
   },
   "outputs": [
    {
     "data": {
      "text/plain": [
       "[(2, 0.3387844256011157, -8.5283764373345),\n",
       " (3, 0.2954831128760326, -8.525773849180192),\n",
       " (4, 0.32265499093134387, -8.511329066942938),\n",
       " (5, 0.3328106708235007, -8.512661626545988),\n",
       " (6, 0.40465868461244753, -8.496911186867214),\n",
       " (7, 0.418512628563358, -8.50649464150951),\n",
       " (8, 0.4480337361595167, -8.487600533443976),\n",
       " (9, 0.4279715160336134, -8.513505818649119),\n",
       " (10, 0.4485662471546834, -8.502776629462467),\n",
       " (11, 0.4787693765638212, -8.518362744077772),\n",
       " (12, 0.47235407088006215, -8.533104836923805),\n",
       " (13, 0.47203862560005183, -8.53986962089531),\n",
       " (14, 0.4428911889840769, -8.552338492744921)]"
      ]
     },
     "execution_count": 57,
     "metadata": {},
     "output_type": "execute_result"
    }
   ],
   "source": [
    "scores"
   ]
  },
  {
   "cell_type": "markdown",
   "metadata": {
    "pycharm": {
     "name": "#%% md\n"
    }
   },
   "source": [
    "From the scores collected it looks like our best model has 11 topics, since the coherence scores recede at that point and the perplexity is in the same ballpark. A case could be made for going with 12 topics as well, but I have chosen to prioritize the coherence measure."
   ]
  },
  {
   "cell_type": "markdown",
   "metadata": {
    "pycharm": {
     "name": "#%% md\n"
    }
   },
   "source": [
    "- **Testing the accuracy of the model**"
   ]
  },
  {
   "cell_type": "code",
   "execution_count": 58,
   "metadata": {
    "pycharm": {
     "name": "#%%\n"
    }
   },
   "outputs": [],
   "source": [
    "bf_lda_model = gensim.models.LdaMulticore(corpus=corpus,\n",
    "                                       id2word=id2word,\n",
    "                                       num_topics=11, \n",
    "                                       random_state=42,\n",
    "                                       chunksize=100,\n",
    "                                       passes=10,\n",
    "                                       per_word_topics=True)\n",
    "# compute the coherence score\n",
    "bf_coherence_model_lda = CoherenceModel(model=bf_lda_model, \n",
    "                                         texts=lem_ls, \n",
    "                                         dictionary=id2word, \n",
    "                                         coherence='c_v')"
   ]
  },
  {
   "cell_type": "code",
   "execution_count": 59,
   "metadata": {
    "pycharm": {
     "name": "#%%\n"
    }
   },
   "outputs": [
    {
     "data": {
      "text/plain": [
       "0.4787693765638212"
      ]
     },
     "execution_count": 59,
     "metadata": {},
     "output_type": "execute_result"
    }
   ],
   "source": [
    "bf_coherence_model_lda.get_coherence()"
   ]
  },
  {
   "cell_type": "code",
   "execution_count": 60,
   "metadata": {
    "pycharm": {
     "name": "#%%\n"
    }
   },
   "outputs": [
    {
     "data": {
      "text/plain": [
       "-8.518327333781803"
      ]
     },
     "execution_count": 60,
     "metadata": {},
     "output_type": "execute_result"
    }
   ],
   "source": [
    "bf_lda_model.log_perplexity(corpus)"
   ]
  },
  {
   "cell_type": "markdown",
   "metadata": {
    "pycharm": {
     "name": "#%% md\n"
    }
   },
   "source": [
    "I have chosen 11 topics for our model based off of the coherence and perplexity scores."
   ]
  },
  {
   "cell_type": "markdown",
   "metadata": {
    "pycharm": {
     "name": "#%% md\n"
    }
   },
   "source": [
    "- **Print the topics**"
   ]
  },
  {
   "cell_type": "code",
   "execution_count": 61,
   "metadata": {
    "pycharm": {
     "name": "#%%\n"
    }
   },
   "outputs": [
    {
     "data": {
      "text/plain": [
       "[(0,\n",
       "  '0.008*\"people\" + 0.006*\"mobile\" + 0.006*\"service\" + 0.005*\"phone\" + 0.005*\"uk\" + 0.005*\"broadband\" + 0.005*\"one\" + 0.004*\"technology\" + 0.004*\"new\" + 0.004*\"network\" + 0.003*\"net\" + 0.003*\"user\" + 0.003*\"get\" + 0.003*\"show\" + 0.003*\"use\"'),\n",
       " (1,\n",
       "  '0.005*\"government\" + 0.004*\"firm\" + 0.004*\"company\" + 0.004*\"new\" + 0.004*\"yukos\" + 0.004*\"law\" + 0.004*\"right\" + 0.003*\"court\" + 0.003*\"told\" + 0.003*\"last\" + 0.003*\"people\" + 0.003*\"one\" + 0.003*\"oil\" + 0.002*\"share\" + 0.002*\"case\"'),\n",
       " (2,\n",
       "  '0.007*\"england\" + 0.006*\"government\" + 0.005*\"wale\" + 0.004*\"new\" + 0.003*\"ireland\" + 0.003*\"rugby\" + 0.003*\"game\" + 0.003*\"six\" + 0.003*\"two\" + 0.003*\"first\" + 0.003*\"minister\" + 0.003*\"player\" + 0.003*\"world\" + 0.003*\"one\" + 0.003*\"nation\"'),\n",
       " (3,\n",
       "  '0.007*\"people\" + 0.006*\"software\" + 0.005*\"user\" + 0.005*\"security\" + 0.004*\"new\" + 0.004*\"system\" + 0.004*\"site\" + 0.004*\"program\" + 0.004*\"virus\" + 0.004*\"firm\" + 0.004*\"company\" + 0.004*\"email\" + 0.003*\"use\" + 0.003*\"one\" + 0.003*\"net\"'),\n",
       " (4,\n",
       "  '0.008*\"game\" + 0.007*\"people\" + 0.007*\"music\" + 0.005*\"one\" + 0.005*\"new\" + 0.005*\"mobile\" + 0.005*\"technology\" + 0.004*\"tv\" + 0.004*\"time\" + 0.004*\"digital\" + 0.004*\"phone\" + 0.004*\"like\" + 0.003*\"service\" + 0.003*\"player\" + 0.003*\"video\"'),\n",
       " (5,\n",
       "  '0.009*\"labour\" + 0.007*\"election\" + 0.007*\"blair\" + 0.006*\"party\" + 0.005*\"brown\" + 0.005*\"tory\" + 0.005*\"people\" + 0.005*\"minister\" + 0.005*\"tax\" + 0.004*\"government\" + 0.004*\"new\" + 0.004*\"first\" + 0.004*\"plan\" + 0.004*\"one\" + 0.004*\"howard\"'),\n",
       " (6,\n",
       "  '0.007*\"game\" + 0.006*\"club\" + 0.005*\"player\" + 0.004*\"new\" + 0.004*\"time\" + 0.004*\"united\" + 0.003*\"last\" + 0.003*\"one\" + 0.003*\"chelsea\" + 0.003*\"arsenal\" + 0.003*\"play\" + 0.003*\"first\" + 0.003*\"league\" + 0.003*\"team\" + 0.003*\"goal\"'),\n",
       " (7,\n",
       "  '0.006*\"market\" + 0.006*\"growth\" + 0.005*\"economy\" + 0.005*\"new\" + 0.005*\"sale\" + 0.004*\"company\" + 0.004*\"price\" + 0.004*\"economic\" + 0.004*\"rate\" + 0.004*\"firm\" + 0.004*\"government\" + 0.004*\"month\" + 0.004*\"last\" + 0.004*\"country\" + 0.003*\"rise\"'),\n",
       " (8,\n",
       "  '0.005*\"world\" + 0.004*\"one\" + 0.004*\"film\" + 0.003*\"people\" + 0.003*\"time\" + 0.003*\"new\" + 0.003*\"last\" + 0.003*\"company\" + 0.003*\"two\" + 0.003*\"told\" + 0.002*\"made\" + 0.002*\"first\" + 0.002*\"country\" + 0.002*\"second\" + 0.002*\"going\"'),\n",
       " (9,\n",
       "  '0.015*\"film\" + 0.012*\"best\" + 0.011*\"award\" + 0.005*\"actor\" + 0.005*\"star\" + 0.004*\"oscar\" + 0.004*\"director\" + 0.004*\"one\" + 0.003*\"british\" + 0.003*\"actress\" + 0.003*\"first\" + 0.003*\"time\" + 0.003*\"two\" + 0.003*\"win\" + 0.003*\"prize\"'),\n",
       " (10,\n",
       "  '0.006*\"sale\" + 0.006*\"number\" + 0.005*\"one\" + 0.005*\"new\" + 0.005*\"uk\" + 0.004*\"two\" + 0.004*\"game\" + 0.004*\"first\" + 0.004*\"last\" + 0.004*\"week\" + 0.004*\"chart\" + 0.003*\"album\" + 0.003*\"bank\" + 0.003*\"time\" + 0.003*\"top\"')]"
      ]
     },
     "execution_count": 61,
     "metadata": {},
     "output_type": "execute_result"
    }
   ],
   "source": [
    "bf_lda_model.show_topics(num_topics=11, num_words=15, log=False, formatted=True)"
   ]
  },
  {
   "cell_type": "markdown",
   "metadata": {
    "pycharm": {
     "name": "#%% md\n"
    }
   },
   "source": [
    "Our topics look like they can be summarized pretty well, although they don't map perfectly to our five types that we have from the dataset initially. Our topics do tend to look like subsets of those five types, where we have some topics that roll up into sports, business, technology, etc."
   ]
  },
  {
   "cell_type": "markdown",
   "metadata": {
    "pycharm": {
     "name": "#%% md\n"
    }
   },
   "source": [
    "- **Graph the topics**"
   ]
  },
  {
   "cell_type": "code",
   "execution_count": 62,
   "metadata": {
    "pycharm": {
     "name": "#%%\n"
    }
   },
   "outputs": [],
   "source": [
    "# Code adapted from https://worldclass.regis.edu/d2l/le/content/285076/viewContent/4152319/View\n",
    "\n",
    "# Visualize the topics\n",
    "pyLDAvis.enable_notebook()\n",
    "LDAvis_prepared = pyLDAvis.gensim.prepare(bf_lda_model, corpus, id2word)"
   ]
  },
  {
   "cell_type": "code",
   "execution_count": 63,
   "metadata": {
    "pycharm": {
     "name": "#%%\n"
    }
   },
   "outputs": [],
   "source": [
    "# Saving the visualization to a html. Open this in another browser window\n",
    "pyLDAvis.save_html(LDAvis_prepared,'topic_model_viz.html')"
   ]
  },
  {
   "cell_type": "markdown",
   "metadata": {
    "pycharm": {
     "name": "#%% md\n"
    }
   },
   "source": [
    "## V. Conclusion"
   ]
  },
  {
   "cell_type": "markdown",
   "metadata": {
    "pycharm": {
     "name": "#%% md\n"
    }
   },
   "source": [
    "From the analysis above and in the attached html document we can see that our topics are in general well separated and representative of the topics discussed. That being said it does appear that we have three topics that are very closely related, where category 1 actually wholely encircles category 11 and shares some overlap with category 10. If we felt that it was okay to stray from the highest coherence score and the direction of improving perplexity scores. Working from what we produced we can see that a coherence score of 0.4788 was our best of the tested range of topics, with a corresponding perplexity score of -8.5184. This was done using an implementation of Latent Dirichlet Allocation (LDA) for our topic modeling.\n",
    "\n",
    "When looking at alternative models it looks like Latent Semantic Analysis (LSA), Non Negative Matrix Factorization (NMF), and some ensemble methods were the first choices. Additionally, we can look at the next step of this kind of analysis which would be to classify new text as it comes in and assign it to the correct topic. This could be accomplished by a number of algorithms, and even using K-means from our work last week which could then be judged by a silouette score. LDA could also be used to apply a classification to our data by calculating the values for each topic and selecting the highest value topic."
   ]
  },
  {
   "cell_type": "markdown",
   "metadata": {
    "pycharm": {
     "name": "#%% md\n"
    }
   },
   "source": [
    "## VI. References"
   ]
  },
  {
   "cell_type": "markdown",
   "metadata": {
    "pycharm": {
     "name": "#%% md\n"
    }
   },
   "source": [
    "MSDS 650 - Week 7 Content:\n",
    "\n",
    "\n",
    "1.) __[From the Experts: Text Processing](https://worldclass.regis.edu/d2l/le/content/285076/viewContent/4152323/View)__\n",
    "\n",
    "2.) __[Week 7: Text Analytics](https://worldclass.regis.edu/d2l/le/content/285076/viewContent/4152319/View)__\n",
    "\n",
    "3.) __[Week 7 Assignment](https://worldclass.regis.edu/d2l/le/content/285076/viewContent/4152317/View)__"
   ]
  }
 ],
 "metadata": {
  "kernelspec": {
   "display_name": "Python 3 (ipykernel)",
   "language": "python",
   "name": "python3"
  },
  "language_info": {
   "codemirror_mode": {
    "name": "ipython",
    "version": 3
   },
   "file_extension": ".py",
   "mimetype": "text/x-python",
   "name": "python",
   "nbconvert_exporter": "python",
   "pygments_lexer": "ipython3",
   "version": "3.8.10"
  }
 },
 "nbformat": 4,
 "nbformat_minor": 4
}