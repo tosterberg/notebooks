{
 "cells": [
  {
   "cell_type": "markdown",
   "id": "11872071",
   "metadata": {},
   "source": [
    "## I. Introduction"
   ]
  },
  {
   "cell_type": "markdown",
   "id": "cf4568ff",
   "metadata": {},
   "source": [
    "The dataset that I have chosen for this weeks analysis is from Kaggle and is a dataset of self reported stipend earnings for PhD students. I chose this dataset as I wanted to investigate further on what the financial implications of further pursuing my education after this Master's program would have on my family. I also specifically chose this dataset because it was not particularly clean and I wanted to futher work on data preparation for this exploratory data analysis assignment."
   ]
  },
  {
   "cell_type": "markdown",
   "id": "43de3340",
   "metadata": {},
   "source": [
    "## II. Methods/Code, III. Results/Output, IV. Analysis of Results"
   ]
  },
  {
   "cell_type": "markdown",
   "id": "2cf3f658",
   "metadata": {},
   "source": [
    "### Setup\n",
    "---"
   ]
  },
  {
   "cell_type": "markdown",
   "id": "dbf3042d",
   "metadata": {},
   "source": [
    "The process for getting our analysis setup will be to setup our plots to inline, import the necessary python packages, look over our csv, and import the csv into a dataframe."
   ]
  },
  {
   "cell_type": "code",
   "execution_count": 1,
   "id": "4dfcef7e",
   "metadata": {},
   "outputs": [],
   "source": [
    "%matplotlib inline\n",
    "import pandas as pd\n",
    "import numpy as np\n",
    "import matplotlib.pylab as plt\n",
    "from scipy import stats\n",
    "import seaborn as sns\n",
    "import phik\n",
    "from scipy import svd"
   ]
  },
  {
   "cell_type": "code",
   "execution_count": 2,
   "id": "bc09dba5",
   "metadata": {},
   "outputs": [
    {
     "name": "stdout",
     "output_type": "stream",
     "text": [
      "University,Department,Overall Pay,LW Ratio,Academic Year,Program Year,12 M Gross Pay,9 M Gross Pay,3 M Gross Pay,Fees,Comments\r",
      "\r\n",
      "Johns Hopkins University (JHU),Pathobiology,\"$34,000\",1.32,2020-2021,1st,\"$34,000\",,,,\r",
      "\r\n",
      "University of Texas - Austin (UT),Material Science & Engineering,\"$26,990\",1.18,2022-2023,1st,\"$27,000\",,,$10,\r",
      "\r\n",
      "Stony Brook University - SUNY,,\"$33,000\",1.18,2022-2023,1st,,\"$33,000\",,,\"22,500 base + 5500 Graduate Council Fellowship + 5000 Turner Fellowship.  Also tuition, fees, and insurance.\"\r",
      "\r\n",
      "University of California - Merced,Cognitive and Information Sciences ,\"$2,000\",0.10,2022-2023,1st,,\"$2,000\",,,\r",
      "\r\n",
      "New York University (NYU),Social Work,\"$-40,000\",-1.35,2022-2023,1st,\"$10,000\",,,\"$50,000\",\r",
      "\r\n",
      "University of Minnesota - Twin Cities (UM),Psychology,\"$23,500\",1.03,2020-2021,6th and up,,\"$19,500\",\"$5,000\",\"$1,000\",\"For newer cohorts, summer funding is now guaranteed. For existing cohorts, summer funding is still competitive. However, if you work with a faculty member who gets grants a lot, they cover your summer funding so you don't need to worry about applying for competitive funding. \"\r",
      "\r\n",
      "University of North Carolina - Chapel Hill (UNC),Nutrition,\"$30,200\",1.36,2020-2021,3rd,\"$30,200\",,,,\"Covers fees and health insurance, no teaching responsibilities. \"\r",
      "\r\n",
      "University of North Carolina - Greensboro (UNCG),Nanoscience ,\"$24,000\",1.12,2021-2022,2nd,,\"$20,000\",\"$6,000\",\"$2,000\",\r",
      "\r\n",
      ",department of mathematics and statistics,\"$1,800\",,2020-2021,1st,\"$2,600\",,,$800,\r",
      "\r\n"
     ]
    }
   ],
   "source": [
    "!head phd.csv"
   ]
  },
  {
   "cell_type": "code",
   "execution_count": 3,
   "id": "9d013194",
   "metadata": {},
   "outputs": [
    {
     "data": {
      "text/html": [
       "<div>\n",
       "<style scoped>\n",
       "    .dataframe tbody tr th:only-of-type {\n",
       "        vertical-align: middle;\n",
       "    }\n",
       "\n",
       "    .dataframe tbody tr th {\n",
       "        vertical-align: top;\n",
       "    }\n",
       "\n",
       "    .dataframe thead th {\n",
       "        text-align: right;\n",
       "    }\n",
       "</style>\n",
       "<table border=\"1\" class=\"dataframe\">\n",
       "  <thead>\n",
       "    <tr style=\"text-align: right;\">\n",
       "      <th></th>\n",
       "      <th>University</th>\n",
       "      <th>Department</th>\n",
       "      <th>Overall Pay</th>\n",
       "      <th>LW Ratio</th>\n",
       "      <th>Academic Year</th>\n",
       "      <th>Program Year</th>\n",
       "      <th>12 M Gross Pay</th>\n",
       "      <th>9 M Gross Pay</th>\n",
       "      <th>3 M Gross Pay</th>\n",
       "      <th>Fees</th>\n",
       "      <th>Comments</th>\n",
       "    </tr>\n",
       "  </thead>\n",
       "  <tbody>\n",
       "    <tr>\n",
       "      <th>0</th>\n",
       "      <td>Johns Hopkins University (JHU)</td>\n",
       "      <td>Pathobiology</td>\n",
       "      <td>$34,000</td>\n",
       "      <td>1.32</td>\n",
       "      <td>2020-2021</td>\n",
       "      <td>1st</td>\n",
       "      <td>$34,000</td>\n",
       "      <td>NaN</td>\n",
       "      <td>NaN</td>\n",
       "      <td>NaN</td>\n",
       "      <td>NaN</td>\n",
       "    </tr>\n",
       "    <tr>\n",
       "      <th>1</th>\n",
       "      <td>University of Texas - Austin (UT)</td>\n",
       "      <td>Material Science &amp; Engineering</td>\n",
       "      <td>$26,990</td>\n",
       "      <td>1.18</td>\n",
       "      <td>2022-2023</td>\n",
       "      <td>1st</td>\n",
       "      <td>$27,000</td>\n",
       "      <td>NaN</td>\n",
       "      <td>NaN</td>\n",
       "      <td>$10</td>\n",
       "      <td>NaN</td>\n",
       "    </tr>\n",
       "    <tr>\n",
       "      <th>2</th>\n",
       "      <td>Stony Brook University - SUNY</td>\n",
       "      <td>NaN</td>\n",
       "      <td>$33,000</td>\n",
       "      <td>1.18</td>\n",
       "      <td>2022-2023</td>\n",
       "      <td>1st</td>\n",
       "      <td>NaN</td>\n",
       "      <td>$33,000</td>\n",
       "      <td>NaN</td>\n",
       "      <td>NaN</td>\n",
       "      <td>22,500 base + 5500 Graduate Council Fellowship...</td>\n",
       "    </tr>\n",
       "    <tr>\n",
       "      <th>3</th>\n",
       "      <td>University of California - Merced</td>\n",
       "      <td>Cognitive and Information Sciences</td>\n",
       "      <td>$2,000</td>\n",
       "      <td>0.10</td>\n",
       "      <td>2022-2023</td>\n",
       "      <td>1st</td>\n",
       "      <td>NaN</td>\n",
       "      <td>$2,000</td>\n",
       "      <td>NaN</td>\n",
       "      <td>NaN</td>\n",
       "      <td>NaN</td>\n",
       "    </tr>\n",
       "    <tr>\n",
       "      <th>4</th>\n",
       "      <td>New York University (NYU)</td>\n",
       "      <td>Social Work</td>\n",
       "      <td>$-40,000</td>\n",
       "      <td>-1.35</td>\n",
       "      <td>2022-2023</td>\n",
       "      <td>1st</td>\n",
       "      <td>$10,000</td>\n",
       "      <td>NaN</td>\n",
       "      <td>NaN</td>\n",
       "      <td>$50,000</td>\n",
       "      <td>NaN</td>\n",
       "    </tr>\n",
       "    <tr>\n",
       "      <th>...</th>\n",
       "      <td>...</td>\n",
       "      <td>...</td>\n",
       "      <td>...</td>\n",
       "      <td>...</td>\n",
       "      <td>...</td>\n",
       "      <td>...</td>\n",
       "      <td>...</td>\n",
       "      <td>...</td>\n",
       "      <td>...</td>\n",
       "      <td>...</td>\n",
       "      <td>...</td>\n",
       "    </tr>\n",
       "    <tr>\n",
       "      <th>12276</th>\n",
       "      <td>Duke University (DU)</td>\n",
       "      <td>Biochemistry</td>\n",
       "      <td>$29,840</td>\n",
       "      <td>1.59</td>\n",
       "      <td>2012-2013</td>\n",
       "      <td>6th and up</td>\n",
       "      <td>$29,840</td>\n",
       "      <td>NaN</td>\n",
       "      <td>NaN</td>\n",
       "      <td>NaN</td>\n",
       "      <td>NaN</td>\n",
       "    </tr>\n",
       "    <tr>\n",
       "      <th>12277</th>\n",
       "      <td>University of Virginia (UVA)</td>\n",
       "      <td>Chemical Engineering</td>\n",
       "      <td>$32,000</td>\n",
       "      <td>1.63</td>\n",
       "      <td>2013-2014</td>\n",
       "      <td>4th</td>\n",
       "      <td>$32,000</td>\n",
       "      <td>NaN</td>\n",
       "      <td>NaN</td>\n",
       "      <td>NaN</td>\n",
       "      <td>This includes health insurance coverage, tuiti...</td>\n",
       "    </tr>\n",
       "    <tr>\n",
       "      <th>12278</th>\n",
       "      <td>Duke University (DU)</td>\n",
       "      <td>Biomedical Engineering</td>\n",
       "      <td>$32,000</td>\n",
       "      <td>1.70</td>\n",
       "      <td>2013-2014</td>\n",
       "      <td>2nd</td>\n",
       "      <td>$32,000</td>\n",
       "      <td>NaN</td>\n",
       "      <td>NaN</td>\n",
       "      <td>NaN</td>\n",
       "      <td>This is the stipend associated with the NSF Fe...</td>\n",
       "    </tr>\n",
       "    <tr>\n",
       "      <th>12279</th>\n",
       "      <td>University of Virginia (UVA)</td>\n",
       "      <td>Chemical Engineering</td>\n",
       "      <td>$25,000</td>\n",
       "      <td>1.28</td>\n",
       "      <td>2013-2014</td>\n",
       "      <td>4th</td>\n",
       "      <td>$25,000</td>\n",
       "      <td>NaN</td>\n",
       "      <td>NaN</td>\n",
       "      <td>NaN</td>\n",
       "      <td>This stipend includes full health insurance co...</td>\n",
       "    </tr>\n",
       "    <tr>\n",
       "      <th>12280</th>\n",
       "      <td>Duke University (DU)</td>\n",
       "      <td>Biomedical Engineering</td>\n",
       "      <td>$27,850</td>\n",
       "      <td>1.48</td>\n",
       "      <td>2013-2014</td>\n",
       "      <td>6th and up</td>\n",
       "      <td>$27,850</td>\n",
       "      <td>NaN</td>\n",
       "      <td>NaN</td>\n",
       "      <td>NaN</td>\n",
       "      <td>I just receive the base stipend in my departme...</td>\n",
       "    </tr>\n",
       "  </tbody>\n",
       "</table>\n",
       "<p>12281 rows × 11 columns</p>\n",
       "</div>"
      ],
      "text/plain": [
       "                              University                           Department  \\\n",
       "0         Johns Hopkins University (JHU)                         Pathobiology   \n",
       "1      University of Texas - Austin (UT)       Material Science & Engineering   \n",
       "2          Stony Brook University - SUNY                                  NaN   \n",
       "3      University of California - Merced  Cognitive and Information Sciences    \n",
       "4              New York University (NYU)                          Social Work   \n",
       "...                                  ...                                  ...   \n",
       "12276               Duke University (DU)                         Biochemistry   \n",
       "12277       University of Virginia (UVA)                 Chemical Engineering   \n",
       "12278               Duke University (DU)               Biomedical Engineering   \n",
       "12279       University of Virginia (UVA)                 Chemical Engineering   \n",
       "12280               Duke University (DU)               Biomedical Engineering   \n",
       "\n",
       "      Overall Pay  LW Ratio Academic Year Program Year 12 M Gross Pay  \\\n",
       "0         $34,000      1.32     2020-2021          1st        $34,000   \n",
       "1         $26,990      1.18     2022-2023          1st        $27,000   \n",
       "2         $33,000      1.18     2022-2023          1st            NaN   \n",
       "3          $2,000      0.10     2022-2023          1st            NaN   \n",
       "4        $-40,000     -1.35     2022-2023          1st        $10,000   \n",
       "...           ...       ...           ...          ...            ...   \n",
       "12276     $29,840      1.59     2012-2013   6th and up        $29,840   \n",
       "12277     $32,000      1.63     2013-2014          4th        $32,000   \n",
       "12278     $32,000      1.70     2013-2014          2nd        $32,000   \n",
       "12279     $25,000      1.28     2013-2014          4th        $25,000   \n",
       "12280     $27,850      1.48     2013-2014   6th and up        $27,850   \n",
       "\n",
       "      9 M Gross Pay 3 M Gross Pay     Fees  \\\n",
       "0               NaN           NaN      NaN   \n",
       "1               NaN           NaN      $10   \n",
       "2           $33,000           NaN      NaN   \n",
       "3            $2,000           NaN      NaN   \n",
       "4               NaN           NaN  $50,000   \n",
       "...             ...           ...      ...   \n",
       "12276           NaN           NaN      NaN   \n",
       "12277           NaN           NaN      NaN   \n",
       "12278           NaN           NaN      NaN   \n",
       "12279           NaN           NaN      NaN   \n",
       "12280           NaN           NaN      NaN   \n",
       "\n",
       "                                                Comments  \n",
       "0                                                    NaN  \n",
       "1                                                    NaN  \n",
       "2      22,500 base + 5500 Graduate Council Fellowship...  \n",
       "3                                                    NaN  \n",
       "4                                                    NaN  \n",
       "...                                                  ...  \n",
       "12276                                                NaN  \n",
       "12277  This includes health insurance coverage, tuiti...  \n",
       "12278  This is the stipend associated with the NSF Fe...  \n",
       "12279  This stipend includes full health insurance co...  \n",
       "12280  I just receive the base stipend in my departme...  \n",
       "\n",
       "[12281 rows x 11 columns]"
      ]
     },
     "execution_count": 3,
     "metadata": {},
     "output_type": "execute_result"
    }
   ],
   "source": [
    "phd_df = pd.read_csv('phd.csv')\n",
    "phd_df"
   ]
  },
  {
   "cell_type": "markdown",
   "id": "52a47a18",
   "metadata": {},
   "source": [
    "<section id='missing'></section>"
   ]
  },
  {
   "cell_type": "markdown",
   "id": "130cd8ec",
   "metadata": {},
   "source": [
    "### Handle Missing Values\n",
    "***"
   ]
  },
  {
   "cell_type": "code",
   "execution_count": 4,
   "id": "423ccae5",
   "metadata": {},
   "outputs": [
    {
     "data": {
      "text/plain": [
       "University          406\n",
       "Department          600\n",
       "Overall Pay          46\n",
       "LW Ratio           1287\n",
       "Academic Year         5\n",
       "Program Year       1413\n",
       "12 M Gross Pay     3528\n",
       "9 M Gross Pay      8789\n",
       "3 M Gross Pay     11132\n",
       "Fees               7479\n",
       "Comments           9242\n",
       "dtype: int64"
      ]
     },
     "execution_count": 4,
     "metadata": {},
     "output_type": "execute_result"
    }
   ],
   "source": [
    "# show using my preferred method (isna/isnull) and showing only the relevant data (column)\n",
    "\n",
    "phd_df.isnull().sum()"
   ]
  },
  {
   "cell_type": "code",
   "execution_count": 5,
   "id": "e487d514",
   "metadata": {},
   "outputs": [
    {
     "data": {
      "text/html": [
       "<div>\n",
       "<style scoped>\n",
       "    .dataframe tbody tr th:only-of-type {\n",
       "        vertical-align: middle;\n",
       "    }\n",
       "\n",
       "    .dataframe tbody tr th {\n",
       "        vertical-align: top;\n",
       "    }\n",
       "\n",
       "    .dataframe thead th {\n",
       "        text-align: right;\n",
       "    }\n",
       "</style>\n",
       "<table border=\"1\" class=\"dataframe\">\n",
       "  <thead>\n",
       "    <tr style=\"text-align: right;\">\n",
       "      <th></th>\n",
       "      <th>University</th>\n",
       "      <th>Department</th>\n",
       "      <th>Overall Pay</th>\n",
       "      <th>LW Ratio</th>\n",
       "      <th>Academic Year</th>\n",
       "      <th>Program Year</th>\n",
       "      <th>12 M Gross Pay</th>\n",
       "      <th>9 M Gross Pay</th>\n",
       "      <th>3 M Gross Pay</th>\n",
       "      <th>Fees</th>\n",
       "      <th>Comments</th>\n",
       "    </tr>\n",
       "  </thead>\n",
       "  <tbody>\n",
       "    <tr>\n",
       "      <th>8</th>\n",
       "      <td>NaN</td>\n",
       "      <td>department of mathematics and statistics</td>\n",
       "      <td>$1,800</td>\n",
       "      <td>NaN</td>\n",
       "      <td>2020-2021</td>\n",
       "      <td>1st</td>\n",
       "      <td>$2,600</td>\n",
       "      <td>NaN</td>\n",
       "      <td>NaN</td>\n",
       "      <td>$800</td>\n",
       "      <td>NaN</td>\n",
       "    </tr>\n",
       "    <tr>\n",
       "      <th>26</th>\n",
       "      <td>NaN</td>\n",
       "      <td>Educational Psychology</td>\n",
       "      <td>$15,500</td>\n",
       "      <td>NaN</td>\n",
       "      <td>2021-2022</td>\n",
       "      <td>1st</td>\n",
       "      <td>$20,000</td>\n",
       "      <td>NaN</td>\n",
       "      <td>NaN</td>\n",
       "      <td>$4,500</td>\n",
       "      <td>NaN</td>\n",
       "    </tr>\n",
       "    <tr>\n",
       "      <th>31</th>\n",
       "      <td>NaN</td>\n",
       "      <td>NaN</td>\n",
       "      <td>$18,000</td>\n",
       "      <td>NaN</td>\n",
       "      <td>2020-2021</td>\n",
       "      <td>NaN</td>\n",
       "      <td>NaN</td>\n",
       "      <td>$18,000</td>\n",
       "      <td>NaN</td>\n",
       "      <td>NaN</td>\n",
       "      <td>NaN</td>\n",
       "    </tr>\n",
       "  </tbody>\n",
       "</table>\n",
       "</div>"
      ],
      "text/plain": [
       "   University                                Department Overall Pay  LW Ratio  \\\n",
       "8         NaN  department of mathematics and statistics      $1,800       NaN   \n",
       "26        NaN                    Educational Psychology     $15,500       NaN   \n",
       "31        NaN                                       NaN     $18,000       NaN   \n",
       "\n",
       "   Academic Year Program Year 12 M Gross Pay 9 M Gross Pay 3 M Gross Pay  \\\n",
       "8      2020-2021          1st         $2,600           NaN           NaN   \n",
       "26     2021-2022          1st        $20,000           NaN           NaN   \n",
       "31     2020-2021          NaN            NaN       $18,000           NaN   \n",
       "\n",
       "      Fees Comments  \n",
       "8     $800      NaN  \n",
       "26  $4,500      NaN  \n",
       "31     NaN      NaN  "
      ]
     },
     "execution_count": 5,
     "metadata": {},
     "output_type": "execute_result"
    }
   ],
   "source": [
    "phd_df[phd_df['University'].isna()].head(3)"
   ]
  },
  {
   "cell_type": "code",
   "execution_count": 6,
   "id": "66808ea8",
   "metadata": {},
   "outputs": [
    {
     "data": {
      "text/html": [
       "<div>\n",
       "<style scoped>\n",
       "    .dataframe tbody tr th:only-of-type {\n",
       "        vertical-align: middle;\n",
       "    }\n",
       "\n",
       "    .dataframe tbody tr th {\n",
       "        vertical-align: top;\n",
       "    }\n",
       "\n",
       "    .dataframe thead th {\n",
       "        text-align: right;\n",
       "    }\n",
       "</style>\n",
       "<table border=\"1\" class=\"dataframe\">\n",
       "  <thead>\n",
       "    <tr style=\"text-align: right;\">\n",
       "      <th></th>\n",
       "      <th>University</th>\n",
       "      <th>Department</th>\n",
       "      <th>Overall Pay</th>\n",
       "      <th>LW Ratio</th>\n",
       "      <th>Academic Year</th>\n",
       "      <th>Program Year</th>\n",
       "      <th>12 M Gross Pay</th>\n",
       "      <th>9 M Gross Pay</th>\n",
       "      <th>3 M Gross Pay</th>\n",
       "      <th>Fees</th>\n",
       "      <th>Comments</th>\n",
       "    </tr>\n",
       "  </thead>\n",
       "  <tbody>\n",
       "    <tr>\n",
       "      <th>2</th>\n",
       "      <td>Stony Brook University - SUNY</td>\n",
       "      <td>NaN</td>\n",
       "      <td>$33,000</td>\n",
       "      <td>1.18</td>\n",
       "      <td>2022-2023</td>\n",
       "      <td>1st</td>\n",
       "      <td>NaN</td>\n",
       "      <td>$33,000</td>\n",
       "      <td>NaN</td>\n",
       "      <td>NaN</td>\n",
       "      <td>22,500 base + 5500 Graduate Council Fellowship...</td>\n",
       "    </tr>\n",
       "    <tr>\n",
       "      <th>13</th>\n",
       "      <td>Arizona State University (ASU)</td>\n",
       "      <td>NaN</td>\n",
       "      <td>$18,714</td>\n",
       "      <td>0.84</td>\n",
       "      <td>2021-2022</td>\n",
       "      <td>1st</td>\n",
       "      <td>NaN</td>\n",
       "      <td>$19,158</td>\n",
       "      <td>NaN</td>\n",
       "      <td>$444</td>\n",
       "      <td>NaN</td>\n",
       "    </tr>\n",
       "    <tr>\n",
       "      <th>30</th>\n",
       "      <td>St. Louis University (SLU)</td>\n",
       "      <td>NaN</td>\n",
       "      <td>$18,000</td>\n",
       "      <td>0.87</td>\n",
       "      <td>2020-2021</td>\n",
       "      <td>NaN</td>\n",
       "      <td>NaN</td>\n",
       "      <td>$18,000</td>\n",
       "      <td>NaN</td>\n",
       "      <td>NaN</td>\n",
       "      <td>NaN</td>\n",
       "    </tr>\n",
       "  </tbody>\n",
       "</table>\n",
       "</div>"
      ],
      "text/plain": [
       "                        University Department Overall Pay  LW Ratio  \\\n",
       "2    Stony Brook University - SUNY        NaN     $33,000      1.18   \n",
       "13  Arizona State University (ASU)        NaN     $18,714      0.84   \n",
       "30      St. Louis University (SLU)        NaN     $18,000      0.87   \n",
       "\n",
       "   Academic Year Program Year 12 M Gross Pay 9 M Gross Pay 3 M Gross Pay  \\\n",
       "2      2022-2023          1st            NaN       $33,000           NaN   \n",
       "13     2021-2022          1st            NaN       $19,158           NaN   \n",
       "30     2020-2021          NaN            NaN       $18,000           NaN   \n",
       "\n",
       "    Fees                                           Comments  \n",
       "2    NaN  22,500 base + 5500 Graduate Council Fellowship...  \n",
       "13  $444                                                NaN  \n",
       "30   NaN                                                NaN  "
      ]
     },
     "execution_count": 6,
     "metadata": {},
     "output_type": "execute_result"
    }
   ],
   "source": [
    "phd_df[phd_df['Department'].isna()].head(3)"
   ]
  },
  {
   "cell_type": "code",
   "execution_count": 7,
   "id": "454d95de",
   "metadata": {},
   "outputs": [
    {
     "data": {
      "text/html": [
       "<div>\n",
       "<style scoped>\n",
       "    .dataframe tbody tr th:only-of-type {\n",
       "        vertical-align: middle;\n",
       "    }\n",
       "\n",
       "    .dataframe tbody tr th {\n",
       "        vertical-align: top;\n",
       "    }\n",
       "\n",
       "    .dataframe thead th {\n",
       "        text-align: right;\n",
       "    }\n",
       "</style>\n",
       "<table border=\"1\" class=\"dataframe\">\n",
       "  <thead>\n",
       "    <tr style=\"text-align: right;\">\n",
       "      <th></th>\n",
       "      <th>University</th>\n",
       "      <th>Department</th>\n",
       "      <th>Overall Pay</th>\n",
       "      <th>LW Ratio</th>\n",
       "      <th>Academic Year</th>\n",
       "      <th>Program Year</th>\n",
       "      <th>12 M Gross Pay</th>\n",
       "      <th>9 M Gross Pay</th>\n",
       "      <th>3 M Gross Pay</th>\n",
       "      <th>Fees</th>\n",
       "      <th>Comments</th>\n",
       "    </tr>\n",
       "  </thead>\n",
       "  <tbody>\n",
       "    <tr>\n",
       "      <th>784</th>\n",
       "      <td>Duke University (DU)</td>\n",
       "      <td>psychology and neuroscience</td>\n",
       "      <td>NaN</td>\n",
       "      <td>0.0</td>\n",
       "      <td>2021-2022</td>\n",
       "      <td>1st</td>\n",
       "      <td>$3,000</td>\n",
       "      <td>NaN</td>\n",
       "      <td>NaN</td>\n",
       "      <td>$3,000</td>\n",
       "      <td>NaN</td>\n",
       "    </tr>\n",
       "    <tr>\n",
       "      <th>1356</th>\n",
       "      <td>Purdue University - West Lafayette</td>\n",
       "      <td>ECE</td>\n",
       "      <td>NaN</td>\n",
       "      <td>0.0</td>\n",
       "      <td>2020-2021</td>\n",
       "      <td>2nd</td>\n",
       "      <td>$111,111</td>\n",
       "      <td>NaN</td>\n",
       "      <td>NaN</td>\n",
       "      <td>$111,111</td>\n",
       "      <td>NaN</td>\n",
       "    </tr>\n",
       "    <tr>\n",
       "      <th>1443</th>\n",
       "      <td>Indiana University</td>\n",
       "      <td>COMP</td>\n",
       "      <td>NaN</td>\n",
       "      <td>0.0</td>\n",
       "      <td>2020-2021</td>\n",
       "      <td>3rd</td>\n",
       "      <td>$2,000</td>\n",
       "      <td>NaN</td>\n",
       "      <td>NaN</td>\n",
       "      <td>$2,000</td>\n",
       "      <td>NaN</td>\n",
       "    </tr>\n",
       "  </tbody>\n",
       "</table>\n",
       "</div>"
      ],
      "text/plain": [
       "                              University                   Department  \\\n",
       "784                 Duke University (DU)  psychology and neuroscience   \n",
       "1356  Purdue University - West Lafayette                          ECE   \n",
       "1443                  Indiana University                         COMP   \n",
       "\n",
       "     Overall Pay  LW Ratio Academic Year Program Year 12 M Gross Pay  \\\n",
       "784          NaN       0.0     2021-2022          1st         $3,000   \n",
       "1356         NaN       0.0     2020-2021          2nd       $111,111   \n",
       "1443         NaN       0.0     2020-2021          3rd         $2,000   \n",
       "\n",
       "     9 M Gross Pay 3 M Gross Pay      Fees Comments  \n",
       "784            NaN           NaN    $3,000      NaN  \n",
       "1356           NaN           NaN  $111,111      NaN  \n",
       "1443           NaN           NaN    $2,000      NaN  "
      ]
     },
     "execution_count": 7,
     "metadata": {},
     "output_type": "execute_result"
    }
   ],
   "source": [
    "phd_df[phd_df['Overall Pay'].isna()].head(3)"
   ]
  },
  {
   "cell_type": "code",
   "execution_count": 8,
   "id": "8db21caf",
   "metadata": {},
   "outputs": [
    {
     "data": {
      "text/html": [
       "<div>\n",
       "<style scoped>\n",
       "    .dataframe tbody tr th:only-of-type {\n",
       "        vertical-align: middle;\n",
       "    }\n",
       "\n",
       "    .dataframe tbody tr th {\n",
       "        vertical-align: top;\n",
       "    }\n",
       "\n",
       "    .dataframe thead th {\n",
       "        text-align: right;\n",
       "    }\n",
       "</style>\n",
       "<table border=\"1\" class=\"dataframe\">\n",
       "  <thead>\n",
       "    <tr style=\"text-align: right;\">\n",
       "      <th></th>\n",
       "      <th>University</th>\n",
       "      <th>Department</th>\n",
       "      <th>Overall Pay</th>\n",
       "      <th>LW Ratio</th>\n",
       "      <th>Academic Year</th>\n",
       "      <th>Program Year</th>\n",
       "      <th>12 M Gross Pay</th>\n",
       "      <th>9 M Gross Pay</th>\n",
       "      <th>3 M Gross Pay</th>\n",
       "      <th>Fees</th>\n",
       "      <th>Comments</th>\n",
       "    </tr>\n",
       "  </thead>\n",
       "  <tbody>\n",
       "    <tr>\n",
       "      <th>8</th>\n",
       "      <td>NaN</td>\n",
       "      <td>department of mathematics and statistics</td>\n",
       "      <td>$1,800</td>\n",
       "      <td>NaN</td>\n",
       "      <td>2020-2021</td>\n",
       "      <td>1st</td>\n",
       "      <td>$2,600</td>\n",
       "      <td>NaN</td>\n",
       "      <td>NaN</td>\n",
       "      <td>$800</td>\n",
       "      <td>NaN</td>\n",
       "    </tr>\n",
       "    <tr>\n",
       "      <th>9</th>\n",
       "      <td>University at Albany, State University of New ...</td>\n",
       "      <td>department of mathematics and statistics</td>\n",
       "      <td>$1,800</td>\n",
       "      <td>NaN</td>\n",
       "      <td>2020-2021</td>\n",
       "      <td>1st</td>\n",
       "      <td>$2,600</td>\n",
       "      <td>NaN</td>\n",
       "      <td>NaN</td>\n",
       "      <td>$800</td>\n",
       "      <td>NaN</td>\n",
       "    </tr>\n",
       "    <tr>\n",
       "      <th>26</th>\n",
       "      <td>NaN</td>\n",
       "      <td>Educational Psychology</td>\n",
       "      <td>$15,500</td>\n",
       "      <td>NaN</td>\n",
       "      <td>2021-2022</td>\n",
       "      <td>1st</td>\n",
       "      <td>$20,000</td>\n",
       "      <td>NaN</td>\n",
       "      <td>NaN</td>\n",
       "      <td>$4,500</td>\n",
       "      <td>NaN</td>\n",
       "    </tr>\n",
       "  </tbody>\n",
       "</table>\n",
       "</div>"
      ],
      "text/plain": [
       "                                           University  \\\n",
       "8                                                 NaN   \n",
       "9   University at Albany, State University of New ...   \n",
       "26                                                NaN   \n",
       "\n",
       "                                  Department Overall Pay  LW Ratio  \\\n",
       "8   department of mathematics and statistics      $1,800       NaN   \n",
       "9   department of mathematics and statistics      $1,800       NaN   \n",
       "26                    Educational Psychology     $15,500       NaN   \n",
       "\n",
       "   Academic Year Program Year 12 M Gross Pay 9 M Gross Pay 3 M Gross Pay  \\\n",
       "8      2020-2021          1st         $2,600           NaN           NaN   \n",
       "9      2020-2021          1st         $2,600           NaN           NaN   \n",
       "26     2021-2022          1st        $20,000           NaN           NaN   \n",
       "\n",
       "      Fees Comments  \n",
       "8     $800      NaN  \n",
       "9     $800      NaN  \n",
       "26  $4,500      NaN  "
      ]
     },
     "execution_count": 8,
     "metadata": {},
     "output_type": "execute_result"
    }
   ],
   "source": [
    "phd_df[phd_df['LW Ratio'].isna()].head(3)"
   ]
  },
  {
   "cell_type": "code",
   "execution_count": 9,
   "id": "bc000deb",
   "metadata": {},
   "outputs": [
    {
     "data": {
      "text/html": [
       "<div>\n",
       "<style scoped>\n",
       "    .dataframe tbody tr th:only-of-type {\n",
       "        vertical-align: middle;\n",
       "    }\n",
       "\n",
       "    .dataframe tbody tr th {\n",
       "        vertical-align: top;\n",
       "    }\n",
       "\n",
       "    .dataframe thead th {\n",
       "        text-align: right;\n",
       "    }\n",
       "</style>\n",
       "<table border=\"1\" class=\"dataframe\">\n",
       "  <thead>\n",
       "    <tr style=\"text-align: right;\">\n",
       "      <th></th>\n",
       "      <th>University</th>\n",
       "      <th>Department</th>\n",
       "      <th>Overall Pay</th>\n",
       "      <th>LW Ratio</th>\n",
       "      <th>Academic Year</th>\n",
       "      <th>Program Year</th>\n",
       "      <th>12 M Gross Pay</th>\n",
       "      <th>9 M Gross Pay</th>\n",
       "      <th>3 M Gross Pay</th>\n",
       "      <th>Fees</th>\n",
       "      <th>Comments</th>\n",
       "    </tr>\n",
       "  </thead>\n",
       "  <tbody>\n",
       "    <tr>\n",
       "      <th>2152</th>\n",
       "      <td>NaN</td>\n",
       "      <td>NaN</td>\n",
       "      <td>NaN</td>\n",
       "      <td>NaN</td>\n",
       "      <td>NaN</td>\n",
       "      <td>NaN</td>\n",
       "      <td>NaN</td>\n",
       "      <td>NaN</td>\n",
       "      <td>NaN</td>\n",
       "      <td>NaN</td>\n",
       "      <td>NaN</td>\n",
       "    </tr>\n",
       "    <tr>\n",
       "      <th>7714</th>\n",
       "      <td>NaN</td>\n",
       "      <td>NaN</td>\n",
       "      <td>NaN</td>\n",
       "      <td>NaN</td>\n",
       "      <td>NaN</td>\n",
       "      <td>NaN</td>\n",
       "      <td>NaN</td>\n",
       "      <td>NaN</td>\n",
       "      <td>NaN</td>\n",
       "      <td>NaN</td>\n",
       "      <td>NaN</td>\n",
       "    </tr>\n",
       "    <tr>\n",
       "      <th>12248</th>\n",
       "      <td>University of Utah</td>\n",
       "      <td>business</td>\n",
       "      <td>$220,000</td>\n",
       "      <td>11.21</td>\n",
       "      <td>NaN</td>\n",
       "      <td>NaN</td>\n",
       "      <td>$220,000</td>\n",
       "      <td>NaN</td>\n",
       "      <td>NaN</td>\n",
       "      <td>NaN</td>\n",
       "      <td>NaN</td>\n",
       "    </tr>\n",
       "  </tbody>\n",
       "</table>\n",
       "</div>"
      ],
      "text/plain": [
       "               University Department Overall Pay  LW Ratio Academic Year  \\\n",
       "2152                  NaN        NaN         NaN       NaN           NaN   \n",
       "7714                  NaN        NaN         NaN       NaN           NaN   \n",
       "12248  University of Utah   business    $220,000     11.21           NaN   \n",
       "\n",
       "      Program Year 12 M Gross Pay 9 M Gross Pay 3 M Gross Pay Fees Comments  \n",
       "2152           NaN            NaN           NaN           NaN  NaN      NaN  \n",
       "7714           NaN            NaN           NaN           NaN  NaN      NaN  \n",
       "12248          NaN       $220,000           NaN           NaN  NaN      NaN  "
      ]
     },
     "execution_count": 9,
     "metadata": {},
     "output_type": "execute_result"
    }
   ],
   "source": [
    "phd_df[phd_df['Academic Year'].isna()].head(3)"
   ]
  },
  {
   "cell_type": "code",
   "execution_count": 10,
   "id": "54e38d76",
   "metadata": {},
   "outputs": [
    {
     "data": {
      "text/html": [
       "<div>\n",
       "<style scoped>\n",
       "    .dataframe tbody tr th:only-of-type {\n",
       "        vertical-align: middle;\n",
       "    }\n",
       "\n",
       "    .dataframe tbody tr th {\n",
       "        vertical-align: top;\n",
       "    }\n",
       "\n",
       "    .dataframe thead th {\n",
       "        text-align: right;\n",
       "    }\n",
       "</style>\n",
       "<table border=\"1\" class=\"dataframe\">\n",
       "  <thead>\n",
       "    <tr style=\"text-align: right;\">\n",
       "      <th></th>\n",
       "      <th>University</th>\n",
       "      <th>Department</th>\n",
       "      <th>Overall Pay</th>\n",
       "      <th>LW Ratio</th>\n",
       "      <th>Academic Year</th>\n",
       "      <th>Program Year</th>\n",
       "      <th>12 M Gross Pay</th>\n",
       "      <th>9 M Gross Pay</th>\n",
       "      <th>3 M Gross Pay</th>\n",
       "      <th>Fees</th>\n",
       "      <th>Comments</th>\n",
       "    </tr>\n",
       "  </thead>\n",
       "  <tbody>\n",
       "    <tr>\n",
       "      <th>17</th>\n",
       "      <td>University of Arizona (U of A)</td>\n",
       "      <td>Sociology</td>\n",
       "      <td>$19,683</td>\n",
       "      <td>0.95</td>\n",
       "      <td>2021-2022</td>\n",
       "      <td>NaN</td>\n",
       "      <td>$20,500</td>\n",
       "      <td>NaN</td>\n",
       "      <td>NaN</td>\n",
       "      <td>$817</td>\n",
       "      <td>International Student.</td>\n",
       "    </tr>\n",
       "    <tr>\n",
       "      <th>30</th>\n",
       "      <td>St. Louis University (SLU)</td>\n",
       "      <td>NaN</td>\n",
       "      <td>$18,000</td>\n",
       "      <td>0.87</td>\n",
       "      <td>2020-2021</td>\n",
       "      <td>NaN</td>\n",
       "      <td>NaN</td>\n",
       "      <td>$18,000</td>\n",
       "      <td>NaN</td>\n",
       "      <td>NaN</td>\n",
       "      <td>NaN</td>\n",
       "    </tr>\n",
       "    <tr>\n",
       "      <th>31</th>\n",
       "      <td>NaN</td>\n",
       "      <td>NaN</td>\n",
       "      <td>$18,000</td>\n",
       "      <td>NaN</td>\n",
       "      <td>2020-2021</td>\n",
       "      <td>NaN</td>\n",
       "      <td>NaN</td>\n",
       "      <td>$18,000</td>\n",
       "      <td>NaN</td>\n",
       "      <td>NaN</td>\n",
       "      <td>NaN</td>\n",
       "    </tr>\n",
       "  </tbody>\n",
       "</table>\n",
       "</div>"
      ],
      "text/plain": [
       "                        University Department Overall Pay  LW Ratio  \\\n",
       "17  University of Arizona (U of A)  Sociology     $19,683      0.95   \n",
       "30      St. Louis University (SLU)        NaN     $18,000      0.87   \n",
       "31                             NaN        NaN     $18,000       NaN   \n",
       "\n",
       "   Academic Year Program Year 12 M Gross Pay 9 M Gross Pay 3 M Gross Pay  \\\n",
       "17     2021-2022          NaN        $20,500           NaN           NaN   \n",
       "30     2020-2021          NaN            NaN       $18,000           NaN   \n",
       "31     2020-2021          NaN            NaN       $18,000           NaN   \n",
       "\n",
       "    Fees                Comments  \n",
       "17  $817  International Student.  \n",
       "30   NaN                     NaN  \n",
       "31   NaN                     NaN  "
      ]
     },
     "execution_count": 10,
     "metadata": {},
     "output_type": "execute_result"
    }
   ],
   "source": [
    "phd_df[phd_df['Program Year'].isna()].head(3)"
   ]
  },
  {
   "cell_type": "code",
   "execution_count": 11,
   "id": "093de4cf",
   "metadata": {},
   "outputs": [
    {
     "data": {
      "text/html": [
       "<div>\n",
       "<style scoped>\n",
       "    .dataframe tbody tr th:only-of-type {\n",
       "        vertical-align: middle;\n",
       "    }\n",
       "\n",
       "    .dataframe tbody tr th {\n",
       "        vertical-align: top;\n",
       "    }\n",
       "\n",
       "    .dataframe thead th {\n",
       "        text-align: right;\n",
       "    }\n",
       "</style>\n",
       "<table border=\"1\" class=\"dataframe\">\n",
       "  <thead>\n",
       "    <tr style=\"text-align: right;\">\n",
       "      <th></th>\n",
       "      <th>University</th>\n",
       "      <th>Department</th>\n",
       "      <th>Overall Pay</th>\n",
       "      <th>LW Ratio</th>\n",
       "      <th>Academic Year</th>\n",
       "      <th>Program Year</th>\n",
       "      <th>12 M Gross Pay</th>\n",
       "      <th>9 M Gross Pay</th>\n",
       "      <th>3 M Gross Pay</th>\n",
       "      <th>Fees</th>\n",
       "      <th>Comments</th>\n",
       "    </tr>\n",
       "  </thead>\n",
       "  <tbody>\n",
       "    <tr>\n",
       "      <th>2</th>\n",
       "      <td>Stony Brook University - SUNY</td>\n",
       "      <td>NaN</td>\n",
       "      <td>$33,000</td>\n",
       "      <td>1.18</td>\n",
       "      <td>2022-2023</td>\n",
       "      <td>1st</td>\n",
       "      <td>NaN</td>\n",
       "      <td>$33,000</td>\n",
       "      <td>NaN</td>\n",
       "      <td>NaN</td>\n",
       "      <td>22,500 base + 5500 Graduate Council Fellowship...</td>\n",
       "    </tr>\n",
       "    <tr>\n",
       "      <th>3</th>\n",
       "      <td>University of California - Merced</td>\n",
       "      <td>Cognitive and Information Sciences</td>\n",
       "      <td>$2,000</td>\n",
       "      <td>0.10</td>\n",
       "      <td>2022-2023</td>\n",
       "      <td>1st</td>\n",
       "      <td>NaN</td>\n",
       "      <td>$2,000</td>\n",
       "      <td>NaN</td>\n",
       "      <td>NaN</td>\n",
       "      <td>NaN</td>\n",
       "    </tr>\n",
       "    <tr>\n",
       "      <th>5</th>\n",
       "      <td>University of Minnesota - Twin Cities (UM)</td>\n",
       "      <td>Psychology</td>\n",
       "      <td>$23,500</td>\n",
       "      <td>1.03</td>\n",
       "      <td>2020-2021</td>\n",
       "      <td>6th and up</td>\n",
       "      <td>NaN</td>\n",
       "      <td>$19,500</td>\n",
       "      <td>$5,000</td>\n",
       "      <td>$1,000</td>\n",
       "      <td>For newer cohorts, summer funding is now guara...</td>\n",
       "    </tr>\n",
       "  </tbody>\n",
       "</table>\n",
       "</div>"
      ],
      "text/plain": [
       "                                   University  \\\n",
       "2               Stony Brook University - SUNY   \n",
       "3           University of California - Merced   \n",
       "5  University of Minnesota - Twin Cities (UM)   \n",
       "\n",
       "                            Department Overall Pay  LW Ratio Academic Year  \\\n",
       "2                                  NaN     $33,000      1.18     2022-2023   \n",
       "3  Cognitive and Information Sciences       $2,000      0.10     2022-2023   \n",
       "5                           Psychology     $23,500      1.03     2020-2021   \n",
       "\n",
       "  Program Year 12 M Gross Pay 9 M Gross Pay 3 M Gross Pay    Fees  \\\n",
       "2          1st            NaN       $33,000           NaN     NaN   \n",
       "3          1st            NaN        $2,000           NaN     NaN   \n",
       "5   6th and up            NaN       $19,500        $5,000  $1,000   \n",
       "\n",
       "                                            Comments  \n",
       "2  22,500 base + 5500 Graduate Council Fellowship...  \n",
       "3                                                NaN  \n",
       "5  For newer cohorts, summer funding is now guara...  "
      ]
     },
     "execution_count": 11,
     "metadata": {},
     "output_type": "execute_result"
    }
   ],
   "source": [
    "phd_df[phd_df['12 M Gross Pay'].isna()].head(3)"
   ]
  },
  {
   "cell_type": "code",
   "execution_count": 12,
   "id": "aeb00e7f",
   "metadata": {},
   "outputs": [
    {
     "data": {
      "text/html": [
       "<div>\n",
       "<style scoped>\n",
       "    .dataframe tbody tr th:only-of-type {\n",
       "        vertical-align: middle;\n",
       "    }\n",
       "\n",
       "    .dataframe tbody tr th {\n",
       "        vertical-align: top;\n",
       "    }\n",
       "\n",
       "    .dataframe thead th {\n",
       "        text-align: right;\n",
       "    }\n",
       "</style>\n",
       "<table border=\"1\" class=\"dataframe\">\n",
       "  <thead>\n",
       "    <tr style=\"text-align: right;\">\n",
       "      <th></th>\n",
       "      <th>University</th>\n",
       "      <th>Department</th>\n",
       "      <th>Overall Pay</th>\n",
       "      <th>LW Ratio</th>\n",
       "      <th>Academic Year</th>\n",
       "      <th>Program Year</th>\n",
       "      <th>12 M Gross Pay</th>\n",
       "      <th>9 M Gross Pay</th>\n",
       "      <th>3 M Gross Pay</th>\n",
       "      <th>Fees</th>\n",
       "      <th>Comments</th>\n",
       "    </tr>\n",
       "  </thead>\n",
       "  <tbody>\n",
       "    <tr>\n",
       "      <th>0</th>\n",
       "      <td>Johns Hopkins University (JHU)</td>\n",
       "      <td>Pathobiology</td>\n",
       "      <td>$34,000</td>\n",
       "      <td>1.32</td>\n",
       "      <td>2020-2021</td>\n",
       "      <td>1st</td>\n",
       "      <td>$34,000</td>\n",
       "      <td>NaN</td>\n",
       "      <td>NaN</td>\n",
       "      <td>NaN</td>\n",
       "      <td>NaN</td>\n",
       "    </tr>\n",
       "    <tr>\n",
       "      <th>1</th>\n",
       "      <td>University of Texas - Austin (UT)</td>\n",
       "      <td>Material Science &amp; Engineering</td>\n",
       "      <td>$26,990</td>\n",
       "      <td>1.18</td>\n",
       "      <td>2022-2023</td>\n",
       "      <td>1st</td>\n",
       "      <td>$27,000</td>\n",
       "      <td>NaN</td>\n",
       "      <td>NaN</td>\n",
       "      <td>$10</td>\n",
       "      <td>NaN</td>\n",
       "    </tr>\n",
       "    <tr>\n",
       "      <th>4</th>\n",
       "      <td>New York University (NYU)</td>\n",
       "      <td>Social Work</td>\n",
       "      <td>$-40,000</td>\n",
       "      <td>-1.35</td>\n",
       "      <td>2022-2023</td>\n",
       "      <td>1st</td>\n",
       "      <td>$10,000</td>\n",
       "      <td>NaN</td>\n",
       "      <td>NaN</td>\n",
       "      <td>$50,000</td>\n",
       "      <td>NaN</td>\n",
       "    </tr>\n",
       "  </tbody>\n",
       "</table>\n",
       "</div>"
      ],
      "text/plain": [
       "                          University                      Department  \\\n",
       "0     Johns Hopkins University (JHU)                    Pathobiology   \n",
       "1  University of Texas - Austin (UT)  Material Science & Engineering   \n",
       "4          New York University (NYU)                     Social Work   \n",
       "\n",
       "  Overall Pay  LW Ratio Academic Year Program Year 12 M Gross Pay  \\\n",
       "0     $34,000      1.32     2020-2021          1st        $34,000   \n",
       "1     $26,990      1.18     2022-2023          1st        $27,000   \n",
       "4    $-40,000     -1.35     2022-2023          1st        $10,000   \n",
       "\n",
       "  9 M Gross Pay 3 M Gross Pay     Fees Comments  \n",
       "0           NaN           NaN      NaN      NaN  \n",
       "1           NaN           NaN      $10      NaN  \n",
       "4           NaN           NaN  $50,000      NaN  "
      ]
     },
     "execution_count": 12,
     "metadata": {},
     "output_type": "execute_result"
    }
   ],
   "source": [
    "phd_df[phd_df['9 M Gross Pay'].isna()].head(3)"
   ]
  },
  {
   "cell_type": "code",
   "execution_count": 13,
   "id": "29f2545f",
   "metadata": {},
   "outputs": [
    {
     "data": {
      "text/html": [
       "<div>\n",
       "<style scoped>\n",
       "    .dataframe tbody tr th:only-of-type {\n",
       "        vertical-align: middle;\n",
       "    }\n",
       "\n",
       "    .dataframe tbody tr th {\n",
       "        vertical-align: top;\n",
       "    }\n",
       "\n",
       "    .dataframe thead th {\n",
       "        text-align: right;\n",
       "    }\n",
       "</style>\n",
       "<table border=\"1\" class=\"dataframe\">\n",
       "  <thead>\n",
       "    <tr style=\"text-align: right;\">\n",
       "      <th></th>\n",
       "      <th>University</th>\n",
       "      <th>Department</th>\n",
       "      <th>Overall Pay</th>\n",
       "      <th>LW Ratio</th>\n",
       "      <th>Academic Year</th>\n",
       "      <th>Program Year</th>\n",
       "      <th>12 M Gross Pay</th>\n",
       "      <th>9 M Gross Pay</th>\n",
       "      <th>3 M Gross Pay</th>\n",
       "      <th>Fees</th>\n",
       "      <th>Comments</th>\n",
       "    </tr>\n",
       "  </thead>\n",
       "  <tbody>\n",
       "    <tr>\n",
       "      <th>0</th>\n",
       "      <td>Johns Hopkins University (JHU)</td>\n",
       "      <td>Pathobiology</td>\n",
       "      <td>$34,000</td>\n",
       "      <td>1.32</td>\n",
       "      <td>2020-2021</td>\n",
       "      <td>1st</td>\n",
       "      <td>$34,000</td>\n",
       "      <td>NaN</td>\n",
       "      <td>NaN</td>\n",
       "      <td>NaN</td>\n",
       "      <td>NaN</td>\n",
       "    </tr>\n",
       "    <tr>\n",
       "      <th>1</th>\n",
       "      <td>University of Texas - Austin (UT)</td>\n",
       "      <td>Material Science &amp; Engineering</td>\n",
       "      <td>$26,990</td>\n",
       "      <td>1.18</td>\n",
       "      <td>2022-2023</td>\n",
       "      <td>1st</td>\n",
       "      <td>$27,000</td>\n",
       "      <td>NaN</td>\n",
       "      <td>NaN</td>\n",
       "      <td>$10</td>\n",
       "      <td>NaN</td>\n",
       "    </tr>\n",
       "    <tr>\n",
       "      <th>2</th>\n",
       "      <td>Stony Brook University - SUNY</td>\n",
       "      <td>NaN</td>\n",
       "      <td>$33,000</td>\n",
       "      <td>1.18</td>\n",
       "      <td>2022-2023</td>\n",
       "      <td>1st</td>\n",
       "      <td>NaN</td>\n",
       "      <td>$33,000</td>\n",
       "      <td>NaN</td>\n",
       "      <td>NaN</td>\n",
       "      <td>22,500 base + 5500 Graduate Council Fellowship...</td>\n",
       "    </tr>\n",
       "  </tbody>\n",
       "</table>\n",
       "</div>"
      ],
      "text/plain": [
       "                          University                      Department  \\\n",
       "0     Johns Hopkins University (JHU)                    Pathobiology   \n",
       "1  University of Texas - Austin (UT)  Material Science & Engineering   \n",
       "2      Stony Brook University - SUNY                             NaN   \n",
       "\n",
       "  Overall Pay  LW Ratio Academic Year Program Year 12 M Gross Pay  \\\n",
       "0     $34,000      1.32     2020-2021          1st        $34,000   \n",
       "1     $26,990      1.18     2022-2023          1st        $27,000   \n",
       "2     $33,000      1.18     2022-2023          1st            NaN   \n",
       "\n",
       "  9 M Gross Pay 3 M Gross Pay Fees  \\\n",
       "0           NaN           NaN  NaN   \n",
       "1           NaN           NaN  $10   \n",
       "2       $33,000           NaN  NaN   \n",
       "\n",
       "                                            Comments  \n",
       "0                                                NaN  \n",
       "1                                                NaN  \n",
       "2  22,500 base + 5500 Graduate Council Fellowship...  "
      ]
     },
     "execution_count": 13,
     "metadata": {},
     "output_type": "execute_result"
    }
   ],
   "source": [
    "phd_df[phd_df['3 M Gross Pay'].isna()].head(3)"
   ]
  },
  {
   "cell_type": "code",
   "execution_count": 14,
   "id": "39d00197",
   "metadata": {},
   "outputs": [
    {
     "data": {
      "text/html": [
       "<div>\n",
       "<style scoped>\n",
       "    .dataframe tbody tr th:only-of-type {\n",
       "        vertical-align: middle;\n",
       "    }\n",
       "\n",
       "    .dataframe tbody tr th {\n",
       "        vertical-align: top;\n",
       "    }\n",
       "\n",
       "    .dataframe thead th {\n",
       "        text-align: right;\n",
       "    }\n",
       "</style>\n",
       "<table border=\"1\" class=\"dataframe\">\n",
       "  <thead>\n",
       "    <tr style=\"text-align: right;\">\n",
       "      <th></th>\n",
       "      <th>University</th>\n",
       "      <th>Department</th>\n",
       "      <th>Overall Pay</th>\n",
       "      <th>LW Ratio</th>\n",
       "      <th>Academic Year</th>\n",
       "      <th>Program Year</th>\n",
       "      <th>12 M Gross Pay</th>\n",
       "      <th>9 M Gross Pay</th>\n",
       "      <th>3 M Gross Pay</th>\n",
       "      <th>Fees</th>\n",
       "      <th>Comments</th>\n",
       "    </tr>\n",
       "  </thead>\n",
       "  <tbody>\n",
       "    <tr>\n",
       "      <th>0</th>\n",
       "      <td>Johns Hopkins University (JHU)</td>\n",
       "      <td>Pathobiology</td>\n",
       "      <td>$34,000</td>\n",
       "      <td>1.32</td>\n",
       "      <td>2020-2021</td>\n",
       "      <td>1st</td>\n",
       "      <td>$34,000</td>\n",
       "      <td>NaN</td>\n",
       "      <td>NaN</td>\n",
       "      <td>NaN</td>\n",
       "      <td>NaN</td>\n",
       "    </tr>\n",
       "    <tr>\n",
       "      <th>2</th>\n",
       "      <td>Stony Brook University - SUNY</td>\n",
       "      <td>NaN</td>\n",
       "      <td>$33,000</td>\n",
       "      <td>1.18</td>\n",
       "      <td>2022-2023</td>\n",
       "      <td>1st</td>\n",
       "      <td>NaN</td>\n",
       "      <td>$33,000</td>\n",
       "      <td>NaN</td>\n",
       "      <td>NaN</td>\n",
       "      <td>22,500 base + 5500 Graduate Council Fellowship...</td>\n",
       "    </tr>\n",
       "    <tr>\n",
       "      <th>3</th>\n",
       "      <td>University of California - Merced</td>\n",
       "      <td>Cognitive and Information Sciences</td>\n",
       "      <td>$2,000</td>\n",
       "      <td>0.10</td>\n",
       "      <td>2022-2023</td>\n",
       "      <td>1st</td>\n",
       "      <td>NaN</td>\n",
       "      <td>$2,000</td>\n",
       "      <td>NaN</td>\n",
       "      <td>NaN</td>\n",
       "      <td>NaN</td>\n",
       "    </tr>\n",
       "  </tbody>\n",
       "</table>\n",
       "</div>"
      ],
      "text/plain": [
       "                          University                           Department  \\\n",
       "0     Johns Hopkins University (JHU)                         Pathobiology   \n",
       "2      Stony Brook University - SUNY                                  NaN   \n",
       "3  University of California - Merced  Cognitive and Information Sciences    \n",
       "\n",
       "  Overall Pay  LW Ratio Academic Year Program Year 12 M Gross Pay  \\\n",
       "0     $34,000      1.32     2020-2021          1st        $34,000   \n",
       "2     $33,000      1.18     2022-2023          1st            NaN   \n",
       "3      $2,000      0.10     2022-2023          1st            NaN   \n",
       "\n",
       "  9 M Gross Pay 3 M Gross Pay Fees  \\\n",
       "0           NaN           NaN  NaN   \n",
       "2       $33,000           NaN  NaN   \n",
       "3        $2,000           NaN  NaN   \n",
       "\n",
       "                                            Comments  \n",
       "0                                                NaN  \n",
       "2  22,500 base + 5500 Graduate Council Fellowship...  \n",
       "3                                                NaN  "
      ]
     },
     "execution_count": 14,
     "metadata": {},
     "output_type": "execute_result"
    }
   ],
   "source": [
    "phd_df[phd_df['Fees'].isna()].head(3)"
   ]
  },
  {
   "cell_type": "code",
   "execution_count": 15,
   "id": "f060515b",
   "metadata": {},
   "outputs": [
    {
     "data": {
      "text/html": [
       "<div>\n",
       "<style scoped>\n",
       "    .dataframe tbody tr th:only-of-type {\n",
       "        vertical-align: middle;\n",
       "    }\n",
       "\n",
       "    .dataframe tbody tr th {\n",
       "        vertical-align: top;\n",
       "    }\n",
       "\n",
       "    .dataframe thead th {\n",
       "        text-align: right;\n",
       "    }\n",
       "</style>\n",
       "<table border=\"1\" class=\"dataframe\">\n",
       "  <thead>\n",
       "    <tr style=\"text-align: right;\">\n",
       "      <th></th>\n",
       "      <th>University</th>\n",
       "      <th>Department</th>\n",
       "      <th>Overall Pay</th>\n",
       "      <th>LW Ratio</th>\n",
       "      <th>Academic Year</th>\n",
       "      <th>Program Year</th>\n",
       "      <th>12 M Gross Pay</th>\n",
       "      <th>9 M Gross Pay</th>\n",
       "      <th>3 M Gross Pay</th>\n",
       "      <th>Fees</th>\n",
       "      <th>Comments</th>\n",
       "    </tr>\n",
       "  </thead>\n",
       "  <tbody>\n",
       "    <tr>\n",
       "      <th>0</th>\n",
       "      <td>Johns Hopkins University (JHU)</td>\n",
       "      <td>Pathobiology</td>\n",
       "      <td>$34,000</td>\n",
       "      <td>1.32</td>\n",
       "      <td>2020-2021</td>\n",
       "      <td>1st</td>\n",
       "      <td>$34,000</td>\n",
       "      <td>NaN</td>\n",
       "      <td>NaN</td>\n",
       "      <td>NaN</td>\n",
       "      <td>NaN</td>\n",
       "    </tr>\n",
       "    <tr>\n",
       "      <th>1</th>\n",
       "      <td>University of Texas - Austin (UT)</td>\n",
       "      <td>Material Science &amp; Engineering</td>\n",
       "      <td>$26,990</td>\n",
       "      <td>1.18</td>\n",
       "      <td>2022-2023</td>\n",
       "      <td>1st</td>\n",
       "      <td>$27,000</td>\n",
       "      <td>NaN</td>\n",
       "      <td>NaN</td>\n",
       "      <td>$10</td>\n",
       "      <td>NaN</td>\n",
       "    </tr>\n",
       "    <tr>\n",
       "      <th>3</th>\n",
       "      <td>University of California - Merced</td>\n",
       "      <td>Cognitive and Information Sciences</td>\n",
       "      <td>$2,000</td>\n",
       "      <td>0.10</td>\n",
       "      <td>2022-2023</td>\n",
       "      <td>1st</td>\n",
       "      <td>NaN</td>\n",
       "      <td>$2,000</td>\n",
       "      <td>NaN</td>\n",
       "      <td>NaN</td>\n",
       "      <td>NaN</td>\n",
       "    </tr>\n",
       "  </tbody>\n",
       "</table>\n",
       "</div>"
      ],
      "text/plain": [
       "                          University                           Department  \\\n",
       "0     Johns Hopkins University (JHU)                         Pathobiology   \n",
       "1  University of Texas - Austin (UT)       Material Science & Engineering   \n",
       "3  University of California - Merced  Cognitive and Information Sciences    \n",
       "\n",
       "  Overall Pay  LW Ratio Academic Year Program Year 12 M Gross Pay  \\\n",
       "0     $34,000      1.32     2020-2021          1st        $34,000   \n",
       "1     $26,990      1.18     2022-2023          1st        $27,000   \n",
       "3      $2,000      0.10     2022-2023          1st            NaN   \n",
       "\n",
       "  9 M Gross Pay 3 M Gross Pay Fees Comments  \n",
       "0           NaN           NaN  NaN      NaN  \n",
       "1           NaN           NaN  $10      NaN  \n",
       "3        $2,000           NaN  NaN      NaN  "
      ]
     },
     "execution_count": 15,
     "metadata": {},
     "output_type": "execute_result"
    }
   ],
   "source": [
    "phd_df[phd_df['Comments'].isna()].head(3)"
   ]
  },
  {
   "cell_type": "markdown",
   "id": "199b1771",
   "metadata": {},
   "source": [
    "Observations from where our N/A's exist in the data we can make a few decisions about the dataset. The first is that there are a few entries that are entirely N/A, which can be excluded from the dataset. Next is that our overall pay, 12m, 9m, and 3m, and fees are related and overall can be built from the other columns if it is missing. Missing university enries should be excluded as they do not provide an observation that is assignable to a meaningful bucket without some better understanding of the source data. There also does not appear to be a calculation from the columns provided for the LW Ratio, so where that is missing we should drop the corresponding observations.  Lastly, we have comments which although providing clarifying details, or could illuminate errors in the data entry are not useful without implementing some NLP, or going through them by hand, so the details there will be excluded from this analysis."
   ]
  },
  {
   "cell_type": "code",
   "execution_count": 16,
   "id": "a7d8dfcf",
   "metadata": {},
   "outputs": [],
   "source": [
    "# Drop observations where the LW Ratio, or University is N/A\n",
    "\n",
    "phd_df.dropna(axis=0, subset=['University','LW Ratio'], inplace=True)"
   ]
  },
  {
   "cell_type": "markdown",
   "id": "4503da53",
   "metadata": {},
   "source": [
    "Next we are going to fill the NA's for Overall Pay, Gross Pay, and Fees with zero to be fixed in new columns later on in our analysis."
   ]
  },
  {
   "cell_type": "code",
   "execution_count": 17,
   "id": "49a49c59",
   "metadata": {},
   "outputs": [],
   "source": [
    "# Fill missing observations in Overall Pay, Gross Pay, and Fees\n",
    "values = {'Overall Pay': '0', '12 M Gross Pay': '0', '9 M Gross Pay': '0', '3 M Gross Pay': '0', 'Fees': '0'}\n",
    "phd_df.fillna(value=values, inplace=True)"
   ]
  },
  {
   "cell_type": "code",
   "execution_count": 18,
   "id": "5cd726b6",
   "metadata": {},
   "outputs": [
    {
     "data": {
      "text/plain": [
       "University           0\n",
       "Department         348\n",
       "Overall Pay          0\n",
       "LW Ratio             0\n",
       "Academic Year        3\n",
       "Program Year      1130\n",
       "12 M Gross Pay       0\n",
       "9 M Gross Pay        0\n",
       "3 M Gross Pay        0\n",
       "Fees                 0\n",
       "Comments          8270\n",
       "dtype: int64"
      ]
     },
     "execution_count": 18,
     "metadata": {},
     "output_type": "execute_result"
    }
   ],
   "source": [
    "phd_df.isnull().sum()"
   ]
  },
  {
   "cell_type": "markdown",
   "id": "50c67c6a",
   "metadata": {},
   "source": [
    "From here we will be filling the N/A's for Department, Academic Year, and Program Year, which we will fill with Unknown for now. With our comments, since we will not be trying to get insights from it right now we will drop that column from our dataframe."
   ]
  },
  {
   "cell_type": "code",
   "execution_count": 19,
   "id": "1603f737",
   "metadata": {},
   "outputs": [],
   "source": [
    "# Fill missing observations for Department, Program Year, and Academic Year\n",
    "values = {'Department': 'Unknown', 'Academic Year': 'Unknown', 'Program Year': 'Unknown'}\n",
    "phd_df.fillna(value=values, inplace=True)"
   ]
  },
  {
   "cell_type": "code",
   "execution_count": 20,
   "id": "f60e63ce",
   "metadata": {},
   "outputs": [],
   "source": [
    "phd_df.drop(labels=['Comments'], axis=1, inplace=True)"
   ]
  },
  {
   "cell_type": "code",
   "execution_count": 21,
   "id": "99d6e760",
   "metadata": {},
   "outputs": [
    {
     "data": {
      "text/plain": [
       "University        0\n",
       "Department        0\n",
       "Overall Pay       0\n",
       "LW Ratio          0\n",
       "Academic Year     0\n",
       "Program Year      0\n",
       "12 M Gross Pay    0\n",
       "9 M Gross Pay     0\n",
       "3 M Gross Pay     0\n",
       "Fees              0\n",
       "dtype: int64"
      ]
     },
     "execution_count": 21,
     "metadata": {},
     "output_type": "execute_result"
    }
   ],
   "source": [
    "phd_df.isnull().sum()"
   ]
  },
  {
   "cell_type": "markdown",
   "id": "b0b24c45",
   "metadata": {},
   "source": [
    "### Question 1: Describe the data within the dataset\n",
    "\n",
    "---\n",
    "\n",
    "- **Data types: Categorical vs. Continuous variables.**"
   ]
  },
  {
   "cell_type": "markdown",
   "id": "deef8229",
   "metadata": {},
   "source": [
    "The general approach to looking at our categorical vs. continuous variables is by running the info function on our dataframe and seeing which columns are objects, integers, and floats."
   ]
  },
  {
   "cell_type": "code",
   "execution_count": 22,
   "id": "55d8ce47",
   "metadata": {},
   "outputs": [
    {
     "name": "stdout",
     "output_type": "stream",
     "text": [
      "<class 'pandas.core.frame.DataFrame'>\n",
      "Int64Index: 10994 entries, 0 to 12280\n",
      "Data columns (total 10 columns):\n",
      " #   Column          Non-Null Count  Dtype  \n",
      "---  ------          --------------  -----  \n",
      " 0   University      10994 non-null  object \n",
      " 1   Department      10994 non-null  object \n",
      " 2   Overall Pay     10994 non-null  object \n",
      " 3   LW Ratio        10994 non-null  float64\n",
      " 4   Academic Year   10994 non-null  object \n",
      " 5   Program Year    10994 non-null  object \n",
      " 6   12 M Gross Pay  10994 non-null  object \n",
      " 7   9 M Gross Pay   10994 non-null  object \n",
      " 8   3 M Gross Pay   10994 non-null  object \n",
      " 9   Fees            10994 non-null  object \n",
      "dtypes: float64(1), object(9)\n",
      "memory usage: 944.8+ KB\n"
     ]
    }
   ],
   "source": [
    "phd_df.info()"
   ]
  },
  {
   "cell_type": "markdown",
   "id": "8f97178c",
   "metadata": {},
   "source": [
    "The results of our info method are not what you would initially expect. It looks like the column overall pay is of type object and we would expect it to probably be continuous unless they are bucketed into discrete categories. Running the value counts on this column should help us understand why this column is an object. We will also see if our null values are causing an issue on the types for these columns."
   ]
  },
  {
   "cell_type": "code",
   "execution_count": 23,
   "id": "eea55933",
   "metadata": {},
   "outputs": [
    {
     "data": {
      "text/plain": [
       "$30,000     383\n",
       "$24,000     270\n",
       "$25,000     255\n",
       "$34,000     250\n",
       "$32,000     216\n",
       "           ... \n",
       "$24,450       1\n",
       "$-23,100      1\n",
       "$20,682       1\n",
       "$24,064       1\n",
       "$29,840       1\n",
       "Name: Overall Pay, Length: 3207, dtype: int64"
      ]
     },
     "execution_count": 23,
     "metadata": {},
     "output_type": "execute_result"
    }
   ],
   "source": [
    "phd_df['Overall Pay'].value_counts()"
   ]
  },
  {
   "cell_type": "markdown",
   "id": "79136c51",
   "metadata": {},
   "source": [
    "It looks like the columns: Overall Pay, 12 M Gross Pay, 9 M Gross Pay, 3 M Gross Pay, and Fees will all need their missing values resolved. I am linking to the details of that work to this section for clarity."
   ]
  },
  {
   "cell_type": "code",
   "execution_count": 24,
   "id": "a1dc2252",
   "metadata": {},
   "outputs": [
    {
     "data": {
      "text/plain": [
       "'$34,000'"
      ]
     },
     "execution_count": 24,
     "metadata": {},
     "output_type": "execute_result"
    }
   ],
   "source": [
    "# Looking at an example entry\n",
    "\n",
    "phd_df['Overall Pay'].iloc[0]"
   ]
  },
  {
   "cell_type": "code",
   "execution_count": 25,
   "id": "07ad08d3",
   "metadata": {},
   "outputs": [
    {
     "data": {
      "text/plain": [
       "34000"
      ]
     },
     "execution_count": 25,
     "metadata": {},
     "output_type": "execute_result"
    }
   ],
   "source": [
    "# Looking to convert the type of Overall Pay to an integer or float for analysis\n",
    "\n",
    "int(phd_df['Overall Pay'].iloc[0].replace('$','').replace(',', ''))"
   ]
  },
  {
   "cell_type": "code",
   "execution_count": 26,
   "id": "78e9640b",
   "metadata": {},
   "outputs": [
    {
     "name": "stdout",
     "output_type": "stream",
     "text": [
      "<class 'pandas.core.series.Series'>\n",
      "Int64Index: 10994 entries, 0 to 12280\n",
      "Series name: overall_pay_clean\n",
      "Non-Null Count  Dtype\n",
      "--------------  -----\n",
      "10994 non-null  int64\n",
      "dtypes: int64(1)\n",
      "memory usage: 171.8 KB\n"
     ]
    }
   ],
   "source": [
    "phd_df['overall_pay_clean'] =  phd_df['Overall Pay'].str.replace('$','', regex=False).str.replace(',','',regex=False)\n",
    "phd_df['overall_pay_clean'] = pd.to_numeric(phd_df['overall_pay_clean'])\n",
    "phd_df['overall_pay_clean'].info()"
   ]
  },
  {
   "cell_type": "code",
   "execution_count": 27,
   "id": "7dad9717",
   "metadata": {},
   "outputs": [
    {
     "name": "stdout",
     "output_type": "stream",
     "text": [
      "<class 'pandas.core.series.Series'>\n",
      "Int64Index: 10994 entries, 0 to 12280\n",
      "Series name: 12_gross_pay_clean\n",
      "Non-Null Count  Dtype\n",
      "--------------  -----\n",
      "10994 non-null  int64\n",
      "dtypes: int64(1)\n",
      "memory usage: 171.8 KB\n"
     ]
    }
   ],
   "source": [
    "phd_df['12_gross_pay_clean'] =  phd_df['12 M Gross Pay'].str.replace('$','', regex=False).str.replace(',','',regex=False)\n",
    "phd_df['12_gross_pay_clean'] = pd.to_numeric(phd_df['12_gross_pay_clean'])\n",
    "phd_df['12_gross_pay_clean'].info()"
   ]
  },
  {
   "cell_type": "code",
   "execution_count": 28,
   "id": "5bf843d9",
   "metadata": {},
   "outputs": [
    {
     "name": "stdout",
     "output_type": "stream",
     "text": [
      "<class 'pandas.core.series.Series'>\n",
      "Int64Index: 10994 entries, 0 to 12280\n",
      "Series name: 9_gross_pay_clean\n",
      "Non-Null Count  Dtype\n",
      "--------------  -----\n",
      "10994 non-null  int64\n",
      "dtypes: int64(1)\n",
      "memory usage: 171.8 KB\n"
     ]
    }
   ],
   "source": [
    "phd_df['9_gross_pay_clean'] =  phd_df['9 M Gross Pay'].str.replace('$','', regex=False).str.replace(',','',regex=False)\n",
    "phd_df['9_gross_pay_clean'] = pd.to_numeric(phd_df['9_gross_pay_clean'])\n",
    "phd_df['9_gross_pay_clean'].info()"
   ]
  },
  {
   "cell_type": "code",
   "execution_count": 29,
   "id": "62e238e2",
   "metadata": {},
   "outputs": [
    {
     "name": "stdout",
     "output_type": "stream",
     "text": [
      "<class 'pandas.core.series.Series'>\n",
      "Int64Index: 10994 entries, 0 to 12280\n",
      "Series name: 3_gross_pay_clean\n",
      "Non-Null Count  Dtype\n",
      "--------------  -----\n",
      "10994 non-null  int64\n",
      "dtypes: int64(1)\n",
      "memory usage: 171.8 KB\n"
     ]
    }
   ],
   "source": [
    "phd_df['3_gross_pay_clean'] =  phd_df['3 M Gross Pay'].str.replace('$','', regex=False).str.replace(',','',regex=False)\n",
    "phd_df['3_gross_pay_clean'] = pd.to_numeric(phd_df['3_gross_pay_clean'])\n",
    "phd_df['3_gross_pay_clean'].info()"
   ]
  },
  {
   "cell_type": "code",
   "execution_count": 30,
   "id": "8b3f35fa",
   "metadata": {},
   "outputs": [
    {
     "name": "stdout",
     "output_type": "stream",
     "text": [
      "<class 'pandas.core.series.Series'>\n",
      "Int64Index: 10994 entries, 0 to 12280\n",
      "Series name: fees_clean\n",
      "Non-Null Count  Dtype\n",
      "--------------  -----\n",
      "10994 non-null  int64\n",
      "dtypes: int64(1)\n",
      "memory usage: 171.8 KB\n"
     ]
    }
   ],
   "source": [
    "phd_df['fees_clean'] =  phd_df['Fees'].str.replace('$','', regex=False).str.replace(',','',regex=False)\n",
    "phd_df['fees_clean'] = pd.to_numeric(phd_df['fees_clean'])\n",
    "phd_df['fees_clean'].info()"
   ]
  },
  {
   "cell_type": "code",
   "execution_count": 31,
   "id": "116386c7",
   "metadata": {},
   "outputs": [
    {
     "data": {
      "text/plain": [
       "(10994, 15)"
      ]
     },
     "execution_count": 31,
     "metadata": {},
     "output_type": "execute_result"
    }
   ],
   "source": [
    "phd_df.shape"
   ]
  },
  {
   "cell_type": "code",
   "execution_count": 32,
   "id": "fd323c4d",
   "metadata": {},
   "outputs": [
    {
     "name": "stdout",
     "output_type": "stream",
     "text": [
      "<class 'pandas.core.frame.DataFrame'>\n",
      "Int64Index: 10994 entries, 0 to 12280\n",
      "Data columns (total 15 columns):\n",
      " #   Column              Non-Null Count  Dtype  \n",
      "---  ------              --------------  -----  \n",
      " 0   University          10994 non-null  object \n",
      " 1   Department          10994 non-null  object \n",
      " 2   Overall Pay         10994 non-null  object \n",
      " 3   LW Ratio            10994 non-null  float64\n",
      " 4   Academic Year       10994 non-null  object \n",
      " 5   Program Year        10994 non-null  object \n",
      " 6   12 M Gross Pay      10994 non-null  object \n",
      " 7   9 M Gross Pay       10994 non-null  object \n",
      " 8   3 M Gross Pay       10994 non-null  object \n",
      " 9   Fees                10994 non-null  object \n",
      " 10  overall_pay_clean   10994 non-null  int64  \n",
      " 11  12_gross_pay_clean  10994 non-null  int64  \n",
      " 12  9_gross_pay_clean   10994 non-null  int64  \n",
      " 13  3_gross_pay_clean   10994 non-null  int64  \n",
      " 14  fees_clean          10994 non-null  int64  \n",
      "dtypes: float64(1), int64(5), object(9)\n",
      "memory usage: 1.3+ MB\n"
     ]
    }
   ],
   "source": [
    "phd_df.info()"
   ]
  },
  {
   "cell_type": "code",
   "execution_count": 33,
   "id": "48bec032",
   "metadata": {},
   "outputs": [
    {
     "data": {
      "text/html": [
       "<div>\n",
       "<style scoped>\n",
       "    .dataframe tbody tr th:only-of-type {\n",
       "        vertical-align: middle;\n",
       "    }\n",
       "\n",
       "    .dataframe tbody tr th {\n",
       "        vertical-align: top;\n",
       "    }\n",
       "\n",
       "    .dataframe thead th {\n",
       "        text-align: right;\n",
       "    }\n",
       "</style>\n",
       "<table border=\"1\" class=\"dataframe\">\n",
       "  <thead>\n",
       "    <tr style=\"text-align: right;\">\n",
       "      <th></th>\n",
       "      <th>LW Ratio</th>\n",
       "      <th>overall_pay_clean</th>\n",
       "      <th>12_gross_pay_clean</th>\n",
       "      <th>9_gross_pay_clean</th>\n",
       "      <th>3_gross_pay_clean</th>\n",
       "      <th>fees_clean</th>\n",
       "    </tr>\n",
       "  </thead>\n",
       "  <tbody>\n",
       "    <tr>\n",
       "      <th>count</th>\n",
       "      <td>10994.000000</td>\n",
       "      <td>1.099400e+04</td>\n",
       "      <td>1.099400e+04</td>\n",
       "      <td>10994.000000</td>\n",
       "      <td>10994.000000</td>\n",
       "      <td>10994.000000</td>\n",
       "    </tr>\n",
       "    <tr>\n",
       "      <th>mean</th>\n",
       "      <td>1.124946</td>\n",
       "      <td>2.658666e+04</td>\n",
       "      <td>2.117965e+04</td>\n",
       "      <td>5934.366382</td>\n",
       "      <td>512.196016</td>\n",
       "      <td>1039.548299</td>\n",
       "    </tr>\n",
       "    <tr>\n",
       "      <th>std</th>\n",
       "      <td>2.644225</td>\n",
       "      <td>6.976018e+04</td>\n",
       "      <td>7.018304e+04</td>\n",
       "      <td>10214.964363</td>\n",
       "      <td>1878.802300</td>\n",
       "      <td>10524.909116</td>\n",
       "    </tr>\n",
       "    <tr>\n",
       "      <th>min</th>\n",
       "      <td>-34.010000</td>\n",
       "      <td>-9.000000e+05</td>\n",
       "      <td>0.000000e+00</td>\n",
       "      <td>0.000000</td>\n",
       "      <td>0.000000</td>\n",
       "      <td>0.000000</td>\n",
       "    </tr>\n",
       "    <tr>\n",
       "      <th>25%</th>\n",
       "      <td>0.870000</td>\n",
       "      <td>2.000000e+04</td>\n",
       "      <td>0.000000e+00</td>\n",
       "      <td>0.000000</td>\n",
       "      <td>0.000000</td>\n",
       "      <td>0.000000</td>\n",
       "    </tr>\n",
       "    <tr>\n",
       "      <th>50%</th>\n",
       "      <td>1.120000</td>\n",
       "      <td>2.600000e+04</td>\n",
       "      <td>2.500000e+04</td>\n",
       "      <td>0.000000</td>\n",
       "      <td>0.000000</td>\n",
       "      <td>0.000000</td>\n",
       "    </tr>\n",
       "    <tr>\n",
       "      <th>75%</th>\n",
       "      <td>1.320000</td>\n",
       "      <td>3.138375e+04</td>\n",
       "      <td>3.100000e+04</td>\n",
       "      <td>14652.750000</td>\n",
       "      <td>0.000000</td>\n",
       "      <td>700.000000</td>\n",
       "    </tr>\n",
       "    <tr>\n",
       "      <th>max</th>\n",
       "      <td>262.320000</td>\n",
       "      <td>6.942069e+06</td>\n",
       "      <td>6.942069e+06</td>\n",
       "      <td>189600.000000</td>\n",
       "      <td>55816.000000</td>\n",
       "      <td>1000000.000000</td>\n",
       "    </tr>\n",
       "  </tbody>\n",
       "</table>\n",
       "</div>"
      ],
      "text/plain": [
       "           LW Ratio  overall_pay_clean  12_gross_pay_clean  9_gross_pay_clean  \\\n",
       "count  10994.000000       1.099400e+04        1.099400e+04       10994.000000   \n",
       "mean       1.124946       2.658666e+04        2.117965e+04        5934.366382   \n",
       "std        2.644225       6.976018e+04        7.018304e+04       10214.964363   \n",
       "min      -34.010000      -9.000000e+05        0.000000e+00           0.000000   \n",
       "25%        0.870000       2.000000e+04        0.000000e+00           0.000000   \n",
       "50%        1.120000       2.600000e+04        2.500000e+04           0.000000   \n",
       "75%        1.320000       3.138375e+04        3.100000e+04       14652.750000   \n",
       "max      262.320000       6.942069e+06        6.942069e+06      189600.000000   \n",
       "\n",
       "       3_gross_pay_clean      fees_clean  \n",
       "count       10994.000000    10994.000000  \n",
       "mean          512.196016     1039.548299  \n",
       "std          1878.802300    10524.909116  \n",
       "min             0.000000        0.000000  \n",
       "25%             0.000000        0.000000  \n",
       "50%             0.000000        0.000000  \n",
       "75%             0.000000      700.000000  \n",
       "max         55816.000000  1000000.000000  "
      ]
     },
     "execution_count": 33,
     "metadata": {},
     "output_type": "execute_result"
    }
   ],
   "source": [
    "phd_df.describe()"
   ]
  },
  {
   "cell_type": "markdown",
   "id": "34c9483b",
   "metadata": {},
   "source": [
    "Unfortunately we are not done yet with these values. The overall_pay_clean value still needs correction, or verification, where it is zero. For this we will see if our gross pay values are all zero and fees is zero to verify the zero value overall pay. Otherwise we will take (in this priority order) the 12 month pay if not zero, the 9 month pay if not zero, the 3 month pay if not zero, or zero minus the fees as the overall pay."
   ]
  },
  {
   "cell_type": "code",
   "execution_count": 34,
   "id": "0ff67b82",
   "metadata": {},
   "outputs": [
    {
     "data": {
      "text/html": [
       "<div>\n",
       "<style scoped>\n",
       "    .dataframe tbody tr th:only-of-type {\n",
       "        vertical-align: middle;\n",
       "    }\n",
       "\n",
       "    .dataframe tbody tr th {\n",
       "        vertical-align: top;\n",
       "    }\n",
       "\n",
       "    .dataframe thead th {\n",
       "        text-align: right;\n",
       "    }\n",
       "</style>\n",
       "<table border=\"1\" class=\"dataframe\">\n",
       "  <thead>\n",
       "    <tr style=\"text-align: right;\">\n",
       "      <th></th>\n",
       "      <th>University</th>\n",
       "      <th>Department</th>\n",
       "      <th>Overall Pay</th>\n",
       "      <th>LW Ratio</th>\n",
       "      <th>Academic Year</th>\n",
       "      <th>Program Year</th>\n",
       "      <th>12 M Gross Pay</th>\n",
       "      <th>9 M Gross Pay</th>\n",
       "      <th>3 M Gross Pay</th>\n",
       "      <th>Fees</th>\n",
       "      <th>overall_pay_clean</th>\n",
       "      <th>12_gross_pay_clean</th>\n",
       "      <th>9_gross_pay_clean</th>\n",
       "      <th>3_gross_pay_clean</th>\n",
       "      <th>fees_clean</th>\n",
       "    </tr>\n",
       "  </thead>\n",
       "  <tbody>\n",
       "  </tbody>\n",
       "</table>\n",
       "</div>"
      ],
      "text/plain": [
       "Empty DataFrame\n",
       "Columns: [University, Department, Overall Pay, LW Ratio, Academic Year, Program Year, 12 M Gross Pay, 9 M Gross Pay, 3 M Gross Pay, Fees, overall_pay_clean, 12_gross_pay_clean, 9_gross_pay_clean, 3_gross_pay_clean, fees_clean]\n",
       "Index: []"
      ]
     },
     "execution_count": 34,
     "metadata": {},
     "output_type": "execute_result"
    }
   ],
   "source": [
    "phd_df[phd_df['overall_pay_clean'] != phd_df['12_gross_pay_clean'] + phd_df['9_gross_pay_clean'] \n",
    "       + phd_df['3_gross_pay_clean'] - phd_df['fees_clean']]"
   ]
  },
  {
   "cell_type": "markdown",
   "id": "8a25b480",
   "metadata": {},
   "source": [
    "Looks like that was already accounted for in the dataset, so we are actually good to move on to the statisticall summary of our dataset. I am going to remove the Gross Pay columns and the Fees columns in order to keep the analysis concise. Thinking longer term here we are going to want to look at how the LW Ratio and Overall Pay vary by department and university, so we will likely be enriching the data to get some comparisons to any enhancements we make to those categorical columns."
   ]
  },
  {
   "cell_type": "code",
   "execution_count": 35,
   "id": "9e9c41f5",
   "metadata": {},
   "outputs": [],
   "source": [
    "phd_df.drop(columns=['12 M Gross Pay', '12_gross_pay_clean',\n",
    "                    '9 M Gross Pay', '9_gross_pay_clean',\n",
    "                    '3 M Gross Pay', '3_gross_pay_clean',\n",
    "                    'Fees', 'fees_clean'], inplace=True)"
   ]
  },
  {
   "cell_type": "markdown",
   "id": "a4e7880d",
   "metadata": {},
   "source": [
    "The dataset has two columns (after cleaning) that are continuous LW Ratio and Overall Pay. The dataset also has 4 categorical columns University, Department, Academic Year, and Program Year."
   ]
  },
  {
   "cell_type": "markdown",
   "id": "dd1d2ff9",
   "metadata": {},
   "source": [
    "- **Statistical summary, etc.**"
   ]
  },
  {
   "cell_type": "code",
   "execution_count": 36,
   "id": "39811e60",
   "metadata": {},
   "outputs": [
    {
     "data": {
      "text/plain": [
       "Duke University (DU)                                    204\n",
       "University of Wisconsin - Madison (UW)                  200\n",
       "University of California - Berkeley                     194\n",
       "University of California - San Diego (UCSD)             194\n",
       "University of North Carolina - Chapel Hill (UNC)        193\n",
       "                                                       ... \n",
       "CUNY - Brooklyn College                                   1\n",
       "Rosalind Franklin University of Medicine and Science      1\n",
       "University of the Pacific (UOP)                           1\n",
       "Tennessee Technological University                        1\n",
       "Pacifica Graduate Institute                               1\n",
       "Name: University, Length: 291, dtype: int64"
      ]
     },
     "execution_count": 36,
     "metadata": {},
     "output_type": "execute_result"
    }
   ],
   "source": [
    "phd_df['University'].value_counts()"
   ]
  },
  {
   "cell_type": "code",
   "execution_count": 37,
   "id": "e59c069a",
   "metadata": {},
   "outputs": [
    {
     "data": {
      "text/plain": [
       "Chemistry                     440\n",
       "Unknown                       348\n",
       "Psychology                    303\n",
       "Sociology                     267\n",
       "English                       252\n",
       "                             ... \n",
       "MEAM/GRASP                      1\n",
       "ME                              1\n",
       "Medical genetics                1\n",
       "Cell and Molecular biology      1\n",
       "aerospace engineering           1\n",
       "Name: Department, Length: 2965, dtype: int64"
      ]
     },
     "execution_count": 37,
     "metadata": {},
     "output_type": "execute_result"
    }
   ],
   "source": [
    "phd_df['Department'].value_counts()"
   ]
  },
  {
   "cell_type": "code",
   "execution_count": 38,
   "id": "85c59c6d",
   "metadata": {},
   "outputs": [
    {
     "data": {
      "text/plain": [
       "2020-2021    2530\n",
       "2016-2017    1968\n",
       "2018-2019    1689\n",
       "2019-2020    1314\n",
       "2017-2018    1113\n",
       "2021-2022     935\n",
       "2014-2015     520\n",
       "2015-2016     393\n",
       "2022-2023     268\n",
       "2013-2014      95\n",
       "2012-2013      40\n",
       "2011-2012      39\n",
       "2010-2011      26\n",
       "2007-2008      15\n",
       "2009-2010      14\n",
       "2006-2007      11\n",
       "2008-2009       6\n",
       "2002-2003       5\n",
       "2003-2004       4\n",
       "2004-2005       3\n",
       "2005-2006       3\n",
       "Unknown         3\n",
       "Name: Academic Year, dtype: int64"
      ]
     },
     "execution_count": 38,
     "metadata": {},
     "output_type": "execute_result"
    }
   ],
   "source": [
    "phd_df['Academic Year'].value_counts()"
   ]
  },
  {
   "cell_type": "code",
   "execution_count": 39,
   "id": "11d5aa65",
   "metadata": {},
   "outputs": [
    {
     "data": {
      "text/plain": [
       "1st           5575\n",
       "2nd           1369\n",
       "Unknown       1130\n",
       "3rd           1047\n",
       "4th            851\n",
       "5th            681\n",
       "6th and up     341\n",
       "Name: Program Year, dtype: int64"
      ]
     },
     "execution_count": 39,
     "metadata": {},
     "output_type": "execute_result"
    }
   ],
   "source": [
    "phd_df['Program Year'].value_counts()"
   ]
  },
  {
   "cell_type": "code",
   "execution_count": 40,
   "id": "b2f568c9",
   "metadata": {},
   "outputs": [
    {
     "data": {
      "text/html": [
       "<div>\n",
       "<style scoped>\n",
       "    .dataframe tbody tr th:only-of-type {\n",
       "        vertical-align: middle;\n",
       "    }\n",
       "\n",
       "    .dataframe tbody tr th {\n",
       "        vertical-align: top;\n",
       "    }\n",
       "\n",
       "    .dataframe thead th {\n",
       "        text-align: right;\n",
       "    }\n",
       "</style>\n",
       "<table border=\"1\" class=\"dataframe\">\n",
       "  <thead>\n",
       "    <tr style=\"text-align: right;\">\n",
       "      <th></th>\n",
       "      <th>LW Ratio</th>\n",
       "      <th>overall_pay_clean</th>\n",
       "    </tr>\n",
       "  </thead>\n",
       "  <tbody>\n",
       "    <tr>\n",
       "      <th>count</th>\n",
       "      <td>10994.000000</td>\n",
       "      <td>1.099400e+04</td>\n",
       "    </tr>\n",
       "    <tr>\n",
       "      <th>mean</th>\n",
       "      <td>1.124946</td>\n",
       "      <td>2.658666e+04</td>\n",
       "    </tr>\n",
       "    <tr>\n",
       "      <th>std</th>\n",
       "      <td>2.644225</td>\n",
       "      <td>6.976018e+04</td>\n",
       "    </tr>\n",
       "    <tr>\n",
       "      <th>min</th>\n",
       "      <td>-34.010000</td>\n",
       "      <td>-9.000000e+05</td>\n",
       "    </tr>\n",
       "    <tr>\n",
       "      <th>25%</th>\n",
       "      <td>0.870000</td>\n",
       "      <td>2.000000e+04</td>\n",
       "    </tr>\n",
       "    <tr>\n",
       "      <th>50%</th>\n",
       "      <td>1.120000</td>\n",
       "      <td>2.600000e+04</td>\n",
       "    </tr>\n",
       "    <tr>\n",
       "      <th>75%</th>\n",
       "      <td>1.320000</td>\n",
       "      <td>3.138375e+04</td>\n",
       "    </tr>\n",
       "    <tr>\n",
       "      <th>max</th>\n",
       "      <td>262.320000</td>\n",
       "      <td>6.942069e+06</td>\n",
       "    </tr>\n",
       "  </tbody>\n",
       "</table>\n",
       "</div>"
      ],
      "text/plain": [
       "           LW Ratio  overall_pay_clean\n",
       "count  10994.000000       1.099400e+04\n",
       "mean       1.124946       2.658666e+04\n",
       "std        2.644225       6.976018e+04\n",
       "min      -34.010000      -9.000000e+05\n",
       "25%        0.870000       2.000000e+04\n",
       "50%        1.120000       2.600000e+04\n",
       "75%        1.320000       3.138375e+04\n",
       "max      262.320000       6.942069e+06"
      ]
     },
     "execution_count": 40,
     "metadata": {},
     "output_type": "execute_result"
    }
   ],
   "source": [
    "phd_df.describe()"
   ]
  },
  {
   "cell_type": "code",
   "execution_count": 41,
   "id": "92fec1ba",
   "metadata": {},
   "outputs": [
    {
     "data": {
      "text/plain": [
       "6942069"
      ]
     },
     "execution_count": 41,
     "metadata": {},
     "output_type": "execute_result"
    }
   ],
   "source": [
    "# Looking at the max and mins for our continuous columns to see what these ranges look like.\n",
    "\n",
    "max(phd_df['overall_pay_clean'])"
   ]
  },
  {
   "cell_type": "code",
   "execution_count": 42,
   "id": "177b3de2",
   "metadata": {},
   "outputs": [
    {
     "data": {
      "text/plain": [
       "-900000"
      ]
     },
     "execution_count": 42,
     "metadata": {},
     "output_type": "execute_result"
    }
   ],
   "source": [
    "min(phd_df['overall_pay_clean'])"
   ]
  },
  {
   "cell_type": "code",
   "execution_count": 43,
   "id": "824fb72b",
   "metadata": {},
   "outputs": [
    {
     "data": {
      "text/plain": [
       "262.32"
      ]
     },
     "execution_count": 43,
     "metadata": {},
     "output_type": "execute_result"
    }
   ],
   "source": [
    "max(phd_df['LW Ratio'])"
   ]
  },
  {
   "cell_type": "code",
   "execution_count": 44,
   "id": "34b45458",
   "metadata": {},
   "outputs": [
    {
     "data": {
      "text/plain": [
       "-34.01"
      ]
     },
     "execution_count": 44,
     "metadata": {},
     "output_type": "execute_result"
    }
   ],
   "source": [
    "min(phd_df['LW Ratio'])"
   ]
  },
  {
   "cell_type": "markdown",
   "id": "0bbc7bbe",
   "metadata": {},
   "source": [
    "It looks like we have outlier problems with these datasets. This is expected due to the self reported nature of the dataset and the lack of validation on many of the columns. We will need to re-test our summary statistics after we have determined what to do with the outliers."
   ]
  },
  {
   "cell_type": "markdown",
   "id": "d1548401",
   "metadata": {},
   "source": [
    "### Question 2: Data Cleaning\n",
    "\n",
    "---\n",
    "\n",
    "- **Identify and handle missing values**"
   ]
  },
  {
   "cell_type": "markdown",
   "id": "0c134e33",
   "metadata": {},
   "source": [
    "Our dataset's number of missing values necessitated our handling of the missing values before this point. You can see the step by step and output in Question 1 and I will provide a link to the associated section [here](#missing)."
   ]
  },
  {
   "cell_type": "markdown",
   "id": "354a2e60",
   "metadata": {},
   "source": [
    "- **Identify and handle outliers**"
   ]
  },
  {
   "cell_type": "code",
   "execution_count": 45,
   "id": "fe1563df",
   "metadata": {},
   "outputs": [
    {
     "data": {
      "image/png": "[encoded data removed]",
      "text/plain": [
       "<Figure size 432x288 with 1 Axes>"
      ]
     },
     "metadata": {
      "needs_background": "light"
     },
     "output_type": "display_data"
    }
   ],
   "source": [
    "# Starting with looking at a graph so we can see what the distribution of data is looking like with outliers.\n",
    "\n",
    "ax = sns.boxplot(x=phd_df['overall_pay_clean'])"
   ]
  },
  {
   "cell_type": "code",
   "execution_count": 46,
   "id": "6fa3e7aa",
   "metadata": {},
   "outputs": [
    {
     "data": {
      "image/png": "[encoded data removed]",
      "text/plain": [
       "<Figure size 432x288 with 1 Axes>"
      ]
     },
     "metadata": {
      "needs_background": "light"
     },
     "output_type": "display_data"
    }
   ],
   "source": [
    "ax = sns.boxplot(x=phd_df['LW Ratio'])"
   ]
  },
  {
   "cell_type": "markdown",
   "id": "0b1c5266",
   "metadata": {},
   "source": [
    "Okay, it looks like we have some extreme outliers here. This is not very surprising as this is self reported data and some of it is likely to be a entered jokingly, or exaggerated. From here I think we can safely drop the observations that fall outside of three standard deviations of the mean without concern of losing the meaningful information."
   ]
  },
  {
   "cell_type": "code",
   "execution_count": 47,
   "id": "18302fb9",
   "metadata": {},
   "outputs": [],
   "source": [
    "# Method adapted from stackoverflow: (https://stackoverflow.com/questions/23199796/detect-and-exclude-outliers-in-a-pandas-dataframe)\n",
    "\n",
    "high = phd_df['overall_pay_clean'].quantile(0.99)\n",
    "low = phd_df['overall_pay_clean'].quantile(0.01)\n",
    "\n",
    "phd_df = phd_df[(phd_df['overall_pay_clean'] < high) & (phd_df['overall_pay_clean'] > low)]"
   ]
  },
  {
   "cell_type": "code",
   "execution_count": 48,
   "id": "635ad630",
   "metadata": {},
   "outputs": [],
   "source": [
    "high = phd_df['LW Ratio'].quantile(0.99)\n",
    "low = phd_df['LW Ratio'].quantile(0.01)\n",
    "\n",
    "phd_df = phd_df[(phd_df['LW Ratio'] < high) & (phd_df['LW Ratio'] > low)]"
   ]
  },
  {
   "cell_type": "code",
   "execution_count": 49,
   "id": "9f146d9f",
   "metadata": {},
   "outputs": [
    {
     "data": {
      "image/png": "[encoded data removed]",
      "text/plain": [
       "<Figure size 432x288 with 1 Axes>"
      ]
     },
     "metadata": {
      "needs_background": "light"
     },
     "output_type": "display_data"
    }
   ],
   "source": [
    "ax = sns.boxplot(x=phd_df['overall_pay_clean'])"
   ]
  },
  {
   "cell_type": "code",
   "execution_count": 50,
   "id": "5baa2184",
   "metadata": {},
   "outputs": [
    {
     "data": {
      "image/png": "[encoded data removed]",
      "text/plain": [
       "<Figure size 432x288 with 1 Axes>"
      ]
     },
     "metadata": {
      "needs_background": "light"
     },
     "output_type": "display_data"
    }
   ],
   "source": [
    "ax = sns.boxplot(x=phd_df['LW Ratio'])"
   ]
  },
  {
   "cell_type": "code",
   "execution_count": 51,
   "id": "6dc18aad",
   "metadata": {},
   "outputs": [
    {
     "data": {
      "text/plain": [
       "(10533, 7)"
      ]
     },
     "execution_count": 51,
     "metadata": {},
     "output_type": "execute_result"
    }
   ],
   "source": [
    "phd_df.shape"
   ]
  },
  {
   "cell_type": "markdown",
   "id": "b4521bb3",
   "metadata": {},
   "source": [
    "This cleans up our most relavant continuous feature, and the result makes sense. Our PhD stipends total pay after fees is between zero and 50k, with the central tendency being between 20k-30k. Outliers for the other features are not going to be as meaningful, since fees could be interpreted a lot of ways and might just be viewed as the tuition waived by the program."
   ]
  },
  {
   "cell_type": "markdown",
   "id": "9aef2b26",
   "metadata": {},
   "source": [
    "### Question 3: Feature Selection\n",
    "---\n",
    "- **Graphical visualization of features**"
   ]
  },
  {
   "cell_type": "code",
   "execution_count": 52,
   "id": "7e554296",
   "metadata": {},
   "outputs": [
    {
     "data": {
      "text/plain": [
       "<AxesSubplot:>"
      ]
     },
     "execution_count": 52,
     "metadata": {},
     "output_type": "execute_result"
    },
    {
     "data": {
      "image/png": "[encoded data removed]",
      "text/plain": [
       "<Figure size 432x288 with 1 Axes>"
      ]
     },
     "metadata": {
      "needs_background": "light"
     },
     "output_type": "display_data"
    }
   ],
   "source": [
    "# Looking at historgrams for each of our features in the dataset\n",
    "\n",
    "phd_df['LW Ratio'].hist()"
   ]
  },
  {
   "cell_type": "code",
   "execution_count": 53,
   "id": "d216bf00",
   "metadata": {},
   "outputs": [
    {
     "data": {
      "text/plain": [
       "<AxesSubplot:>"
      ]
     },
     "execution_count": 53,
     "metadata": {},
     "output_type": "execute_result"
    },
    {
     "data": {
      "image/png": "[encoded data removed]",
      "text/plain": [
       "<Figure size 432x288 with 1 Axes>"
      ]
     },
     "metadata": {
      "needs_background": "light"
     },
     "output_type": "display_data"
    }
   ],
   "source": [
    "phd_df['overall_pay_clean'].hist()"
   ]
  },
  {
   "cell_type": "code",
   "execution_count": 54,
   "id": "bfb79cd9",
   "metadata": {},
   "outputs": [
    {
     "data": {
      "text/plain": [
       "<AxesSubplot:>"
      ]
     },
     "execution_count": 54,
     "metadata": {},
     "output_type": "execute_result"
    },
    {
     "data": {
      "image/png": "[encoded data removed]",
      "text/plain": [
       "<Figure size 432x288 with 1 Axes>"
      ]
     },
     "metadata": {
      "needs_background": "light"
     },
     "output_type": "display_data"
    }
   ],
   "source": [
    "phd_df['Academic Year'].hist(xrot=90)"
   ]
  },
  {
   "cell_type": "markdown",
   "id": "0eff2140",
   "metadata": {},
   "source": [
    "It looks like the default sorting of this graph causes the Academic Year's range to line up a little out of order with how these occurred over time. If we resort this to be sequential we would see that the self reported data is going up over time."
   ]
  },
  {
   "cell_type": "code",
   "execution_count": 55,
   "id": "13ccabb4",
   "metadata": {},
   "outputs": [
    {
     "data": {
      "text/plain": [
       "<AxesSubplot:>"
      ]
     },
     "execution_count": 55,
     "metadata": {},
     "output_type": "execute_result"
    },
    {
     "data": {
      "image/png": "[encoded data removed]",
      "text/plain": [
       "<Figure size 432x288 with 1 Axes>"
      ]
     },
     "metadata": {
      "needs_background": "light"
     },
     "output_type": "display_data"
    }
   ],
   "source": [
    "phd_df['Program Year'].hist()"
   ]
  },
  {
   "cell_type": "markdown",
   "id": "458ddae7",
   "metadata": {},
   "source": [
    "It looks like we have the majority of respondents are 1st year PhD students. This could be that this is the most likely time for the respondents to be interacting with the self reporting around stipends, and when they care about what their stipend is getting them."
   ]
  },
  {
   "cell_type": "markdown",
   "id": "211b87a6",
   "metadata": {},
   "source": [
    "- **Examine the relationships within the dataset - using 2 different methods**"
   ]
  },
  {
   "cell_type": "code",
   "execution_count": 56,
   "id": "5043007e",
   "metadata": {},
   "outputs": [
    {
     "data": {
      "text/plain": [
       "<seaborn.axisgrid.PairGrid at 0x7fbf0445ccd0>"
      ]
     },
     "execution_count": 56,
     "metadata": {},
     "output_type": "execute_result"
    },
    {
     "data": {
      "image/png": "[encoded data removed]",
      "text/plain": [
       "<Figure size 360x360 with 6 Axes>"
      ]
     },
     "metadata": {
      "needs_background": "light"
     },
     "output_type": "display_data"
    }
   ],
   "source": [
    "# We will start by looking at the pair plot two ways for our continuous data\n",
    "\n",
    "sns.pairplot(phd_df)"
   ]
  },
  {
   "cell_type": "code",
   "execution_count": 69,
   "id": "5fa049c4",
   "metadata": {},
   "outputs": [
    {
     "data": {
      "text/html": [
       "<div>\n",
       "<style scoped>\n",
       "    .dataframe tbody tr th:only-of-type {\n",
       "        vertical-align: middle;\n",
       "    }\n",
       "\n",
       "    .dataframe tbody tr th {\n",
       "        vertical-align: top;\n",
       "    }\n",
       "\n",
       "    .dataframe thead th {\n",
       "        text-align: right;\n",
       "    }\n",
       "</style>\n",
       "<table border=\"1\" class=\"dataframe\">\n",
       "  <thead>\n",
       "    <tr style=\"text-align: right;\">\n",
       "      <th></th>\n",
       "      <th>LW Ratio</th>\n",
       "      <th>overall_pay_clean</th>\n",
       "    </tr>\n",
       "  </thead>\n",
       "  <tbody>\n",
       "    <tr>\n",
       "      <th>LW Ratio</th>\n",
       "      <td>1.00000</td>\n",
       "      <td>0.91216</td>\n",
       "    </tr>\n",
       "    <tr>\n",
       "      <th>overall_pay_clean</th>\n",
       "      <td>0.91216</td>\n",
       "      <td>1.00000</td>\n",
       "    </tr>\n",
       "  </tbody>\n",
       "</table>\n",
       "</div>"
      ],
      "text/plain": [
       "                   LW Ratio  overall_pay_clean\n",
       "LW Ratio            1.00000            0.91216\n",
       "overall_pay_clean   0.91216            1.00000"
      ]
     },
     "execution_count": 69,
     "metadata": {},
     "output_type": "execute_result"
    }
   ],
   "source": [
    "phd_df.corr()"
   ]
  },
  {
   "cell_type": "code",
   "execution_count": 57,
   "id": "16d8c38e",
   "metadata": {},
   "outputs": [
    {
     "data": {
      "text/plain": [
       "<seaborn.axisgrid.PairGrid at 0x7fbf0445cca0>"
      ]
     },
     "execution_count": 57,
     "metadata": {},
     "output_type": "execute_result"
    },
    {
     "data": {
      "image/png": "[encoded data removed]",
      "text/plain": [
       "<Figure size 360x360 with 6 Axes>"
      ]
     },
     "metadata": {
      "needs_background": "light"
     },
     "output_type": "display_data"
    }
   ],
   "source": [
    "sns.pairplot(data=phd_df, kind='kde')"
   ]
  },
  {
   "cell_type": "markdown",
   "id": "9362ed26",
   "metadata": {},
   "source": [
    "Now we will need to find a way to reduce the number of categories for our Universities and Departments to make some easier to digest findings. The first thought is to enrich by adding State so that we can extrapolate around which states have the best stipend and LW ratio."
   ]
  },
  {
   "cell_type": "markdown",
   "id": "0ff0c217",
   "metadata": {},
   "source": [
    "***Enriching of our categorical data***\n",
    "***"
   ]
  },
  {
   "cell_type": "code",
   "execution_count": 58,
   "id": "9b51803c",
   "metadata": {},
   "outputs": [
    {
     "data": {
      "text/plain": [
       "290"
      ]
     },
     "execution_count": 58,
     "metadata": {},
     "output_type": "execute_result"
    }
   ],
   "source": [
    "# How many Universities to we have to map to their State\n",
    "\n",
    "len(phd_df['University'].value_counts())"
   ]
  },
  {
   "cell_type": "code",
   "execution_count": 59,
   "id": "1d237d2b",
   "metadata": {},
   "outputs": [],
   "source": [
    "phd_df['University'].value_counts().to_csv('universities.csv')"
   ]
  },
  {
   "cell_type": "markdown",
   "id": "a01d2f77",
   "metadata": {},
   "source": [
    "I went through the list of 290 universities and added the state that they are located in by removing the state from the names that had them, then looking the remaining up and filling them out by hand. Additionally region was added to the dataset for a smaller category to analyze. I saved them in a new csv called universities_state for us to merge into our phd_df."
   ]
  },
  {
   "cell_type": "code",
   "execution_count": 60,
   "id": "62aa3786",
   "metadata": {},
   "outputs": [
    {
     "data": {
      "text/html": [
       "<div>\n",
       "<style scoped>\n",
       "    .dataframe tbody tr th:only-of-type {\n",
       "        vertical-align: middle;\n",
       "    }\n",
       "\n",
       "    .dataframe tbody tr th {\n",
       "        vertical-align: top;\n",
       "    }\n",
       "\n",
       "    .dataframe thead th {\n",
       "        text-align: right;\n",
       "    }\n",
       "</style>\n",
       "<table border=\"1\" class=\"dataframe\">\n",
       "  <thead>\n",
       "    <tr style=\"text-align: right;\">\n",
       "      <th></th>\n",
       "      <th>University</th>\n",
       "      <th>Department</th>\n",
       "      <th>Overall Pay</th>\n",
       "      <th>LW Ratio</th>\n",
       "      <th>Academic Year</th>\n",
       "      <th>Program Year</th>\n",
       "      <th>overall_pay_clean</th>\n",
       "      <th>State</th>\n",
       "      <th>Region</th>\n",
       "    </tr>\n",
       "  </thead>\n",
       "  <tbody>\n",
       "    <tr>\n",
       "      <th>0</th>\n",
       "      <td>Johns Hopkins University (JHU)</td>\n",
       "      <td>Pathobiology</td>\n",
       "      <td>$34,000</td>\n",
       "      <td>1.32</td>\n",
       "      <td>2020-2021</td>\n",
       "      <td>1st</td>\n",
       "      <td>34000</td>\n",
       "      <td>Maryland</td>\n",
       "      <td>Southeast</td>\n",
       "    </tr>\n",
       "    <tr>\n",
       "      <th>1</th>\n",
       "      <td>Johns Hopkins University (JHU)</td>\n",
       "      <td>ECE</td>\n",
       "      <td>$28,958</td>\n",
       "      <td>1.13</td>\n",
       "      <td>2020-2021</td>\n",
       "      <td>2nd</td>\n",
       "      <td>28958</td>\n",
       "      <td>Maryland</td>\n",
       "      <td>Southeast</td>\n",
       "    </tr>\n",
       "    <tr>\n",
       "      <th>2</th>\n",
       "      <td>Johns Hopkins University (JHU)</td>\n",
       "      <td>Public health</td>\n",
       "      <td>$25,000</td>\n",
       "      <td>0.97</td>\n",
       "      <td>2022-2023</td>\n",
       "      <td>1st</td>\n",
       "      <td>25000</td>\n",
       "      <td>Maryland</td>\n",
       "      <td>Southeast</td>\n",
       "    </tr>\n",
       "    <tr>\n",
       "      <th>3</th>\n",
       "      <td>Johns Hopkins University (JHU)</td>\n",
       "      <td>Unknown</td>\n",
       "      <td>$36,000</td>\n",
       "      <td>1.40</td>\n",
       "      <td>2021-2022</td>\n",
       "      <td>5th</td>\n",
       "      <td>36000</td>\n",
       "      <td>Maryland</td>\n",
       "      <td>Southeast</td>\n",
       "    </tr>\n",
       "    <tr>\n",
       "      <th>4</th>\n",
       "      <td>Johns Hopkins University (JHU)</td>\n",
       "      <td>philosophy</td>\n",
       "      <td>$33,000</td>\n",
       "      <td>1.28</td>\n",
       "      <td>2022-2023</td>\n",
       "      <td>1st</td>\n",
       "      <td>33000</td>\n",
       "      <td>Maryland</td>\n",
       "      <td>Southeast</td>\n",
       "    </tr>\n",
       "    <tr>\n",
       "      <th>...</th>\n",
       "      <td>...</td>\n",
       "      <td>...</td>\n",
       "      <td>...</td>\n",
       "      <td>...</td>\n",
       "      <td>...</td>\n",
       "      <td>...</td>\n",
       "      <td>...</td>\n",
       "      <td>...</td>\n",
       "      <td>...</td>\n",
       "    </tr>\n",
       "    <tr>\n",
       "      <th>10528</th>\n",
       "      <td>SUNY Upstate Medical Center</td>\n",
       "      <td>Cell and Developmental Biology/College of Grad...</td>\n",
       "      <td>$24,780</td>\n",
       "      <td>1.16</td>\n",
       "      <td>2016-2017</td>\n",
       "      <td>6th and up</td>\n",
       "      <td>24780</td>\n",
       "      <td>New York</td>\n",
       "      <td>Northeast</td>\n",
       "    </tr>\n",
       "    <tr>\n",
       "      <th>10529</th>\n",
       "      <td>Marshall University</td>\n",
       "      <td>Biomedical Sciences</td>\n",
       "      <td>$24,455</td>\n",
       "      <td>1.27</td>\n",
       "      <td>2015-2016</td>\n",
       "      <td>1st</td>\n",
       "      <td>24455</td>\n",
       "      <td>West Virginia</td>\n",
       "      <td>Southeast</td>\n",
       "    </tr>\n",
       "    <tr>\n",
       "      <th>10530</th>\n",
       "      <td>Meharry Medical College</td>\n",
       "      <td>Biomedical Science</td>\n",
       "      <td>$1,900</td>\n",
       "      <td>0.10</td>\n",
       "      <td>2014-2015</td>\n",
       "      <td>4th</td>\n",
       "      <td>1900</td>\n",
       "      <td>Tennessee</td>\n",
       "      <td>Southeast</td>\n",
       "    </tr>\n",
       "    <tr>\n",
       "      <th>10531</th>\n",
       "      <td>Meharry Medical College</td>\n",
       "      <td>Biomedical Science</td>\n",
       "      <td>$2,400</td>\n",
       "      <td>0.10</td>\n",
       "      <td>2015-2016</td>\n",
       "      <td>5th</td>\n",
       "      <td>2400</td>\n",
       "      <td>Tennessee</td>\n",
       "      <td>Southeast</td>\n",
       "    </tr>\n",
       "    <tr>\n",
       "      <th>10532</th>\n",
       "      <td>Meharry Medical College</td>\n",
       "      <td>Biomedical Science</td>\n",
       "      <td>$1,800</td>\n",
       "      <td>0.09</td>\n",
       "      <td>2013-2014</td>\n",
       "      <td>3rd</td>\n",
       "      <td>1800</td>\n",
       "      <td>Tennessee</td>\n",
       "      <td>Southeast</td>\n",
       "    </tr>\n",
       "  </tbody>\n",
       "</table>\n",
       "<p>10533 rows × 9 columns</p>\n",
       "</div>"
      ],
      "text/plain": [
       "                           University  \\\n",
       "0      Johns Hopkins University (JHU)   \n",
       "1      Johns Hopkins University (JHU)   \n",
       "2      Johns Hopkins University (JHU)   \n",
       "3      Johns Hopkins University (JHU)   \n",
       "4      Johns Hopkins University (JHU)   \n",
       "...                               ...   \n",
       "10528     SUNY Upstate Medical Center   \n",
       "10529             Marshall University   \n",
       "10530         Meharry Medical College   \n",
       "10531         Meharry Medical College   \n",
       "10532         Meharry Medical College   \n",
       "\n",
       "                                              Department Overall Pay  \\\n",
       "0                                           Pathobiology     $34,000   \n",
       "1                                                    ECE     $28,958   \n",
       "2                                         Public health      $25,000   \n",
       "3                                                Unknown     $36,000   \n",
       "4                                             philosophy     $33,000   \n",
       "...                                                  ...         ...   \n",
       "10528  Cell and Developmental Biology/College of Grad...     $24,780   \n",
       "10529                                Biomedical Sciences     $24,455   \n",
       "10530                                 Biomedical Science      $1,900   \n",
       "10531                                 Biomedical Science      $2,400   \n",
       "10532                                 Biomedical Science      $1,800   \n",
       "\n",
       "       LW Ratio Academic Year Program Year  overall_pay_clean          State  \\\n",
       "0          1.32     2020-2021          1st              34000       Maryland   \n",
       "1          1.13     2020-2021          2nd              28958       Maryland   \n",
       "2          0.97     2022-2023          1st              25000       Maryland   \n",
       "3          1.40     2021-2022          5th              36000       Maryland   \n",
       "4          1.28     2022-2023          1st              33000       Maryland   \n",
       "...         ...           ...          ...                ...            ...   \n",
       "10528      1.16     2016-2017   6th and up              24780       New York   \n",
       "10529      1.27     2015-2016          1st              24455  West Virginia   \n",
       "10530      0.10     2014-2015          4th               1900      Tennessee   \n",
       "10531      0.10     2015-2016          5th               2400      Tennessee   \n",
       "10532      0.09     2013-2014          3rd               1800      Tennessee   \n",
       "\n",
       "          Region  \n",
       "0      Southeast  \n",
       "1      Southeast  \n",
       "2      Southeast  \n",
       "3      Southeast  \n",
       "4      Southeast  \n",
       "...          ...  \n",
       "10528  Northeast  \n",
       "10529  Southeast  \n",
       "10530  Southeast  \n",
       "10531  Southeast  \n",
       "10532  Southeast  \n",
       "\n",
       "[10533 rows x 9 columns]"
      ]
     },
     "execution_count": 60,
     "metadata": {},
     "output_type": "execute_result"
    }
   ],
   "source": [
    "enrich_df = pd.read_csv('universities_state.csv')\n",
    "\n",
    "enrich_phd_df = pd.merge(phd_df, enrich_df, on='University')\n",
    "\n",
    "enrich_phd_df"
   ]
  },
  {
   "cell_type": "code",
   "execution_count": 61,
   "id": "2fdf5754",
   "metadata": {},
   "outputs": [
    {
     "data": {
      "text/html": [
       "<div>\n",
       "<style scoped>\n",
       "    .dataframe tbody tr th:only-of-type {\n",
       "        vertical-align: middle;\n",
       "    }\n",
       "\n",
       "    .dataframe tbody tr th {\n",
       "        vertical-align: top;\n",
       "    }\n",
       "\n",
       "    .dataframe thead th {\n",
       "        text-align: right;\n",
       "    }\n",
       "</style>\n",
       "<table border=\"1\" class=\"dataframe\">\n",
       "  <thead>\n",
       "    <tr style=\"text-align: right;\">\n",
       "      <th></th>\n",
       "      <th>University</th>\n",
       "      <th>Department</th>\n",
       "      <th>Overall Pay</th>\n",
       "      <th>LW Ratio</th>\n",
       "      <th>Academic Year</th>\n",
       "      <th>Program Year</th>\n",
       "      <th>overall_pay_clean</th>\n",
       "      <th>State</th>\n",
       "      <th>Region</th>\n",
       "    </tr>\n",
       "  </thead>\n",
       "  <tbody>\n",
       "    <tr>\n",
       "      <th>10296</th>\n",
       "      <td>New School</td>\n",
       "      <td>Economics</td>\n",
       "      <td>$20,000</td>\n",
       "      <td>0.67</td>\n",
       "      <td>2021-2022</td>\n",
       "      <td>1st</td>\n",
       "      <td>20000</td>\n",
       "      <td>Unknown</td>\n",
       "      <td>Unknown</td>\n",
       "    </tr>\n",
       "    <tr>\n",
       "      <th>10297</th>\n",
       "      <td>New School</td>\n",
       "      <td>Sociology</td>\n",
       "      <td>$20,000</td>\n",
       "      <td>0.67</td>\n",
       "      <td>2016-2017</td>\n",
       "      <td>3rd</td>\n",
       "      <td>20000</td>\n",
       "      <td>Unknown</td>\n",
       "      <td>Unknown</td>\n",
       "    </tr>\n",
       "  </tbody>\n",
       "</table>\n",
       "</div>"
      ],
      "text/plain": [
       "       University Department Overall Pay  LW Ratio Academic Year Program Year  \\\n",
       "10296  New School  Economics     $20,000      0.67     2021-2022          1st   \n",
       "10297  New School  Sociology     $20,000      0.67     2016-2017          3rd   \n",
       "\n",
       "       overall_pay_clean    State   Region  \n",
       "10296              20000  Unknown  Unknown  \n",
       "10297              20000  Unknown  Unknown  "
      ]
     },
     "execution_count": 61,
     "metadata": {},
     "output_type": "execute_result"
    }
   ],
   "source": [
    "# During enrichment we found a \"New School\" for our analysis this is an unnecessary bucket so we will drop them.\n",
    "\n",
    "enrich_phd_df[enrich_phd_df['State'] == 'Unknown']"
   ]
  },
  {
   "cell_type": "code",
   "execution_count": 62,
   "id": "60f19585",
   "metadata": {},
   "outputs": [
    {
     "data": {
      "text/html": [
       "<div>\n",
       "<style scoped>\n",
       "    .dataframe tbody tr th:only-of-type {\n",
       "        vertical-align: middle;\n",
       "    }\n",
       "\n",
       "    .dataframe tbody tr th {\n",
       "        vertical-align: top;\n",
       "    }\n",
       "\n",
       "    .dataframe thead th {\n",
       "        text-align: right;\n",
       "    }\n",
       "</style>\n",
       "<table border=\"1\" class=\"dataframe\">\n",
       "  <thead>\n",
       "    <tr style=\"text-align: right;\">\n",
       "      <th></th>\n",
       "      <th>University</th>\n",
       "      <th>Department</th>\n",
       "      <th>Overall Pay</th>\n",
       "      <th>LW Ratio</th>\n",
       "      <th>Academic Year</th>\n",
       "      <th>Program Year</th>\n",
       "      <th>overall_pay_clean</th>\n",
       "      <th>State</th>\n",
       "      <th>Region</th>\n",
       "    </tr>\n",
       "  </thead>\n",
       "  <tbody>\n",
       "  </tbody>\n",
       "</table>\n",
       "</div>"
      ],
      "text/plain": [
       "Empty DataFrame\n",
       "Columns: [University, Department, Overall Pay, LW Ratio, Academic Year, Program Year, overall_pay_clean, State, Region]\n",
       "Index: []"
      ]
     },
     "execution_count": 62,
     "metadata": {},
     "output_type": "execute_result"
    }
   ],
   "source": [
    "enrich_phd_df = enrich_phd_df[enrich_phd_df['State'] != 'Unknown']\n",
    "enrich_phd_df[enrich_phd_df['State'] == 'Unknown']"
   ]
  },
  {
   "cell_type": "code",
   "execution_count": 68,
   "id": "ef8f8339",
   "metadata": {},
   "outputs": [
    {
     "name": "stdout",
     "output_type": "stream",
     "text": [
      "interval columns not set, guessing: ['overall_pay_clean', 'LW Ratio']\n"
     ]
    },
    {
     "data": {
      "text/plain": [
       "<AxesSubplot:>"
      ]
     },
     "execution_count": 68,
     "metadata": {},
     "output_type": "execute_result"
    },
    {
     "data": {
      "image/png": "[encoded data removed]",
      "text/plain": [
       "<Figure size 432x288 with 2 Axes>"
      ]
     },
     "metadata": {
      "needs_background": "light"
     },
     "output_type": "display_data"
    }
   ],
   "source": [
    "mini_df = enrich_phd_df[['overall_pay_clean', 'LW Ratio', 'State', 'Region']]\n",
    "sns.heatmap(mini_df.phik_matrix())"
   ]
  },
  {
   "cell_type": "markdown",
   "id": "6290b103",
   "metadata": {},
   "source": [
    "- **Reduction of the dimensionality of the dataset**"
   ]
  },
  {
   "cell_type": "markdown",
   "id": "ba53d6b3",
   "metadata": {},
   "source": [
    "In general we have been doing dimensionality reduction as we go by combining columns and removing them after we ensure that we have the data that we are wanting to do our analysis on. Further dimensionality reduction could take the form of single value decomposition, or PCA and we could try and construct an predictor for the overall pay, or LW ratio based on the categorical data available. I am not sure how we would do that yet, especially when using mixed data types as our inputs and outputs."
   ]
  },
  {
   "cell_type": "markdown",
   "id": "218f5372",
   "metadata": {},
   "source": [
    "### Question 4:  Insights and Findings\n",
    "---\n",
    "- **Describe any insights and/or findings from within the dataset.**"
   ]
  },
  {
   "cell_type": "code",
   "execution_count": 84,
   "id": "a1cc3bba",
   "metadata": {},
   "outputs": [
    {
     "data": {
      "text/html": [
       "<div>\n",
       "<style scoped>\n",
       "    .dataframe tbody tr th:only-of-type {\n",
       "        vertical-align: middle;\n",
       "    }\n",
       "\n",
       "    .dataframe tbody tr th {\n",
       "        vertical-align: top;\n",
       "    }\n",
       "\n",
       "    .dataframe thead th {\n",
       "        text-align: right;\n",
       "    }\n",
       "</style>\n",
       "<table border=\"1\" class=\"dataframe\">\n",
       "  <thead>\n",
       "    <tr style=\"text-align: right;\">\n",
       "      <th></th>\n",
       "      <th></th>\n",
       "      <th>LW Ratio</th>\n",
       "      <th>overall_pay_clean</th>\n",
       "    </tr>\n",
       "    <tr>\n",
       "      <th>Region</th>\n",
       "      <th>State</th>\n",
       "      <th></th>\n",
       "      <th></th>\n",
       "    </tr>\n",
       "  </thead>\n",
       "  <tbody>\n",
       "    <tr>\n",
       "      <th rowspan=\"12\" valign=\"top\">Midwest</th>\n",
       "      <th>Illinois</th>\n",
       "      <td>1.133838</td>\n",
       "      <td>26523.030981</td>\n",
       "    </tr>\n",
       "    <tr>\n",
       "      <th>Indiana</th>\n",
       "      <td>0.631250</td>\n",
       "      <td>12714.125000</td>\n",
       "    </tr>\n",
       "    <tr>\n",
       "      <th>Iowa</th>\n",
       "      <td>1.066613</td>\n",
       "      <td>23144.016129</td>\n",
       "    </tr>\n",
       "    <tr>\n",
       "      <th>Kansas</th>\n",
       "      <td>0.964219</td>\n",
       "      <td>19958.031250</td>\n",
       "    </tr>\n",
       "    <tr>\n",
       "      <th>Michigan</th>\n",
       "      <td>1.177157</td>\n",
       "      <td>25775.020067</td>\n",
       "    </tr>\n",
       "    <tr>\n",
       "      <th>Minnesota</th>\n",
       "      <td>1.054410</td>\n",
       "      <td>24036.534161</td>\n",
       "    </tr>\n",
       "    <tr>\n",
       "      <th>Missouri</th>\n",
       "      <td>0.983860</td>\n",
       "      <td>19860.666667</td>\n",
       "    </tr>\n",
       "    <tr>\n",
       "      <th>Nebraska</th>\n",
       "      <td>1.054364</td>\n",
       "      <td>21130.854545</td>\n",
       "    </tr>\n",
       "    <tr>\n",
       "      <th>North Dakota</th>\n",
       "      <td>0.853571</td>\n",
       "      <td>16056.357143</td>\n",
       "    </tr>\n",
       "    <tr>\n",
       "      <th>Ohio</th>\n",
       "      <td>1.041607</td>\n",
       "      <td>20491.791667</td>\n",
       "    </tr>\n",
       "    <tr>\n",
       "      <th>South Dakota</th>\n",
       "      <td>0.995714</td>\n",
       "      <td>19312.428571</td>\n",
       "    </tr>\n",
       "    <tr>\n",
       "      <th>Wisconsin</th>\n",
       "      <td>1.018957</td>\n",
       "      <td>22906.634783</td>\n",
       "    </tr>\n",
       "    <tr>\n",
       "      <th rowspan=\"9\" valign=\"top\">Northeast</th>\n",
       "      <th>Connecticut</th>\n",
       "      <td>1.300702</td>\n",
       "      <td>31889.625731</td>\n",
       "    </tr>\n",
       "    <tr>\n",
       "      <th>Maine</th>\n",
       "      <td>0.920714</td>\n",
       "      <td>19758.500000</td>\n",
       "    </tr>\n",
       "    <tr>\n",
       "      <th>Massachusetts</th>\n",
       "      <td>1.096728</td>\n",
       "      <td>30242.750831</td>\n",
       "    </tr>\n",
       "    <tr>\n",
       "      <th>New Hampshire</th>\n",
       "      <td>1.091081</td>\n",
       "      <td>26724.000000</td>\n",
       "    </tr>\n",
       "    <tr>\n",
       "      <th>New Jersey</th>\n",
       "      <td>1.163950</td>\n",
       "      <td>29721.135000</td>\n",
       "    </tr>\n",
       "    <tr>\n",
       "      <th>New York</th>\n",
       "      <td>1.109719</td>\n",
       "      <td>28334.511002</td>\n",
       "    </tr>\n",
       "    <tr>\n",
       "      <th>Pennsylvania</th>\n",
       "      <td>1.180086</td>\n",
       "      <td>26635.806313</td>\n",
       "    </tr>\n",
       "    <tr>\n",
       "      <th>Rhode Island</th>\n",
       "      <td>1.323803</td>\n",
       "      <td>29959.422535</td>\n",
       "    </tr>\n",
       "    <tr>\n",
       "      <th>Vermont</th>\n",
       "      <td>1.037500</td>\n",
       "      <td>26733.200000</td>\n",
       "    </tr>\n",
       "    <tr>\n",
       "      <th rowspan=\"15\" valign=\"top\">Southeast</th>\n",
       "      <th>Alabama</th>\n",
       "      <td>0.933232</td>\n",
       "      <td>19812.737374</td>\n",
       "    </tr>\n",
       "    <tr>\n",
       "      <th>Arkansas</th>\n",
       "      <td>1.029412</td>\n",
       "      <td>20898.500000</td>\n",
       "    </tr>\n",
       "    <tr>\n",
       "      <th>Delaware</th>\n",
       "      <td>0.993562</td>\n",
       "      <td>25093.561644</td>\n",
       "    </tr>\n",
       "    <tr>\n",
       "      <th>Florida</th>\n",
       "      <td>0.978503</td>\n",
       "      <td>22445.328025</td>\n",
       "    </tr>\n",
       "    <tr>\n",
       "      <th>Georgia</th>\n",
       "      <td>1.075769</td>\n",
       "      <td>24215.743590</td>\n",
       "    </tr>\n",
       "    <tr>\n",
       "      <th>Kentucky</th>\n",
       "      <td>0.984477</td>\n",
       "      <td>20320.197674</td>\n",
       "    </tr>\n",
       "    <tr>\n",
       "      <th>Louisiana</th>\n",
       "      <td>0.891327</td>\n",
       "      <td>19595.982301</td>\n",
       "    </tr>\n",
       "    <tr>\n",
       "      <th>Maryland</th>\n",
       "      <td>0.993581</td>\n",
       "      <td>27273.520270</td>\n",
       "    </tr>\n",
       "    <tr>\n",
       "      <th>Mississippi</th>\n",
       "      <td>0.871951</td>\n",
       "      <td>18549.634146</td>\n",
       "    </tr>\n",
       "    <tr>\n",
       "      <th>North Carolina</th>\n",
       "      <td>1.120709</td>\n",
       "      <td>24201.665354</td>\n",
       "    </tr>\n",
       "    <tr>\n",
       "      <th>South Carolina</th>\n",
       "      <td>0.925377</td>\n",
       "      <td>19899.037736</td>\n",
       "    </tr>\n",
       "    <tr>\n",
       "      <th>Tennessee</th>\n",
       "      <td>1.085647</td>\n",
       "      <td>24185.797414</td>\n",
       "    </tr>\n",
       "    <tr>\n",
       "      <th>Virginia</th>\n",
       "      <td>1.034302</td>\n",
       "      <td>23654.833962</td>\n",
       "    </tr>\n",
       "    <tr>\n",
       "      <th>Washington DC</th>\n",
       "      <td>0.838761</td>\n",
       "      <td>25825.088496</td>\n",
       "    </tr>\n",
       "    <tr>\n",
       "      <th>West Virginia</th>\n",
       "      <td>0.980000</td>\n",
       "      <td>21751.181818</td>\n",
       "    </tr>\n",
       "    <tr>\n",
       "      <th rowspan=\"4\" valign=\"top\">Southwest</th>\n",
       "      <th>Arizona</th>\n",
       "      <td>0.954063</td>\n",
       "      <td>20659.171875</td>\n",
       "    </tr>\n",
       "    <tr>\n",
       "      <th>New Mexico</th>\n",
       "      <td>0.885455</td>\n",
       "      <td>17190.681818</td>\n",
       "    </tr>\n",
       "    <tr>\n",
       "      <th>Oklahoma</th>\n",
       "      <td>0.869861</td>\n",
       "      <td>17241.888889</td>\n",
       "    </tr>\n",
       "    <tr>\n",
       "      <th>Texas</th>\n",
       "      <td>1.106182</td>\n",
       "      <td>23892.280210</td>\n",
       "    </tr>\n",
       "    <tr>\n",
       "      <th rowspan=\"11\" valign=\"top\">West</th>\n",
       "      <th>Alaska</th>\n",
       "      <td>1.102000</td>\n",
       "      <td>24827.600000</td>\n",
       "    </tr>\n",
       "    <tr>\n",
       "      <th>California</th>\n",
       "      <td>1.140016</td>\n",
       "      <td>30332.741758</td>\n",
       "    </tr>\n",
       "    <tr>\n",
       "      <th>Colorado</th>\n",
       "      <td>1.054530</td>\n",
       "      <td>24791.983425</td>\n",
       "    </tr>\n",
       "    <tr>\n",
       "      <th>Hawaii</th>\n",
       "      <td>0.720000</td>\n",
       "      <td>21862.000000</td>\n",
       "    </tr>\n",
       "    <tr>\n",
       "      <th>Idaho</th>\n",
       "      <td>1.046455</td>\n",
       "      <td>21801.700288</td>\n",
       "    </tr>\n",
       "    <tr>\n",
       "      <th>Montana</th>\n",
       "      <td>0.914286</td>\n",
       "      <td>19292.357143</td>\n",
       "    </tr>\n",
       "    <tr>\n",
       "      <th>Nevada</th>\n",
       "      <td>0.933636</td>\n",
       "      <td>20055.045455</td>\n",
       "    </tr>\n",
       "    <tr>\n",
       "      <th>Oregon</th>\n",
       "      <td>1.003663</td>\n",
       "      <td>21617.584158</td>\n",
       "    </tr>\n",
       "    <tr>\n",
       "      <th>Utah</th>\n",
       "      <td>1.069901</td>\n",
       "      <td>23347.960396</td>\n",
       "    </tr>\n",
       "    <tr>\n",
       "      <th>Washington</th>\n",
       "      <td>1.232944</td>\n",
       "      <td>26580.298387</td>\n",
       "    </tr>\n",
       "    <tr>\n",
       "      <th>Wyoming</th>\n",
       "      <td>0.798571</td>\n",
       "      <td>16255.571429</td>\n",
       "    </tr>\n",
       "  </tbody>\n",
       "</table>\n",
       "</div>"
      ],
      "text/plain": [
       "                          LW Ratio  overall_pay_clean\n",
       "Region    State                                      \n",
       "Midwest   Illinois        1.133838       26523.030981\n",
       "          Indiana         0.631250       12714.125000\n",
       "          Iowa            1.066613       23144.016129\n",
       "          Kansas          0.964219       19958.031250\n",
       "          Michigan        1.177157       25775.020067\n",
       "          Minnesota       1.054410       24036.534161\n",
       "          Missouri        0.983860       19860.666667\n",
       "          Nebraska        1.054364       21130.854545\n",
       "          North Dakota    0.853571       16056.357143\n",
       "          Ohio            1.041607       20491.791667\n",
       "          South Dakota    0.995714       19312.428571\n",
       "          Wisconsin       1.018957       22906.634783\n",
       "Northeast Connecticut     1.300702       31889.625731\n",
       "          Maine           0.920714       19758.500000\n",
       "          Massachusetts   1.096728       30242.750831\n",
       "          New Hampshire   1.091081       26724.000000\n",
       "          New Jersey      1.163950       29721.135000\n",
       "          New York        1.109719       28334.511002\n",
       "          Pennsylvania    1.180086       26635.806313\n",
       "          Rhode Island    1.323803       29959.422535\n",
       "          Vermont         1.037500       26733.200000\n",
       "Southeast Alabama         0.933232       19812.737374\n",
       "          Arkansas        1.029412       20898.500000\n",
       "          Delaware        0.993562       25093.561644\n",
       "          Florida         0.978503       22445.328025\n",
       "          Georgia         1.075769       24215.743590\n",
       "          Kentucky        0.984477       20320.197674\n",
       "          Louisiana       0.891327       19595.982301\n",
       "          Maryland        0.993581       27273.520270\n",
       "          Mississippi     0.871951       18549.634146\n",
       "          North Carolina  1.120709       24201.665354\n",
       "          South Carolina  0.925377       19899.037736\n",
       "          Tennessee       1.085647       24185.797414\n",
       "          Virginia        1.034302       23654.833962\n",
       "          Washington DC   0.838761       25825.088496\n",
       "          West Virginia   0.980000       21751.181818\n",
       "Southwest Arizona         0.954063       20659.171875\n",
       "          New Mexico      0.885455       17190.681818\n",
       "          Oklahoma        0.869861       17241.888889\n",
       "          Texas           1.106182       23892.280210\n",
       "West      Alaska          1.102000       24827.600000\n",
       "          California      1.140016       30332.741758\n",
       "          Colorado        1.054530       24791.983425\n",
       "          Hawaii          0.720000       21862.000000\n",
       "          Idaho           1.046455       21801.700288\n",
       "          Montana         0.914286       19292.357143\n",
       "          Nevada          0.933636       20055.045455\n",
       "          Oregon          1.003663       21617.584158\n",
       "          Utah            1.069901       23347.960396\n",
       "          Washington      1.232944       26580.298387\n",
       "          Wyoming         0.798571       16255.571429"
      ]
     },
     "execution_count": 84,
     "metadata": {},
     "output_type": "execute_result"
    }
   ],
   "source": [
    "mini_df = enrich_phd_df[['Region', 'State', 'LW Ratio', 'overall_pay_clean']]\n",
    "group_phd_df = mini_df.groupby(['Region', 'State']).mean()\n",
    "group_phd_df"
   ]
  },
  {
   "cell_type": "code",
   "execution_count": 90,
   "id": "6a944bb7",
   "metadata": {},
   "outputs": [
    {
     "data": {
      "text/html": [
       "<div>\n",
       "<style scoped>\n",
       "    .dataframe tbody tr th:only-of-type {\n",
       "        vertical-align: middle;\n",
       "    }\n",
       "\n",
       "    .dataframe tbody tr th {\n",
       "        vertical-align: top;\n",
       "    }\n",
       "\n",
       "    .dataframe thead th {\n",
       "        text-align: right;\n",
       "    }\n",
       "</style>\n",
       "<table border=\"1\" class=\"dataframe\">\n",
       "  <thead>\n",
       "    <tr style=\"text-align: right;\">\n",
       "      <th></th>\n",
       "      <th>LW Ratio</th>\n",
       "      <th>overall_pay_clean</th>\n",
       "    </tr>\n",
       "    <tr>\n",
       "      <th>State</th>\n",
       "      <th></th>\n",
       "      <th></th>\n",
       "    </tr>\n",
       "  </thead>\n",
       "  <tbody>\n",
       "    <tr>\n",
       "      <th>Rhode Island</th>\n",
       "      <td>1.323803</td>\n",
       "      <td>29959.422535</td>\n",
       "    </tr>\n",
       "    <tr>\n",
       "      <th>Connecticut</th>\n",
       "      <td>1.300702</td>\n",
       "      <td>31889.625731</td>\n",
       "    </tr>\n",
       "    <tr>\n",
       "      <th>Pennsylvania</th>\n",
       "      <td>1.180086</td>\n",
       "      <td>26635.806313</td>\n",
       "    </tr>\n",
       "    <tr>\n",
       "      <th>New Jersey</th>\n",
       "      <td>1.163950</td>\n",
       "      <td>29721.135000</td>\n",
       "    </tr>\n",
       "    <tr>\n",
       "      <th>New York</th>\n",
       "      <td>1.109719</td>\n",
       "      <td>28334.511002</td>\n",
       "    </tr>\n",
       "    <tr>\n",
       "      <th>Massachusetts</th>\n",
       "      <td>1.096728</td>\n",
       "      <td>30242.750831</td>\n",
       "    </tr>\n",
       "    <tr>\n",
       "      <th>New Hampshire</th>\n",
       "      <td>1.091081</td>\n",
       "      <td>26724.000000</td>\n",
       "    </tr>\n",
       "    <tr>\n",
       "      <th>Vermont</th>\n",
       "      <td>1.037500</td>\n",
       "      <td>26733.200000</td>\n",
       "    </tr>\n",
       "    <tr>\n",
       "      <th>Maine</th>\n",
       "      <td>0.920714</td>\n",
       "      <td>19758.500000</td>\n",
       "    </tr>\n",
       "  </tbody>\n",
       "</table>\n",
       "</div>"
      ],
      "text/plain": [
       "               LW Ratio  overall_pay_clean\n",
       "State                                     \n",
       "Rhode Island   1.323803       29959.422535\n",
       "Connecticut    1.300702       31889.625731\n",
       "Pennsylvania   1.180086       26635.806313\n",
       "New Jersey     1.163950       29721.135000\n",
       "New York       1.109719       28334.511002\n",
       "Massachusetts  1.096728       30242.750831\n",
       "New Hampshire  1.091081       26724.000000\n",
       "Vermont        1.037500       26733.200000\n",
       "Maine          0.920714       19758.500000"
      ]
     },
     "execution_count": 90,
     "metadata": {},
     "output_type": "execute_result"
    }
   ],
   "source": [
    "mini_df[mini_df['Region'] == 'Northeast'].groupby(['State']).mean().sort_values('LW Ratio', ascending=False)"
   ]
  },
  {
   "cell_type": "code",
   "execution_count": 96,
   "id": "8ce87d77",
   "metadata": {},
   "outputs": [
    {
     "data": {
      "text/plain": [
       "State\n",
       "Connecticut      171\n",
       "Maine             14\n",
       "Massachusetts    602\n",
       "New Hampshire     37\n",
       "New Jersey       200\n",
       "New York         818\n",
       "Pennsylvania     697\n",
       "Rhode Island      71\n",
       "Vermont           20\n",
       "Name: Region, dtype: int64"
      ]
     },
     "execution_count": 96,
     "metadata": {},
     "output_type": "execute_result"
    }
   ],
   "source": [
    "mini_df[mini_df['Region'] == 'Northeast'].groupby(['State']).count()['Region']"
   ]
  },
  {
   "cell_type": "markdown",
   "id": "f9ef6851",
   "metadata": {},
   "source": [
    "For the northeast region of the United States the best LW ratio is for Rhode Island. We also do not have a lot of entries from Maine or Vermont and would want to see if that is proportionaly acceptable for our analysis. I am not going to bring it up every time, but I am going to calculate the counts and we could do furhter analysis on population, number of universities, number of doctoral students, etc."
   ]
  },
  {
   "cell_type": "code",
   "execution_count": 91,
   "id": "2ad059bf",
   "metadata": {},
   "outputs": [
    {
     "data": {
      "text/html": [
       "<div>\n",
       "<style scoped>\n",
       "    .dataframe tbody tr th:only-of-type {\n",
       "        vertical-align: middle;\n",
       "    }\n",
       "\n",
       "    .dataframe tbody tr th {\n",
       "        vertical-align: top;\n",
       "    }\n",
       "\n",
       "    .dataframe thead th {\n",
       "        text-align: right;\n",
       "    }\n",
       "</style>\n",
       "<table border=\"1\" class=\"dataframe\">\n",
       "  <thead>\n",
       "    <tr style=\"text-align: right;\">\n",
       "      <th></th>\n",
       "      <th>LW Ratio</th>\n",
       "      <th>overall_pay_clean</th>\n",
       "    </tr>\n",
       "    <tr>\n",
       "      <th>State</th>\n",
       "      <th></th>\n",
       "      <th></th>\n",
       "    </tr>\n",
       "  </thead>\n",
       "  <tbody>\n",
       "    <tr>\n",
       "      <th>North Carolina</th>\n",
       "      <td>1.120709</td>\n",
       "      <td>24201.665354</td>\n",
       "    </tr>\n",
       "    <tr>\n",
       "      <th>Tennessee</th>\n",
       "      <td>1.085647</td>\n",
       "      <td>24185.797414</td>\n",
       "    </tr>\n",
       "    <tr>\n",
       "      <th>Georgia</th>\n",
       "      <td>1.075769</td>\n",
       "      <td>24215.743590</td>\n",
       "    </tr>\n",
       "    <tr>\n",
       "      <th>Virginia</th>\n",
       "      <td>1.034302</td>\n",
       "      <td>23654.833962</td>\n",
       "    </tr>\n",
       "    <tr>\n",
       "      <th>Arkansas</th>\n",
       "      <td>1.029412</td>\n",
       "      <td>20898.500000</td>\n",
       "    </tr>\n",
       "    <tr>\n",
       "      <th>Maryland</th>\n",
       "      <td>0.993581</td>\n",
       "      <td>27273.520270</td>\n",
       "    </tr>\n",
       "    <tr>\n",
       "      <th>Delaware</th>\n",
       "      <td>0.993562</td>\n",
       "      <td>25093.561644</td>\n",
       "    </tr>\n",
       "    <tr>\n",
       "      <th>Kentucky</th>\n",
       "      <td>0.984477</td>\n",
       "      <td>20320.197674</td>\n",
       "    </tr>\n",
       "    <tr>\n",
       "      <th>West Virginia</th>\n",
       "      <td>0.980000</td>\n",
       "      <td>21751.181818</td>\n",
       "    </tr>\n",
       "    <tr>\n",
       "      <th>Florida</th>\n",
       "      <td>0.978503</td>\n",
       "      <td>22445.328025</td>\n",
       "    </tr>\n",
       "    <tr>\n",
       "      <th>Alabama</th>\n",
       "      <td>0.933232</td>\n",
       "      <td>19812.737374</td>\n",
       "    </tr>\n",
       "    <tr>\n",
       "      <th>South Carolina</th>\n",
       "      <td>0.925377</td>\n",
       "      <td>19899.037736</td>\n",
       "    </tr>\n",
       "    <tr>\n",
       "      <th>Louisiana</th>\n",
       "      <td>0.891327</td>\n",
       "      <td>19595.982301</td>\n",
       "    </tr>\n",
       "    <tr>\n",
       "      <th>Mississippi</th>\n",
       "      <td>0.871951</td>\n",
       "      <td>18549.634146</td>\n",
       "    </tr>\n",
       "    <tr>\n",
       "      <th>Washington DC</th>\n",
       "      <td>0.838761</td>\n",
       "      <td>25825.088496</td>\n",
       "    </tr>\n",
       "  </tbody>\n",
       "</table>\n",
       "</div>"
      ],
      "text/plain": [
       "                LW Ratio  overall_pay_clean\n",
       "State                                      \n",
       "North Carolina  1.120709       24201.665354\n",
       "Tennessee       1.085647       24185.797414\n",
       "Georgia         1.075769       24215.743590\n",
       "Virginia        1.034302       23654.833962\n",
       "Arkansas        1.029412       20898.500000\n",
       "Maryland        0.993581       27273.520270\n",
       "Delaware        0.993562       25093.561644\n",
       "Kentucky        0.984477       20320.197674\n",
       "West Virginia   0.980000       21751.181818\n",
       "Florida         0.978503       22445.328025\n",
       "Alabama         0.933232       19812.737374\n",
       "South Carolina  0.925377       19899.037736\n",
       "Louisiana       0.891327       19595.982301\n",
       "Mississippi     0.871951       18549.634146\n",
       "Washington DC   0.838761       25825.088496"
      ]
     },
     "execution_count": 91,
     "metadata": {},
     "output_type": "execute_result"
    }
   ],
   "source": [
    "mini_df[mini_df['Region'] == 'Southeast'].groupby(['State']).mean().sort_values('LW Ratio', ascending=False)"
   ]
  },
  {
   "cell_type": "code",
   "execution_count": 97,
   "id": "84d2b6d3",
   "metadata": {},
   "outputs": [
    {
     "data": {
      "text/plain": [
       "State\n",
       "Alabama            99\n",
       "Arkansas           34\n",
       "Delaware           73\n",
       "Florida           314\n",
       "Georgia           390\n",
       "Kentucky          172\n",
       "Louisiana         113\n",
       "Maryland          296\n",
       "Mississippi        41\n",
       "North Carolina    508\n",
       "South Carolina    106\n",
       "Tennessee         232\n",
       "Virginia          265\n",
       "Washington DC     113\n",
       "West Virginia      33\n",
       "Name: Region, dtype: int64"
      ]
     },
     "execution_count": 97,
     "metadata": {},
     "output_type": "execute_result"
    }
   ],
   "source": [
    "mini_df[mini_df['Region'] == 'Southeast'].groupby(['State']).count()['Region']"
   ]
  },
  {
   "cell_type": "markdown",
   "id": "ca47ea9d",
   "metadata": {},
   "source": [
    "The best state in the Southeast region for LW ratio is North Carolina with the worst being Washington D.C."
   ]
  },
  {
   "cell_type": "code",
   "execution_count": 92,
   "id": "6db7b1a8",
   "metadata": {},
   "outputs": [
    {
     "data": {
      "text/html": [
       "<div>\n",
       "<style scoped>\n",
       "    .dataframe tbody tr th:only-of-type {\n",
       "        vertical-align: middle;\n",
       "    }\n",
       "\n",
       "    .dataframe tbody tr th {\n",
       "        vertical-align: top;\n",
       "    }\n",
       "\n",
       "    .dataframe thead th {\n",
       "        text-align: right;\n",
       "    }\n",
       "</style>\n",
       "<table border=\"1\" class=\"dataframe\">\n",
       "  <thead>\n",
       "    <tr style=\"text-align: right;\">\n",
       "      <th></th>\n",
       "      <th>LW Ratio</th>\n",
       "      <th>overall_pay_clean</th>\n",
       "    </tr>\n",
       "    <tr>\n",
       "      <th>State</th>\n",
       "      <th></th>\n",
       "      <th></th>\n",
       "    </tr>\n",
       "  </thead>\n",
       "  <tbody>\n",
       "    <tr>\n",
       "      <th>Michigan</th>\n",
       "      <td>1.177157</td>\n",
       "      <td>25775.020067</td>\n",
       "    </tr>\n",
       "    <tr>\n",
       "      <th>Illinois</th>\n",
       "      <td>1.133838</td>\n",
       "      <td>26523.030981</td>\n",
       "    </tr>\n",
       "    <tr>\n",
       "      <th>Iowa</th>\n",
       "      <td>1.066613</td>\n",
       "      <td>23144.016129</td>\n",
       "    </tr>\n",
       "    <tr>\n",
       "      <th>Minnesota</th>\n",
       "      <td>1.054410</td>\n",
       "      <td>24036.534161</td>\n",
       "    </tr>\n",
       "    <tr>\n",
       "      <th>Nebraska</th>\n",
       "      <td>1.054364</td>\n",
       "      <td>21130.854545</td>\n",
       "    </tr>\n",
       "    <tr>\n",
       "      <th>Ohio</th>\n",
       "      <td>1.041607</td>\n",
       "      <td>20491.791667</td>\n",
       "    </tr>\n",
       "    <tr>\n",
       "      <th>Wisconsin</th>\n",
       "      <td>1.018957</td>\n",
       "      <td>22906.634783</td>\n",
       "    </tr>\n",
       "    <tr>\n",
       "      <th>South Dakota</th>\n",
       "      <td>0.995714</td>\n",
       "      <td>19312.428571</td>\n",
       "    </tr>\n",
       "    <tr>\n",
       "      <th>Missouri</th>\n",
       "      <td>0.983860</td>\n",
       "      <td>19860.666667</td>\n",
       "    </tr>\n",
       "    <tr>\n",
       "      <th>Kansas</th>\n",
       "      <td>0.964219</td>\n",
       "      <td>19958.031250</td>\n",
       "    </tr>\n",
       "    <tr>\n",
       "      <th>North Dakota</th>\n",
       "      <td>0.853571</td>\n",
       "      <td>16056.357143</td>\n",
       "    </tr>\n",
       "    <tr>\n",
       "      <th>Indiana</th>\n",
       "      <td>0.631250</td>\n",
       "      <td>12714.125000</td>\n",
       "    </tr>\n",
       "  </tbody>\n",
       "</table>\n",
       "</div>"
      ],
      "text/plain": [
       "              LW Ratio  overall_pay_clean\n",
       "State                                    \n",
       "Michigan      1.177157       25775.020067\n",
       "Illinois      1.133838       26523.030981\n",
       "Iowa          1.066613       23144.016129\n",
       "Minnesota     1.054410       24036.534161\n",
       "Nebraska      1.054364       21130.854545\n",
       "Ohio          1.041607       20491.791667\n",
       "Wisconsin     1.018957       22906.634783\n",
       "South Dakota  0.995714       19312.428571\n",
       "Missouri      0.983860       19860.666667\n",
       "Kansas        0.964219       19958.031250\n",
       "North Dakota  0.853571       16056.357143\n",
       "Indiana       0.631250       12714.125000"
      ]
     },
     "execution_count": 92,
     "metadata": {},
     "output_type": "execute_result"
    }
   ],
   "source": [
    "mini_df[mini_df['Region'] == 'Midwest'].groupby(['State']).mean().sort_values('LW Ratio', ascending=False)"
   ]
  },
  {
   "cell_type": "code",
   "execution_count": 98,
   "id": "a415e2e4",
   "metadata": {},
   "outputs": [
    {
     "data": {
      "text/plain": [
       "State\n",
       "Illinois        581\n",
       "Indiana           8\n",
       "Iowa             62\n",
       "Kansas           64\n",
       "Michigan        299\n",
       "Minnesota       161\n",
       "Missouri         57\n",
       "Nebraska         55\n",
       "North Dakota     14\n",
       "Ohio            336\n",
       "South Dakota      7\n",
       "Wisconsin       230\n",
       "Name: Region, dtype: int64"
      ]
     },
     "execution_count": 98,
     "metadata": {},
     "output_type": "execute_result"
    }
   ],
   "source": [
    "mini_df[mini_df['Region'] == 'Midwest'].groupby(['State']).count()['Region']"
   ]
  },
  {
   "cell_type": "markdown",
   "id": "c5519848",
   "metadata": {},
   "source": [
    "The best state in the Midwest region for LW ratio is Michigan with the worst being Indiana."
   ]
  },
  {
   "cell_type": "code",
   "execution_count": 93,
   "id": "752df205",
   "metadata": {},
   "outputs": [
    {
     "data": {
      "text/html": [
       "<div>\n",
       "<style scoped>\n",
       "    .dataframe tbody tr th:only-of-type {\n",
       "        vertical-align: middle;\n",
       "    }\n",
       "\n",
       "    .dataframe tbody tr th {\n",
       "        vertical-align: top;\n",
       "    }\n",
       "\n",
       "    .dataframe thead th {\n",
       "        text-align: right;\n",
       "    }\n",
       "</style>\n",
       "<table border=\"1\" class=\"dataframe\">\n",
       "  <thead>\n",
       "    <tr style=\"text-align: right;\">\n",
       "      <th></th>\n",
       "      <th>LW Ratio</th>\n",
       "      <th>overall_pay_clean</th>\n",
       "    </tr>\n",
       "    <tr>\n",
       "      <th>State</th>\n",
       "      <th></th>\n",
       "      <th></th>\n",
       "    </tr>\n",
       "  </thead>\n",
       "  <tbody>\n",
       "    <tr>\n",
       "      <th>Texas</th>\n",
       "      <td>1.106182</td>\n",
       "      <td>23892.280210</td>\n",
       "    </tr>\n",
       "    <tr>\n",
       "      <th>Arizona</th>\n",
       "      <td>0.954063</td>\n",
       "      <td>20659.171875</td>\n",
       "    </tr>\n",
       "    <tr>\n",
       "      <th>New Mexico</th>\n",
       "      <td>0.885455</td>\n",
       "      <td>17190.681818</td>\n",
       "    </tr>\n",
       "    <tr>\n",
       "      <th>Oklahoma</th>\n",
       "      <td>0.869861</td>\n",
       "      <td>17241.888889</td>\n",
       "    </tr>\n",
       "  </tbody>\n",
       "</table>\n",
       "</div>"
      ],
      "text/plain": [
       "            LW Ratio  overall_pay_clean\n",
       "State                                  \n",
       "Texas       1.106182       23892.280210\n",
       "Arizona     0.954063       20659.171875\n",
       "New Mexico  0.885455       17190.681818\n",
       "Oklahoma    0.869861       17241.888889"
      ]
     },
     "execution_count": 93,
     "metadata": {},
     "output_type": "execute_result"
    }
   ],
   "source": [
    "mini_df[mini_df['Region'] == 'Southwest'].groupby(['State']).mean().sort_values('LW Ratio', ascending=False)"
   ]
  },
  {
   "cell_type": "code",
   "execution_count": 99,
   "id": "f0aef620",
   "metadata": {},
   "outputs": [
    {
     "data": {
      "text/plain": [
       "State\n",
       "Arizona       192\n",
       "New Mexico     22\n",
       "Oklahoma       72\n",
       "Texas         571\n",
       "Name: Region, dtype: int64"
      ]
     },
     "execution_count": 99,
     "metadata": {},
     "output_type": "execute_result"
    }
   ],
   "source": [
    "mini_df[mini_df['Region'] == 'Southwest'].groupby(['State']).count()['Region']"
   ]
  },
  {
   "cell_type": "markdown",
   "id": "12f6cd71",
   "metadata": {},
   "source": [
    "The best state in the Southwest region for LW ratio is Texas with the worst being Oklahoma."
   ]
  },
  {
   "cell_type": "code",
   "execution_count": 94,
   "id": "beaf7696",
   "metadata": {},
   "outputs": [
    {
     "data": {
      "text/html": [
       "<div>\n",
       "<style scoped>\n",
       "    .dataframe tbody tr th:only-of-type {\n",
       "        vertical-align: middle;\n",
       "    }\n",
       "\n",
       "    .dataframe tbody tr th {\n",
       "        vertical-align: top;\n",
       "    }\n",
       "\n",
       "    .dataframe thead th {\n",
       "        text-align: right;\n",
       "    }\n",
       "</style>\n",
       "<table border=\"1\" class=\"dataframe\">\n",
       "  <thead>\n",
       "    <tr style=\"text-align: right;\">\n",
       "      <th></th>\n",
       "      <th>LW Ratio</th>\n",
       "      <th>overall_pay_clean</th>\n",
       "    </tr>\n",
       "    <tr>\n",
       "      <th>State</th>\n",
       "      <th></th>\n",
       "      <th></th>\n",
       "    </tr>\n",
       "  </thead>\n",
       "  <tbody>\n",
       "    <tr>\n",
       "      <th>Washington</th>\n",
       "      <td>1.232944</td>\n",
       "      <td>26580.298387</td>\n",
       "    </tr>\n",
       "    <tr>\n",
       "      <th>California</th>\n",
       "      <td>1.140016</td>\n",
       "      <td>30332.741758</td>\n",
       "    </tr>\n",
       "    <tr>\n",
       "      <th>Alaska</th>\n",
       "      <td>1.102000</td>\n",
       "      <td>24827.600000</td>\n",
       "    </tr>\n",
       "    <tr>\n",
       "      <th>Utah</th>\n",
       "      <td>1.069901</td>\n",
       "      <td>23347.960396</td>\n",
       "    </tr>\n",
       "    <tr>\n",
       "      <th>Colorado</th>\n",
       "      <td>1.054530</td>\n",
       "      <td>24791.983425</td>\n",
       "    </tr>\n",
       "    <tr>\n",
       "      <th>Idaho</th>\n",
       "      <td>1.046455</td>\n",
       "      <td>21801.700288</td>\n",
       "    </tr>\n",
       "    <tr>\n",
       "      <th>Oregon</th>\n",
       "      <td>1.003663</td>\n",
       "      <td>21617.584158</td>\n",
       "    </tr>\n",
       "    <tr>\n",
       "      <th>Nevada</th>\n",
       "      <td>0.933636</td>\n",
       "      <td>20055.045455</td>\n",
       "    </tr>\n",
       "    <tr>\n",
       "      <th>Montana</th>\n",
       "      <td>0.914286</td>\n",
       "      <td>19292.357143</td>\n",
       "    </tr>\n",
       "    <tr>\n",
       "      <th>Wyoming</th>\n",
       "      <td>0.798571</td>\n",
       "      <td>16255.571429</td>\n",
       "    </tr>\n",
       "    <tr>\n",
       "      <th>Hawaii</th>\n",
       "      <td>0.720000</td>\n",
       "      <td>21862.000000</td>\n",
       "    </tr>\n",
       "  </tbody>\n",
       "</table>\n",
       "</div>"
      ],
      "text/plain": [
       "            LW Ratio  overall_pay_clean\n",
       "State                                  \n",
       "Washington  1.232944       26580.298387\n",
       "California  1.140016       30332.741758\n",
       "Alaska      1.102000       24827.600000\n",
       "Utah        1.069901       23347.960396\n",
       "Colorado    1.054530       24791.983425\n",
       "Idaho       1.046455       21801.700288\n",
       "Oregon      1.003663       21617.584158\n",
       "Nevada      0.933636       20055.045455\n",
       "Montana     0.914286       19292.357143\n",
       "Wyoming     0.798571       16255.571429\n",
       "Hawaii      0.720000       21862.000000"
      ]
     },
     "execution_count": 94,
     "metadata": {},
     "output_type": "execute_result"
    }
   ],
   "source": [
    "mini_df[mini_df['Region'] == 'West'].groupby(['State']).mean().sort_values('LW Ratio', ascending=False)"
   ]
  },
  {
   "cell_type": "code",
   "execution_count": 100,
   "id": "62c96b80",
   "metadata": {},
   "outputs": [
    {
     "data": {
      "text/plain": [
       "State\n",
       "Alaska           5\n",
       "California    1274\n",
       "Colorado       181\n",
       "Hawaii          38\n",
       "Idaho          347\n",
       "Montana         28\n",
       "Nevada          44\n",
       "Oregon         101\n",
       "Utah           101\n",
       "Washington     248\n",
       "Wyoming         14\n",
       "Name: Region, dtype: int64"
      ]
     },
     "execution_count": 100,
     "metadata": {},
     "output_type": "execute_result"
    }
   ],
   "source": [
    "mini_df[mini_df['Region'] == 'West'].groupby(['State']).count()['Region']"
   ]
  },
  {
   "cell_type": "markdown",
   "id": "5f953df1",
   "metadata": {},
   "source": [
    "The best state in the West region for LW ratio is Washington with the worst being Hawai'i."
   ]
  },
  {
   "cell_type": "code",
   "execution_count": 101,
   "id": "65d7f5b7",
   "metadata": {},
   "outputs": [
    {
     "data": {
      "text/html": [
       "<div>\n",
       "<style scoped>\n",
       "    .dataframe tbody tr th:only-of-type {\n",
       "        vertical-align: middle;\n",
       "    }\n",
       "\n",
       "    .dataframe tbody tr th {\n",
       "        vertical-align: top;\n",
       "    }\n",
       "\n",
       "    .dataframe thead th {\n",
       "        text-align: right;\n",
       "    }\n",
       "</style>\n",
       "<table border=\"1\" class=\"dataframe\">\n",
       "  <thead>\n",
       "    <tr style=\"text-align: right;\">\n",
       "      <th></th>\n",
       "      <th>LW Ratio</th>\n",
       "      <th>overall_pay_clean</th>\n",
       "    </tr>\n",
       "    <tr>\n",
       "      <th>State</th>\n",
       "      <th></th>\n",
       "      <th></th>\n",
       "    </tr>\n",
       "  </thead>\n",
       "  <tbody>\n",
       "    <tr>\n",
       "      <th>Rhode Island</th>\n",
       "      <td>1.323803</td>\n",
       "      <td>29959.422535</td>\n",
       "    </tr>\n",
       "    <tr>\n",
       "      <th>Connecticut</th>\n",
       "      <td>1.300702</td>\n",
       "      <td>31889.625731</td>\n",
       "    </tr>\n",
       "    <tr>\n",
       "      <th>Washington</th>\n",
       "      <td>1.232944</td>\n",
       "      <td>26580.298387</td>\n",
       "    </tr>\n",
       "    <tr>\n",
       "      <th>Pennsylvania</th>\n",
       "      <td>1.180086</td>\n",
       "      <td>26635.806313</td>\n",
       "    </tr>\n",
       "    <tr>\n",
       "      <th>Michigan</th>\n",
       "      <td>1.177157</td>\n",
       "      <td>25775.020067</td>\n",
       "    </tr>\n",
       "  </tbody>\n",
       "</table>\n",
       "</div>"
      ],
      "text/plain": [
       "              LW Ratio  overall_pay_clean\n",
       "State                                    \n",
       "Rhode Island  1.323803       29959.422535\n",
       "Connecticut   1.300702       31889.625731\n",
       "Washington    1.232944       26580.298387\n",
       "Pennsylvania  1.180086       26635.806313\n",
       "Michigan      1.177157       25775.020067"
      ]
     },
     "execution_count": 101,
     "metadata": {},
     "output_type": "execute_result"
    }
   ],
   "source": [
    "mini_df.groupby(['State']).mean().sort_values('LW Ratio', ascending=False).head(5)"
   ]
  },
  {
   "cell_type": "code",
   "execution_count": 107,
   "id": "2f353232",
   "metadata": {},
   "outputs": [
    {
     "data": {
      "text/html": [
       "<div>\n",
       "<style scoped>\n",
       "    .dataframe tbody tr th:only-of-type {\n",
       "        vertical-align: middle;\n",
       "    }\n",
       "\n",
       "    .dataframe tbody tr th {\n",
       "        vertical-align: top;\n",
       "    }\n",
       "\n",
       "    .dataframe thead th {\n",
       "        text-align: right;\n",
       "    }\n",
       "</style>\n",
       "<table border=\"1\" class=\"dataframe\">\n",
       "  <thead>\n",
       "    <tr style=\"text-align: right;\">\n",
       "      <th></th>\n",
       "      <th>LW Ratio</th>\n",
       "      <th>overall_pay_clean</th>\n",
       "    </tr>\n",
       "    <tr>\n",
       "      <th>State</th>\n",
       "      <th></th>\n",
       "      <th></th>\n",
       "    </tr>\n",
       "  </thead>\n",
       "  <tbody>\n",
       "    <tr>\n",
       "      <th>Connecticut</th>\n",
       "      <td>1.300702</td>\n",
       "      <td>31889.625731</td>\n",
       "    </tr>\n",
       "    <tr>\n",
       "      <th>California</th>\n",
       "      <td>1.140016</td>\n",
       "      <td>30332.741758</td>\n",
       "    </tr>\n",
       "    <tr>\n",
       "      <th>Massachusetts</th>\n",
       "      <td>1.096728</td>\n",
       "      <td>30242.750831</td>\n",
       "    </tr>\n",
       "    <tr>\n",
       "      <th>Rhode Island</th>\n",
       "      <td>1.323803</td>\n",
       "      <td>29959.422535</td>\n",
       "    </tr>\n",
       "    <tr>\n",
       "      <th>New Jersey</th>\n",
       "      <td>1.163950</td>\n",
       "      <td>29721.135000</td>\n",
       "    </tr>\n",
       "  </tbody>\n",
       "</table>\n",
       "</div>"
      ],
      "text/plain": [
       "               LW Ratio  overall_pay_clean\n",
       "State                                     \n",
       "Connecticut    1.300702       31889.625731\n",
       "California     1.140016       30332.741758\n",
       "Massachusetts  1.096728       30242.750831\n",
       "Rhode Island   1.323803       29959.422535\n",
       "New Jersey     1.163950       29721.135000"
      ]
     },
     "execution_count": 107,
     "metadata": {},
     "output_type": "execute_result"
    }
   ],
   "source": [
    "mini_df.groupby(['State']).mean().sort_values('overall_pay_clean', ascending=False).head(5)"
   ]
  },
  {
   "cell_type": "code",
   "execution_count": 105,
   "id": "0e5fa03b",
   "metadata": {},
   "outputs": [
    {
     "data": {
      "text/html": [
       "<div>\n",
       "<style scoped>\n",
       "    .dataframe tbody tr th:only-of-type {\n",
       "        vertical-align: middle;\n",
       "    }\n",
       "\n",
       "    .dataframe tbody tr th {\n",
       "        vertical-align: top;\n",
       "    }\n",
       "\n",
       "    .dataframe thead th {\n",
       "        text-align: right;\n",
       "    }\n",
       "</style>\n",
       "<table border=\"1\" class=\"dataframe\">\n",
       "  <thead>\n",
       "    <tr style=\"text-align: right;\">\n",
       "      <th></th>\n",
       "      <th>LW Ratio</th>\n",
       "      <th>overall_pay_clean</th>\n",
       "    </tr>\n",
       "    <tr>\n",
       "      <th>Region</th>\n",
       "      <th></th>\n",
       "      <th></th>\n",
       "    </tr>\n",
       "  </thead>\n",
       "  <tbody>\n",
       "    <tr>\n",
       "      <th>Northeast</th>\n",
       "      <td>1.145897</td>\n",
       "      <td>28621.089734</td>\n",
       "    </tr>\n",
       "    <tr>\n",
       "      <th>West</th>\n",
       "      <td>1.105544</td>\n",
       "      <td>27062.144477</td>\n",
       "    </tr>\n",
       "    <tr>\n",
       "      <th>Midwest</th>\n",
       "      <td>1.083623</td>\n",
       "      <td>23803.868196</td>\n",
       "    </tr>\n",
       "  </tbody>\n",
       "</table>\n",
       "</div>"
      ],
      "text/plain": [
       "           LW Ratio  overall_pay_clean\n",
       "Region                                \n",
       "Northeast  1.145897       28621.089734\n",
       "West       1.105544       27062.144477\n",
       "Midwest    1.083623       23803.868196"
      ]
     },
     "execution_count": 105,
     "metadata": {},
     "output_type": "execute_result"
    }
   ],
   "source": [
    "mini_df.groupby(['Region']).mean().sort_values('LW Ratio', ascending=False).head(3)"
   ]
  },
  {
   "cell_type": "markdown",
   "id": "8caeb1e4",
   "metadata": {},
   "source": [
    "Our overall values show that Rhode Island has the best LW ratio for its schools, and the region with the best average LW ratio is the Northeast."
   ]
  },
  {
   "cell_type": "code",
   "execution_count": 103,
   "id": "faf0c814",
   "metadata": {},
   "outputs": [
    {
     "data": {
      "text/html": [
       "<div>\n",
       "<style scoped>\n",
       "    .dataframe tbody tr th:only-of-type {\n",
       "        vertical-align: middle;\n",
       "    }\n",
       "\n",
       "    .dataframe tbody tr th {\n",
       "        vertical-align: top;\n",
       "    }\n",
       "\n",
       "    .dataframe thead th {\n",
       "        text-align: right;\n",
       "    }\n",
       "</style>\n",
       "<table border=\"1\" class=\"dataframe\">\n",
       "  <thead>\n",
       "    <tr style=\"text-align: right;\">\n",
       "      <th></th>\n",
       "      <th>LW Ratio</th>\n",
       "      <th>overall_pay_clean</th>\n",
       "    </tr>\n",
       "    <tr>\n",
       "      <th>State</th>\n",
       "      <th></th>\n",
       "      <th></th>\n",
       "    </tr>\n",
       "  </thead>\n",
       "  <tbody>\n",
       "    <tr>\n",
       "      <th>Indiana</th>\n",
       "      <td>0.631250</td>\n",
       "      <td>12714.125000</td>\n",
       "    </tr>\n",
       "    <tr>\n",
       "      <th>Hawaii</th>\n",
       "      <td>0.720000</td>\n",
       "      <td>21862.000000</td>\n",
       "    </tr>\n",
       "    <tr>\n",
       "      <th>Wyoming</th>\n",
       "      <td>0.798571</td>\n",
       "      <td>16255.571429</td>\n",
       "    </tr>\n",
       "    <tr>\n",
       "      <th>Washington DC</th>\n",
       "      <td>0.838761</td>\n",
       "      <td>25825.088496</td>\n",
       "    </tr>\n",
       "    <tr>\n",
       "      <th>North Dakota</th>\n",
       "      <td>0.853571</td>\n",
       "      <td>16056.357143</td>\n",
       "    </tr>\n",
       "  </tbody>\n",
       "</table>\n",
       "</div>"
      ],
      "text/plain": [
       "               LW Ratio  overall_pay_clean\n",
       "State                                     \n",
       "Indiana        0.631250       12714.125000\n",
       "Hawaii         0.720000       21862.000000\n",
       "Wyoming        0.798571       16255.571429\n",
       "Washington DC  0.838761       25825.088496\n",
       "North Dakota   0.853571       16056.357143"
      ]
     },
     "execution_count": 103,
     "metadata": {},
     "output_type": "execute_result"
    }
   ],
   "source": [
    "mini_df.groupby(['State']).mean().sort_values('LW Ratio', ascending=True).head(5)"
   ]
  },
  {
   "cell_type": "code",
   "execution_count": 106,
   "id": "1a3a3d4b",
   "metadata": {},
   "outputs": [
    {
     "data": {
      "text/html": [
       "<div>\n",
       "<style scoped>\n",
       "    .dataframe tbody tr th:only-of-type {\n",
       "        vertical-align: middle;\n",
       "    }\n",
       "\n",
       "    .dataframe tbody tr th {\n",
       "        vertical-align: top;\n",
       "    }\n",
       "\n",
       "    .dataframe thead th {\n",
       "        text-align: right;\n",
       "    }\n",
       "</style>\n",
       "<table border=\"1\" class=\"dataframe\">\n",
       "  <thead>\n",
       "    <tr style=\"text-align: right;\">\n",
       "      <th></th>\n",
       "      <th>LW Ratio</th>\n",
       "      <th>overall_pay_clean</th>\n",
       "    </tr>\n",
       "    <tr>\n",
       "      <th>Region</th>\n",
       "      <th></th>\n",
       "      <th></th>\n",
       "    </tr>\n",
       "  </thead>\n",
       "  <tbody>\n",
       "    <tr>\n",
       "      <th>Southeast</th>\n",
       "      <td>1.020835</td>\n",
       "      <td>23470.109000</td>\n",
       "    </tr>\n",
       "    <tr>\n",
       "      <th>Southwest</th>\n",
       "      <td>1.046581</td>\n",
       "      <td>22437.180863</td>\n",
       "    </tr>\n",
       "    <tr>\n",
       "      <th>Midwest</th>\n",
       "      <td>1.083623</td>\n",
       "      <td>23803.868196</td>\n",
       "    </tr>\n",
       "  </tbody>\n",
       "</table>\n",
       "</div>"
      ],
      "text/plain": [
       "           LW Ratio  overall_pay_clean\n",
       "Region                                \n",
       "Southeast  1.020835       23470.109000\n",
       "Southwest  1.046581       22437.180863\n",
       "Midwest    1.083623       23803.868196"
      ]
     },
     "execution_count": 106,
     "metadata": {},
     "output_type": "execute_result"
    }
   ],
   "source": [
    "mini_df.groupby(['Region']).mean().sort_values('LW Ratio', ascending=True).head(3)"
   ]
  },
  {
   "cell_type": "markdown",
   "id": "9a7543fb",
   "metadata": {},
   "source": [
    "Our overall values show that Indiana has the worst LW ratio for its schools and the region with the worst average LW ratio is the Southeast."
   ]
  },
  {
   "cell_type": "markdown",
   "id": "b7b838bf",
   "metadata": {},
   "source": [
    "## V. Conclusion"
   ]
  },
  {
   "cell_type": "markdown",
   "id": "ae206099",
   "metadata": {},
   "source": [
    "The dataset that we did our EDA on shows that on average across the United States the stipend that PhD students receive is right around the living wage for the area (LW Ratio of 1). There are however parts of the U.S. that provide better stipends to their doctoral students when compared to others. In the analysis that we did on this weeks dataset we found that the best region in the U.S. for providing a good LW Ratio is the Northeast (1.146), with Rhode Island having the highest mean LW Ratio for its students at 1.324. The inverse being that the Southeast region having the worst mean LW Ratio (1.021), with the worst state being Indiana with a mean LW Ratio of 0.631. That being said the majority of these stipends end up between 22k and 32k yearly compensation.\n",
    "\n",
    "The interesting parts of working with this weeks dataset were the large number of missing values in the dataset, the self reported nature of the datasets values, the need for enrichment data to reduce dimensionality of categorical variables, and the kurtosis of the final dataframe on overall pay when cleaned. "
   ]
  },
  {
   "cell_type": "markdown",
   "id": "3f3e3f6f",
   "metadata": {},
   "source": [
    "## VI. References"
   ]
  },
  {
   "cell_type": "markdown",
   "id": "456cc4c4",
   "metadata": {},
   "source": [
    "MSDS 650 - Week 3 Content:\n",
    "\n",
    "1.) Dataset available from Kaggle: __[PhD Stipends, Salaries, and LW Ratios](https://www.kaggle.com/datasets/paultimothymooney/phd-stipends)__\n",
    "\n",
    "2.) __[From the Experts: Exploratory Data Analysis and Experimental Design](https://worldclass.regis.edu/d2l/le/content/285076/viewContent/4152273/View)__\n",
    "\n",
    "3.) __[Week 3 Assignment](https://worldclass.regis.edu/d2l/le/content/285076/viewContent/4152267/View)__\n",
    " "
   ]
  }
 ],
 "metadata": {
  "kernelspec": {
   "display_name": "Python 3 (ipykernel)",
   "language": "python",
   "name": "python3"
  },
  "language_info": {
   "codemirror_mode": {
    "name": "ipython",
    "version": 3
   },
   "file_extension": ".py",
   "mimetype": "text/x-python",
   "name": "python",
   "nbconvert_exporter": "python",
   "pygments_lexer": "ipython3",
   "version": "3.8.10"
  }
 },
 "nbformat": 4,
 "nbformat_minor": 5
}