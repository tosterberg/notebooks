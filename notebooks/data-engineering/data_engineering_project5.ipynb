{
 "cells": [
  {
   "cell_type": "code",
   "execution_count": 28,
   "id": "dbe526f5",
   "metadata": {
    "pycharm": {
     "name": "#%%\n"
    }
   },
   "outputs": [],
   "source": [
    "import pandas as pd\n",
    "import requests as req\n",
    "from pymongo import MongoClient"
   ]
  },
  {
   "cell_type": "code",
   "execution_count": 8,
   "id": "714a22e8",
   "metadata": {
    "pycharm": {
     "name": "#%%\n"
    }
   },
   "outputs": [],
   "source": [
    "response = req.get('https://cat-fact.herokuapp.com/facts')"
   ]
  },
  {
   "cell_type": "code",
   "execution_count": 9,
   "id": "6a96f57a",
   "metadata": {
    "pycharm": {
     "name": "#%%\n"
    }
   },
   "outputs": [
    {
     "data": {
      "text/plain": [
       "[{'status': {'verified': True, 'sentCount': 1},\n",
       "  '_id': '58e008800aac31001185ed07',\n",
       "  'user': '58e007480aac31001185ecef',\n",
       "  'text': 'Wikipedia has a recording of a cat meowing, because why not?',\n",
       "  '__v': 0,\n",
       "  'source': 'user',\n",
       "  'updatedAt': '2020-08-23T20:20:01.611Z',\n",
       "  'type': 'cat',\n",
       "  'createdAt': '2018-03-06T21:20:03.505Z',\n",
       "  'deleted': False,\n",
       "  'used': False},\n",
       " {'status': {'verified': True, 'sentCount': 1},\n",
       "  '_id': '58e008630aac31001185ed01',\n",
       "  'user': '58e007480aac31001185ecef',\n",
       "  'text': 'When cats grimace, they are usually \"taste-scenting.\" They have an extra organ that, with some breathing control, allows the cats to taste-sense the air.',\n",
       "  '__v': 0,\n",
       "  'source': 'user',\n",
       "  'updatedAt': '2020-08-23T20:20:01.611Z',\n",
       "  'type': 'cat',\n",
       "  'createdAt': '2018-02-07T21:20:02.903Z',\n",
       "  'deleted': False,\n",
       "  'used': False},\n",
       " {'status': {'verified': True, 'sentCount': 1},\n",
       "  '_id': '58e00a090aac31001185ed16',\n",
       "  'user': '58e007480aac31001185ecef',\n",
       "  'text': 'Cats make more than 100 different sounds whereas dogs make around 10.',\n",
       "  '__v': 0,\n",
       "  'source': 'user',\n",
       "  'updatedAt': '2020-08-23T20:20:01.611Z',\n",
       "  'type': 'cat',\n",
       "  'createdAt': '2018-02-11T21:20:03.745Z',\n",
       "  'deleted': False,\n",
       "  'used': False},\n",
       " {'status': {'verified': True, 'sentCount': 1},\n",
       "  '_id': '58e009390aac31001185ed10',\n",
       "  'user': '58e007480aac31001185ecef',\n",
       "  'text': \"Most cats are lactose intolerant, and milk can cause painful stomach cramps and diarrhea. It's best to forego the milk and just give your cat the standard: clean, cool drinking water.\",\n",
       "  '__v': 0,\n",
       "  'source': 'user',\n",
       "  'updatedAt': '2020-08-23T20:20:01.611Z',\n",
       "  'type': 'cat',\n",
       "  'createdAt': '2018-03-04T21:20:02.979Z',\n",
       "  'deleted': False,\n",
       "  'used': False},\n",
       " {'status': {'verified': True, 'sentCount': 1},\n",
       "  '_id': '58e008780aac31001185ed05',\n",
       "  'user': '58e007480aac31001185ecef',\n",
       "  'text': 'Owning a cat can reduce the risk of stroke and heart attack by a third.',\n",
       "  '__v': 0,\n",
       "  'source': 'user',\n",
       "  'updatedAt': '2020-08-23T20:20:01.611Z',\n",
       "  'type': 'cat',\n",
       "  'createdAt': '2018-03-29T20:20:03.844Z',\n",
       "  'deleted': False,\n",
       "  'used': False}]"
      ]
     },
     "execution_count": 9,
     "metadata": {},
     "output_type": "execute_result"
    }
   ],
   "source": [
    "response.json()"
   ]
  },
  {
   "cell_type": "code",
   "execution_count": 20,
   "id": "ad6da517",
   "metadata": {
    "pycharm": {
     "name": "#%%\n"
    }
   },
   "outputs": [
    {
     "name": "stdout",
     "output_type": "stream",
     "text": [
      "\n",
      "Cat Fact: Wikipedia has a recording of a cat meowing, because why not?\n",
      "\n",
      "Cat Fact: When cats grimace, they are usually \"taste-scenting.\" They have an extra organ that, with some breathing control, allows the cats to taste-sense the air.\n",
      "\n",
      "Cat Fact: Cats make more than 100 different sounds whereas dogs make around 10.\n",
      "\n",
      "Cat Fact: Most cats are lactose intolerant, and milk can cause painful stomach cramps and diarrhea. It's best to forego the milk and just give your cat the standard: clean, cool drinking water.\n",
      "\n",
      "Cat Fact: Owning a cat can reduce the risk of stroke and heart attack by a third.\n"
     ]
    }
   ],
   "source": [
    "for res in response.json():\n",
    "    print(f'\\nCat Fact: {res[\"text\"]}')"
   ]
  },
  {
   "cell_type": "code",
   "execution_count": 16,
   "id": "8a6230df",
   "metadata": {
    "pycharm": {
     "name": "#%%\n"
    }
   },
   "outputs": [
    {
     "data": {
      "text/html": [
       "<div>\n",
       "<style scoped>\n",
       "    .dataframe tbody tr th:only-of-type {\n",
       "        vertical-align: middle;\n",
       "    }\n",
       "\n",
       "    .dataframe tbody tr th {\n",
       "        vertical-align: top;\n",
       "    }\n",
       "\n",
       "    .dataframe thead th {\n",
       "        text-align: right;\n",
       "    }\n",
       "</style>\n",
       "<table border=\"1\" class=\"dataframe\">\n",
       "  <thead>\n",
       "    <tr style=\"text-align: right;\">\n",
       "      <th></th>\n",
       "      <th>_id</th>\n",
       "      <th>user</th>\n",
       "      <th>text</th>\n",
       "      <th>__v</th>\n",
       "      <th>source</th>\n",
       "      <th>updatedAt</th>\n",
       "      <th>type</th>\n",
       "      <th>createdAt</th>\n",
       "      <th>deleted</th>\n",
       "      <th>used</th>\n",
       "      <th>status.verified</th>\n",
       "      <th>status.sentCount</th>\n",
       "    </tr>\n",
       "  </thead>\n",
       "  <tbody>\n",
       "    <tr>\n",
       "      <th>0</th>\n",
       "      <td>58e008800aac31001185ed07</td>\n",
       "      <td>58e007480aac31001185ecef</td>\n",
       "      <td>Wikipedia has a recording of a cat meowing, be...</td>\n",
       "      <td>0</td>\n",
       "      <td>user</td>\n",
       "      <td>2020-08-23T20:20:01.611Z</td>\n",
       "      <td>cat</td>\n",
       "      <td>2018-03-06T21:20:03.505Z</td>\n",
       "      <td>False</td>\n",
       "      <td>False</td>\n",
       "      <td>True</td>\n",
       "      <td>1</td>\n",
       "    </tr>\n",
       "    <tr>\n",
       "      <th>1</th>\n",
       "      <td>58e008630aac31001185ed01</td>\n",
       "      <td>58e007480aac31001185ecef</td>\n",
       "      <td>When cats grimace, they are usually \"taste-sce...</td>\n",
       "      <td>0</td>\n",
       "      <td>user</td>\n",
       "      <td>2020-08-23T20:20:01.611Z</td>\n",
       "      <td>cat</td>\n",
       "      <td>2018-02-07T21:20:02.903Z</td>\n",
       "      <td>False</td>\n",
       "      <td>False</td>\n",
       "      <td>True</td>\n",
       "      <td>1</td>\n",
       "    </tr>\n",
       "    <tr>\n",
       "      <th>2</th>\n",
       "      <td>58e00a090aac31001185ed16</td>\n",
       "      <td>58e007480aac31001185ecef</td>\n",
       "      <td>Cats make more than 100 different sounds where...</td>\n",
       "      <td>0</td>\n",
       "      <td>user</td>\n",
       "      <td>2020-08-23T20:20:01.611Z</td>\n",
       "      <td>cat</td>\n",
       "      <td>2018-02-11T21:20:03.745Z</td>\n",
       "      <td>False</td>\n",
       "      <td>False</td>\n",
       "      <td>True</td>\n",
       "      <td>1</td>\n",
       "    </tr>\n",
       "    <tr>\n",
       "      <th>3</th>\n",
       "      <td>58e009390aac31001185ed10</td>\n",
       "      <td>58e007480aac31001185ecef</td>\n",
       "      <td>Most cats are lactose intolerant, and milk can...</td>\n",
       "      <td>0</td>\n",
       "      <td>user</td>\n",
       "      <td>2020-08-23T20:20:01.611Z</td>\n",
       "      <td>cat</td>\n",
       "      <td>2018-03-04T21:20:02.979Z</td>\n",
       "      <td>False</td>\n",
       "      <td>False</td>\n",
       "      <td>True</td>\n",
       "      <td>1</td>\n",
       "    </tr>\n",
       "    <tr>\n",
       "      <th>4</th>\n",
       "      <td>58e008780aac31001185ed05</td>\n",
       "      <td>58e007480aac31001185ecef</td>\n",
       "      <td>Owning a cat can reduce the risk of stroke and...</td>\n",
       "      <td>0</td>\n",
       "      <td>user</td>\n",
       "      <td>2020-08-23T20:20:01.611Z</td>\n",
       "      <td>cat</td>\n",
       "      <td>2018-03-29T20:20:03.844Z</td>\n",
       "      <td>False</td>\n",
       "      <td>False</td>\n",
       "      <td>True</td>\n",
       "      <td>1</td>\n",
       "    </tr>\n",
       "  </tbody>\n",
       "</table>\n",
       "</div>"
      ],
      "text/plain": [
       "                        _id                      user  \\\n",
       "0  58e008800aac31001185ed07  58e007480aac31001185ecef   \n",
       "1  58e008630aac31001185ed01  58e007480aac31001185ecef   \n",
       "2  58e00a090aac31001185ed16  58e007480aac31001185ecef   \n",
       "3  58e009390aac31001185ed10  58e007480aac31001185ecef   \n",
       "4  58e008780aac31001185ed05  58e007480aac31001185ecef   \n",
       "\n",
       "                                                text  __v source  \\\n",
       "0  Wikipedia has a recording of a cat meowing, be...    0   user   \n",
       "1  When cats grimace, they are usually \"taste-sce...    0   user   \n",
       "2  Cats make more than 100 different sounds where...    0   user   \n",
       "3  Most cats are lactose intolerant, and milk can...    0   user   \n",
       "4  Owning a cat can reduce the risk of stroke and...    0   user   \n",
       "\n",
       "                  updatedAt type                 createdAt  deleted   used  \\\n",
       "0  2020-08-23T20:20:01.611Z  cat  2018-03-06T21:20:03.505Z    False  False   \n",
       "1  2020-08-23T20:20:01.611Z  cat  2018-02-07T21:20:02.903Z    False  False   \n",
       "2  2020-08-23T20:20:01.611Z  cat  2018-02-11T21:20:03.745Z    False  False   \n",
       "3  2020-08-23T20:20:01.611Z  cat  2018-03-04T21:20:02.979Z    False  False   \n",
       "4  2020-08-23T20:20:01.611Z  cat  2018-03-29T20:20:03.844Z    False  False   \n",
       "\n",
       "   status.verified  status.sentCount  \n",
       "0             True                 1  \n",
       "1             True                 1  \n",
       "2             True                 1  \n",
       "3             True                 1  \n",
       "4             True                 1  "
      ]
     },
     "execution_count": 16,
     "metadata": {},
     "output_type": "execute_result"
    }
   ],
   "source": [
    "df = pd.json_normalize(response.json())\n",
    "df"
   ]
  },
  {
   "cell_type": "code",
   "execution_count": 17,
   "id": "2ec61d06",
   "metadata": {
    "pycharm": {
     "name": "#%%\n"
    }
   },
   "outputs": [
    {
     "name": "stdout",
     "output_type": "stream",
     "text": [
      "<class 'pandas.core.frame.DataFrame'>\n",
      "RangeIndex: 5 entries, 0 to 4\n",
      "Data columns (total 12 columns):\n",
      " #   Column            Non-Null Count  Dtype \n",
      "---  ------            --------------  ----- \n",
      " 0   _id               5 non-null      object\n",
      " 1   user              5 non-null      object\n",
      " 2   text              5 non-null      object\n",
      " 3   __v               5 non-null      int64 \n",
      " 4   source            5 non-null      object\n",
      " 5   updatedAt         5 non-null      object\n",
      " 6   type              5 non-null      object\n",
      " 7   createdAt         5 non-null      object\n",
      " 8   deleted           5 non-null      bool  \n",
      " 9   used              5 non-null      bool  \n",
      " 10  status.verified   5 non-null      bool  \n",
      " 11  status.sentCount  5 non-null      int64 \n",
      "dtypes: bool(3), int64(2), object(7)\n",
      "memory usage: 503.0+ bytes\n"
     ]
    }
   ],
   "source": [
    "df.info()"
   ]
  },
  {
   "cell_type": "code",
   "execution_count": 25,
   "id": "0e4a5adb",
   "metadata": {
    "pycharm": {
     "name": "#%%\n"
    }
   },
   "outputs": [],
   "source": [
    "df.drop(columns=['_id', 'user', '__v', 'status.verified', 'status.sentCount'], inplace=True)"
   ]
  },
  {
   "cell_type": "code",
   "execution_count": 32,
   "id": "d6fb0c65",
   "metadata": {
    "pycharm": {
     "name": "#%%\n"
    }
   },
   "outputs": [
    {
     "data": {
      "text/html": [
       "<div>\n",
       "<style scoped>\n",
       "    .dataframe tbody tr th:only-of-type {\n",
       "        vertical-align: middle;\n",
       "    }\n",
       "\n",
       "    .dataframe tbody tr th {\n",
       "        vertical-align: top;\n",
       "    }\n",
       "\n",
       "    .dataframe thead th {\n",
       "        text-align: right;\n",
       "    }\n",
       "</style>\n",
       "<table border=\"1\" class=\"dataframe\">\n",
       "  <thead>\n",
       "    <tr style=\"text-align: right;\">\n",
       "      <th></th>\n",
       "      <th>text</th>\n",
       "      <th>source</th>\n",
       "      <th>updatedAt</th>\n",
       "      <th>type</th>\n",
       "      <th>createdAt</th>\n",
       "      <th>deleted</th>\n",
       "      <th>used</th>\n",
       "    </tr>\n",
       "  </thead>\n",
       "  <tbody>\n",
       "    <tr>\n",
       "      <th>0</th>\n",
       "      <td>Wikipedia has a recording of a cat meowing, be...</td>\n",
       "      <td>user</td>\n",
       "      <td>2020-08-23T20:20:01.611Z</td>\n",
       "      <td>cat</td>\n",
       "      <td>2018-03-06T21:20:03.505Z</td>\n",
       "      <td>False</td>\n",
       "      <td>False</td>\n",
       "    </tr>\n",
       "    <tr>\n",
       "      <th>1</th>\n",
       "      <td>When cats grimace, they are usually \"taste-sce...</td>\n",
       "      <td>user</td>\n",
       "      <td>2020-08-23T20:20:01.611Z</td>\n",
       "      <td>cat</td>\n",
       "      <td>2018-02-07T21:20:02.903Z</td>\n",
       "      <td>False</td>\n",
       "      <td>False</td>\n",
       "    </tr>\n",
       "    <tr>\n",
       "      <th>2</th>\n",
       "      <td>Cats make more than 100 different sounds where...</td>\n",
       "      <td>user</td>\n",
       "      <td>2020-08-23T20:20:01.611Z</td>\n",
       "      <td>cat</td>\n",
       "      <td>2018-02-11T21:20:03.745Z</td>\n",
       "      <td>False</td>\n",
       "      <td>False</td>\n",
       "    </tr>\n",
       "    <tr>\n",
       "      <th>3</th>\n",
       "      <td>Most cats are lactose intolerant, and milk can...</td>\n",
       "      <td>user</td>\n",
       "      <td>2020-08-23T20:20:01.611Z</td>\n",
       "      <td>cat</td>\n",
       "      <td>2018-03-04T21:20:02.979Z</td>\n",
       "      <td>False</td>\n",
       "      <td>False</td>\n",
       "    </tr>\n",
       "    <tr>\n",
       "      <th>4</th>\n",
       "      <td>Owning a cat can reduce the risk of stroke and...</td>\n",
       "      <td>user</td>\n",
       "      <td>2020-08-23T20:20:01.611Z</td>\n",
       "      <td>cat</td>\n",
       "      <td>2018-03-29T20:20:03.844Z</td>\n",
       "      <td>False</td>\n",
       "      <td>False</td>\n",
       "    </tr>\n",
       "  </tbody>\n",
       "</table>\n",
       "</div>"
      ],
      "text/plain": [
       "                                                text source  \\\n",
       "0  Wikipedia has a recording of a cat meowing, be...   user   \n",
       "1  When cats grimace, they are usually \"taste-sce...   user   \n",
       "2  Cats make more than 100 different sounds where...   user   \n",
       "3  Most cats are lactose intolerant, and milk can...   user   \n",
       "4  Owning a cat can reduce the risk of stroke and...   user   \n",
       "\n",
       "                  updatedAt type                 createdAt  deleted   used  \n",
       "0  2020-08-23T20:20:01.611Z  cat  2018-03-06T21:20:03.505Z    False  False  \n",
       "1  2020-08-23T20:20:01.611Z  cat  2018-02-07T21:20:02.903Z    False  False  \n",
       "2  2020-08-23T20:20:01.611Z  cat  2018-02-11T21:20:03.745Z    False  False  \n",
       "3  2020-08-23T20:20:01.611Z  cat  2018-03-04T21:20:02.979Z    False  False  \n",
       "4  2020-08-23T20:20:01.611Z  cat  2018-03-29T20:20:03.844Z    False  False  "
      ]
     },
     "execution_count": 32,
     "metadata": {},
     "output_type": "execute_result"
    }
   ],
   "source": [
    "df"
   ]
  },
  {
   "cell_type": "code",
   "execution_count": 22,
   "id": "2aa61305",
   "metadata": {
    "pycharm": {
     "name": "#%%\n"
    }
   },
   "outputs": [],
   "source": [
    "client = MongoClient()\n",
    "db = client['api']\n",
    "collection = db['cat_facts']"
   ]
  },
  {
   "cell_type": "code",
   "execution_count": 26,
   "id": "56d57f3d",
   "metadata": {
    "pycharm": {
     "name": "#%%\n"
    }
   },
   "outputs": [
    {
     "data": {
      "text/plain": [
       "<pymongo.results.InsertManyResult at 0x22dff672480>"
      ]
     },
     "execution_count": 26,
     "metadata": {},
     "output_type": "execute_result"
    }
   ],
   "source": [
    "collection.insert_many(df.to_dict('records'))"
   ]
  },
  {
   "cell_type": "code",
   "execution_count": 27,
   "id": "e83e8394",
   "metadata": {
    "pycharm": {
     "name": "#%%\n"
    }
   },
   "outputs": [
    {
     "data": {
      "text/plain": [
       "{'_id': ObjectId('629d31e305aa03778010fe75'),\n",
       " 'text': 'Wikipedia has a recording of a cat meowing, because why not?',\n",
       " 'source': 'user',\n",
       " 'updatedAt': '2020-08-23T20:20:01.611Z',\n",
       " 'type': 'cat',\n",
       " 'createdAt': '2018-03-06T21:20:03.505Z',\n",
       " 'deleted': False,\n",
       " 'used': False}"
      ]
     },
     "execution_count": 27,
     "metadata": {},
     "output_type": "execute_result"
    }
   ],
   "source": [
    "collection.find_one()"
   ]
  }
 ],
 "metadata": {
  "kernelspec": {
   "display_name": "Python 3",
   "language": "python",
   "name": "python3"
  },
  "language_info": {
   "codemirror_mode": {
    "name": "ipython",
    "version": 3
   },
   "file_extension": ".py",
   "mimetype": "text/x-python",
   "name": "python",
   "nbconvert_exporter": "python",
   "pygments_lexer": "ipython3",
   "version": "3.8.8"
  }
 },
 "nbformat": 4,
 "nbformat_minor": 5
}