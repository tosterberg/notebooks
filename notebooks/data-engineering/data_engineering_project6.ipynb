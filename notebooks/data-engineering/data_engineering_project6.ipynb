{
 "cells": [
  {
   "cell_type": "markdown",
   "id": "16bb72c8",
   "metadata": {
    "pycharm": {
     "name": "#%% md\n"
    }
   },
   "source": [
    "**Tyler Osterberg**<br>\n",
    "**MSDS: Data Engineering**<br>\n",
    "**Project 6: Web Scraping**<br>"
   ]
  },
  {
   "cell_type": "code",
   "execution_count": 1,
   "id": "1d992980",
   "metadata": {
    "pycharm": {
     "name": "#%%\n"
    }
   },
   "outputs": [],
   "source": [
    "import requests as req\n",
    "from bs4 import BeautifulSoup as bs\n",
    "from pymongo import MongoClient"
   ]
  },
  {
   "cell_type": "code",
   "execution_count": 2,
   "id": "a2ddbf4d",
   "metadata": {
    "pycharm": {
     "name": "#%%\n"
    }
   },
   "outputs": [],
   "source": [
    "res = req.get('https://www.colorado.gov/articles')"
   ]
  },
  {
   "cell_type": "code",
   "execution_count": 3,
   "id": "04568a75",
   "metadata": {
    "pycharm": {
     "name": "#%%\n"
    }
   },
   "outputs": [],
   "source": [
    "soup = bs(res.content, 'html.parser')"
   ]
  },
  {
   "cell_type": "code",
   "execution_count": 4,
   "id": "d4cfc1d1",
   "metadata": {
    "pycharm": {
     "name": "#%%\n"
    }
   },
   "outputs": [],
   "source": [
    "news_items = soup.find_all('div', {'class': 'views-row'})"
   ]
  },
  {
   "cell_type": "code",
   "execution_count": 5,
   "id": "f2b248e5",
   "metadata": {
    "pycharm": {
     "name": "#%%\n"
    }
   },
   "outputs": [
    {
     "data": {
      "text/plain": [
       "12"
      ]
     },
     "execution_count": 5,
     "metadata": {},
     "output_type": "execute_result"
    }
   ],
   "source": [
    "len(news_items)"
   ]
  },
  {
   "cell_type": "code",
   "execution_count": 6,
   "id": "6d80aa8f",
   "metadata": {
    "pycharm": {
     "name": "#%%\n"
    }
   },
   "outputs": [
    {
     "data": {
      "text/plain": [
       "<div class=\"views-row\">\n",
       "<div class=\"my-8\">\n",
       "<div class=\"text-2xl text-co-md-blue hover:underline\"><div class=\"views-field views-field-title\"><span class=\"field-content\"><a href=\"https://www.colorado.gov/governor/news/7821-colorado-cashback-governor-polis-legislative-leaders-announce-new-400-colorado-dividend\">Colorado Cashback: Governor Polis, Legislative Leaders Announce New $400 Colorado Dividend for Every Hardworking Colorado Taxpayer</a></span></div> </div>\n",
       "<div class=\"text-base text-gray-600 py-1\"><div class=\"views-field views-field-created\"><span class=\"field-content\">April 25, 2022</span></div> </div>\n",
       "<div class=\"text-base text-gray-600 hover:underline\"><div class=\"views-field views-field-field-state-agency\"><div class=\"field-content\"><a href=\"/index.php/state-agencies/office-governor\" hreflang=\"en\">Office of the Governor</a></div></div> </div>\n",
       "</div>\n",
       "</div>"
      ]
     },
     "execution_count": 6,
     "metadata": {},
     "output_type": "execute_result"
    }
   ],
   "source": [
    "news_items[0]"
   ]
  },
  {
   "cell_type": "code",
   "execution_count": 7,
   "id": "fcab9f1f",
   "metadata": {
    "pycharm": {
     "name": "#%%\n"
    }
   },
   "outputs": [],
   "source": [
    "class NewsArticle:\n",
    "    def __init__(self, item):\n",
    "        self.title = item.find('div', class_='views-field-title').get_text()\n",
    "        self.date = item.find('div', class_='views-field-created').get_text()\n",
    "        self.link = item.find('a')['href']\n",
    "    \n",
    "    def show(self):\n",
    "        print(f'Title: {self.title}\\nDate: {self.date}\\nLink: {self.link}')"
   ]
  },
  {
   "cell_type": "code",
   "execution_count": 8,
   "id": "5a7312ec",
   "metadata": {
    "pycharm": {
     "name": "#%%\n"
    }
   },
   "outputs": [],
   "source": [
    "def add_to_library(items, lib):\n",
    "    for item in items:\n",
    "        article = NewsArticle(item)\n",
    "        lib.append(article)"
   ]
  },
  {
   "cell_type": "code",
   "execution_count": 9,
   "id": "2ea0b3b3",
   "metadata": {
    "pycharm": {
     "name": "#%%\n"
    }
   },
   "outputs": [
    {
     "name": "stdout",
     "output_type": "stream",
     "text": [
      "12\n"
     ]
    }
   ],
   "source": [
    "library = []\n",
    "\n",
    "add_to_library(news_items, library)\n",
    "    \n",
    "print(len(library))"
   ]
  },
  {
   "cell_type": "markdown",
   "id": "73e140ef",
   "metadata": {
    "pycharm": {
     "name": "#%% md\n"
    }
   },
   "source": [
    "**Let's get 10 pages of results now**"
   ]
  },
  {
   "cell_type": "code",
   "execution_count": 10,
   "id": "18e16fd7",
   "metadata": {
    "pycharm": {
     "name": "#%%\n"
    }
   },
   "outputs": [],
   "source": [
    "for i in range(1, 10):\n",
    "    res = req.get(f'https://www.colorado.gov/articles?page={i}')\n",
    "    soup = bs(res.content, 'html.parser')\n",
    "    news_items = soup.find_all('div', {'class': 'views-row'})\n",
    "    add_to_library(news_items, library)"
   ]
  },
  {
   "cell_type": "code",
   "execution_count": 11,
   "id": "822ddbc6",
   "metadata": {
    "pycharm": {
     "name": "#%%\n"
    }
   },
   "outputs": [
    {
     "name": "stdout",
     "output_type": "stream",
     "text": [
      "Title: Colorado Cashback: Governor Polis, Legislative Leaders Announce New $400 Colorado Dividend for Every Hardworking Colorado Taxpayer\n",
      "Date: April 25, 2022\n",
      "Link: https://www.colorado.gov/governor/news/7821-colorado-cashback-governor-polis-legislative-leaders-announce-new-400-colorado-dividend\n",
      "Title: Polis Administration Secures Agriculture Company for New Colorado Headquarters\n",
      "Date: April 21, 2022\n",
      "Link: https://oedit.colorado.gov/press-release/polis-administration-secures-agriculture-company-for-new-colorado-headquarters\n",
      "Title: Press Release: Colorado Employment Situation – March 2022\n",
      "Date: April 15, 2022\n",
      "Link: https://cdle.colorado.gov/press-releases/press-release-colorado-employment-situation-march-2022\n",
      "Title: Press Release: Colorado Employment Situation – March 2022\n",
      "Date: April 15, 2022\n",
      "Link: https://cdle.colorado.gov/press-releases/press-release-colorado-employment-situation-march-2022\n",
      "Title: 4.7.2022: HB22-1328: Modify Main Street Business Recovery Loan Program CLIMBER in Committee Today\n",
      "Date: April 7, 2022\n",
      "Link: https://treasury.colorado.gov/press-release/472022-hb22-1328-modify-main-street-business-recovery-loan-program-climber-in\n",
      "Title: OrganaGardens Keeps Wages Equitable as a Worker Cooperative\n",
      "Date: April 7, 2022\n",
      "Link: https://oedit.colorado.gov/case-study/organagardens-keeps-wages-equitable-as-a-worker-cooperative\n",
      "Title: Press Release: Colorado Occupational Employment and Wages — 2021\n",
      "Date: April 6, 2022\n",
      "Link: https://cdle.colorado.gov/press-releases/press-release-colorado-occupational-employment-and-wages-2021\n",
      "Title: Press Release: Colorado Occupational Employment and Wages — 2021\n",
      "Date: April 6, 2022\n",
      "Link: https://cdle.colorado.gov/press-releases/press-release-colorado-occupational-employment-and-wages-2021\n",
      "Title: Social Equity Licensee Highlight: High Demand Delivery\n",
      "Date: April 5, 2022\n",
      "Link: https://oedit.colorado.gov/case-study/social-equity-licensee-highlight-high-demand-delivery\n",
      "Title: Colorado Hospital Profits Among Nation’s Highest for Third Consecutive Year\n",
      "Date: March 30, 2022\n",
      "Link: https://hcpf.colorado.gov/colorado-hospital-profits-among-nations-highest-for-third-consecutive-year\n",
      "Title: April 2022 Accessibility Corner Blog\n",
      "Date: March 25, 2022\n",
      "Link: https://oedit.colorado.gov/blog-post/april-2022-accessibility-corner-blog\n",
      "Title: Colorado Medicaid Executes Its First Pharmaceutical Value-Based Contracts\n",
      "Date: March 22, 2022\n",
      "Link: https://hcpf.colorado.gov/colorado-medicaid-executes-its-first-pharmaceutical-value-based-contracts\n",
      "Title: Call for Applications: Funding Opportunity to Launch and Expand Registered Apprenticeship Programs Statewide\n",
      "Date: March 21, 2022\n",
      "Link: https://cdle.colorado.gov/press-releases/call-for-applications-funding-opportunity-to-launch-and-expand-registered\n",
      "Title: Call for Applications: Funding Opportunity to Launch and Expand Registered Apprenticeship Programs Statewide\n",
      "Date: March 21, 2022\n",
      "Link: https://cdle.colorado.gov/press-releases/call-for-applications-funding-opportunity-to-launch-and-expand-registered\n",
      "Title: Bluestaq Selects Colorado for Large-Scale Expansion\n",
      "Date: March 18, 2022\n",
      "Link: https://oedit.colorado.gov/press-release/bluestaq-selects-colorado-for-large-scale-expansion\n",
      "Title: 3.14.2022: Colorado Treasurer Dave Young Issues Statement in Support of HB22-1279\n",
      "Date: March 14, 2022\n",
      "Link: https://treasury.colorado.gov/press-release/3142022-colorado-treasurer-dave-young-issues-statement-in-support-of-hb22-1279\n",
      "Title: Press Release: Colorado Employment Situation – January 2022\n",
      "Date: March 14, 2022\n",
      "Link: https://cdle.colorado.gov/press-releases/press-release-colorado-employment-situation-january-2022\n",
      "Title: Press Release: Colorado Employment Situation – January 2022\n",
      "Date: March 14, 2022\n",
      "Link: https://cdle.colorado.gov/press-releases/press-release-colorado-employment-situation-january-2022\n",
      "Title: Economic Development: Polis Administration Launches Applications for Cannabis Business Office Pilot Grant\n",
      "Date: March 11, 2022\n",
      "Link: https://oedit.colorado.gov/press-release/economic-development-polis-administration-launches-applications-for-cannabis-business\n",
      "Title: School Access For Emergency Response (SAFER) Grant Announcement\n",
      "Date: March 2, 2022\n",
      "Link: https://cssrc.colorado.gov/news-article/school-access-for-emergency-response-safer-grant-announcement\n",
      "Title: CDLE Launches Disability Hiring Preference Program to Advance Equity, Diversity, and Inclusion in its Talent Management Practices\n",
      "Date: March 1, 2022\n",
      "Link: https://cdle.colorado.gov/press-releases/cdle-launches-disability-hiring-preference-program-to-advance-equity-diversity-and\n",
      "Title: CDLE Launches Disability Hiring Preference Program to Advance Equity, Diversity, and Inclusion in its Talent Management Practices\n",
      "Date: March 1, 2022\n",
      "Link: https://cdle.colorado.gov/press-releases/cdle-launches-disability-hiring-preference-program-to-advance-equity-diversity-and\n",
      "Title: Women's History Month | Shop Local\n",
      "Date: February 28, 2022\n",
      "Link: https://oedit.colorado.gov/blog-post/womens-history-month-shop-local\n",
      "Title: 14 Artists Awarded $217,000 in Cycle B of Colorado Creative Corps ARP Grant\n",
      "Date: February 25, 2022\n",
      "Link: https://oedit.colorado.gov/press-release/14-artists-awarded-217000-in-cycle-b-of-colorado-creative-corps-arp-grant\n",
      "Title: 93% of FirstBank Employees Participate in Retirement Plans\n",
      "Date: February 24, 2022\n",
      "Link: https://oedit.colorado.gov/case-study/93-of-firstbank-employees-participate-in-retirement-plans\n",
      "Title: 2.23.2022: Colorado Treasurer Dave Young Statement on Building Excellent Schools Today (BEST) Grant Recipient Schools in Pueblo\n",
      "Date: February 23, 2022\n",
      "Link: https://treasury.colorado.gov/press-release/2232022-colorado-treasurer-dave-young-statement-on-building-excellent-schools-today\n",
      "Title: Press Release: Expected Revisions to Colorado Nonfarm Payroll Jobs\n",
      "Date: February 22, 2022\n",
      "Link: https://cdle.colorado.gov/press-releases/press-release-expected-revisions-to-colorado-nonfarm-payroll-jobs-7\n",
      "Title: Press Release: Expected Revisions to Colorado Nonfarm Payroll Jobs\n",
      "Date: February 22, 2022\n",
      "Link: https://cdle.colorado.gov/press-releases/press-release-expected-revisions-to-colorado-nonfarm-payroll-jobs-7\n",
      "Title: Four Companies Successfully Convert to Employee Ownership with Colorado Employee Ownership Grant\n",
      "Date: February 16, 2022\n",
      "Link: https://oedit.colorado.gov/press-release/four-companies-successfully-convert-to-employee-ownership-with-colorado-employee\n",
      "Title: Colorado Carbon Capture, Utilization and Sequestration Task Force releases recommendations on the role of carbon capture in meeting state climate goals\n",
      "Date: February 3, 2022\n",
      "Link: https://energyoffice.colorado.gov/press-releases/colorado-carbon-capture-utilization-and-sequestration-task-force-releases\n",
      "Title: Press Release: Deadline Is Feb. 2 For Those Affected By Marshall Fire To Apply For Disaster Unemployment Assistance\n",
      "Date: February 2, 2022\n",
      "Link: https://cdle.colorado.gov/press-releases/press-release-deadline-is-feb-2-for-those-affected-by-marshall-fire-to-apply-for\n",
      "Title: Press Release: Talent Pipeline Report Helps Advance a Data-Informed Economic Recovery\n",
      "Date: February 2, 2022\n",
      "Link: https://cdle.colorado.gov/press-releases/press-release-talent-pipeline-report-helps-advance-a-data-informed-economic-recovery\n",
      "Title: Press Release: New Pilot Program Provides Customized, No-Cost Career Services to Workers with Disabilities as Their Unemployment Rate Surges\n",
      "Date: February 2, 2022\n",
      "Link: https://cdle.colorado.gov/press-releases/press-release-new-pilot-program-provides-customized-no-cost-career-services-to\n",
      "Title: Press Release: Expected Revisions to Colorado Nonfarm Payroll Jobs\n",
      "Date: February 2, 2022\n",
      "Link: https://cdle.colorado.gov/press-releases/press-release-expected-revisions-to-colorado-nonfarm-payroll-jobs-6\n",
      "Title: Press Release: Colorado Apprenticeship Awards Highlight Importance of Programs\n",
      "Date: February 2, 2022\n",
      "Link: https://cdle.colorado.gov/press-releases/press-release-colorado-apprenticeship-awards-highlight-importance-of-programs\n",
      "Title: Press Release: New Bill Will Help Coloradans Get High-Quality Jobs in Renewable Energy Sector\n",
      "Date: February 2, 2022\n",
      "Link: https://cdle.colorado.gov/press-releases/press-release-new-bill-will-help-coloradans-get-high-quality-jobs-in-renewable\n",
      "Title: Feb. 2 Colorado DR4634 Update: Boulder Fires and Straight Line Winds\n",
      "Date: February 2, 2022\n",
      "Link: https://mars.colorado.gov/news-article/feb-2-colorado-dr4634-update-boulder-fires-and-straight-line-winds\n",
      "Title: Feb. 2 Colorado DR4634 Update: Boulder Fires and Straight Line Winds\n",
      "Date: February 2, 2022\n",
      "Link: https://mars.colorado.gov/news-article/feb-2-colorado-dr4634-update-boulder-fires-and-straight-line-winds\n",
      "Title: 1.31.2022: February 1st is National Unclaimed Property Day\n",
      "Date: February 1, 2022\n",
      "Link: https://treasury.colorado.gov/press-release/1312022-february-1st-is-national-unclaimed-property-day\n",
      "Title: Press Release: Deadline Is Feb. 2 For Those Affected By Marshall Fire To Apply For Disaster Unemployment Assistance\n",
      "Date: January 28, 2022\n",
      "Link: https://cdle.colorado.gov/press-releases/press-release-deadline-is-feb-2-for-those-affected-by-marshall-fire-to-apply-for\n",
      "Title: Press Release: Deadline Is Feb. 2 For Those Affected By Marshall Fire To Apply For Disaster Unemployment Assistance\n",
      "Date: January 28, 2022\n",
      "Link: https://cdle.colorado.gov/press-releases/press-release-deadline-is-feb-2-for-those-affected-by-marshall-fire-to-apply-for\n",
      "Title: Press Release: New Pilot Program Provides Customized, No-Cost Career Services to Workers with Disabilities as Their Unemployment Rate Surges\n",
      "Date: January 26, 2022\n",
      "Link: https://cdle.colorado.gov/press-releases/press-release-new-pilot-program-provides-customized-no-cost-career-services-to\n",
      "Title: Press Release: New Pilot Program Provides Customized, No-Cost Career Services to Workers with Disabilities as Their Unemployment Rate Surges\n",
      "Date: January 26, 2022\n",
      "Link: https://cdle.colorado.gov/press-releases/press-release-new-pilot-program-provides-customized-no-cost-career-services-to\n",
      "Title: Press Release: Colorado Employment Situation – December 2021\n",
      "Date: January 21, 2022\n",
      "Link: https://cdle.colorado.gov/press-releases/press-release-colorado-employment-situation-december-2021\n",
      "Title: Press Release: Colorado Employment Situation – December 2021\n",
      "Date: January 21, 2022\n",
      "Link: https://cdle.colorado.gov/press-releases/press-release-colorado-employment-situation-december-2021\n",
      "Title: Colorado activates disaster food benefits for communities affected by Boulder fires\n",
      "Date: January 20, 2022\n",
      "Link: https://cdhs.colorado.gov/press-release/colorado-activates-disaster-food-benefits-for-communities-affected-by-boulder-fires\n",
      "Title: Call for Developers - Build a Global Energy Business Park\n",
      "Date: January 19, 2022\n",
      "Link: https://dpa.colorado.gov/news/global-energy-business-park\n",
      "Title: 1.19.2022: Colorado Treasurer Dave Young Helps School Districts With Cash Flow Shortages\n",
      "Date: January 19, 2022\n",
      "Link: https://treasury.colorado.gov/press-release/1192022-colorado-treasurer-dave-young-helps-school-districts-with-cash-flow-shortages\n",
      "Title: 1.10.2022:  Colorado Treasurer Dave Young Statement on Congressman Ed Perlmutter Retirement\n",
      "Date: January 10, 2022\n",
      "Link: https://treasury.colorado.gov/press-release/1102022-colorado-treasurer-dave-young-statement-on-congressman-ed-perlmutter\n",
      "Title: 1.10.2022:  Colorado Treasurer Dave Young Statement on BEST Grant Recipient Sierra Grande School District Ribbon Cutting\n",
      "Date: January 10, 2022\n",
      "Link: https://treasury.colorado.gov/press-release/1102022-colorado-treasurer-dave-young-statement-on-best-grant-recipient-sierra-grande\n",
      "Title: Press Release: State Labor Dept: Paid Sick Leave Continues in 2022, new requirements took effect Jan 1.\n",
      "Date: January 6, 2022\n",
      "Link: https://cdle.colorado.gov/press-releases/press-release-state-labor-dept-paid-sick-leave-continues-in-2022-new-requirements\n",
      "Title: Press Release: State Labor Dept: Paid Sick Leave Continues in 2022, new requirements took effect Jan 1.\n",
      "Date: January 6, 2022\n",
      "Link: https://cdle.colorado.gov/press-releases/press-release-state-labor-dept-paid-sick-leave-continues-in-2022-new-requirements\n",
      "Title: Fire Recovery: CSEAP Offers Recorded Presentation & Resources\n",
      "Date: January 5, 2022\n",
      "Link: https://cseap.colorado.gov/news/fire-recovery-cseap-offers-recorded-presentation-resources\n",
      "Title: Stakeholder Meeting #3: HB21-1095 Revisions to the Excavation Requirements Act\n",
      "Date: January 4, 2022\n",
      "Link: https://ops.colorado.gov/news-article/stakeholder-meeting-3-hb21-1095-revisions-to-the-excavation-requirements-act\n",
      "Title: Stakeholder Meeting #3: HB21-1095 Revisions to the Excavation Requirements Act\n",
      "Date: January 4, 2022\n",
      "Link: https://ops.colorado.gov/news-article/stakeholder-meeting-3-hb21-1095-revisions-to-the-excavation-requirements-act\n",
      "Title: Polis Administration Supplemental Budget Requests Support Nursing Homes, Their Workers, and Vulnerable Coloradans in Their Care\n",
      "Date: January 4, 2022\n",
      "Link: https://hcpf.colorado.gov/polis-administration-supplemental-budget-requests-support-nursing-homes\n",
      "Title: Resources for Coloradans Impacted by the Marshall Fire\n",
      "Date: January 1, 2022\n",
      "Link: https://www.colorado.gov/governor/news/6996-resources-coloradans-impacted-marshall-fire\n",
      "Title: Resources for Getting Prescriptions Refilled for Evacuees of the Boulder Fires\n",
      "Date: December 31, 2021\n",
      "Link: https://hcpf.colorado.gov/resources-for-getting-prescriptions-refilled-for-evacuees-of-the-boulder-fires\n",
      "Title: Resources, Donations Made Available To Those Impacted By Boulder County Fires\n",
      "Date: December 30, 2021\n",
      "Link: https://www.colorado.gov/governor/news/6991-resources-donations-made-available-those-impacted-boulder-county-fires\n",
      "Title: Press Release: Colorado Work-Related Fatalities Decreased in 2020\n",
      "Date: December 20, 2021\n",
      "Link: https://cdle.colorado.gov/press-releases/press-release-colorado-work-related-fatalities-decreased-in-2020\n",
      "Title: Press Release: Colorado Work-Related Fatalities Decreased in 2020\n",
      "Date: December 20, 2021\n",
      "Link: https://cdle.colorado.gov/press-releases/press-release-colorado-work-related-fatalities-decreased-in-2020\n",
      "Title:  Sex Offender Management Board Votes to Reconsider Change in Language of Standards & Guidelines for Treatment Providers\n",
      "Date: December 17, 2021\n",
      "Link: https://publicsafety.colorado.gov/press-release/sex-offender-management-board-votes-to-reconsider-change-in-language-of-standards\n",
      "Title: Press Release: Talent Pipeline Report Helps Advance a Data-Informed Economic Recovery\n",
      "Date: December 17, 2021\n",
      "Link: https://cdle.colorado.gov/press-releases/press-release-talent-pipeline-report-helps-advance-a-data-informed-economic-recovery\n",
      "Title: Press Release: Talent Pipeline Report Helps Advance a Data-Informed Economic Recovery\n",
      "Date: December 17, 2021\n",
      "Link: https://cdle.colorado.gov/press-releases/press-release-talent-pipeline-report-helps-advance-a-data-informed-economic-recovery\n",
      "Title: Colorado approves nation-leading rule to cut greenhouse gas emissions by shifting how it plans the state’s transportation system\n",
      "Date: December 16, 2021\n",
      "Link: https://energyoffice.colorado.gov/blog-posts/colorado-approves-nation-leading-rule-to-cut-greenhouse-gas-emissions-by-shifting-how-it\n",
      "Title: 12.15.2021: CollegeInvest 529 College Savings Accounts - Give the Gift of Higher Education this Holiday Season\n",
      "Date: December 15, 2021\n",
      "Link: https://treasury.colorado.gov/press-release/12152021-collegeinvest-529-college-savings-accounts-give-the-gift-of-higher-education\n",
      "Title: Innovative Health Care Payment and Delivery to be Piloted in Colorado\n",
      "Date: December 15, 2021\n",
      "Link: https://hcpf.colorado.gov/innovative-health-care-payment-and-delivery-to-be-piloted-in-colorado\n",
      "Title: 12.9.2021: Treasurer Young Finalizes Transformational Education Grants to Rebuild, Repair, and Replace Schools in Rural and Suburban Districts\n",
      "Date: December 9, 2021\n",
      "Link: https://treasury.colorado.gov/press-release/1292021-treasurer-young-finalizes-transformational-education-grants-to-rebuild-repair\n",
      "Title: Press Release: New Bill Will Help Coloradans Get High-Quality Jobs in Renewable Energy Sector\n",
      "Date: December 3, 2021\n",
      "Link: https://cdle.colorado.gov/press-releases/press-release-new-bill-will-help-coloradans-get-high-quality-jobs-in-renewable\n",
      "Title: Press Release: New Bill Will Help Coloradans Get High-Quality Jobs in Renewable Energy Sector\n",
      "Date: December 3, 2021\n",
      "Link: https://cdle.colorado.gov/press-releases/press-release-new-bill-will-help-coloradans-get-high-quality-jobs-in-renewable\n",
      "Title: Press Release: Colorado Apprenticeship Awards Highlight Importance of Programs\n",
      "Date: November 23, 2021\n",
      "Link: https://cdle.colorado.gov/press-releases/press-release-colorado-apprenticeship-awards-highlight-importance-of-programs\n",
      "Title: Press Release: Colorado Apprenticeship Awards Highlight Importance of Programs\n",
      "Date: November 23, 2021\n",
      "Link: https://cdle.colorado.gov/press-releases/press-release-colorado-apprenticeship-awards-highlight-importance-of-programs\n",
      "Title: Press Release: Expected Revisions to Colorado Nonfarm Payroll Jobs\n",
      "Date: November 23, 2021\n",
      "Link: https://cdle.colorado.gov/press-releases/press-release-expected-revisions-to-colorado-nonfarm-payroll-jobs-6\n",
      "Title: Press Release: Expected Revisions to Colorado Nonfarm Payroll Jobs\n",
      "Date: November 23, 2021\n",
      "Link: https://cdle.colorado.gov/press-releases/press-release-expected-revisions-to-colorado-nonfarm-payroll-jobs-6\n",
      "Title: 11.22.2021: Colorado Treasurer Issues Public Warning Against Colorado Secure Savings Program Misinformation \n",
      "Date: November 22, 2021\n",
      "Link: https://treasury.colorado.gov/press-release/11222021-colorado-treasurer-issues-public-warning-against-colorado-secure-savings\n",
      "Title: Press Release: Colorado Employment Situation – November 2021\n",
      "Date: November 19, 2021\n",
      "Link: https://cdle.colorado.gov/press-releases/press-release-colorado-employment-situation-november-2021\n",
      "Title: Press Release: Colorado Employment Situation – November 2021\n",
      "Date: November 19, 2021\n",
      "Link: https://cdle.colorado.gov/press-releases/press-release-colorado-employment-situation-november-2021\n",
      "Title: Governor’s budget proposes transformational investments in clean air and climate action\n",
      "Date: November 2, 2021\n",
      "Link: https://energyoffice.colorado.gov/blog-posts/governors-budget-proposes-transformational-investments-in-clean-air-and-climate-action\n",
      "Title: Colorado Carbon Capture, Utilization and Sequestration Task Force to host  virtual public engagement session\n",
      "Date: October 29, 2021\n",
      "Link: https://energyoffice.colorado.gov/press-releases/colorado-carbon-capture-utilization-and-sequestration-task-force-to-host-virtual\n",
      "Title: Colorado Energy Office to celebrate National Weatherization Day on October 30\n",
      "Date: October 29, 2021\n",
      "Link: https://energyoffice.colorado.gov/press-releases/colorado-energy-office-to-celebrate-national-weatherization-day-on-october-30\n",
      "Title: Colorado Energy Office releases Opportunities for Low-Carbon Hydrogen in Colorado: A Roadmap\n",
      "Date: October 15, 2021\n",
      "Link: https://energyoffice.colorado.gov/press-releases/colorado-energy-office-releases-opportunities-for-low-carbon-hydrogen-in-colorado-a\n",
      "Title: Polis Administration Releases New Colorado Medium- and Heavy-Duty Vehicle Study\n",
      "Date: October 12, 2021\n",
      "Link: https://energyoffice.colorado.gov/press-releases/polis-administration-releases-new-colorado-medium-and-heavy-duty-vehicle-study\n",
      "Title: State releases draft plan for new Department of Early Childhood, calls for public comment\n",
      "Date: October 8, 2021\n",
      "Link: https://cdhs.colorado.gov/press-release/state-releases-draft-plan-for-new-department-of-early-childhood-calls-for-public\n",
      "Title: CMS and Colorado’s Joint Budget Committee Approve $530 Million ARPA Funds to Transform Colorado’s Home and Community-Based Services System\n",
      "Date: September 22, 2021\n",
      "Link: https://hcpf.colorado.gov/cms-and-colorados-joint-budget-committee-approve-530-million-arpa-funds-to-transform\n",
      "Title: OAC Emergency & Permanent Rulemaking – LEP Individuals\n",
      "Date: March 24, 2021\n",
      "Link: https://dpa.colorado.gov/news/oac-emergency-permanent-rulemaking-lep-individuals\n",
      "Title: Joint DHR/SPB Rulemaking 11/17/20\n",
      "Date: October 13, 2020\n",
      "Link: https://dpa.colorado.gov/news/joint-dhr/spb-rulemaking-11/17/20\n",
      "Title: Central Collections Services – Closure Notice\n",
      "Date: July 27, 2020\n",
      "Link: https://dpa.colorado.gov/news/central-collections-services-closure-notice\n",
      "Title: Open houses to cover changes in Town, County planning services\n",
      "Date: February 6, 2020\n",
      "Link: https://estespark.colorado.gov/news-article/open-houses-to-cover-changes-in-town-county-planning-services\n"
     ]
    }
   ],
   "source": [
    "for item in library:\n",
    "    item.show()"
   ]
  },
  {
   "cell_type": "code",
   "execution_count": 12,
   "id": "150e8422",
   "metadata": {
    "pycharm": {
     "name": "#%%\n"
    }
   },
   "outputs": [
    {
     "data": {
      "text/plain": [
       "88"
      ]
     },
     "execution_count": 12,
     "metadata": {},
     "output_type": "execute_result"
    }
   ],
   "source": [
    "len(library)"
   ]
  },
  {
   "cell_type": "markdown",
   "id": "22c406d7",
   "metadata": {
    "pycharm": {
     "name": "#%% md\n"
    }
   },
   "source": [
    "**Persisting the scraped data**"
   ]
  },
  {
   "cell_type": "code",
   "execution_count": 13,
   "id": "39b171d1",
   "metadata": {
    "pycharm": {
     "name": "#%%\n"
    }
   },
   "outputs": [],
   "source": [
    "client = MongoClient()\n",
    "db = client['co_gov']\n",
    "news = db['articles']"
   ]
  },
  {
   "cell_type": "code",
   "execution_count": 14,
   "id": "054d0319",
   "metadata": {
    "pycharm": {
     "name": "#%%\n"
    }
   },
   "outputs": [],
   "source": [
    "def make_dict(lib):\n",
    "    res = []\n",
    "    for item in lib:\n",
    "        obj = {'title': item.title, 'date': item.date, 'link': item.link}\n",
    "        res.append(obj)\n",
    "    return res"
   ]
  },
  {
   "cell_type": "code",
   "execution_count": 15,
   "id": "301b32ee",
   "metadata": {
    "pycharm": {
     "name": "#%%\n"
    }
   },
   "outputs": [
    {
     "data": {
      "text/plain": [
       "[{'title': 'Colorado Cashback: Governor Polis, Legislative Leaders Announce New $400 Colorado Dividend for Every Hardworking Colorado Taxpayer',\n",
       "  'date': 'April 25, 2022',\n",
       "  'link': 'https://www.colorado.gov/governor/news/7821-colorado-cashback-governor-polis-legislative-leaders-announce-new-400-colorado-dividend'},\n",
       " {'title': 'Polis Administration Secures Agriculture Company for New Colorado Headquarters',\n",
       "  'date': 'April 21, 2022',\n",
       "  'link': 'https://oedit.colorado.gov/press-release/polis-administration-secures-agriculture-company-for-new-colorado-headquarters'},\n",
       " {'title': 'Press Release: Colorado Employment Situation – March 2022',\n",
       "  'date': 'April 15, 2022',\n",
       "  'link': 'https://cdle.colorado.gov/press-releases/press-release-colorado-employment-situation-march-2022'},\n",
       " {'title': 'Press Release: Colorado Employment Situation – March 2022',\n",
       "  'date': 'April 15, 2022',\n",
       "  'link': 'https://cdle.colorado.gov/press-releases/press-release-colorado-employment-situation-march-2022'},\n",
       " {'title': '4.7.2022: HB22-1328: Modify Main Street Business Recovery Loan Program CLIMBER in Committee Today',\n",
       "  'date': 'April 7, 2022',\n",
       "  'link': 'https://treasury.colorado.gov/press-release/472022-hb22-1328-modify-main-street-business-recovery-loan-program-climber-in'},\n",
       " {'title': 'OrganaGardens Keeps Wages Equitable as a Worker Cooperative',\n",
       "  'date': 'April 7, 2022',\n",
       "  'link': 'https://oedit.colorado.gov/case-study/organagardens-keeps-wages-equitable-as-a-worker-cooperative'},\n",
       " {'title': 'Press Release: Colorado Occupational Employment and Wages — 2021',\n",
       "  'date': 'April 6, 2022',\n",
       "  'link': 'https://cdle.colorado.gov/press-releases/press-release-colorado-occupational-employment-and-wages-2021'},\n",
       " {'title': 'Press Release: Colorado Occupational Employment and Wages — 2021',\n",
       "  'date': 'April 6, 2022',\n",
       "  'link': 'https://cdle.colorado.gov/press-releases/press-release-colorado-occupational-employment-and-wages-2021'},\n",
       " {'title': 'Social Equity Licensee Highlight: High Demand Delivery',\n",
       "  'date': 'April 5, 2022',\n",
       "  'link': 'https://oedit.colorado.gov/case-study/social-equity-licensee-highlight-high-demand-delivery'},\n",
       " {'title': 'Colorado Hospital Profits Among Nation’s Highest for Third Consecutive Year',\n",
       "  'date': 'March 30, 2022',\n",
       "  'link': 'https://hcpf.colorado.gov/colorado-hospital-profits-among-nations-highest-for-third-consecutive-year'},\n",
       " {'title': 'April 2022 Accessibility Corner Blog',\n",
       "  'date': 'March 25, 2022',\n",
       "  'link': 'https://oedit.colorado.gov/blog-post/april-2022-accessibility-corner-blog'},\n",
       " {'title': 'Colorado Medicaid Executes Its First Pharmaceutical Value-Based Contracts',\n",
       "  'date': 'March 22, 2022',\n",
       "  'link': 'https://hcpf.colorado.gov/colorado-medicaid-executes-its-first-pharmaceutical-value-based-contracts'},\n",
       " {'title': 'Call for Applications: Funding Opportunity to Launch and Expand Registered Apprenticeship Programs Statewide',\n",
       "  'date': 'March 21, 2022',\n",
       "  'link': 'https://cdle.colorado.gov/press-releases/call-for-applications-funding-opportunity-to-launch-and-expand-registered'},\n",
       " {'title': 'Call for Applications: Funding Opportunity to Launch and Expand Registered Apprenticeship Programs Statewide',\n",
       "  'date': 'March 21, 2022',\n",
       "  'link': 'https://cdle.colorado.gov/press-releases/call-for-applications-funding-opportunity-to-launch-and-expand-registered'},\n",
       " {'title': 'Bluestaq Selects Colorado for Large-Scale Expansion',\n",
       "  'date': 'March 18, 2022',\n",
       "  'link': 'https://oedit.colorado.gov/press-release/bluestaq-selects-colorado-for-large-scale-expansion'},\n",
       " {'title': '3.14.2022: Colorado Treasurer Dave Young Issues Statement in Support of HB22-1279',\n",
       "  'date': 'March 14, 2022',\n",
       "  'link': 'https://treasury.colorado.gov/press-release/3142022-colorado-treasurer-dave-young-issues-statement-in-support-of-hb22-1279'},\n",
       " {'title': 'Press Release: Colorado Employment Situation – January 2022',\n",
       "  'date': 'March 14, 2022',\n",
       "  'link': 'https://cdle.colorado.gov/press-releases/press-release-colorado-employment-situation-january-2022'},\n",
       " {'title': 'Press Release: Colorado Employment Situation – January 2022',\n",
       "  'date': 'March 14, 2022',\n",
       "  'link': 'https://cdle.colorado.gov/press-releases/press-release-colorado-employment-situation-january-2022'},\n",
       " {'title': 'Economic Development: Polis Administration Launches Applications for Cannabis Business Office Pilot Grant',\n",
       "  'date': 'March 11, 2022',\n",
       "  'link': 'https://oedit.colorado.gov/press-release/economic-development-polis-administration-launches-applications-for-cannabis-business'},\n",
       " {'title': 'School Access For Emergency Response (SAFER) Grant Announcement',\n",
       "  'date': 'March 2, 2022',\n",
       "  'link': 'https://cssrc.colorado.gov/news-article/school-access-for-emergency-response-safer-grant-announcement'},\n",
       " {'title': 'CDLE Launches Disability Hiring Preference Program to Advance Equity, Diversity, and Inclusion in its Talent Management Practices',\n",
       "  'date': 'March 1, 2022',\n",
       "  'link': 'https://cdle.colorado.gov/press-releases/cdle-launches-disability-hiring-preference-program-to-advance-equity-diversity-and'},\n",
       " {'title': 'CDLE Launches Disability Hiring Preference Program to Advance Equity, Diversity, and Inclusion in its Talent Management Practices',\n",
       "  'date': 'March 1, 2022',\n",
       "  'link': 'https://cdle.colorado.gov/press-releases/cdle-launches-disability-hiring-preference-program-to-advance-equity-diversity-and'},\n",
       " {'title': \"Women's History Month | Shop Local\",\n",
       "  'date': 'February 28, 2022',\n",
       "  'link': 'https://oedit.colorado.gov/blog-post/womens-history-month-shop-local'},\n",
       " {'title': '14 Artists Awarded $217,000 in Cycle B of Colorado Creative Corps ARP Grant',\n",
       "  'date': 'February 25, 2022',\n",
       "  'link': 'https://oedit.colorado.gov/press-release/14-artists-awarded-217000-in-cycle-b-of-colorado-creative-corps-arp-grant'},\n",
       " {'title': '93% of FirstBank Employees Participate in Retirement Plans',\n",
       "  'date': 'February 24, 2022',\n",
       "  'link': 'https://oedit.colorado.gov/case-study/93-of-firstbank-employees-participate-in-retirement-plans'},\n",
       " {'title': '2.23.2022: Colorado Treasurer Dave Young Statement on Building Excellent Schools Today (BEST) Grant Recipient Schools in Pueblo',\n",
       "  'date': 'February 23, 2022',\n",
       "  'link': 'https://treasury.colorado.gov/press-release/2232022-colorado-treasurer-dave-young-statement-on-building-excellent-schools-today'},\n",
       " {'title': 'Press Release: Expected Revisions to Colorado Nonfarm Payroll Jobs',\n",
       "  'date': 'February 22, 2022',\n",
       "  'link': 'https://cdle.colorado.gov/press-releases/press-release-expected-revisions-to-colorado-nonfarm-payroll-jobs-7'},\n",
       " {'title': 'Press Release: Expected Revisions to Colorado Nonfarm Payroll Jobs',\n",
       "  'date': 'February 22, 2022',\n",
       "  'link': 'https://cdle.colorado.gov/press-releases/press-release-expected-revisions-to-colorado-nonfarm-payroll-jobs-7'},\n",
       " {'title': 'Four Companies Successfully Convert to Employee Ownership with Colorado Employee Ownership Grant',\n",
       "  'date': 'February 16, 2022',\n",
       "  'link': 'https://oedit.colorado.gov/press-release/four-companies-successfully-convert-to-employee-ownership-with-colorado-employee'},\n",
       " {'title': 'Colorado Carbon Capture, Utilization and Sequestration Task Force releases recommendations on the role of carbon capture in meeting state climate goals',\n",
       "  'date': 'February 3, 2022',\n",
       "  'link': 'https://energyoffice.colorado.gov/press-releases/colorado-carbon-capture-utilization-and-sequestration-task-force-releases'},\n",
       " {'title': 'Press Release: Deadline Is Feb. 2 For Those Affected By Marshall Fire To Apply For Disaster Unemployment Assistance',\n",
       "  'date': 'February 2, 2022',\n",
       "  'link': 'https://cdle.colorado.gov/press-releases/press-release-deadline-is-feb-2-for-those-affected-by-marshall-fire-to-apply-for'},\n",
       " {'title': 'Press Release: Talent Pipeline Report Helps Advance a Data-Informed Economic Recovery',\n",
       "  'date': 'February 2, 2022',\n",
       "  'link': 'https://cdle.colorado.gov/press-releases/press-release-talent-pipeline-report-helps-advance-a-data-informed-economic-recovery'},\n",
       " {'title': 'Press Release: New Pilot Program Provides Customized, No-Cost Career Services to Workers with Disabilities as Their Unemployment Rate Surges',\n",
       "  'date': 'February 2, 2022',\n",
       "  'link': 'https://cdle.colorado.gov/press-releases/press-release-new-pilot-program-provides-customized-no-cost-career-services-to'},\n",
       " {'title': 'Press Release: Expected Revisions to Colorado Nonfarm Payroll Jobs',\n",
       "  'date': 'February 2, 2022',\n",
       "  'link': 'https://cdle.colorado.gov/press-releases/press-release-expected-revisions-to-colorado-nonfarm-payroll-jobs-6'},\n",
       " {'title': 'Press Release: Colorado Apprenticeship Awards Highlight Importance of Programs',\n",
       "  'date': 'February 2, 2022',\n",
       "  'link': 'https://cdle.colorado.gov/press-releases/press-release-colorado-apprenticeship-awards-highlight-importance-of-programs'},\n",
       " {'title': 'Press Release: New Bill Will Help Coloradans Get High-Quality Jobs in Renewable Energy Sector',\n",
       "  'date': 'February 2, 2022',\n",
       "  'link': 'https://cdle.colorado.gov/press-releases/press-release-new-bill-will-help-coloradans-get-high-quality-jobs-in-renewable'},\n",
       " {'title': 'Feb. 2 Colorado DR4634 Update: Boulder Fires and Straight Line Winds',\n",
       "  'date': 'February 2, 2022',\n",
       "  'link': 'https://mars.colorado.gov/news-article/feb-2-colorado-dr4634-update-boulder-fires-and-straight-line-winds'},\n",
       " {'title': 'Feb. 2 Colorado DR4634 Update: Boulder Fires and Straight Line Winds',\n",
       "  'date': 'February 2, 2022',\n",
       "  'link': 'https://mars.colorado.gov/news-article/feb-2-colorado-dr4634-update-boulder-fires-and-straight-line-winds'},\n",
       " {'title': '1.31.2022: February 1st is National Unclaimed Property Day',\n",
       "  'date': 'February 1, 2022',\n",
       "  'link': 'https://treasury.colorado.gov/press-release/1312022-february-1st-is-national-unclaimed-property-day'},\n",
       " {'title': 'Press Release: Deadline Is Feb. 2 For Those Affected By Marshall Fire To Apply For Disaster Unemployment Assistance',\n",
       "  'date': 'January 28, 2022',\n",
       "  'link': 'https://cdle.colorado.gov/press-releases/press-release-deadline-is-feb-2-for-those-affected-by-marshall-fire-to-apply-for'},\n",
       " {'title': 'Press Release: Deadline Is Feb. 2 For Those Affected By Marshall Fire To Apply For Disaster Unemployment Assistance',\n",
       "  'date': 'January 28, 2022',\n",
       "  'link': 'https://cdle.colorado.gov/press-releases/press-release-deadline-is-feb-2-for-those-affected-by-marshall-fire-to-apply-for'},\n",
       " {'title': 'Press Release: New Pilot Program Provides Customized, No-Cost Career Services to Workers with Disabilities as Their Unemployment Rate Surges',\n",
       "  'date': 'January 26, 2022',\n",
       "  'link': 'https://cdle.colorado.gov/press-releases/press-release-new-pilot-program-provides-customized-no-cost-career-services-to'},\n",
       " {'title': 'Press Release: New Pilot Program Provides Customized, No-Cost Career Services to Workers with Disabilities as Their Unemployment Rate Surges',\n",
       "  'date': 'January 26, 2022',\n",
       "  'link': 'https://cdle.colorado.gov/press-releases/press-release-new-pilot-program-provides-customized-no-cost-career-services-to'},\n",
       " {'title': 'Press Release: Colorado Employment Situation – December 2021',\n",
       "  'date': 'January 21, 2022',\n",
       "  'link': 'https://cdle.colorado.gov/press-releases/press-release-colorado-employment-situation-december-2021'},\n",
       " {'title': 'Press Release: Colorado Employment Situation – December 2021',\n",
       "  'date': 'January 21, 2022',\n",
       "  'link': 'https://cdle.colorado.gov/press-releases/press-release-colorado-employment-situation-december-2021'},\n",
       " {'title': 'Colorado activates disaster food benefits for communities affected by Boulder fires',\n",
       "  'date': 'January 20, 2022',\n",
       "  'link': 'https://cdhs.colorado.gov/press-release/colorado-activates-disaster-food-benefits-for-communities-affected-by-boulder-fires'},\n",
       " {'title': 'Call for Developers - Build a Global Energy Business Park',\n",
       "  'date': 'January 19, 2022',\n",
       "  'link': 'https://dpa.colorado.gov/news/global-energy-business-park'},\n",
       " {'title': '1.19.2022: Colorado Treasurer Dave Young Helps School Districts With Cash Flow Shortages',\n",
       "  'date': 'January 19, 2022',\n",
       "  'link': 'https://treasury.colorado.gov/press-release/1192022-colorado-treasurer-dave-young-helps-school-districts-with-cash-flow-shortages'},\n",
       " {'title': '1.10.2022:  Colorado Treasurer Dave Young Statement on Congressman Ed Perlmutter Retirement',\n",
       "  'date': 'January 10, 2022',\n",
       "  'link': 'https://treasury.colorado.gov/press-release/1102022-colorado-treasurer-dave-young-statement-on-congressman-ed-perlmutter'},\n",
       " {'title': '1.10.2022:  Colorado Treasurer Dave Young Statement on BEST Grant Recipient Sierra Grande School District Ribbon Cutting',\n",
       "  'date': 'January 10, 2022',\n",
       "  'link': 'https://treasury.colorado.gov/press-release/1102022-colorado-treasurer-dave-young-statement-on-best-grant-recipient-sierra-grande'},\n",
       " {'title': 'Press Release: State Labor Dept: Paid Sick Leave Continues in 2022, new requirements took effect Jan 1.',\n",
       "  'date': 'January 6, 2022',\n",
       "  'link': 'https://cdle.colorado.gov/press-releases/press-release-state-labor-dept-paid-sick-leave-continues-in-2022-new-requirements'},\n",
       " {'title': 'Press Release: State Labor Dept: Paid Sick Leave Continues in 2022, new requirements took effect Jan 1.',\n",
       "  'date': 'January 6, 2022',\n",
       "  'link': 'https://cdle.colorado.gov/press-releases/press-release-state-labor-dept-paid-sick-leave-continues-in-2022-new-requirements'},\n",
       " {'title': 'Fire Recovery: CSEAP Offers Recorded Presentation & Resources',\n",
       "  'date': 'January 5, 2022',\n",
       "  'link': 'https://cseap.colorado.gov/news/fire-recovery-cseap-offers-recorded-presentation-resources'},\n",
       " {'title': 'Stakeholder Meeting #3: HB21-1095 Revisions to the Excavation Requirements Act',\n",
       "  'date': 'January 4, 2022',\n",
       "  'link': 'https://ops.colorado.gov/news-article/stakeholder-meeting-3-hb21-1095-revisions-to-the-excavation-requirements-act'},\n",
       " {'title': 'Stakeholder Meeting #3: HB21-1095 Revisions to the Excavation Requirements Act',\n",
       "  'date': 'January 4, 2022',\n",
       "  'link': 'https://ops.colorado.gov/news-article/stakeholder-meeting-3-hb21-1095-revisions-to-the-excavation-requirements-act'},\n",
       " {'title': 'Polis Administration Supplemental Budget Requests Support Nursing Homes, Their Workers, and Vulnerable Coloradans in Their Care',\n",
       "  'date': 'January 4, 2022',\n",
       "  'link': 'https://hcpf.colorado.gov/polis-administration-supplemental-budget-requests-support-nursing-homes'},\n",
       " {'title': 'Resources for Coloradans Impacted by the Marshall Fire',\n",
       "  'date': 'January 1, 2022',\n",
       "  'link': 'https://www.colorado.gov/governor/news/6996-resources-coloradans-impacted-marshall-fire'},\n",
       " {'title': 'Resources for Getting Prescriptions Refilled for Evacuees of the Boulder Fires',\n",
       "  'date': 'December 31, 2021',\n",
       "  'link': 'https://hcpf.colorado.gov/resources-for-getting-prescriptions-refilled-for-evacuees-of-the-boulder-fires'},\n",
       " {'title': 'Resources, Donations Made Available To Those Impacted By Boulder County Fires',\n",
       "  'date': 'December 30, 2021',\n",
       "  'link': 'https://www.colorado.gov/governor/news/6991-resources-donations-made-available-those-impacted-boulder-county-fires'},\n",
       " {'title': 'Press Release: Colorado Work-Related Fatalities Decreased in 2020',\n",
       "  'date': 'December 20, 2021',\n",
       "  'link': 'https://cdle.colorado.gov/press-releases/press-release-colorado-work-related-fatalities-decreased-in-2020'},\n",
       " {'title': 'Press Release: Colorado Work-Related Fatalities Decreased in 2020',\n",
       "  'date': 'December 20, 2021',\n",
       "  'link': 'https://cdle.colorado.gov/press-releases/press-release-colorado-work-related-fatalities-decreased-in-2020'},\n",
       " {'title': ' Sex Offender Management Board Votes to Reconsider Change in Language of Standards & Guidelines for Treatment Providers',\n",
       "  'date': 'December 17, 2021',\n",
       "  'link': 'https://publicsafety.colorado.gov/press-release/sex-offender-management-board-votes-to-reconsider-change-in-language-of-standards'},\n",
       " {'title': 'Press Release: Talent Pipeline Report Helps Advance a Data-Informed Economic Recovery',\n",
       "  'date': 'December 17, 2021',\n",
       "  'link': 'https://cdle.colorado.gov/press-releases/press-release-talent-pipeline-report-helps-advance-a-data-informed-economic-recovery'},\n",
       " {'title': 'Press Release: Talent Pipeline Report Helps Advance a Data-Informed Economic Recovery',\n",
       "  'date': 'December 17, 2021',\n",
       "  'link': 'https://cdle.colorado.gov/press-releases/press-release-talent-pipeline-report-helps-advance-a-data-informed-economic-recovery'},\n",
       " {'title': 'Colorado approves nation-leading rule to cut greenhouse gas emissions by shifting how it plans the state’s transportation system',\n",
       "  'date': 'December 16, 2021',\n",
       "  'link': 'https://energyoffice.colorado.gov/blog-posts/colorado-approves-nation-leading-rule-to-cut-greenhouse-gas-emissions-by-shifting-how-it'},\n",
       " {'title': '12.15.2021: CollegeInvest 529 College Savings Accounts - Give the Gift of Higher Education this Holiday Season',\n",
       "  'date': 'December 15, 2021',\n",
       "  'link': 'https://treasury.colorado.gov/press-release/12152021-collegeinvest-529-college-savings-accounts-give-the-gift-of-higher-education'},\n",
       " {'title': 'Innovative Health Care Payment and Delivery to be Piloted in Colorado',\n",
       "  'date': 'December 15, 2021',\n",
       "  'link': 'https://hcpf.colorado.gov/innovative-health-care-payment-and-delivery-to-be-piloted-in-colorado'},\n",
       " {'title': '12.9.2021: Treasurer Young Finalizes Transformational Education Grants to Rebuild, Repair, and Replace Schools in Rural and Suburban Districts',\n",
       "  'date': 'December 9, 2021',\n",
       "  'link': 'https://treasury.colorado.gov/press-release/1292021-treasurer-young-finalizes-transformational-education-grants-to-rebuild-repair'},\n",
       " {'title': 'Press Release: New Bill Will Help Coloradans Get High-Quality Jobs in Renewable Energy Sector',\n",
       "  'date': 'December 3, 2021',\n",
       "  'link': 'https://cdle.colorado.gov/press-releases/press-release-new-bill-will-help-coloradans-get-high-quality-jobs-in-renewable'},\n",
       " {'title': 'Press Release: New Bill Will Help Coloradans Get High-Quality Jobs in Renewable Energy Sector',\n",
       "  'date': 'December 3, 2021',\n",
       "  'link': 'https://cdle.colorado.gov/press-releases/press-release-new-bill-will-help-coloradans-get-high-quality-jobs-in-renewable'},\n",
       " {'title': 'Press Release: Colorado Apprenticeship Awards Highlight Importance of Programs',\n",
       "  'date': 'November 23, 2021',\n",
       "  'link': 'https://cdle.colorado.gov/press-releases/press-release-colorado-apprenticeship-awards-highlight-importance-of-programs'},\n",
       " {'title': 'Press Release: Colorado Apprenticeship Awards Highlight Importance of Programs',\n",
       "  'date': 'November 23, 2021',\n",
       "  'link': 'https://cdle.colorado.gov/press-releases/press-release-colorado-apprenticeship-awards-highlight-importance-of-programs'},\n",
       " {'title': 'Press Release: Expected Revisions to Colorado Nonfarm Payroll Jobs',\n",
       "  'date': 'November 23, 2021',\n",
       "  'link': 'https://cdle.colorado.gov/press-releases/press-release-expected-revisions-to-colorado-nonfarm-payroll-jobs-6'},\n",
       " {'title': 'Press Release: Expected Revisions to Colorado Nonfarm Payroll Jobs',\n",
       "  'date': 'November 23, 2021',\n",
       "  'link': 'https://cdle.colorado.gov/press-releases/press-release-expected-revisions-to-colorado-nonfarm-payroll-jobs-6'},\n",
       " {'title': '11.22.2021: Colorado Treasurer Issues Public Warning Against Colorado Secure Savings Program Misinformation ',\n",
       "  'date': 'November 22, 2021',\n",
       "  'link': 'https://treasury.colorado.gov/press-release/11222021-colorado-treasurer-issues-public-warning-against-colorado-secure-savings'},\n",
       " {'title': 'Press Release: Colorado Employment Situation – November 2021',\n",
       "  'date': 'November 19, 2021',\n",
       "  'link': 'https://cdle.colorado.gov/press-releases/press-release-colorado-employment-situation-november-2021'},\n",
       " {'title': 'Press Release: Colorado Employment Situation – November 2021',\n",
       "  'date': 'November 19, 2021',\n",
       "  'link': 'https://cdle.colorado.gov/press-releases/press-release-colorado-employment-situation-november-2021'},\n",
       " {'title': 'Governor’s budget proposes transformational investments in clean air and climate action',\n",
       "  'date': 'November 2, 2021',\n",
       "  'link': 'https://energyoffice.colorado.gov/blog-posts/governors-budget-proposes-transformational-investments-in-clean-air-and-climate-action'},\n",
       " {'title': 'Colorado Carbon Capture, Utilization and Sequestration Task Force to host  virtual public engagement session',\n",
       "  'date': 'October 29, 2021',\n",
       "  'link': 'https://energyoffice.colorado.gov/press-releases/colorado-carbon-capture-utilization-and-sequestration-task-force-to-host-virtual'},\n",
       " {'title': 'Colorado Energy Office to celebrate National Weatherization Day on October 30',\n",
       "  'date': 'October 29, 2021',\n",
       "  'link': 'https://energyoffice.colorado.gov/press-releases/colorado-energy-office-to-celebrate-national-weatherization-day-on-october-30'},\n",
       " {'title': 'Colorado Energy Office releases Opportunities for Low-Carbon Hydrogen in Colorado: A Roadmap',\n",
       "  'date': 'October 15, 2021',\n",
       "  'link': 'https://energyoffice.colorado.gov/press-releases/colorado-energy-office-releases-opportunities-for-low-carbon-hydrogen-in-colorado-a'},\n",
       " {'title': 'Polis Administration Releases New Colorado Medium- and Heavy-Duty Vehicle Study',\n",
       "  'date': 'October 12, 2021',\n",
       "  'link': 'https://energyoffice.colorado.gov/press-releases/polis-administration-releases-new-colorado-medium-and-heavy-duty-vehicle-study'},\n",
       " {'title': 'State releases draft plan for new Department of Early Childhood, calls for public comment',\n",
       "  'date': 'October 8, 2021',\n",
       "  'link': 'https://cdhs.colorado.gov/press-release/state-releases-draft-plan-for-new-department-of-early-childhood-calls-for-public'},\n",
       " {'title': 'CMS and Colorado’s Joint Budget Committee Approve $530 Million ARPA Funds to Transform Colorado’s Home and Community-Based Services System',\n",
       "  'date': 'September 22, 2021',\n",
       "  'link': 'https://hcpf.colorado.gov/cms-and-colorados-joint-budget-committee-approve-530-million-arpa-funds-to-transform'},\n",
       " {'title': 'OAC Emergency & Permanent Rulemaking – LEP Individuals',\n",
       "  'date': 'March 24, 2021',\n",
       "  'link': 'https://dpa.colorado.gov/news/oac-emergency-permanent-rulemaking-lep-individuals'},\n",
       " {'title': 'Joint DHR/SPB Rulemaking 11/17/20',\n",
       "  'date': 'October 13, 2020',\n",
       "  'link': 'https://dpa.colorado.gov/news/joint-dhr/spb-rulemaking-11/17/20'},\n",
       " {'title': 'Central Collections Services – Closure Notice',\n",
       "  'date': 'July 27, 2020',\n",
       "  'link': 'https://dpa.colorado.gov/news/central-collections-services-closure-notice'},\n",
       " {'title': 'Open houses to cover changes in Town, County planning services',\n",
       "  'date': 'February 6, 2020',\n",
       "  'link': 'https://estespark.colorado.gov/news-article/open-houses-to-cover-changes-in-town-county-planning-services'}]"
      ]
     },
     "execution_count": 15,
     "metadata": {},
     "output_type": "execute_result"
    }
   ],
   "source": [
    "obj_lib = make_dict(library)\n",
    "obj_lib"
   ]
  },
  {
   "cell_type": "code",
   "execution_count": 19,
   "id": "c0fac358",
   "metadata": {
    "pycharm": {
     "name": "#%%\n"
    }
   },
   "outputs": [
    {
     "ename": "ServerSelectionTimeoutError",
     "evalue": "localhost:27017: [Errno 111] Connection refused, Timeout: 30s, Topology Description: <TopologyDescription id: 62a646b7a9d2ef5ad0ae9183, topology_type: Unknown, servers: [<ServerDescription ('localhost', 27017) server_type: Unknown, rtt: None, error=AutoReconnect('localhost:27017: [Errno 111] Connection refused')>]>",
     "output_type": "error",
     "traceback": [
      "\u001B[0;31m---------------------------------------------------------------------------\u001B[0m",
      "\u001B[0;31mServerSelectionTimeoutError\u001B[0m               Traceback (most recent call last)",
      "Input \u001B[0;32mIn [19]\u001B[0m, in \u001B[0;36m<module>\u001B[0;34m\u001B[0m\n\u001B[0;32m----> 1\u001B[0m records \u001B[38;5;241m=\u001B[39m \u001B[43mnews\u001B[49m\u001B[38;5;241;43m.\u001B[39;49m\u001B[43minsert_many\u001B[49m\u001B[43m(\u001B[49m\u001B[43mobj_lib\u001B[49m\u001B[43m)\u001B[49m\n\u001B[1;32m      2\u001B[0m \u001B[38;5;28mprint\u001B[39m(records\u001B[38;5;241m.\u001B[39minserted_ids)\n",
      "File \u001B[0;32m~/.local/lib/python3.8/site-packages/pymongo/collection.py:691\u001B[0m, in \u001B[0;36mCollection.insert_many\u001B[0;34m(self, documents, ordered, bypass_document_validation, session, comment)\u001B[0m\n\u001B[1;32m    689\u001B[0m blk \u001B[38;5;241m=\u001B[39m _Bulk(\u001B[38;5;28mself\u001B[39m, ordered, bypass_document_validation, comment\u001B[38;5;241m=\u001B[39mcomment)\n\u001B[1;32m    690\u001B[0m blk\u001B[38;5;241m.\u001B[39mops \u001B[38;5;241m=\u001B[39m [doc \u001B[38;5;28;01mfor\u001B[39;00m doc \u001B[38;5;129;01min\u001B[39;00m gen()]\n\u001B[0;32m--> 691\u001B[0m \u001B[43mblk\u001B[49m\u001B[38;5;241;43m.\u001B[39;49m\u001B[43mexecute\u001B[49m\u001B[43m(\u001B[49m\u001B[43mwrite_concern\u001B[49m\u001B[43m,\u001B[49m\u001B[43m \u001B[49m\u001B[43msession\u001B[49m\u001B[38;5;241;43m=\u001B[39;49m\u001B[43msession\u001B[49m\u001B[43m)\u001B[49m\n\u001B[1;32m    692\u001B[0m \u001B[38;5;28;01mreturn\u001B[39;00m InsertManyResult(inserted_ids, write_concern\u001B[38;5;241m.\u001B[39macknowledged)\n",
      "File \u001B[0;32m~/.local/lib/python3.8/site-packages/pymongo/bulk.py:512\u001B[0m, in \u001B[0;36m_Bulk.execute\u001B[0;34m(self, write_concern, session)\u001B[0m\n\u001B[1;32m    510\u001B[0m         \u001B[38;5;28mself\u001B[39m\u001B[38;5;241m.\u001B[39mexecute_no_results(sock_info, generator, write_concern)\n\u001B[1;32m    511\u001B[0m \u001B[38;5;28;01melse\u001B[39;00m:\n\u001B[0;32m--> 512\u001B[0m     \u001B[38;5;28;01mreturn\u001B[39;00m \u001B[38;5;28;43mself\u001B[39;49m\u001B[38;5;241;43m.\u001B[39;49m\u001B[43mexecute_command\u001B[49m\u001B[43m(\u001B[49m\u001B[43mgenerator\u001B[49m\u001B[43m,\u001B[49m\u001B[43m \u001B[49m\u001B[43mwrite_concern\u001B[49m\u001B[43m,\u001B[49m\u001B[43m \u001B[49m\u001B[43msession\u001B[49m\u001B[43m)\u001B[49m\n",
      "File \u001B[0;32m~/.local/lib/python3.8/site-packages/pymongo/bulk.py:389\u001B[0m, in \u001B[0;36m_Bulk.execute_command\u001B[0;34m(self, generator, write_concern, session)\u001B[0m\n\u001B[1;32m    384\u001B[0m     \u001B[38;5;28mself\u001B[39m\u001B[38;5;241m.\u001B[39m_execute_command(\n\u001B[1;32m    385\u001B[0m         generator, write_concern, session, sock_info, op_id, retryable, full_result\n\u001B[1;32m    386\u001B[0m     )\n\u001B[1;32m    388\u001B[0m client \u001B[38;5;241m=\u001B[39m \u001B[38;5;28mself\u001B[39m\u001B[38;5;241m.\u001B[39mcollection\u001B[38;5;241m.\u001B[39mdatabase\u001B[38;5;241m.\u001B[39mclient\n\u001B[0;32m--> 389\u001B[0m \u001B[38;5;28;01mwith\u001B[39;00m client\u001B[38;5;241m.\u001B[39m_tmp_session(session) \u001B[38;5;28;01mas\u001B[39;00m s:\n\u001B[1;32m    390\u001B[0m     client\u001B[38;5;241m.\u001B[39m_retry_with_session(\u001B[38;5;28mself\u001B[39m\u001B[38;5;241m.\u001B[39mis_retryable, retryable_bulk, s, \u001B[38;5;28mself\u001B[39m)\n\u001B[1;32m    392\u001B[0m \u001B[38;5;28;01mif\u001B[39;00m full_result[\u001B[38;5;124m\"\u001B[39m\u001B[38;5;124mwriteErrors\u001B[39m\u001B[38;5;124m\"\u001B[39m] \u001B[38;5;129;01mor\u001B[39;00m full_result[\u001B[38;5;124m\"\u001B[39m\u001B[38;5;124mwriteConcernErrors\u001B[39m\u001B[38;5;124m\"\u001B[39m]:\n",
      "File \u001B[0;32m/usr/lib/python3.8/contextlib.py:113\u001B[0m, in \u001B[0;36m_GeneratorContextManager.__enter__\u001B[0;34m(self)\u001B[0m\n\u001B[1;32m    111\u001B[0m \u001B[38;5;28;01mdel\u001B[39;00m \u001B[38;5;28mself\u001B[39m\u001B[38;5;241m.\u001B[39margs, \u001B[38;5;28mself\u001B[39m\u001B[38;5;241m.\u001B[39mkwds, \u001B[38;5;28mself\u001B[39m\u001B[38;5;241m.\u001B[39mfunc\n\u001B[1;32m    112\u001B[0m \u001B[38;5;28;01mtry\u001B[39;00m:\n\u001B[0;32m--> 113\u001B[0m     \u001B[38;5;28;01mreturn\u001B[39;00m \u001B[38;5;28;43mnext\u001B[39;49m\u001B[43m(\u001B[49m\u001B[38;5;28;43mself\u001B[39;49m\u001B[38;5;241;43m.\u001B[39;49m\u001B[43mgen\u001B[49m\u001B[43m)\u001B[49m\n\u001B[1;32m    114\u001B[0m \u001B[38;5;28;01mexcept\u001B[39;00m \u001B[38;5;167;01mStopIteration\u001B[39;00m:\n\u001B[1;32m    115\u001B[0m     \u001B[38;5;28;01mraise\u001B[39;00m \u001B[38;5;167;01mRuntimeError\u001B[39;00m(\u001B[38;5;124m\"\u001B[39m\u001B[38;5;124mgenerator didn\u001B[39m\u001B[38;5;124m'\u001B[39m\u001B[38;5;124mt yield\u001B[39m\u001B[38;5;124m\"\u001B[39m) \u001B[38;5;28;01mfrom\u001B[39;00m \u001B[38;5;28mNone\u001B[39m\n",
      "File \u001B[0;32m~/.local/lib/python3.8/site-packages/pymongo/mongo_client.py:1676\u001B[0m, in \u001B[0;36mMongoClient._tmp_session\u001B[0;34m(self, session, close)\u001B[0m\n\u001B[1;32m   1673\u001B[0m     \u001B[38;5;28;01myield\u001B[39;00m session\n\u001B[1;32m   1674\u001B[0m     \u001B[38;5;28;01mreturn\u001B[39;00m\n\u001B[0;32m-> 1676\u001B[0m s \u001B[38;5;241m=\u001B[39m \u001B[38;5;28;43mself\u001B[39;49m\u001B[38;5;241;43m.\u001B[39;49m\u001B[43m_ensure_session\u001B[49m\u001B[43m(\u001B[49m\u001B[43msession\u001B[49m\u001B[43m)\u001B[49m\n\u001B[1;32m   1677\u001B[0m \u001B[38;5;28;01mif\u001B[39;00m s:\n\u001B[1;32m   1678\u001B[0m     \u001B[38;5;28;01mtry\u001B[39;00m:\n",
      "File \u001B[0;32m~/.local/lib/python3.8/site-packages/pymongo/mongo_client.py:1663\u001B[0m, in \u001B[0;36mMongoClient._ensure_session\u001B[0;34m(self, session)\u001B[0m\n\u001B[1;32m   1658\u001B[0m     \u001B[38;5;28;01mreturn\u001B[39;00m session\n\u001B[1;32m   1660\u001B[0m \u001B[38;5;28;01mtry\u001B[39;00m:\n\u001B[1;32m   1661\u001B[0m     \u001B[38;5;66;03m# Don't make implicit sessions causally consistent. Applications\u001B[39;00m\n\u001B[1;32m   1662\u001B[0m     \u001B[38;5;66;03m# should always opt-in.\u001B[39;00m\n\u001B[0;32m-> 1663\u001B[0m     \u001B[38;5;28;01mreturn\u001B[39;00m \u001B[38;5;28;43mself\u001B[39;49m\u001B[38;5;241;43m.\u001B[39;49m\u001B[43m__start_session\u001B[49m\u001B[43m(\u001B[49m\u001B[38;5;28;43;01mTrue\u001B[39;49;00m\u001B[43m,\u001B[49m\u001B[43m \u001B[49m\u001B[43mcausal_consistency\u001B[49m\u001B[38;5;241;43m=\u001B[39;49m\u001B[38;5;28;43;01mFalse\u001B[39;49;00m\u001B[43m)\u001B[49m\n\u001B[1;32m   1664\u001B[0m \u001B[38;5;28;01mexcept\u001B[39;00m (ConfigurationError, InvalidOperation):\n\u001B[1;32m   1665\u001B[0m     \u001B[38;5;66;03m# Sessions not supported.\u001B[39;00m\n\u001B[1;32m   1666\u001B[0m     \u001B[38;5;28;01mreturn\u001B[39;00m \u001B[38;5;28;01mNone\u001B[39;00m\n",
      "File \u001B[0;32m~/.local/lib/python3.8/site-packages/pymongo/mongo_client.py:1608\u001B[0m, in \u001B[0;36mMongoClient.__start_session\u001B[0;34m(self, implicit, **kwargs)\u001B[0m\n\u001B[1;32m   1605\u001B[0m \u001B[38;5;28;01mdef\u001B[39;00m \u001B[38;5;21m__start_session\u001B[39m(\u001B[38;5;28mself\u001B[39m, implicit, \u001B[38;5;241m*\u001B[39m\u001B[38;5;241m*\u001B[39mkwargs):\n\u001B[1;32m   1606\u001B[0m     \u001B[38;5;66;03m# Raises ConfigurationError if sessions are not supported.\u001B[39;00m\n\u001B[1;32m   1607\u001B[0m     \u001B[38;5;28;01mif\u001B[39;00m implicit:\n\u001B[0;32m-> 1608\u001B[0m         \u001B[38;5;28;43mself\u001B[39;49m\u001B[38;5;241;43m.\u001B[39;49m\u001B[43m_topology\u001B[49m\u001B[38;5;241;43m.\u001B[39;49m\u001B[43m_check_implicit_session_support\u001B[49m\u001B[43m(\u001B[49m\u001B[43m)\u001B[49m\n\u001B[1;32m   1609\u001B[0m         server_session \u001B[38;5;241m=\u001B[39m _EmptyServerSession()\n\u001B[1;32m   1610\u001B[0m     \u001B[38;5;28;01melse\u001B[39;00m:\n",
      "File \u001B[0;32m~/.local/lib/python3.8/site-packages/pymongo/topology.py:519\u001B[0m, in \u001B[0;36mTopology._check_implicit_session_support\u001B[0;34m(self)\u001B[0m\n\u001B[1;32m    517\u001B[0m \u001B[38;5;28;01mdef\u001B[39;00m \u001B[38;5;21m_check_implicit_session_support\u001B[39m(\u001B[38;5;28mself\u001B[39m):\n\u001B[1;32m    518\u001B[0m     \u001B[38;5;28;01mwith\u001B[39;00m \u001B[38;5;28mself\u001B[39m\u001B[38;5;241m.\u001B[39m_lock:\n\u001B[0;32m--> 519\u001B[0m         \u001B[38;5;28;43mself\u001B[39;49m\u001B[38;5;241;43m.\u001B[39;49m\u001B[43m_check_session_support\u001B[49m\u001B[43m(\u001B[49m\u001B[43m)\u001B[49m\n",
      "File \u001B[0;32m~/.local/lib/python3.8/site-packages/pymongo/topology.py:535\u001B[0m, in \u001B[0;36mTopology._check_session_support\u001B[0;34m(self)\u001B[0m\n\u001B[1;32m    531\u001B[0m         \u001B[38;5;28mself\u001B[39m\u001B[38;5;241m.\u001B[39m_select_servers_loop(\n\u001B[1;32m    532\u001B[0m             any_server_selector, \u001B[38;5;28mself\u001B[39m\u001B[38;5;241m.\u001B[39m_settings\u001B[38;5;241m.\u001B[39mserver_selection_timeout, \u001B[38;5;28;01mNone\u001B[39;00m\n\u001B[1;32m    533\u001B[0m         )\n\u001B[1;32m    534\u001B[0m \u001B[38;5;28;01melif\u001B[39;00m \u001B[38;5;129;01mnot\u001B[39;00m \u001B[38;5;28mself\u001B[39m\u001B[38;5;241m.\u001B[39m_description\u001B[38;5;241m.\u001B[39mreadable_servers:\n\u001B[0;32m--> 535\u001B[0m     \u001B[38;5;28;43mself\u001B[39;49m\u001B[38;5;241;43m.\u001B[39;49m\u001B[43m_select_servers_loop\u001B[49m\u001B[43m(\u001B[49m\n\u001B[1;32m    536\u001B[0m \u001B[43m        \u001B[49m\u001B[43mreadable_server_selector\u001B[49m\u001B[43m,\u001B[49m\u001B[43m \u001B[49m\u001B[38;5;28;43mself\u001B[39;49m\u001B[38;5;241;43m.\u001B[39;49m\u001B[43m_settings\u001B[49m\u001B[38;5;241;43m.\u001B[39;49m\u001B[43mserver_selection_timeout\u001B[49m\u001B[43m,\u001B[49m\u001B[43m \u001B[49m\u001B[38;5;28;43;01mNone\u001B[39;49;00m\n\u001B[1;32m    537\u001B[0m \u001B[43m    \u001B[49m\u001B[43m)\u001B[49m\n\u001B[1;32m    539\u001B[0m session_timeout \u001B[38;5;241m=\u001B[39m \u001B[38;5;28mself\u001B[39m\u001B[38;5;241m.\u001B[39m_description\u001B[38;5;241m.\u001B[39mlogical_session_timeout_minutes\n\u001B[1;32m    540\u001B[0m \u001B[38;5;28;01mif\u001B[39;00m session_timeout \u001B[38;5;129;01mis\u001B[39;00m \u001B[38;5;28;01mNone\u001B[39;00m:\n",
      "File \u001B[0;32m~/.local/lib/python3.8/site-packages/pymongo/topology.py:227\u001B[0m, in \u001B[0;36mTopology._select_servers_loop\u001B[0;34m(self, selector, timeout, address)\u001B[0m\n\u001B[1;32m    224\u001B[0m \u001B[38;5;28;01mwhile\u001B[39;00m \u001B[38;5;129;01mnot\u001B[39;00m server_descriptions:\n\u001B[1;32m    225\u001B[0m     \u001B[38;5;66;03m# No suitable servers.\u001B[39;00m\n\u001B[1;32m    226\u001B[0m     \u001B[38;5;28;01mif\u001B[39;00m timeout \u001B[38;5;241m==\u001B[39m \u001B[38;5;241m0\u001B[39m \u001B[38;5;129;01mor\u001B[39;00m now \u001B[38;5;241m>\u001B[39m end_time:\n\u001B[0;32m--> 227\u001B[0m         \u001B[38;5;28;01mraise\u001B[39;00m ServerSelectionTimeoutError(\n\u001B[1;32m    228\u001B[0m             \u001B[38;5;124m\"\u001B[39m\u001B[38;5;132;01m%s\u001B[39;00m\u001B[38;5;124m, Timeout: \u001B[39m\u001B[38;5;132;01m%s\u001B[39;00m\u001B[38;5;124ms, Topology Description: \u001B[39m\u001B[38;5;132;01m%r\u001B[39;00m\u001B[38;5;124m\"\u001B[39m\n\u001B[1;32m    229\u001B[0m             \u001B[38;5;241m%\u001B[39m (\u001B[38;5;28mself\u001B[39m\u001B[38;5;241m.\u001B[39m_error_message(selector), timeout, \u001B[38;5;28mself\u001B[39m\u001B[38;5;241m.\u001B[39mdescription)\n\u001B[1;32m    230\u001B[0m         )\n\u001B[1;32m    232\u001B[0m     \u001B[38;5;28mself\u001B[39m\u001B[38;5;241m.\u001B[39m_ensure_opened()\n\u001B[1;32m    233\u001B[0m     \u001B[38;5;28mself\u001B[39m\u001B[38;5;241m.\u001B[39m_request_check_all()\n",
      "\u001B[0;31mServerSelectionTimeoutError\u001B[0m: localhost:27017: [Errno 111] Connection refused, Timeout: 30s, Topology Description: <TopologyDescription id: 62a646b7a9d2ef5ad0ae9183, topology_type: Unknown, servers: [<ServerDescription ('localhost', 27017) server_type: Unknown, rtt: None, error=AutoReconnect('localhost:27017: [Errno 111] Connection refused')>]>"
     ]
    }
   ],
   "source": [
    "records = news.insert_many(obj_lib)\n",
    "print(records.inserted_ids)"
   ]
  },
  {
   "cell_type": "code",
   "execution_count": null,
   "id": "00d4457e",
   "metadata": {
    "pycharm": {
     "name": "#%%\n"
    }
   },
   "outputs": [],
   "source": [
    "news.find_one()"
   ]
  }
 ],
 "metadata": {
  "kernelspec": {
   "display_name": "Python 3 (ipykernel)",
   "language": "python",
   "name": "python3"
  },
  "language_info": {
   "codemirror_mode": {
    "name": "ipython",
    "version": 3
   },
   "file_extension": ".py",
   "mimetype": "text/x-python",
   "name": "python",
   "nbconvert_exporter": "python",
   "pygments_lexer": "ipython3",
   "version": "3.8.10"
  }
 },
 "nbformat": 4,
 "nbformat_minor": 5
}