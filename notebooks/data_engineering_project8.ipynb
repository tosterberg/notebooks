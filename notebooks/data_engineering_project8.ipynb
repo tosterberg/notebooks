{
 "cells": [
  {
   "cell_type": "markdown",
   "id": "b1a74008",
   "metadata": {
    "pycharm": {
     "name": "#%% md\n"
    }
   },
   "source": [
    "# Inverted Index using Spark"
   ]
  },
  {
   "cell_type": "code",
   "execution_count": 1,
   "id": "cf5dc46e",
   "metadata": {
    "pycharm": {
     "name": "#%%\n"
    }
   },
   "outputs": [],
   "source": [
    "import pyspark\n",
    "import pandas as pd\n",
    "from pyspark.sql import SparkSession\n",
    "from pyspark.sql.functions import regexp_replace, split, col, explode\n",
    "sc = pyspark.SparkContext(appName=\"InvertedIndex\")"
   ]
  },
  {
   "cell_type": "code",
   "execution_count": 2,
   "id": "db7e0935",
   "metadata": {
    "pycharm": {
     "name": "#%%\n"
    }
   },
   "outputs": [
    {
     "data": {
      "text/html": [
       "\n",
       "        <div>\n",
       "            <p><b>SparkContext</b></p>\n",
       "\n",
       "            <p><a href=\"http://host.docker.internal:4041\">Spark UI</a></p>\n",
       "\n",
       "            <dl>\n",
       "              <dt>Version</dt>\n",
       "                <dd><code>v3.3.0</code></dd>\n",
       "              <dt>Master</dt>\n",
       "                <dd><code>local[*]</code></dd>\n",
       "              <dt>AppName</dt>\n",
       "                <dd><code>InvertedIndex</code></dd>\n",
       "            </dl>\n",
       "        </div>\n",
       "        "
      ],
      "text/plain": [
       "<SparkContext master=local[*] appName=InvertedIndex>"
      ]
     },
     "execution_count": 2,
     "metadata": {},
     "output_type": "execute_result"
    }
   ],
   "source": [
    "sc"
   ]
  },
  {
   "cell_type": "code",
   "execution_count": 3,
   "id": "3c0a6659",
   "metadata": {
    "pycharm": {
     "name": "#%%\n"
    }
   },
   "outputs": [],
   "source": [
    "# This allows us to load csvs and text files easily with spark.read.csv(path_to_file)\n",
    "\n",
    "spark = SparkSession.builder.getOrCreate()"
   ]
  },
  {
   "cell_type": "code",
   "execution_count": 4,
   "id": "f0b6f930",
   "metadata": {
    "pycharm": {
     "name": "#%%\n"
    }
   },
   "outputs": [
    {
     "name": "stderr",
     "output_type": "stream",
     "text": [
      "mkdir: `/stack': File exists\n"
     ]
    }
   ],
   "source": [
    "!hdfs dfs -mkdir /stack"
   ]
  },
  {
   "cell_type": "code",
   "execution_count": 5,
   "id": "823c2cda",
   "metadata": {
    "pycharm": {
     "name": "#%%\n"
    }
   },
   "outputs": [],
   "source": [
    "!sudo hdfs dfs -copyFromLocal QueryResults.csv /stack"
   ]
  },
  {
   "cell_type": "code",
   "execution_count": 6,
   "id": "865c361f",
   "metadata": {
    "pycharm": {
     "name": "#%%\n"
    }
   },
   "outputs": [
    {
     "name": "stdout",
     "output_type": "stream",
     "text": [
      "Found 1 items\n",
      "-rw-r--r--   1 Administrators None    6443164 2022-06-26 17:55 /stack/QueryResults.csv\n"
     ]
    },
    {
     "name": "stderr",
     "output_type": "stream",
     "text": [
      "2022-06-26 18:42:24,786 WARN nativeio.NativeIO: NativeIO.getStat error (3): The system cannot find the path specified.\n",
      " -- file path: stack/QueryResults.csv\n"
     ]
    }
   ],
   "source": [
    "!hdfs dfs -ls /stack"
   ]
  },
  {
   "cell_type": "code",
   "execution_count": 7,
   "id": "a1d497ea",
   "metadata": {
    "pycharm": {
     "name": "#%%\n"
    }
   },
   "outputs": [
    {
     "name": "stdout",
     "output_type": "stream",
     "text": [
      "Id,Tags,Title,CreationDate\n",
      "\"70546323\",\"<html><notepad++><right-to-left>\",\"Why does Notepad++ display question marks for a language other than English?\",\"2022-01-01 00:01:24\"\n",
      "\"70546338\",\"<javascript><arrays><react-native>\",\"Object Push into Array within For Loop/For Each Loop is causing duplicates\",\"2022-01-01 00:05:55\"\n",
      "\"70546410\",\"<python><contextmanager>\",\"Should the \"\"opening work\"\" of a context manager happen in __init__ or __enter__?\",\"2022-01-01 00:31:32\"\n",
      "\"70546446\",\"<arrays><c><struct><embedded><game-boy-advance>\",\"error: expected '=', ',', ';', 'asm' or '__attribute__' before '.' token\",\"2022-01-01 00:41:51\"\n",
      "\"70546448\",\"<python><pip>\",\"I've tried to use this python package I installed but I get this error\",\"2022-01-01 00:42:23\"\n",
      "\"70546468\",\"<python><tensorflow><tensor>\",\"tensorflow: convert a list of tensor to ragged tensor with a fixed dim in a certain axis\",\"2022-01-01 00:49:24\"\n",
      "\"70546484\",\"<node.js><graph-theory><depth-first-search><directed-acyclic-graphs>\",\"List all \"\"unique paths\"\" to a nod\n"
     ]
    }
   ],
   "source": [
    "!hdfs dfs -head /stack/QueryResults.csv"
   ]
  },
  {
   "cell_type": "code",
   "execution_count": 8,
   "id": "2b555610",
   "metadata": {
    "pycharm": {
     "name": "#%%\n"
    }
   },
   "outputs": [
    {
     "data": {
      "text/plain": [
       "DataFrame[Id: string, Tags: string, Title: string, CreationDate: string]"
      ]
     },
     "execution_count": 8,
     "metadata": {},
     "output_type": "execute_result"
    }
   ],
   "source": [
    "overflow_csv = spark.read.option(\"header\",True).csv('/stack/QueryResults.csv')\n",
    "overflow_csv"
   ]
  },
  {
   "cell_type": "code",
   "execution_count": 9,
   "id": "d57639ff",
   "metadata": {
    "pycharm": {
     "name": "#%%\n"
    }
   },
   "outputs": [
    {
     "name": "stdout",
     "output_type": "stream",
     "text": [
      "root\n",
      " |-- Id: string (nullable = true)\n",
      " |-- Tags: string (nullable = true)\n",
      " |-- Title: string (nullable = true)\n",
      " |-- CreationDate: string (nullable = true)\n",
      "\n"
     ]
    }
   ],
   "source": [
    "overflow_csv.printSchema()"
   ]
  },
  {
   "cell_type": "code",
   "execution_count": 10,
   "id": "2fb3b45c",
   "metadata": {
    "pycharm": {
     "name": "#%%\n"
    }
   },
   "outputs": [
    {
     "data": {
      "text/plain": [
       "[Row(Id='70546323', Tags='<html><notepad++><right-to-left>', Title='Why does Notepad++ display question marks for a language other than English?', CreationDate='2022-01-01 00:01:24'),\n",
       " Row(Id='70546338', Tags='<javascript><arrays><react-native>', Title='Object Push into Array within For Loop/For Each Loop is causing duplicates', CreationDate='2022-01-01 00:05:55')]"
      ]
     },
     "execution_count": 10,
     "metadata": {},
     "output_type": "execute_result"
    }
   ],
   "source": [
    "overflow_csv.take(2)"
   ]
  },
  {
   "cell_type": "code",
   "execution_count": 11,
   "id": "3394dd96",
   "metadata": {
    "pycharm": {
     "name": "#%%\n"
    }
   },
   "outputs": [],
   "source": [
    "inv_idx = overflow_csv.withColumn('Tags', regexp_replace('Tags', '<', '')) \\\n",
    "    .withColumn('Tags', split('Tags', '>')) \\\n",
    "    .withColumn('Tags', explode(\"Tags\")) \\\n",
    "    .select('Tags', 'Id', 'Title') \\\n",
    "    .where(col('Tags') != '')"
   ]
  },
  {
   "cell_type": "code",
   "execution_count": 12,
   "id": "47636683",
   "metadata": {
    "pycharm": {
     "name": "#%%\n"
    }
   },
   "outputs": [
    {
     "name": "stdout",
     "output_type": "stream",
     "text": [
      "+----------------+--------+--------------------+\n",
      "|            Tags|      Id|               Title|\n",
      "+----------------+--------+--------------------+\n",
      "|            html|70546323|Why does Notepad+...|\n",
      "|       notepad++|70546323|Why does Notepad+...|\n",
      "|   right-to-left|70546323|Why does Notepad+...|\n",
      "|      javascript|70546338|Object Push into ...|\n",
      "|          arrays|70546338|Object Push into ...|\n",
      "|    react-native|70546338|Object Push into ...|\n",
      "|          python|70546410|\"Should the \"\"ope...|\n",
      "|  contextmanager|70546410|\"Should the \"\"ope...|\n",
      "|          arrays|70546446|error: expected '...|\n",
      "|               c|70546446|error: expected '...|\n",
      "|          struct|70546446|error: expected '...|\n",
      "|        embedded|70546446|error: expected '...|\n",
      "|game-boy-advance|70546446|error: expected '...|\n",
      "|          python|70546448|I've tried to use...|\n",
      "|             pip|70546448|I've tried to use...|\n",
      "|          python|70546468|tensorflow: conve...|\n",
      "|      tensorflow|70546468|tensorflow: conve...|\n",
      "|          tensor|70546468|tensorflow: conve...|\n",
      "|         node.js|70546484|\"List all \"\"uniqu...|\n",
      "|    graph-theory|70546484|\"List all \"\"uniqu...|\n",
      "+----------------+--------+--------------------+\n",
      "only showing top 20 rows\n",
      "\n"
     ]
    }
   ],
   "source": [
    "inv_idx.show()"
   ]
  },
  {
   "cell_type": "code",
   "execution_count": 13,
   "id": "1434ab78",
   "metadata": {
    "pycharm": {
     "name": "#%%\n"
    }
   },
   "outputs": [
    {
     "name": "stdout",
     "output_type": "stream",
     "text": [
      "+----+--------+--------------------+\n",
      "|Tags|      Id|               Title|\n",
      "+----+--------+--------------------+\n",
      "|html|70546323|Why does Notepad+...|\n",
      "|html|70546530|How to change hei...|\n",
      "|html|70546828|parsing urls usin...|\n",
      "|html|70546837|Why does a defaul...|\n",
      "|html|70546856|Chess Table Spaci...|\n",
      "|html|70548298|Fixed header but ...|\n",
      "|html|70548766|Get html table da...|\n",
      "|html|70549018|How can i center ...|\n",
      "|html|70549553|select only text ...|\n",
      "|html|70550312|How to reuse a fu...|\n",
      "|html|70550336|How to prevent br...|\n",
      "|html|70550608|how to make js di...|\n",
      "|html|70551072|How to center-ali...|\n",
      "|html|70551271|CSS animation onl...|\n",
      "|html|70557074|Is there a way to...|\n",
      "|html|70557516|\"Javascript docum...|\n",
      "|html|70557826|\"How i can use \"\"...|\n",
      "|html|70557905|Change div style ...|\n",
      "|html|70557992|Struggling with f...|\n",
      "|html|70551566|Empty responsive ...|\n",
      "+----+--------+--------------------+\n",
      "only showing top 20 rows\n",
      "\n"
     ]
    }
   ],
   "source": [
    "inv_idx.where(col('Tags') == 'html').show()"
   ]
  },
  {
   "cell_type": "code",
   "execution_count": 14,
   "id": "69af9a8f",
   "metadata": {
    "pycharm": {
     "name": "#%%\n"
    }
   },
   "outputs": [
    {
     "name": "stdout",
     "output_type": "stream",
     "text": [
      "+--------------------+--------+--------------------+\n",
      "|                Tags|      Id|               Title|\n",
      "+--------------------+--------+--------------------+\n",
      "|directed-acyclic-...|70546484|\"List all \"\"uniqu...|\n",
      "|directed-acyclic-...|71095957|Can a snakemake r...|\n",
      "|directed-acyclic-...|71131285|How to address a ...|\n",
      "|directed-acyclic-...|71142612|Array of values a...|\n",
      "+--------------------+--------+--------------------+\n",
      "\n"
     ]
    }
   ],
   "source": [
    "inv_idx.where(col('Tags') == 'directed-acyclic-graphs').show()"
   ]
  },
  {
   "cell_type": "code",
   "execution_count": 15,
   "id": "73920b4a",
   "metadata": {
    "pycharm": {
     "name": "#%%\n"
    }
   },
   "outputs": [],
   "source": [
    "inv_idx.write.option('header', True).csv('/stack/InvertedIndex')"
   ]
  },
  {
   "cell_type": "code",
   "execution_count": null,
   "id": "3148cf5b",
   "metadata": {
    "pycharm": {
     "name": "#%%\n"
    }
   },
   "outputs": [],
   "source": []
  }
 ],
 "metadata": {
  "kernelspec": {
   "display_name": "Python 3",
   "language": "python",
   "name": "python3"
  },
  "language_info": {
   "codemirror_mode": {
    "name": "ipython",
    "version": 3
   },
   "file_extension": ".py",
   "mimetype": "text/x-python",
   "name": "python",
   "nbconvert_exporter": "python",
   "pygments_lexer": "ipython3",
   "version": "3.8.8"
  }
 },
 "nbformat": 4,
 "nbformat_minor": 5
}