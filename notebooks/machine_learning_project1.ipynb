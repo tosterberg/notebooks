{
 "cells": [
  {
   "cell_type": "markdown",
   "metadata": {
    "pycharm": {
     "name": "#%% md\n"
    }
   },
   "source": [
    "## Assignment for Week 1 - Introduction to Machine Learning\n",
    "\n",
    "UCI Riverside Heart Disease dataset\n",
    "We will use the heart.disease.data file, which has 14 attributes and 1 target variable\n",
    "\n",
    "Objectives:\n",
    "* Impute missing data (don’t just throw it away)\n",
    "  * '-9' means missing\n",
    "* Look at the data with EDA\n",
    "* Drop unnecessary columns, if needed, and defend your decision to do so.\n",
    "* Deal with outliers (maybe make a boxplot)\n",
    "* Provide a brief summary of how you prepared your data for future analysis.\n",
    "\n",
    "Dataset Location:\n",
    "http://archive.ics.uci.edu/ml/datasets/heart+Disease\n",
    "(also provided in the assign_wk1.zip)\n",
    "\n",
    "Deliverables:\n",
    "\n",
    "Upload your notebook's .ipynb file\n",
    "Your completed notebook."
   ]
  },
  {
   "cell_type": "markdown",
   "metadata": {
    "pycharm": {
     "name": "#%% md\n"
    }
   },
   "source": [
    "## Introduction\n",
    "***"
   ]
  },
  {
   "cell_type": "markdown",
   "metadata": {
    "pycharm": {
     "name": "#%% md\n"
    }
   },
   "source": [
    "This week's assignment provides practice in using the pandas package for describing a dataset, using seaborn and matplotlib to visualize the data, and demonstrating our ability to prepare a dataset for future analysis.\n",
    "\n",
    "The following datasets were provided for this assignment: heart.disease.data."
   ]
  },
  {
   "cell_type": "markdown",
   "metadata": {
    "pycharm": {
     "name": "#%% md\n"
    }
   },
   "source": [
    "### Imports and Setup\n",
    "***"
   ]
  },
  {
   "cell_type": "code",
   "execution_count": 1,
   "metadata": {
    "pycharm": {
     "name": "#%%\n"
    }
   },
   "outputs": [],
   "source": [
    "import pandas as pd\n",
    "import numpy as np\n",
    "import math as math\n",
    "\n",
    "import seaborn as sns\n",
    "import matplotlib.pyplot as plt\n",
    "%matplotlib inline\n",
    "\n",
    "import warnings\n",
    "warnings.filterwarnings(\"ignore\")"
   ]
  },
  {
   "cell_type": "markdown",
   "metadata": {
    "pycharm": {
     "name": "#%% md\n"
    }
   },
   "source": [
    "We can start our exploration by taking a look at what our assignment data looks like."
   ]
  },
  {
   "cell_type": "code",
   "execution_count": 2,
   "metadata": {
    "pycharm": {
     "name": "#%%\n"
    }
   },
   "outputs": [
    {
     "name": "stdout",
     "output_type": "stream",
     "text": [
      "age,sex,cp,trestbps,chol,cigs,years,fbs,dm,famhist,restecg,thalach,exang,thal,num\r\n",
      "63,1,1,145,233,50,20,1,-9,1,2,150,0,6,0\r\n",
      "67,1,4,160,286,40,40,0,-9,1,2,108,1,3,2\r\n",
      "67,1,4,120,229,20,35,0,-9,1,2,129,1,7,1\r\n",
      "37,1,3,130,250,0,0,0,-9,1,0,187,0,3,0\r\n",
      "41,0,2,130,204,0,0,0,-9,1,2,172,0,3,0\r\n",
      "56,1,2,120,236,20,20,0,-9,1,0,178,0,3,0\r\n",
      "62,0,4,140,268,0,0,0,-9,1,2,160,0,3,3\r\n",
      "57,0,4,120,354,0,0,0,-9,1,0,163,1,3,0\r\n",
      "63,1,4,130,254,0,0,0,-9,0,2,147,0,7,2\r\n"
     ]
    }
   ],
   "source": [
    "!head assign_wk1/heart.disease.data"
   ]
  },
  {
   "cell_type": "markdown",
   "metadata": {
    "pycharm": {
     "name": "#%% md\n"
    }
   },
   "source": [
    "Okay, it looks like we have a CSV with headers, so we can move this directly into a dataframe without needing any additional transformation."
   ]
  },
  {
   "cell_type": "code",
   "execution_count": 3,
   "metadata": {
    "pycharm": {
     "name": "#%%\n"
    }
   },
   "outputs": [
    {
     "data": {
      "text/html": [
       "<div>\n",
       "<style scoped>\n",
       "    .dataframe tbody tr th:only-of-type {\n",
       "        vertical-align: middle;\n",
       "    }\n",
       "\n",
       "    .dataframe tbody tr th {\n",
       "        vertical-align: top;\n",
       "    }\n",
       "\n",
       "    .dataframe thead th {\n",
       "        text-align: right;\n",
       "    }\n",
       "</style>\n",
       "<table border=\"1\" class=\"dataframe\">\n",
       "  <thead>\n",
       "    <tr style=\"text-align: right;\">\n",
       "      <th></th>\n",
       "      <th>age</th>\n",
       "      <th>sex</th>\n",
       "      <th>cp</th>\n",
       "      <th>trestbps</th>\n",
       "      <th>chol</th>\n",
       "      <th>cigs</th>\n",
       "      <th>years</th>\n",
       "      <th>fbs</th>\n",
       "      <th>dm</th>\n",
       "      <th>famhist</th>\n",
       "      <th>restecg</th>\n",
       "      <th>thalach</th>\n",
       "      <th>exang</th>\n",
       "      <th>thal</th>\n",
       "      <th>num</th>\n",
       "    </tr>\n",
       "  </thead>\n",
       "  <tbody>\n",
       "    <tr>\n",
       "      <th>0</th>\n",
       "      <td>63</td>\n",
       "      <td>1</td>\n",
       "      <td>1</td>\n",
       "      <td>145</td>\n",
       "      <td>233</td>\n",
       "      <td>50</td>\n",
       "      <td>20</td>\n",
       "      <td>1</td>\n",
       "      <td>-9</td>\n",
       "      <td>1</td>\n",
       "      <td>2</td>\n",
       "      <td>150</td>\n",
       "      <td>0</td>\n",
       "      <td>6</td>\n",
       "      <td>0</td>\n",
       "    </tr>\n",
       "    <tr>\n",
       "      <th>1</th>\n",
       "      <td>67</td>\n",
       "      <td>1</td>\n",
       "      <td>4</td>\n",
       "      <td>160</td>\n",
       "      <td>286</td>\n",
       "      <td>40</td>\n",
       "      <td>40</td>\n",
       "      <td>0</td>\n",
       "      <td>-9</td>\n",
       "      <td>1</td>\n",
       "      <td>2</td>\n",
       "      <td>108</td>\n",
       "      <td>1</td>\n",
       "      <td>3</td>\n",
       "      <td>2</td>\n",
       "    </tr>\n",
       "    <tr>\n",
       "      <th>2</th>\n",
       "      <td>67</td>\n",
       "      <td>1</td>\n",
       "      <td>4</td>\n",
       "      <td>120</td>\n",
       "      <td>229</td>\n",
       "      <td>20</td>\n",
       "      <td>35</td>\n",
       "      <td>0</td>\n",
       "      <td>-9</td>\n",
       "      <td>1</td>\n",
       "      <td>2</td>\n",
       "      <td>129</td>\n",
       "      <td>1</td>\n",
       "      <td>7</td>\n",
       "      <td>1</td>\n",
       "    </tr>\n",
       "    <tr>\n",
       "      <th>3</th>\n",
       "      <td>37</td>\n",
       "      <td>1</td>\n",
       "      <td>3</td>\n",
       "      <td>130</td>\n",
       "      <td>250</td>\n",
       "      <td>0</td>\n",
       "      <td>0</td>\n",
       "      <td>0</td>\n",
       "      <td>-9</td>\n",
       "      <td>1</td>\n",
       "      <td>0</td>\n",
       "      <td>187</td>\n",
       "      <td>0</td>\n",
       "      <td>3</td>\n",
       "      <td>0</td>\n",
       "    </tr>\n",
       "    <tr>\n",
       "      <th>4</th>\n",
       "      <td>41</td>\n",
       "      <td>0</td>\n",
       "      <td>2</td>\n",
       "      <td>130</td>\n",
       "      <td>204</td>\n",
       "      <td>0</td>\n",
       "      <td>0</td>\n",
       "      <td>0</td>\n",
       "      <td>-9</td>\n",
       "      <td>1</td>\n",
       "      <td>2</td>\n",
       "      <td>172</td>\n",
       "      <td>0</td>\n",
       "      <td>3</td>\n",
       "      <td>0</td>\n",
       "    </tr>\n",
       "    <tr>\n",
       "      <th>...</th>\n",
       "      <td>...</td>\n",
       "      <td>...</td>\n",
       "      <td>...</td>\n",
       "      <td>...</td>\n",
       "      <td>...</td>\n",
       "      <td>...</td>\n",
       "      <td>...</td>\n",
       "      <td>...</td>\n",
       "      <td>...</td>\n",
       "      <td>...</td>\n",
       "      <td>...</td>\n",
       "      <td>...</td>\n",
       "      <td>...</td>\n",
       "      <td>...</td>\n",
       "      <td>...</td>\n",
       "    </tr>\n",
       "    <tr>\n",
       "      <th>277</th>\n",
       "      <td>39</td>\n",
       "      <td>0</td>\n",
       "      <td>3</td>\n",
       "      <td>138</td>\n",
       "      <td>220</td>\n",
       "      <td>20</td>\n",
       "      <td>23</td>\n",
       "      <td>0</td>\n",
       "      <td>-9</td>\n",
       "      <td>0</td>\n",
       "      <td>0</td>\n",
       "      <td>152</td>\n",
       "      <td>0</td>\n",
       "      <td>3</td>\n",
       "      <td>0</td>\n",
       "    </tr>\n",
       "    <tr>\n",
       "      <th>278</th>\n",
       "      <td>57</td>\n",
       "      <td>1</td>\n",
       "      <td>2</td>\n",
       "      <td>154</td>\n",
       "      <td>232</td>\n",
       "      <td>40</td>\n",
       "      <td>35</td>\n",
       "      <td>0</td>\n",
       "      <td>-9</td>\n",
       "      <td>1</td>\n",
       "      <td>2</td>\n",
       "      <td>164</td>\n",
       "      <td>0</td>\n",
       "      <td>3</td>\n",
       "      <td>1</td>\n",
       "    </tr>\n",
       "    <tr>\n",
       "      <th>279</th>\n",
       "      <td>58</td>\n",
       "      <td>0</td>\n",
       "      <td>4</td>\n",
       "      <td>130</td>\n",
       "      <td>197</td>\n",
       "      <td>0</td>\n",
       "      <td>0</td>\n",
       "      <td>0</td>\n",
       "      <td>-9</td>\n",
       "      <td>1</td>\n",
       "      <td>0</td>\n",
       "      <td>131</td>\n",
       "      <td>0</td>\n",
       "      <td>3</td>\n",
       "      <td>0</td>\n",
       "    </tr>\n",
       "    <tr>\n",
       "      <th>280</th>\n",
       "      <td>57</td>\n",
       "      <td>1</td>\n",
       "      <td>4</td>\n",
       "      <td>110</td>\n",
       "      <td>335</td>\n",
       "      <td>20</td>\n",
       "      <td>15</td>\n",
       "      <td>0</td>\n",
       "      <td>-9</td>\n",
       "      <td>1</td>\n",
       "      <td>0</td>\n",
       "      <td>143</td>\n",
       "      <td>1</td>\n",
       "      <td>7</td>\n",
       "      <td>2</td>\n",
       "    </tr>\n",
       "    <tr>\n",
       "      <th>281</th>\n",
       "      <td>47</td>\n",
       "      <td>1</td>\n",
       "      <td>3</td>\n",
       "      <td>130</td>\n",
       "      <td>253</td>\n",
       "      <td>0</td>\n",
       "      <td>0</td>\n",
       "      <td>0</td>\n",
       "      <td>-9</td>\n",
       "      <td>1</td>\n",
       "      <td>0</td>\n",
       "      <td>179</td>\n",
       "      <td>0</td>\n",
       "      <td>3</td>\n",
       "      <td>0</td>\n",
       "    </tr>\n",
       "  </tbody>\n",
       "</table>\n",
       "<p>282 rows × 15 columns</p>\n",
       "</div>"
      ],
      "text/plain": [
       "     age  sex  cp  trestbps  chol  cigs  years  fbs  dm  famhist  restecg  \\\n",
       "0     63    1   1       145   233    50     20    1  -9        1        2   \n",
       "1     67    1   4       160   286    40     40    0  -9        1        2   \n",
       "2     67    1   4       120   229    20     35    0  -9        1        2   \n",
       "3     37    1   3       130   250     0      0    0  -9        1        0   \n",
       "4     41    0   2       130   204     0      0    0  -9        1        2   \n",
       "..   ...  ...  ..       ...   ...   ...    ...  ...  ..      ...      ...   \n",
       "277   39    0   3       138   220    20     23    0  -9        0        0   \n",
       "278   57    1   2       154   232    40     35    0  -9        1        2   \n",
       "279   58    0   4       130   197     0      0    0  -9        1        0   \n",
       "280   57    1   4       110   335    20     15    0  -9        1        0   \n",
       "281   47    1   3       130   253     0      0    0  -9        1        0   \n",
       "\n",
       "     thalach  exang  thal  num  \n",
       "0        150      0     6    0  \n",
       "1        108      1     3    2  \n",
       "2        129      1     7    1  \n",
       "3        187      0     3    0  \n",
       "4        172      0     3    0  \n",
       "..       ...    ...   ...  ...  \n",
       "277      152      0     3    0  \n",
       "278      164      0     3    1  \n",
       "279      131      0     3    0  \n",
       "280      143      1     7    2  \n",
       "281      179      0     3    0  \n",
       "\n",
       "[282 rows x 15 columns]"
      ]
     },
     "execution_count": 3,
     "metadata": {},
     "output_type": "execute_result"
    }
   ],
   "source": [
    "df = pd.read_csv('assign_wk1/heart.disease.data')\n",
    "df"
   ]
  },
  {
   "cell_type": "code",
   "execution_count": 40,
   "metadata": {
    "pycharm": {
     "name": "#%%\n"
    }
   },
   "outputs": [
    {
     "data": {
      "text/plain": [
       "(282, 14)"
      ]
     },
     "execution_count": 40,
     "metadata": {},
     "output_type": "execute_result"
    }
   ],
   "source": [
    "df.shape"
   ]
  },
  {
   "cell_type": "markdown",
   "metadata": {
    "pycharm": {
     "name": "#%% md\n"
    }
   },
   "source": [
    "### Understanding the Dataset\n",
    "***"
   ]
  },
  {
   "cell_type": "code",
   "execution_count": 4,
   "metadata": {
    "pycharm": {
     "name": "#%%\n"
    }
   },
   "outputs": [
    {
     "name": "stdout",
     "output_type": "stream",
     "text": [
      "<class 'pandas.core.frame.DataFrame'>\n",
      "RangeIndex: 282 entries, 0 to 281\n",
      "Data columns (total 15 columns):\n",
      " #   Column    Non-Null Count  Dtype\n",
      "---  ------    --------------  -----\n",
      " 0   age       282 non-null    int64\n",
      " 1   sex       282 non-null    int64\n",
      " 2   cp        282 non-null    int64\n",
      " 3   trestbps  282 non-null    int64\n",
      " 4   chol      282 non-null    int64\n",
      " 5   cigs      282 non-null    int64\n",
      " 6   years     282 non-null    int64\n",
      " 7   fbs       282 non-null    int64\n",
      " 8   dm        282 non-null    int64\n",
      " 9   famhist   282 non-null    int64\n",
      " 10  restecg   282 non-null    int64\n",
      " 11  thalach   282 non-null    int64\n",
      " 12  exang     282 non-null    int64\n",
      " 13  thal      282 non-null    int64\n",
      " 14  num       282 non-null    int64\n",
      "dtypes: int64(15)\n",
      "memory usage: 33.2 KB\n"
     ]
    }
   ],
   "source": [
    "df.info()"
   ]
  },
  {
   "cell_type": "code",
   "execution_count": 5,
   "metadata": {
    "pycharm": {
     "name": "#%%\n"
    }
   },
   "outputs": [
    {
     "data": {
      "text/plain": [
       "count    282.000000\n",
       "mean      54.411348\n",
       "std        9.053083\n",
       "min       29.000000\n",
       "25%       48.000000\n",
       "50%       55.000000\n",
       "75%       61.000000\n",
       "max       77.000000\n",
       "Name: age, dtype: float64"
      ]
     },
     "execution_count": 5,
     "metadata": {},
     "output_type": "execute_result"
    }
   ],
   "source": [
    "df['age'].describe()"
   ]
  },
  {
   "cell_type": "code",
   "execution_count": 6,
   "metadata": {
    "pycharm": {
     "name": "#%%\n"
    }
   },
   "outputs": [
    {
     "data": {
      "text/plain": [
       "1    191\n",
       "0     91\n",
       "Name: sex, dtype: int64"
      ]
     },
     "execution_count": 6,
     "metadata": {},
     "output_type": "execute_result"
    }
   ],
   "source": [
    "df['sex'].value_counts()"
   ]
  },
  {
   "cell_type": "code",
   "execution_count": 7,
   "metadata": {
    "pycharm": {
     "name": "#%%\n"
    }
   },
   "outputs": [
    {
     "data": {
      "text/plain": [
       "4    133\n",
       "3     84\n",
       "2     43\n",
       "1     22\n",
       "Name: cp, dtype: int64"
      ]
     },
     "execution_count": 7,
     "metadata": {},
     "output_type": "execute_result"
    }
   ],
   "source": [
    "df['cp'].value_counts()"
   ]
  },
  {
   "cell_type": "code",
   "execution_count": 8,
   "metadata": {
    "pycharm": {
     "name": "#%%\n"
    }
   },
   "outputs": [
    {
     "data": {
      "text/plain": [
       "count    282.000000\n",
       "mean     131.563830\n",
       "std       17.757496\n",
       "min       94.000000\n",
       "25%      120.000000\n",
       "50%      130.000000\n",
       "75%      140.000000\n",
       "max      200.000000\n",
       "Name: trestbps, dtype: float64"
      ]
     },
     "execution_count": 8,
     "metadata": {},
     "output_type": "execute_result"
    }
   ],
   "source": [
    "df['trestbps'].describe()"
   ]
  },
  {
   "cell_type": "code",
   "execution_count": 9,
   "metadata": {
    "pycharm": {
     "name": "#%%\n"
    }
   },
   "outputs": [
    {
     "data": {
      "text/plain": [
       "count    282.000000\n",
       "mean     249.092199\n",
       "std       51.217546\n",
       "min      126.000000\n",
       "25%      213.000000\n",
       "50%      244.000000\n",
       "75%      277.000000\n",
       "max      564.000000\n",
       "Name: chol, dtype: float64"
      ]
     },
     "execution_count": 9,
     "metadata": {},
     "output_type": "execute_result"
    }
   ],
   "source": [
    "df['chol'].describe()"
   ]
  },
  {
   "cell_type": "code",
   "execution_count": 10,
   "metadata": {
    "pycharm": {
     "name": "#%%\n"
    }
   },
   "outputs": [
    {
     "data": {
      "text/plain": [
       " 0     115\n",
       " 20     51\n",
       " 40     30\n",
       " 30     20\n",
       " 10     12\n",
       " 50      9\n",
       " 60      9\n",
       " 2       6\n",
       " 25      6\n",
       "-9       5\n",
       "Name: cigs, dtype: int64"
      ]
     },
     "execution_count": 10,
     "metadata": {},
     "output_type": "execute_result"
    }
   ],
   "source": [
    "# Looks like 5 missing values\n",
    "\n",
    "df['cigs'].value_counts().head(10)"
   ]
  },
  {
   "cell_type": "code",
   "execution_count": 11,
   "metadata": {
    "pycharm": {
     "name": "#%%\n"
    }
   },
   "outputs": [
    {
     "data": {
      "text/plain": [
       " 0     115\n",
       " 20     32\n",
       " 30     27\n",
       " 40     15\n",
       " 25     15\n",
       " 35     12\n",
       " 15      9\n",
       "-9       5\n",
       "Name: years, dtype: int64"
      ]
     },
     "execution_count": 11,
     "metadata": {},
     "output_type": "execute_result"
    }
   ],
   "source": [
    "# We have 5 missing values here\n",
    "\n",
    "df['years'].value_counts().head(8)"
   ]
  },
  {
   "cell_type": "code",
   "execution_count": 12,
   "metadata": {
    "pycharm": {
     "name": "#%%\n"
    }
   },
   "outputs": [
    {
     "data": {
      "text/plain": [
       "0    240\n",
       "1     42\n",
       "Name: fbs, dtype: int64"
      ]
     },
     "execution_count": 12,
     "metadata": {},
     "output_type": "execute_result"
    }
   ],
   "source": [
    "df['fbs'].value_counts()"
   ]
  },
  {
   "cell_type": "code",
   "execution_count": 13,
   "metadata": {
    "pycharm": {
     "name": "#%%\n"
    }
   },
   "outputs": [
    {
     "data": {
      "text/plain": [
       "Index(['age', 'sex', 'cp', 'trestbps', 'chol', 'cigs', 'years', 'fbs', 'dm',\n",
       "       'famhist', 'restecg', 'thalach', 'exang', 'thal', 'num'],\n",
       "      dtype='object')"
      ]
     },
     "execution_count": 13,
     "metadata": {},
     "output_type": "execute_result"
    }
   ],
   "source": [
    "df.keys()"
   ]
  },
  {
   "cell_type": "code",
   "execution_count": 14,
   "metadata": {
    "pycharm": {
     "name": "#%%\n"
    }
   },
   "outputs": [
    {
     "data": {
      "text/plain": [
       "-9"
      ]
     },
     "execution_count": 14,
     "metadata": {},
     "output_type": "execute_result"
    }
   ],
   "source": [
    "# 259 missing values\n",
    "\n",
    "df['dm'].value_counts().index[0]"
   ]
  },
  {
   "cell_type": "code",
   "execution_count": 15,
   "metadata": {
    "pycharm": {
     "name": "#%%\n"
    }
   },
   "outputs": [
    {
     "data": {
      "text/plain": [
       "1    175\n",
       "0    107\n",
       "Name: famhist, dtype: int64"
      ]
     },
     "execution_count": 15,
     "metadata": {},
     "output_type": "execute_result"
    }
   ],
   "source": [
    "df['famhist'].value_counts()"
   ]
  },
  {
   "cell_type": "code",
   "execution_count": 16,
   "metadata": {
    "pycharm": {
     "name": "#%%\n"
    }
   },
   "outputs": [
    {
     "data": {
      "text/plain": [
       "2    142\n",
       "0    138\n",
       "1      2\n",
       "Name: restecg, dtype: int64"
      ]
     },
     "execution_count": 16,
     "metadata": {},
     "output_type": "execute_result"
    }
   ],
   "source": [
    "df['restecg'].value_counts()"
   ]
  },
  {
   "cell_type": "code",
   "execution_count": 17,
   "metadata": {
    "pycharm": {
     "name": "#%%\n"
    }
   },
   "outputs": [
    {
     "data": {
      "text/plain": [
       "count    282.000000\n",
       "mean     149.765957\n",
       "std       22.923869\n",
       "min       71.000000\n",
       "25%      133.250000\n",
       "50%      153.500000\n",
       "75%      165.750000\n",
       "max      202.000000\n",
       "Name: thalach, dtype: float64"
      ]
     },
     "execution_count": 17,
     "metadata": {},
     "output_type": "execute_result"
    }
   ],
   "source": [
    "df['thalach'].describe()"
   ]
  },
  {
   "cell_type": "code",
   "execution_count": 18,
   "metadata": {
    "pycharm": {
     "name": "#%%\n"
    }
   },
   "outputs": [
    {
     "data": {
      "text/plain": [
       "0    190\n",
       "1     92\n",
       "Name: exang, dtype: int64"
      ]
     },
     "execution_count": 18,
     "metadata": {},
     "output_type": "execute_result"
    }
   ],
   "source": [
    "df['exang'].value_counts()"
   ]
  },
  {
   "cell_type": "code",
   "execution_count": 19,
   "metadata": {
    "pycharm": {
     "name": "#%%\n"
    }
   },
   "outputs": [
    {
     "data": {
      "text/plain": [
       " 3    159\n",
       " 7    107\n",
       " 6     14\n",
       "-9      2\n",
       "Name: thal, dtype: int64"
      ]
     },
     "execution_count": 19,
     "metadata": {},
     "output_type": "execute_result"
    }
   ],
   "source": [
    "# Looks like we have 2 missing values here\n",
    "\n",
    "df['thal'].value_counts()"
   ]
  },
  {
   "cell_type": "code",
   "execution_count": 20,
   "metadata": {
    "pycharm": {
     "name": "#%%\n"
    }
   },
   "outputs": [
    {
     "data": {
      "text/plain": [
       "0    157\n",
       "1     50\n",
       "3     32\n",
       "2     31\n",
       "4     12\n",
       "Name: num, dtype: int64"
      ]
     },
     "execution_count": 20,
     "metadata": {},
     "output_type": "execute_result"
    }
   ],
   "source": [
    "df['num'].value_counts()"
   ]
  },
  {
   "cell_type": "markdown",
   "metadata": {
    "pycharm": {
     "name": "#%% md\n"
    }
   },
   "source": [
    "## Data Cleanup\n",
    "***"
   ]
  },
  {
   "cell_type": "markdown",
   "metadata": {
    "pycharm": {
     "name": "#%% md\n"
    }
   },
   "source": [
    "The first thing that we do is address the missing values. Our missing values counts vary accross a few of our categorical columns. We will start by setting their respective values to something that makes sense for the column, removing the column, or removing the record depending on what makes the most sense."
   ]
  },
  {
   "cell_type": "markdown",
   "metadata": {
    "pycharm": {
     "name": "#%% md\n"
    }
   },
   "source": [
    "### Missing Data\n",
    "***"
   ]
  },
  {
   "cell_type": "code",
   "execution_count": 21,
   "metadata": {
    "pycharm": {
     "name": "#%%\n"
    }
   },
   "outputs": [],
   "source": [
    "# First we can remove all of the -9's from our dataframe and leave them as NaN's\n",
    "# This will let us use the fillna method for replacing our values with the columns mode\n",
    "\n",
    "df = df[df != -9]"
   ]
  },
  {
   "cell_type": "code",
   "execution_count": 22,
   "metadata": {
    "pycharm": {
     "name": "#%%\n"
    }
   },
   "outputs": [
    {
     "name": "stdout",
     "output_type": "stream",
     "text": [
      "<class 'pandas.core.frame.DataFrame'>\n",
      "RangeIndex: 282 entries, 0 to 281\n",
      "Data columns (total 15 columns):\n",
      " #   Column    Non-Null Count  Dtype  \n",
      "---  ------    --------------  -----  \n",
      " 0   age       282 non-null    int64  \n",
      " 1   sex       282 non-null    int64  \n",
      " 2   cp        282 non-null    int64  \n",
      " 3   trestbps  282 non-null    int64  \n",
      " 4   chol      282 non-null    int64  \n",
      " 5   cigs      277 non-null    float64\n",
      " 6   years     277 non-null    float64\n",
      " 7   fbs       282 non-null    int64  \n",
      " 8   dm        23 non-null     float64\n",
      " 9   famhist   282 non-null    int64  \n",
      " 10  restecg   282 non-null    int64  \n",
      " 11  thalach   282 non-null    int64  \n",
      " 12  exang     282 non-null    int64  \n",
      " 13  thal      280 non-null    float64\n",
      " 14  num       282 non-null    int64  \n",
      "dtypes: float64(4), int64(11)\n",
      "memory usage: 33.2 KB\n"
     ]
    }
   ],
   "source": [
    "df.info()"
   ]
  },
  {
   "cell_type": "markdown",
   "metadata": {
    "pycharm": {
     "name": "#%% md\n"
    }
   },
   "source": [
    "For our categorical columns, which is the only missing data, we will fill the NA's with the mode. We will also need to reset the type for the effected columns back to int64."
   ]
  },
  {
   "cell_type": "code",
   "execution_count": 23,
   "metadata": {
    "pycharm": {
     "name": "#%%\n"
    }
   },
   "outputs": [
    {
     "name": "stdout",
     "output_type": "stream",
     "text": [
      "<class 'pandas.core.frame.DataFrame'>\n",
      "RangeIndex: 282 entries, 0 to 281\n",
      "Data columns (total 15 columns):\n",
      " #   Column    Non-Null Count  Dtype\n",
      "---  ------    --------------  -----\n",
      " 0   age       282 non-null    int64\n",
      " 1   sex       282 non-null    int64\n",
      " 2   cp        282 non-null    int64\n",
      " 3   trestbps  282 non-null    int64\n",
      " 4   chol      282 non-null    int64\n",
      " 5   cigs      282 non-null    int64\n",
      " 6   years     282 non-null    int64\n",
      " 7   fbs       282 non-null    int64\n",
      " 8   dm        282 non-null    int64\n",
      " 9   famhist   282 non-null    int64\n",
      " 10  restecg   282 non-null    int64\n",
      " 11  thalach   282 non-null    int64\n",
      " 12  exang     282 non-null    int64\n",
      " 13  thal      282 non-null    int64\n",
      " 14  num       282 non-null    int64\n",
      "dtypes: int64(15)\n",
      "memory usage: 33.2 KB\n"
     ]
    }
   ],
   "source": [
    "for col in df.columns:\n",
    "    df[col] = df[col].fillna(int(df[col].value_counts().index[0])).astype(int)  # Reset dtype to int\n",
    "    \n",
    "df.info()"
   ]
  },
  {
   "cell_type": "code",
   "execution_count": 24,
   "metadata": {
    "pycharm": {
     "name": "#%%\n"
    }
   },
   "outputs": [
    {
     "data": {
      "text/plain": [
       "1    282\n",
       "Name: dm, dtype: int64"
      ]
     },
     "execution_count": 24,
     "metadata": {},
     "output_type": "execute_result"
    }
   ],
   "source": [
    "df['dm'].value_counts()"
   ]
  },
  {
   "cell_type": "markdown",
   "metadata": {
    "pycharm": {
     "name": "#%% md\n"
    }
   },
   "source": [
    "It looks like we only had 1 values in this column, since everything else is missing it is probably best not to assume that the missing values were either 1 or 0 and just drop the column from our analysis."
   ]
  },
  {
   "cell_type": "code",
   "execution_count": 25,
   "metadata": {
    "pycharm": {
     "name": "#%%\n"
    }
   },
   "outputs": [
    {
     "data": {
      "text/html": [
       "<div>\n",
       "<style scoped>\n",
       "    .dataframe tbody tr th:only-of-type {\n",
       "        vertical-align: middle;\n",
       "    }\n",
       "\n",
       "    .dataframe tbody tr th {\n",
       "        vertical-align: top;\n",
       "    }\n",
       "\n",
       "    .dataframe thead th {\n",
       "        text-align: right;\n",
       "    }\n",
       "</style>\n",
       "<table border=\"1\" class=\"dataframe\">\n",
       "  <thead>\n",
       "    <tr style=\"text-align: right;\">\n",
       "      <th></th>\n",
       "      <th>age</th>\n",
       "      <th>sex</th>\n",
       "      <th>cp</th>\n",
       "      <th>trestbps</th>\n",
       "      <th>chol</th>\n",
       "      <th>cigs</th>\n",
       "      <th>years</th>\n",
       "      <th>fbs</th>\n",
       "      <th>famhist</th>\n",
       "      <th>restecg</th>\n",
       "      <th>thalach</th>\n",
       "      <th>exang</th>\n",
       "      <th>thal</th>\n",
       "      <th>num</th>\n",
       "    </tr>\n",
       "  </thead>\n",
       "  <tbody>\n",
       "    <tr>\n",
       "      <th>0</th>\n",
       "      <td>63</td>\n",
       "      <td>1</td>\n",
       "      <td>1</td>\n",
       "      <td>145</td>\n",
       "      <td>233</td>\n",
       "      <td>50</td>\n",
       "      <td>20</td>\n",
       "      <td>1</td>\n",
       "      <td>1</td>\n",
       "      <td>2</td>\n",
       "      <td>150</td>\n",
       "      <td>0</td>\n",
       "      <td>6</td>\n",
       "      <td>0</td>\n",
       "    </tr>\n",
       "    <tr>\n",
       "      <th>1</th>\n",
       "      <td>67</td>\n",
       "      <td>1</td>\n",
       "      <td>4</td>\n",
       "      <td>160</td>\n",
       "      <td>286</td>\n",
       "      <td>40</td>\n",
       "      <td>40</td>\n",
       "      <td>0</td>\n",
       "      <td>1</td>\n",
       "      <td>2</td>\n",
       "      <td>108</td>\n",
       "      <td>1</td>\n",
       "      <td>3</td>\n",
       "      <td>2</td>\n",
       "    </tr>\n",
       "    <tr>\n",
       "      <th>2</th>\n",
       "      <td>67</td>\n",
       "      <td>1</td>\n",
       "      <td>4</td>\n",
       "      <td>120</td>\n",
       "      <td>229</td>\n",
       "      <td>20</td>\n",
       "      <td>35</td>\n",
       "      <td>0</td>\n",
       "      <td>1</td>\n",
       "      <td>2</td>\n",
       "      <td>129</td>\n",
       "      <td>1</td>\n",
       "      <td>7</td>\n",
       "      <td>1</td>\n",
       "    </tr>\n",
       "    <tr>\n",
       "      <th>3</th>\n",
       "      <td>37</td>\n",
       "      <td>1</td>\n",
       "      <td>3</td>\n",
       "      <td>130</td>\n",
       "      <td>250</td>\n",
       "      <td>0</td>\n",
       "      <td>0</td>\n",
       "      <td>0</td>\n",
       "      <td>1</td>\n",
       "      <td>0</td>\n",
       "      <td>187</td>\n",
       "      <td>0</td>\n",
       "      <td>3</td>\n",
       "      <td>0</td>\n",
       "    </tr>\n",
       "    <tr>\n",
       "      <th>4</th>\n",
       "      <td>41</td>\n",
       "      <td>0</td>\n",
       "      <td>2</td>\n",
       "      <td>130</td>\n",
       "      <td>204</td>\n",
       "      <td>0</td>\n",
       "      <td>0</td>\n",
       "      <td>0</td>\n",
       "      <td>1</td>\n",
       "      <td>2</td>\n",
       "      <td>172</td>\n",
       "      <td>0</td>\n",
       "      <td>3</td>\n",
       "      <td>0</td>\n",
       "    </tr>\n",
       "    <tr>\n",
       "      <th>...</th>\n",
       "      <td>...</td>\n",
       "      <td>...</td>\n",
       "      <td>...</td>\n",
       "      <td>...</td>\n",
       "      <td>...</td>\n",
       "      <td>...</td>\n",
       "      <td>...</td>\n",
       "      <td>...</td>\n",
       "      <td>...</td>\n",
       "      <td>...</td>\n",
       "      <td>...</td>\n",
       "      <td>...</td>\n",
       "      <td>...</td>\n",
       "      <td>...</td>\n",
       "    </tr>\n",
       "    <tr>\n",
       "      <th>277</th>\n",
       "      <td>39</td>\n",
       "      <td>0</td>\n",
       "      <td>3</td>\n",
       "      <td>138</td>\n",
       "      <td>220</td>\n",
       "      <td>20</td>\n",
       "      <td>23</td>\n",
       "      <td>0</td>\n",
       "      <td>0</td>\n",
       "      <td>0</td>\n",
       "      <td>152</td>\n",
       "      <td>0</td>\n",
       "      <td>3</td>\n",
       "      <td>0</td>\n",
       "    </tr>\n",
       "    <tr>\n",
       "      <th>278</th>\n",
       "      <td>57</td>\n",
       "      <td>1</td>\n",
       "      <td>2</td>\n",
       "      <td>154</td>\n",
       "      <td>232</td>\n",
       "      <td>40</td>\n",
       "      <td>35</td>\n",
       "      <td>0</td>\n",
       "      <td>1</td>\n",
       "      <td>2</td>\n",
       "      <td>164</td>\n",
       "      <td>0</td>\n",
       "      <td>3</td>\n",
       "      <td>1</td>\n",
       "    </tr>\n",
       "    <tr>\n",
       "      <th>279</th>\n",
       "      <td>58</td>\n",
       "      <td>0</td>\n",
       "      <td>4</td>\n",
       "      <td>130</td>\n",
       "      <td>197</td>\n",
       "      <td>0</td>\n",
       "      <td>0</td>\n",
       "      <td>0</td>\n",
       "      <td>1</td>\n",
       "      <td>0</td>\n",
       "      <td>131</td>\n",
       "      <td>0</td>\n",
       "      <td>3</td>\n",
       "      <td>0</td>\n",
       "    </tr>\n",
       "    <tr>\n",
       "      <th>280</th>\n",
       "      <td>57</td>\n",
       "      <td>1</td>\n",
       "      <td>4</td>\n",
       "      <td>110</td>\n",
       "      <td>335</td>\n",
       "      <td>20</td>\n",
       "      <td>15</td>\n",
       "      <td>0</td>\n",
       "      <td>1</td>\n",
       "      <td>0</td>\n",
       "      <td>143</td>\n",
       "      <td>1</td>\n",
       "      <td>7</td>\n",
       "      <td>2</td>\n",
       "    </tr>\n",
       "    <tr>\n",
       "      <th>281</th>\n",
       "      <td>47</td>\n",
       "      <td>1</td>\n",
       "      <td>3</td>\n",
       "      <td>130</td>\n",
       "      <td>253</td>\n",
       "      <td>0</td>\n",
       "      <td>0</td>\n",
       "      <td>0</td>\n",
       "      <td>1</td>\n",
       "      <td>0</td>\n",
       "      <td>179</td>\n",
       "      <td>0</td>\n",
       "      <td>3</td>\n",
       "      <td>0</td>\n",
       "    </tr>\n",
       "  </tbody>\n",
       "</table>\n",
       "<p>282 rows × 14 columns</p>\n",
       "</div>"
      ],
      "text/plain": [
       "     age  sex  cp  trestbps  chol  cigs  years  fbs  famhist  restecg  \\\n",
       "0     63    1   1       145   233    50     20    1        1        2   \n",
       "1     67    1   4       160   286    40     40    0        1        2   \n",
       "2     67    1   4       120   229    20     35    0        1        2   \n",
       "3     37    1   3       130   250     0      0    0        1        0   \n",
       "4     41    0   2       130   204     0      0    0        1        2   \n",
       "..   ...  ...  ..       ...   ...   ...    ...  ...      ...      ...   \n",
       "277   39    0   3       138   220    20     23    0        0        0   \n",
       "278   57    1   2       154   232    40     35    0        1        2   \n",
       "279   58    0   4       130   197     0      0    0        1        0   \n",
       "280   57    1   4       110   335    20     15    0        1        0   \n",
       "281   47    1   3       130   253     0      0    0        1        0   \n",
       "\n",
       "     thalach  exang  thal  num  \n",
       "0        150      0     6    0  \n",
       "1        108      1     3    2  \n",
       "2        129      1     7    1  \n",
       "3        187      0     3    0  \n",
       "4        172      0     3    0  \n",
       "..       ...    ...   ...  ...  \n",
       "277      152      0     3    0  \n",
       "278      164      0     3    1  \n",
       "279      131      0     3    0  \n",
       "280      143      1     7    2  \n",
       "281      179      0     3    0  \n",
       "\n",
       "[282 rows x 14 columns]"
      ]
     },
     "execution_count": 25,
     "metadata": {},
     "output_type": "execute_result"
    }
   ],
   "source": [
    "df.drop(columns='dm', inplace=True)\n",
    "df"
   ]
  },
  {
   "cell_type": "markdown",
   "metadata": {
    "pycharm": {
     "name": "#%% md\n"
    }
   },
   "source": [
    "### Outliers\n",
    "***"
   ]
  },
  {
   "cell_type": "markdown",
   "metadata": {
    "pycharm": {
     "name": "#%% md\n"
    }
   },
   "source": [
    "I am going to start our outliers section by creating an outlier check function, and an outlier fix function that will cap either the min or max to the 1st/99th percentile value."
   ]
  },
  {
   "cell_type": "code",
   "execution_count": 26,
   "metadata": {
    "pycharm": {
     "name": "#%%\n"
    }
   },
   "outputs": [],
   "source": [
    "# Method that graphs a column, shows range, and outliers for determining if we address outliers.\n",
    "def outlier_check(data, col):\n",
    "    first_perc = math.floor(data[col].quantile(0.01))\n",
    "    last_perc = math.ceil(data[col].quantile(0.99))\n",
    "    sns.boxplot(data[col])\n",
    "    print(f'Column: {col}')\n",
    "    print(f'Minimum Value: {data[col].min()}')\n",
    "    print(f'1st Percentile: {first_perc}')\n",
    "    print(f'99th Percentile: {last_perc}')\n",
    "    print(f'Maximum Value: {data[col].max()}')\n",
    "    \n",
    "\n",
    "# Method that applies a transform on outliers where requested\n",
    "def outlier_fix(data, col, min_fix, max_fix):\n",
    "    bottom = math.floor(data[col].quantile(0.01))\n",
    "    top = math.ceil(data[col].quantile(0.99))\n",
    "    if min_fix:\n",
    "        data.loc[data[col] <= bottom, col] = bottom\n",
    "    if max_fix:\n",
    "        data.loc[data[col] >= top, col] = top"
   ]
  },
  {
   "cell_type": "code",
   "execution_count": 27,
   "metadata": {
    "pycharm": {
     "name": "#%%\n"
    }
   },
   "outputs": [
    {
     "name": "stdout",
     "output_type": "stream",
     "text": [
      "Column: age\n",
      "Minimum Value: 29\n",
      "1st Percentile: 34\n",
      "99th Percentile: 72\n",
      "Maximum Value: 77\n"
     ]
    },
    {
     "data": {
      "image/png": "[encoded data removed]",
      "text/plain": [
       "<Figure size 432x288 with 1 Axes>"
      ]
     },
     "metadata": {
      "needs_background": "light"
     },
     "output_type": "display_data"
    }
   ],
   "source": [
    "outlier_check(df, 'age')"
   ]
  },
  {
   "cell_type": "markdown",
   "metadata": {
    "pycharm": {
     "name": "#%% md\n"
    }
   },
   "source": [
    "The age appears to be distributed normally, and without much in terms of outliers so I think we can leave this as it is."
   ]
  },
  {
   "cell_type": "code",
   "execution_count": 28,
   "metadata": {
    "pycharm": {
     "name": "#%%\n"
    }
   },
   "outputs": [
    {
     "name": "stdout",
     "output_type": "stream",
     "text": [
      "Column: trestbps\n",
      "Minimum Value: 94\n",
      "1st Percentile: 100\n",
      "99th Percentile: 180\n",
      "Maximum Value: 200\n"
     ]
    },
    {
     "data": {
      "image/png": "[encoded data removed]",
      "text/plain": [
       "<Figure size 432x288 with 1 Axes>"
      ]
     },
     "metadata": {
      "needs_background": "light"
     },
     "output_type": "display_data"
    }
   ],
   "source": [
    "outlier_check(df, 'trestbps')"
   ]
  },
  {
   "cell_type": "markdown",
   "metadata": {
    "pycharm": {
     "name": "#%% md\n"
    }
   },
   "source": [
    "For the 'trestbps' we have right-skew for the value and should probably bring them to a ceiling value so that they don't apply to much pull on later calculations."
   ]
  },
  {
   "cell_type": "code",
   "execution_count": 29,
   "metadata": {
    "pycharm": {
     "name": "#%%\n"
    }
   },
   "outputs": [],
   "source": [
    "outlier_fix(df, 'trestbps', False, True)"
   ]
  },
  {
   "cell_type": "code",
   "execution_count": 30,
   "metadata": {
    "pycharm": {
     "name": "#%%\n"
    }
   },
   "outputs": [
    {
     "name": "stdout",
     "output_type": "stream",
     "text": [
      "Column: chol\n",
      "Minimum Value: 126\n",
      "1st Percentile: 149\n",
      "99th Percentile: 408\n",
      "Maximum Value: 564\n"
     ]
    },
    {
     "data": {
      "image/png": "[encoded data removed]",
      "text/plain": [
       "<Figure size 432x288 with 1 Axes>"
      ]
     },
     "metadata": {
      "needs_background": "light"
     },
     "output_type": "display_data"
    }
   ],
   "source": [
    "outlier_check(df, 'chol')"
   ]
  },
  {
   "cell_type": "markdown",
   "metadata": {
    "pycharm": {
     "name": "#%% md\n"
    }
   },
   "source": [
    "For the 'chol' we have right-skew for the value and should probably bring them to a ceiling value so that they don't apply to much pull on later calculations"
   ]
  },
  {
   "cell_type": "code",
   "execution_count": 31,
   "metadata": {
    "pycharm": {
     "name": "#%%\n"
    }
   },
   "outputs": [],
   "source": [
    "outlier_fix(df, 'chol', False, True)"
   ]
  },
  {
   "cell_type": "code",
   "execution_count": 32,
   "metadata": {
    "pycharm": {
     "name": "#%%\n"
    }
   },
   "outputs": [
    {
     "name": "stdout",
     "output_type": "stream",
     "text": [
      "Column: cigs\n",
      "Minimum Value: 0\n",
      "1st Percentile: 0\n",
      "99th Percentile: 76\n",
      "Maximum Value: 99\n"
     ]
    },
    {
     "data": {
      "image/png": "[encoded data removed]",
      "text/plain": [
       "<Figure size 432x288 with 1 Axes>"
      ]
     },
     "metadata": {
      "needs_background": "light"
     },
     "output_type": "display_data"
    }
   ],
   "source": [
    "outlier_check(df, 'cigs')"
   ]
  },
  {
   "cell_type": "markdown",
   "metadata": {
    "pycharm": {
     "name": "#%% md\n"
    }
   },
   "source": [
    "The 'cigs' column is very heavily right-skewed, and not normally distributed due to the type of measure that it is. I think we apply a ceiling for this column as well."
   ]
  },
  {
   "cell_type": "code",
   "execution_count": 33,
   "metadata": {
    "pycharm": {
     "name": "#%%\n"
    }
   },
   "outputs": [],
   "source": [
    "outlier_fix(df, 'cigs', False, True)"
   ]
  },
  {
   "cell_type": "code",
   "execution_count": 34,
   "metadata": {
    "pycharm": {
     "name": "#%%\n"
    }
   },
   "outputs": [
    {
     "name": "stdout",
     "output_type": "stream",
     "text": [
      "Column: years\n",
      "Minimum Value: 0\n",
      "1st Percentile: 0\n",
      "99th Percentile: 50\n",
      "Maximum Value: 54\n"
     ]
    },
    {
     "data": {
      "image/png": "[encoded data removed]",
      "text/plain": [
       "<Figure size 432x288 with 1 Axes>"
      ]
     },
     "metadata": {
      "needs_background": "light"
     },
     "output_type": "display_data"
    }
   ],
   "source": [
    "outlier_check(df, 'years')"
   ]
  },
  {
   "cell_type": "code",
   "execution_count": 35,
   "metadata": {
    "pycharm": {
     "name": "#%%\n"
    }
   },
   "outputs": [
    {
     "name": "stdout",
     "output_type": "stream",
     "text": [
      "Column: thalach\n",
      "Minimum Value: 71\n",
      "1st Percentile: 95\n",
      "99th Percentile: 193\n",
      "Maximum Value: 202\n"
     ]
    },
    {
     "data": {
      "image/png": "[encoded data removed]",
      "text/plain": [
       "<Figure size 432x288 with 1 Axes>"
      ]
     },
     "metadata": {
      "needs_background": "light"
     },
     "output_type": "display_data"
    }
   ],
   "source": [
    "outlier_check(df, 'thalach')"
   ]
  },
  {
   "cell_type": "markdown",
   "metadata": {
    "pycharm": {
     "name": "#%% md\n"
    }
   },
   "source": [
    "For our 'thalach' column we have lower outliers but no upper bound, so this time we will do our treatment on the bottom value with a floor value."
   ]
  },
  {
   "cell_type": "code",
   "execution_count": 36,
   "metadata": {
    "pycharm": {
     "name": "#%%\n"
    }
   },
   "outputs": [],
   "source": [
    "outlier_fix(df, 'thalach', True, False)"
   ]
  },
  {
   "cell_type": "markdown",
   "metadata": {
    "pycharm": {
     "name": "#%% md\n"
    }
   },
   "source": [
    "### Visual Exploration\n",
    "***"
   ]
  },
  {
   "cell_type": "markdown",
   "metadata": {
    "pycharm": {
     "name": "#%% md\n"
    }
   },
   "source": [
    "Now that we have done the data cleanup, and our data is prepared we ca start looking at the correlations in the data to see if there is a signal for us to eventually use for predition."
   ]
  },
  {
   "cell_type": "code",
   "execution_count": 37,
   "metadata": {
    "pycharm": {
     "name": "#%%\n"
    }
   },
   "outputs": [
    {
     "data": {
      "text/plain": [
       "<AxesSubplot:>"
      ]
     },
     "execution_count": 37,
     "metadata": {},
     "output_type": "execute_result"
    },
    {
     "data": {
      "image/png": "[encoded data removed]",
      "text/plain": [
       "<Figure size 1080x576 with 2 Axes>"
      ]
     },
     "metadata": {},
     "output_type": "display_data"
    }
   ],
   "source": [
    "mako = sns.color_palette('mako',as_cmap=True)\n",
    "sns.set(rc = {'figure.figsize':(15,8)})\n",
    "sns.heatmap(data=df.corr(), cmap=mako)"
   ]
  },
  {
   "cell_type": "code",
   "execution_count": 38,
   "metadata": {
    "pycharm": {
     "name": "#%%\n"
    }
   },
   "outputs": [
    {
     "data": {
      "text/html": [
       "<style type=\"text/css\">\n",
       "#T_9460a_row0_col0, #T_9460a_row1_col1, #T_9460a_row2_col2, #T_9460a_row3_col3, #T_9460a_row4_col4, #T_9460a_row5_col5, #T_9460a_row6_col6, #T_9460a_row7_col7, #T_9460a_row8_col8, #T_9460a_row9_col9, #T_9460a_row10_col10, #T_9460a_row11_col11, #T_9460a_row12_col12, #T_9460a_row13_col13 {\n",
       "  background-color: #a9373b;\n",
       "  color: #f1f1f1;\n",
       "}\n",
       "#T_9460a_row0_col1 {\n",
       "  background-color: #8da4c6;\n",
       "  color: #f1f1f1;\n",
       "}\n",
       "#T_9460a_row0_col2, #T_9460a_row11_col0, #T_9460a_row13_col6 {\n",
       "  background-color: #bfc8d8;\n",
       "  color: #000000;\n",
       "}\n",
       "#T_9460a_row0_col3 {\n",
       "  background-color: #f8f4f5;\n",
       "  color: #000000;\n",
       "}\n",
       "#T_9460a_row0_col4, #T_9460a_row2_col12, #T_9460a_row13_col0 {\n",
       "  background-color: #e7e7ec;\n",
       "  color: #000000;\n",
       "}\n",
       "#T_9460a_row0_col5 {\n",
       "  background-color: #829cc3;\n",
       "  color: #f1f1f1;\n",
       "}\n",
       "#T_9460a_row0_col6, #T_9460a_row2_col4 {\n",
       "  background-color: #b8c3d5;\n",
       "  color: #000000;\n",
       "}\n",
       "#T_9460a_row0_col7, #T_9460a_row0_col12, #T_9460a_row1_col13 {\n",
       "  background-color: #c7cedc;\n",
       "  color: #000000;\n",
       "}\n",
       "#T_9460a_row0_col8, #T_9460a_row2_col6, #T_9460a_row4_col3 {\n",
       "  background-color: #b0bdd2;\n",
       "  color: #000000;\n",
       "}\n",
       "#T_9460a_row0_col9 {\n",
       "  background-color: #cfd4e0;\n",
       "  color: #000000;\n",
       "}\n",
       "#T_9460a_row0_col10, #T_9460a_row1_col4, #T_9460a_row2_col10, #T_9460a_row3_col2, #T_9460a_row4_col1, #T_9460a_row5_col0, #T_9460a_row6_col9, #T_9460a_row7_col2, #T_9460a_row8_col1, #T_9460a_row9_col6, #T_9460a_row9_col10, #T_9460a_row10_col0, #T_9460a_row10_col13, #T_9460a_row11_col10, #T_9460a_row12_col10, #T_9460a_row13_col10 {\n",
       "  background-color: #2369bd;\n",
       "  color: #f1f1f1;\n",
       "}\n",
       "#T_9460a_row0_col11 {\n",
       "  background-color: #c2cada;\n",
       "  color: #000000;\n",
       "}\n",
       "#T_9460a_row0_col13, #T_9460a_row1_col5 {\n",
       "  background-color: #e6e6ec;\n",
       "  color: #000000;\n",
       "}\n",
       "#T_9460a_row1_col0, #T_9460a_row6_col10, #T_9460a_row8_col12 {\n",
       "  background-color: #507ebc;\n",
       "  color: #f1f1f1;\n",
       "}\n",
       "#T_9460a_row1_col2, #T_9460a_row4_col7 {\n",
       "  background-color: #7b98c2;\n",
       "  color: #f1f1f1;\n",
       "}\n",
       "#T_9460a_row1_col3, #T_9460a_row5_col10 {\n",
       "  background-color: #5e86bd;\n",
       "  color: #f1f1f1;\n",
       "}\n",
       "#T_9460a_row1_col6 {\n",
       "  background-color: #c5cddb;\n",
       "  color: #000000;\n",
       "}\n",
       "#T_9460a_row1_col7, #T_9460a_row5_col2 {\n",
       "  background-color: #87a0c4;\n",
       "  color: #f1f1f1;\n",
       "}\n",
       "#T_9460a_row1_col8 {\n",
       "  background-color: #5983bd;\n",
       "  color: #f1f1f1;\n",
       "}\n",
       "#T_9460a_row1_col9 {\n",
       "  background-color: #7e9ac2;\n",
       "  color: #f1f1f1;\n",
       "}\n",
       "#T_9460a_row1_col10, #T_9460a_row8_col13, #T_9460a_row9_col1 {\n",
       "  background-color: #6087bd;\n",
       "  color: #f1f1f1;\n",
       "}\n",
       "#T_9460a_row1_col11, #T_9460a_row2_col5, #T_9460a_row13_col7 {\n",
       "  background-color: #b5c0d4;\n",
       "  color: #000000;\n",
       "}\n",
       "#T_9460a_row1_col12 {\n",
       "  background-color: #f9f5f5;\n",
       "  color: #000000;\n",
       "}\n",
       "#T_9460a_row2_col0, #T_9460a_row5_col12, #T_9460a_row10_col7, #T_9460a_row12_col3 {\n",
       "  background-color: #afbcd1;\n",
       "  color: #000000;\n",
       "}\n",
       "#T_9460a_row2_col1, #T_9460a_row10_col3 {\n",
       "  background-color: #9fb0cc;\n",
       "  color: #000000;\n",
       "}\n",
       "#T_9460a_row2_col3, #T_9460a_row2_col7, #T_9460a_row3_col9, #T_9460a_row4_col12 {\n",
       "  background-color: #809bc3;\n",
       "  color: #f1f1f1;\n",
       "}\n",
       "#T_9460a_row2_col8 {\n",
       "  background-color: #bac4d6;\n",
       "  color: #000000;\n",
       "}\n",
       "#T_9460a_row2_col9, #T_9460a_row12_col0 {\n",
       "  background-color: #aab8d0;\n",
       "  color: #000000;\n",
       "}\n",
       "#T_9460a_row2_col11 {\n",
       "  background-color: #faf3f2;\n",
       "  color: #000000;\n",
       "}\n",
       "#T_9460a_row2_col13 {\n",
       "  background-color: #f9eeed;\n",
       "  color: #000000;\n",
       "}\n",
       "#T_9460a_row3_col0 {\n",
       "  background-color: #bbc5d7;\n",
       "  color: #000000;\n",
       "}\n",
       "#T_9460a_row3_col1 {\n",
       "  background-color: #2f6ebc;\n",
       "  color: #f1f1f1;\n",
       "}\n",
       "#T_9460a_row3_col4, #T_9460a_row4_col8, #T_9460a_row9_col4, #T_9460a_row12_col4 {\n",
       "  background-color: #93a8c8;\n",
       "  color: #f1f1f1;\n",
       "}\n",
       "#T_9460a_row3_col5 {\n",
       "  background-color: #3d74bc;\n",
       "  color: #f1f1f1;\n",
       "}\n",
       "#T_9460a_row3_col6, #T_9460a_row4_col6, #T_9460a_row4_col10 {\n",
       "  background-color: #6a8dbf;\n",
       "  color: #f1f1f1;\n",
       "}\n",
       "#T_9460a_row3_col7, #T_9460a_row9_col3 {\n",
       "  background-color: #859ec4;\n",
       "  color: #f1f1f1;\n",
       "}\n",
       "#T_9460a_row3_col8, #T_9460a_row7_col1, #T_9460a_row7_col9, #T_9460a_row7_col12, #T_9460a_row8_col6, #T_9460a_row8_col9 {\n",
       "  background-color: #6489be;\n",
       "  color: #f1f1f1;\n",
       "}\n",
       "#T_9460a_row3_col10, #T_9460a_row8_col5 {\n",
       "  background-color: #3b73bc;\n",
       "  color: #f1f1f1;\n",
       "}\n",
       "#T_9460a_row3_col11 {\n",
       "  background-color: #658abe;\n",
       "  color: #f1f1f1;\n",
       "}\n",
       "#T_9460a_row3_col12 {\n",
       "  background-color: #7d99c2;\n",
       "  color: #f1f1f1;\n",
       "}\n",
       "#T_9460a_row3_col13, #T_9460a_row9_col0 {\n",
       "  background-color: #88a1c5;\n",
       "  color: #f1f1f1;\n",
       "}\n",
       "#T_9460a_row4_col0 {\n",
       "  background-color: #bdc6d7;\n",
       "  color: #000000;\n",
       "}\n",
       "#T_9460a_row4_col2 {\n",
       "  background-color: #98acc9;\n",
       "  color: #f1f1f1;\n",
       "}\n",
       "#T_9460a_row4_col5 {\n",
       "  background-color: #4e7dbc;\n",
       "  color: #f1f1f1;\n",
       "}\n",
       "#T_9460a_row4_col9, #T_9460a_row6_col1, #T_9460a_row11_col7 {\n",
       "  background-color: #adbbd1;\n",
       "  color: #000000;\n",
       "}\n",
       "#T_9460a_row4_col11 {\n",
       "  background-color: #97abc9;\n",
       "  color: #f1f1f1;\n",
       "}\n",
       "#T_9460a_row4_col13, #T_9460a_row9_col13 {\n",
       "  background-color: #9baecb;\n",
       "  color: #000000;\n",
       "}\n",
       "#T_9460a_row5_col1 {\n",
       "  background-color: #dadde5;\n",
       "  color: #000000;\n",
       "}\n",
       "#T_9460a_row5_col3, #T_9460a_row6_col11, #T_9460a_row7_col11, #T_9460a_row8_col0 {\n",
       "  background-color: #5782bc;\n",
       "  color: #f1f1f1;\n",
       "}\n",
       "#T_9460a_row5_col4 {\n",
       "  background-color: #3671bc;\n",
       "  color: #f1f1f1;\n",
       "}\n",
       "#T_9460a_row5_col6 {\n",
       "  background-color: #dcacaa;\n",
       "  color: #000000;\n",
       "}\n",
       "#T_9460a_row5_col7, #T_9460a_row6_col2, #T_9460a_row8_col4 {\n",
       "  background-color: #7192c0;\n",
       "  color: #f1f1f1;\n",
       "}\n",
       "#T_9460a_row5_col8, #T_9460a_row7_col4 {\n",
       "  background-color: #5581bc;\n",
       "  color: #f1f1f1;\n",
       "}\n",
       "#T_9460a_row5_col9, #T_9460a_row7_col10 {\n",
       "  background-color: #5380bc;\n",
       "  color: #f1f1f1;\n",
       "}\n",
       "#T_9460a_row5_col11 {\n",
       "  background-color: #7393c0;\n",
       "  color: #f1f1f1;\n",
       "}\n",
       "#T_9460a_row5_col13 {\n",
       "  background-color: #7594c0;\n",
       "  color: #f1f1f1;\n",
       "}\n",
       "#T_9460a_row6_col0 {\n",
       "  background-color: #678bbe;\n",
       "  color: #f1f1f1;\n",
       "}\n",
       "#T_9460a_row6_col3 {\n",
       "  background-color: #6e90bf;\n",
       "  color: #f1f1f1;\n",
       "}\n",
       "#T_9460a_row6_col4, #T_9460a_row10_col2 {\n",
       "  background-color: #4678bc;\n",
       "  color: #f1f1f1;\n",
       "}\n",
       "#T_9460a_row6_col5 {\n",
       "  background-color: #deb2b0;\n",
       "  color: #000000;\n",
       "}\n",
       "#T_9460a_row6_col7, #T_9460a_row8_col11 {\n",
       "  background-color: #4a7bbc;\n",
       "  color: #f1f1f1;\n",
       "}\n",
       "#T_9460a_row6_col8, #T_9460a_row9_col7, #T_9460a_row9_col8 {\n",
       "  background-color: #698cbe;\n",
       "  color: #f1f1f1;\n",
       "}\n",
       "#T_9460a_row6_col12 {\n",
       "  background-color: #a3b4cd;\n",
       "  color: #000000;\n",
       "}\n",
       "#T_9460a_row6_col13 {\n",
       "  background-color: #6f91bf;\n",
       "  color: #f1f1f1;\n",
       "}\n",
       "#T_9460a_row7_col0 {\n",
       "  background-color: #7896c1;\n",
       "  color: #f1f1f1;\n",
       "}\n",
       "#T_9460a_row7_col3 {\n",
       "  background-color: #839dc4;\n",
       "  color: #f1f1f1;\n",
       "}\n",
       "#T_9460a_row7_col5, #T_9460a_row7_col13 {\n",
       "  background-color: #5c85bd;\n",
       "  color: #f1f1f1;\n",
       "}\n",
       "#T_9460a_row7_col6 {\n",
       "  background-color: #4477bc;\n",
       "  color: #f1f1f1;\n",
       "}\n",
       "#T_9460a_row7_col8, #T_9460a_row8_col7 {\n",
       "  background-color: #3470bc;\n",
       "  color: #f1f1f1;\n",
       "}\n",
       "#T_9460a_row8_col2 {\n",
       "  background-color: #7997c1;\n",
       "  color: #f1f1f1;\n",
       "}\n",
       "#T_9460a_row8_col3 {\n",
       "  background-color: #6288bd;\n",
       "  color: #f1f1f1;\n",
       "}\n",
       "#T_9460a_row8_col10 {\n",
       "  background-color: #4879bc;\n",
       "  color: #f1f1f1;\n",
       "}\n",
       "#T_9460a_row9_col2 {\n",
       "  background-color: #6c8ebf;\n",
       "  color: #f1f1f1;\n",
       "}\n",
       "#T_9460a_row9_col5 {\n",
       "  background-color: #4276bc;\n",
       "  color: #f1f1f1;\n",
       "}\n",
       "#T_9460a_row9_col11 {\n",
       "  background-color: #7695c1;\n",
       "  color: #f1f1f1;\n",
       "}\n",
       "#T_9460a_row9_col12, #T_9460a_row10_col12 {\n",
       "  background-color: #5b84bd;\n",
       "  color: #f1f1f1;\n",
       "}\n",
       "#T_9460a_row10_col1, #T_9460a_row12_col7 {\n",
       "  background-color: #9aadca;\n",
       "  color: #000000;\n",
       "}\n",
       "#T_9460a_row10_col4 {\n",
       "  background-color: #a2b2cd;\n",
       "  color: #000000;\n",
       "}\n",
       "#T_9460a_row10_col5, #T_9460a_row10_col6, #T_9460a_row10_col8 {\n",
       "  background-color: #a7b6ce;\n",
       "  color: #000000;\n",
       "}\n",
       "#T_9460a_row10_col9, #T_9460a_row12_col9 {\n",
       "  background-color: #8fa5c7;\n",
       "  color: #f1f1f1;\n",
       "}\n",
       "#T_9460a_row10_col11 {\n",
       "  background-color: #2c6dbc;\n",
       "  color: #f1f1f1;\n",
       "}\n",
       "#T_9460a_row11_col1 {\n",
       "  background-color: #dde0e7;\n",
       "  color: #000000;\n",
       "}\n",
       "#T_9460a_row11_col2 {\n",
       "  background-color: #f7ebea;\n",
       "  color: #000000;\n",
       "}\n",
       "#T_9460a_row11_col3, #T_9460a_row13_col5, #T_9460a_row13_col8 {\n",
       "  background-color: #b7c2d5;\n",
       "  color: #000000;\n",
       "}\n",
       "#T_9460a_row11_col4 {\n",
       "  background-color: #c3cbda;\n",
       "  color: #000000;\n",
       "}\n",
       "#T_9460a_row11_col5 {\n",
       "  background-color: #b2bed3;\n",
       "  color: #000000;\n",
       "}\n",
       "#T_9460a_row11_col6 {\n",
       "  background-color: #a8b7cf;\n",
       "  color: #000000;\n",
       "}\n",
       "#T_9460a_row11_col8 {\n",
       "  background-color: #a5b5ce;\n",
       "  color: #000000;\n",
       "}\n",
       "#T_9460a_row11_col9 {\n",
       "  background-color: #c0c9d9;\n",
       "  color: #000000;\n",
       "}\n",
       "#T_9460a_row11_col12, #T_9460a_row12_col1 {\n",
       "  background-color: #faf3f3;\n",
       "  color: #000000;\n",
       "}\n",
       "#T_9460a_row11_col13 {\n",
       "  background-color: #f3e2e0;\n",
       "  color: #000000;\n",
       "}\n",
       "#T_9460a_row12_col2 {\n",
       "  background-color: #dcdee6;\n",
       "  color: #000000;\n",
       "}\n",
       "#T_9460a_row12_col5 {\n",
       "  background-color: #cbd1de;\n",
       "  color: #000000;\n",
       "}\n",
       "#T_9460a_row12_col6 {\n",
       "  background-color: #cdd3df;\n",
       "  color: #000000;\n",
       "}\n",
       "#T_9460a_row12_col8 {\n",
       "  background-color: #8ba3c6;\n",
       "  color: #f1f1f1;\n",
       "}\n",
       "#T_9460a_row12_col11 {\n",
       "  background-color: #f3f1f3;\n",
       "  color: #000000;\n",
       "}\n",
       "#T_9460a_row12_col13 {\n",
       "  background-color: #ecd2d0;\n",
       "  color: #000000;\n",
       "}\n",
       "#T_9460a_row13_col1 {\n",
       "  background-color: #efeef1;\n",
       "  color: #000000;\n",
       "}\n",
       "#T_9460a_row13_col2 {\n",
       "  background-color: #f4e3e2;\n",
       "  color: #000000;\n",
       "}\n",
       "#T_9460a_row13_col3 {\n",
       "  background-color: #d4d8e2;\n",
       "  color: #000000;\n",
       "}\n",
       "#T_9460a_row13_col4 {\n",
       "  background-color: #cad0dd;\n",
       "  color: #000000;\n",
       "}\n",
       "#T_9460a_row13_col9 {\n",
       "  background-color: #e1e2e9;\n",
       "  color: #000000;\n",
       "}\n",
       "#T_9460a_row13_col11 {\n",
       "  background-color: #f2e0df;\n",
       "  color: #000000;\n",
       "}\n",
       "#T_9460a_row13_col12 {\n",
       "  background-color: #e5c2c0;\n",
       "  color: #000000;\n",
       "}\n",
       "</style>\n",
       "<table id=\"T_9460a\">\n",
       "  <thead>\n",
       "    <tr>\n",
       "      <th class=\"blank level0\" >&nbsp;</th>\n",
       "      <th id=\"T_9460a_level0_col0\" class=\"col_heading level0 col0\" >age</th>\n",
       "      <th id=\"T_9460a_level0_col1\" class=\"col_heading level0 col1\" >sex</th>\n",
       "      <th id=\"T_9460a_level0_col2\" class=\"col_heading level0 col2\" >cp</th>\n",
       "      <th id=\"T_9460a_level0_col3\" class=\"col_heading level0 col3\" >trestbps</th>\n",
       "      <th id=\"T_9460a_level0_col4\" class=\"col_heading level0 col4\" >chol</th>\n",
       "      <th id=\"T_9460a_level0_col5\" class=\"col_heading level0 col5\" >cigs</th>\n",
       "      <th id=\"T_9460a_level0_col6\" class=\"col_heading level0 col6\" >years</th>\n",
       "      <th id=\"T_9460a_level0_col7\" class=\"col_heading level0 col7\" >fbs</th>\n",
       "      <th id=\"T_9460a_level0_col8\" class=\"col_heading level0 col8\" >famhist</th>\n",
       "      <th id=\"T_9460a_level0_col9\" class=\"col_heading level0 col9\" >restecg</th>\n",
       "      <th id=\"T_9460a_level0_col10\" class=\"col_heading level0 col10\" >thalach</th>\n",
       "      <th id=\"T_9460a_level0_col11\" class=\"col_heading level0 col11\" >exang</th>\n",
       "      <th id=\"T_9460a_level0_col12\" class=\"col_heading level0 col12\" >thal</th>\n",
       "      <th id=\"T_9460a_level0_col13\" class=\"col_heading level0 col13\" >num</th>\n",
       "    </tr>\n",
       "  </thead>\n",
       "  <tbody>\n",
       "    <tr>\n",
       "      <th id=\"T_9460a_level0_row0\" class=\"row_heading level0 row0\" >age</th>\n",
       "      <td id=\"T_9460a_row0_col0\" class=\"data row0 col0\" >1.0000</td>\n",
       "      <td id=\"T_9460a_row0_col1\" class=\"data row0 col1\" >-0.0911</td>\n",
       "      <td id=\"T_9460a_row0_col2\" class=\"data row0 col2\" >0.0774</td>\n",
       "      <td id=\"T_9460a_row0_col3\" class=\"data row0 col3\" >0.2797</td>\n",
       "      <td id=\"T_9460a_row0_col4\" class=\"data row0 col4\" >0.2140</td>\n",
       "      <td id=\"T_9460a_row0_col5\" class=\"data row0 col5\" >-0.1319</td>\n",
       "      <td id=\"T_9460a_row0_col6\" class=\"data row0 col6\" >0.0532</td>\n",
       "      <td id=\"T_9460a_row0_col7\" class=\"data row0 col7\" >0.1044</td>\n",
       "      <td id=\"T_9460a_row0_col8\" class=\"data row0 col8\" >0.0259</td>\n",
       "      <td id=\"T_9460a_row0_col9\" class=\"data row0 col9\" >0.1344</td>\n",
       "      <td id=\"T_9460a_row0_col10\" class=\"data row0 col10\" >-0.3932</td>\n",
       "      <td id=\"T_9460a_row0_col11\" class=\"data row0 col11\" >0.0872</td>\n",
       "      <td id=\"T_9460a_row0_col12\" class=\"data row0 col12\" >0.1050</td>\n",
       "      <td id=\"T_9460a_row0_col13\" class=\"data row0 col13\" >0.2107</td>\n",
       "    </tr>\n",
       "    <tr>\n",
       "      <th id=\"T_9460a_level0_row1\" class=\"row_heading level0 row1\" >sex</th>\n",
       "      <td id=\"T_9460a_row1_col0\" class=\"data row1 col0\" >-0.0911</td>\n",
       "      <td id=\"T_9460a_row1_col1\" class=\"data row1 col1\" >1.0000</td>\n",
       "      <td id=\"T_9460a_row1_col2\" class=\"data row1 col2\" >0.0226</td>\n",
       "      <td id=\"T_9460a_row1_col3\" class=\"data row1 col3\" >-0.0559</td>\n",
       "      <td id=\"T_9460a_row1_col4\" class=\"data row1 col4\" >-0.1825</td>\n",
       "      <td id=\"T_9460a_row1_col5\" class=\"data row1 col5\" >0.3259</td>\n",
       "      <td id=\"T_9460a_row1_col6\" class=\"data row1 col6\" >0.2335</td>\n",
       "      <td id=\"T_9460a_row1_col7\" class=\"data row1 col7\" >0.0544</td>\n",
       "      <td id=\"T_9460a_row1_col8\" class=\"data row1 col8\" >-0.0708</td>\n",
       "      <td id=\"T_9460a_row1_col9\" class=\"data row1 col9\" >0.0327</td>\n",
       "      <td id=\"T_9460a_row1_col10\" class=\"data row1 col10\" >-0.0522</td>\n",
       "      <td id=\"T_9460a_row1_col11\" class=\"data row1 col11\" >0.1891</td>\n",
       "      <td id=\"T_9460a_row1_col12\" class=\"data row1 col12\" >0.3909</td>\n",
       "      <td id=\"T_9460a_row1_col13\" class=\"data row1 col13\" >0.2395</td>\n",
       "    </tr>\n",
       "    <tr>\n",
       "      <th id=\"T_9460a_level0_row2\" class=\"row_heading level0 row2\" >cp</th>\n",
       "      <td id=\"T_9460a_row2_col0\" class=\"data row2 col0\" >0.0774</td>\n",
       "      <td id=\"T_9460a_row2_col1\" class=\"data row2 col1\" >0.0226</td>\n",
       "      <td id=\"T_9460a_row2_col2\" class=\"data row2 col2\" >1.0000</td>\n",
       "      <td id=\"T_9460a_row2_col3\" class=\"data row2 col3\" >-0.0730</td>\n",
       "      <td id=\"T_9460a_row2_col4\" class=\"data row2 col4\" >0.1065</td>\n",
       "      <td id=\"T_9460a_row2_col5\" class=\"data row2 col5\" >0.0953</td>\n",
       "      <td id=\"T_9460a_row2_col6\" class=\"data row2 col6\" >0.0787</td>\n",
       "      <td id=\"T_9460a_row2_col7\" class=\"data row2 col7\" >-0.0716</td>\n",
       "      <td id=\"T_9460a_row2_col8\" class=\"data row2 col8\" >0.1108</td>\n",
       "      <td id=\"T_9460a_row2_col9\" class=\"data row2 col9\" >0.0610</td>\n",
       "      <td id=\"T_9460a_row2_col10\" class=\"data row2 col10\" >-0.3187</td>\n",
       "      <td id=\"T_9460a_row2_col11\" class=\"data row2 col11\" >0.3648</td>\n",
       "      <td id=\"T_9460a_row2_col12\" class=\"data row2 col12\" >0.2564</td>\n",
       "      <td id=\"T_9460a_row2_col13\" class=\"data row2 col13\" >0.3839</td>\n",
       "    </tr>\n",
       "    <tr>\n",
       "      <th id=\"T_9460a_level0_row3\" class=\"row_heading level0 row3\" >trestbps</th>\n",
       "      <td id=\"T_9460a_row3_col0\" class=\"data row3 col0\" >0.2797</td>\n",
       "      <td id=\"T_9460a_row3_col1\" class=\"data row3 col1\" >-0.0559</td>\n",
       "      <td id=\"T_9460a_row3_col2\" class=\"data row3 col2\" >-0.0730</td>\n",
       "      <td id=\"T_9460a_row3_col3\" class=\"data row3 col3\" >1.0000</td>\n",
       "      <td id=\"T_9460a_row3_col4\" class=\"data row3 col4\" >0.1751</td>\n",
       "      <td id=\"T_9460a_row3_col5\" class=\"data row3 col5\" >-0.0274</td>\n",
       "      <td id=\"T_9460a_row3_col6\" class=\"data row3 col6\" >0.0700</td>\n",
       "      <td id=\"T_9460a_row3_col7\" class=\"data row3 col7\" >0.1372</td>\n",
       "      <td id=\"T_9460a_row3_col8\" class=\"data row3 col8\" >0.0535</td>\n",
       "      <td id=\"T_9460a_row3_col9\" class=\"data row3 col9\" >0.1249</td>\n",
       "      <td id=\"T_9460a_row3_col10\" class=\"data row3 col10\" >-0.0339</td>\n",
       "      <td id=\"T_9460a_row3_col11\" class=\"data row3 col11\" >0.0582</td>\n",
       "      <td id=\"T_9460a_row3_col12\" class=\"data row3 col12\" >0.1189</td>\n",
       "      <td id=\"T_9460a_row3_col13\" class=\"data row3 col13\" >0.1478</td>\n",
       "    </tr>\n",
       "    <tr>\n",
       "      <th id=\"T_9460a_level0_row4\" class=\"row_heading level0 row4\" >chol</th>\n",
       "      <td id=\"T_9460a_row4_col0\" class=\"data row4 col0\" >0.2140</td>\n",
       "      <td id=\"T_9460a_row4_col1\" class=\"data row4 col1\" >-0.1825</td>\n",
       "      <td id=\"T_9460a_row4_col2\" class=\"data row4 col2\" >0.1065</td>\n",
       "      <td id=\"T_9460a_row4_col3\" class=\"data row4 col3\" >0.1751</td>\n",
       "      <td id=\"T_9460a_row4_col4\" class=\"data row4 col4\" >1.0000</td>\n",
       "      <td id=\"T_9460a_row4_col5\" class=\"data row4 col5\" >-0.0970</td>\n",
       "      <td id=\"T_9460a_row4_col6\" class=\"data row4 col6\" >-0.0254</td>\n",
       "      <td id=\"T_9460a_row4_col7\" class=\"data row4 col7\" >0.0239</td>\n",
       "      <td id=\"T_9460a_row4_col8\" class=\"data row4 col8\" >0.0911</td>\n",
       "      <td id=\"T_9460a_row4_col9\" class=\"data row4 col9\" >0.1639</td>\n",
       "      <td id=\"T_9460a_row4_col10\" class=\"data row4 col10\" >-0.0254</td>\n",
       "      <td id=\"T_9460a_row4_col11\" class=\"data row4 col11\" >0.1024</td>\n",
       "      <td id=\"T_9460a_row4_col12\" class=\"data row4 col12\" >0.0354</td>\n",
       "      <td id=\"T_9460a_row4_col13\" class=\"data row4 col13\" >0.1134</td>\n",
       "    </tr>\n",
       "    <tr>\n",
       "      <th id=\"T_9460a_level0_row5\" class=\"row_heading level0 row5\" >cigs</th>\n",
       "      <td id=\"T_9460a_row5_col0\" class=\"data row5 col0\" >-0.1319</td>\n",
       "      <td id=\"T_9460a_row5_col1\" class=\"data row5 col1\" >0.3259</td>\n",
       "      <td id=\"T_9460a_row5_col2\" class=\"data row5 col2\" >0.0953</td>\n",
       "      <td id=\"T_9460a_row5_col3\" class=\"data row5 col3\" >-0.0274</td>\n",
       "      <td id=\"T_9460a_row5_col4\" class=\"data row5 col4\" >-0.0970</td>\n",
       "      <td id=\"T_9460a_row5_col5\" class=\"data row5 col5\" >1.0000</td>\n",
       "      <td id=\"T_9460a_row5_col6\" class=\"data row5 col6\" >0.6557</td>\n",
       "      <td id=\"T_9460a_row5_col7\" class=\"data row5 col7\" >0.0396</td>\n",
       "      <td id=\"T_9460a_row5_col8\" class=\"data row5 col8\" >-0.0321</td>\n",
       "      <td id=\"T_9460a_row5_col9\" class=\"data row5 col9\" >-0.0347</td>\n",
       "      <td id=\"T_9460a_row5_col10\" class=\"data row5 col10\" >-0.0083</td>\n",
       "      <td id=\"T_9460a_row5_col11\" class=\"data row5 col11\" >0.0411</td>\n",
       "      <td id=\"T_9460a_row5_col12\" class=\"data row5 col12\" >0.2060</td>\n",
       "      <td id=\"T_9460a_row5_col13\" class=\"data row5 col13\" >0.0457</td>\n",
       "    </tr>\n",
       "    <tr>\n",
       "      <th id=\"T_9460a_level0_row6\" class=\"row_heading level0 row6\" >years</th>\n",
       "      <td id=\"T_9460a_row6_col0\" class=\"data row6 col0\" >0.0532</td>\n",
       "      <td id=\"T_9460a_row6_col1\" class=\"data row6 col1\" >0.2335</td>\n",
       "      <td id=\"T_9460a_row6_col2\" class=\"data row6 col2\" >0.0787</td>\n",
       "      <td id=\"T_9460a_row6_col3\" class=\"data row6 col3\" >0.0700</td>\n",
       "      <td id=\"T_9460a_row6_col4\" class=\"data row6 col4\" >-0.0254</td>\n",
       "      <td id=\"T_9460a_row6_col5\" class=\"data row6 col5\" >0.6557</td>\n",
       "      <td id=\"T_9460a_row6_col6\" class=\"data row6 col6\" >1.0000</td>\n",
       "      <td id=\"T_9460a_row6_col7\" class=\"data row6 col7\" >-0.0166</td>\n",
       "      <td id=\"T_9460a_row6_col8\" class=\"data row6 col8\" >0.0547</td>\n",
       "      <td id=\"T_9460a_row6_col9\" class=\"data row6 col9\" >-0.0861</td>\n",
       "      <td id=\"T_9460a_row6_col10\" class=\"data row6 col10\" >-0.0054</td>\n",
       "      <td id=\"T_9460a_row6_col11\" class=\"data row6 col11\" >0.0118</td>\n",
       "      <td id=\"T_9460a_row6_col12\" class=\"data row6 col12\" >0.2101</td>\n",
       "      <td id=\"T_9460a_row6_col13\" class=\"data row6 col13\" >0.0716</td>\n",
       "    </tr>\n",
       "    <tr>\n",
       "      <th id=\"T_9460a_level0_row7\" class=\"row_heading level0 row7\" >fbs</th>\n",
       "      <td id=\"T_9460a_row7_col0\" class=\"data row7 col0\" >0.1044</td>\n",
       "      <td id=\"T_9460a_row7_col1\" class=\"data row7 col1\" >0.0544</td>\n",
       "      <td id=\"T_9460a_row7_col2\" class=\"data row7 col2\" >-0.0716</td>\n",
       "      <td id=\"T_9460a_row7_col3\" class=\"data row7 col3\" >0.1372</td>\n",
       "      <td id=\"T_9460a_row7_col4\" class=\"data row7 col4\" >0.0239</td>\n",
       "      <td id=\"T_9460a_row7_col5\" class=\"data row7 col5\" >0.0396</td>\n",
       "      <td id=\"T_9460a_row7_col6\" class=\"data row7 col6\" >-0.0166</td>\n",
       "      <td id=\"T_9460a_row7_col7\" class=\"data row7 col7\" >1.0000</td>\n",
       "      <td id=\"T_9460a_row7_col8\" class=\"data row7 col8\" >-0.0424</td>\n",
       "      <td id=\"T_9460a_row7_col9\" class=\"data row7 col9\" >0.0540</td>\n",
       "      <td id=\"T_9460a_row7_col10\" class=\"data row7 col10\" >0.0182</td>\n",
       "      <td id=\"T_9460a_row7_col11\" class=\"data row7 col11\" >0.0276</td>\n",
       "      <td id=\"T_9460a_row7_col12\" class=\"data row7 col12\" >0.0567</td>\n",
       "      <td id=\"T_9460a_row7_col13\" class=\"data row7 col13\" >0.0397</td>\n",
       "    </tr>\n",
       "    <tr>\n",
       "      <th id=\"T_9460a_level0_row8\" class=\"row_heading level0 row8\" >famhist</th>\n",
       "      <td id=\"T_9460a_row8_col0\" class=\"data row8 col0\" >0.0259</td>\n",
       "      <td id=\"T_9460a_row8_col1\" class=\"data row8 col1\" >-0.0708</td>\n",
       "      <td id=\"T_9460a_row8_col2\" class=\"data row8 col2\" >0.1108</td>\n",
       "      <td id=\"T_9460a_row8_col3\" class=\"data row8 col3\" >0.0535</td>\n",
       "      <td id=\"T_9460a_row8_col4\" class=\"data row8 col4\" >0.0911</td>\n",
       "      <td id=\"T_9460a_row8_col5\" class=\"data row8 col5\" >-0.0321</td>\n",
       "      <td id=\"T_9460a_row8_col6\" class=\"data row8 col6\" >0.0547</td>\n",
       "      <td id=\"T_9460a_row8_col7\" class=\"data row8 col7\" >-0.0424</td>\n",
       "      <td id=\"T_9460a_row8_col8\" class=\"data row8 col8\" >1.0000</td>\n",
       "      <td id=\"T_9460a_row8_col9\" class=\"data row8 col9\" >0.0551</td>\n",
       "      <td id=\"T_9460a_row8_col10\" class=\"data row8 col10\" >-0.0066</td>\n",
       "      <td id=\"T_9460a_row8_col11\" class=\"data row8 col11\" >-0.0014</td>\n",
       "      <td id=\"T_9460a_row8_col12\" class=\"data row8 col12\" >0.0126</td>\n",
       "      <td id=\"T_9460a_row8_col13\" class=\"data row8 col13\" >0.0486</td>\n",
       "    </tr>\n",
       "    <tr>\n",
       "      <th id=\"T_9460a_level0_row9\" class=\"row_heading level0 row9\" >restecg</th>\n",
       "      <td id=\"T_9460a_row9_col0\" class=\"data row9 col0\" >0.1344</td>\n",
       "      <td id=\"T_9460a_row9_col1\" class=\"data row9 col1\" >0.0327</td>\n",
       "      <td id=\"T_9460a_row9_col2\" class=\"data row9 col2\" >0.0610</td>\n",
       "      <td id=\"T_9460a_row9_col3\" class=\"data row9 col3\" >0.1249</td>\n",
       "      <td id=\"T_9460a_row9_col4\" class=\"data row9 col4\" >0.1639</td>\n",
       "      <td id=\"T_9460a_row9_col5\" class=\"data row9 col5\" >-0.0347</td>\n",
       "      <td id=\"T_9460a_row9_col6\" class=\"data row9 col6\" >-0.0861</td>\n",
       "      <td id=\"T_9460a_row9_col7\" class=\"data row9 col7\" >0.0540</td>\n",
       "      <td id=\"T_9460a_row9_col8\" class=\"data row9 col8\" >0.0551</td>\n",
       "      <td id=\"T_9460a_row9_col9\" class=\"data row9 col9\" >1.0000</td>\n",
       "      <td id=\"T_9460a_row9_col10\" class=\"data row9 col10\" >-0.0882</td>\n",
       "      <td id=\"T_9460a_row9_col11\" class=\"data row9 col11\" >0.0888</td>\n",
       "      <td id=\"T_9460a_row9_col12\" class=\"data row9 col12\" >0.0209</td>\n",
       "      <td id=\"T_9460a_row9_col13\" class=\"data row9 col13\" >0.1874</td>\n",
       "    </tr>\n",
       "    <tr>\n",
       "      <th id=\"T_9460a_level0_row10\" class=\"row_heading level0 row10\" >thalach</th>\n",
       "      <td id=\"T_9460a_row10_col0\" class=\"data row10 col0\" >-0.3932</td>\n",
       "      <td id=\"T_9460a_row10_col1\" class=\"data row10 col1\" >-0.0522</td>\n",
       "      <td id=\"T_9460a_row10_col2\" class=\"data row10 col2\" >-0.3187</td>\n",
       "      <td id=\"T_9460a_row10_col3\" class=\"data row10 col3\" >-0.0339</td>\n",
       "      <td id=\"T_9460a_row10_col4\" class=\"data row10 col4\" >-0.0254</td>\n",
       "      <td id=\"T_9460a_row10_col5\" class=\"data row10 col5\" >-0.0083</td>\n",
       "      <td id=\"T_9460a_row10_col6\" class=\"data row10 col6\" >-0.0054</td>\n",
       "      <td id=\"T_9460a_row10_col7\" class=\"data row10 col7\" >0.0182</td>\n",
       "      <td id=\"T_9460a_row10_col8\" class=\"data row10 col8\" >-0.0066</td>\n",
       "      <td id=\"T_9460a_row10_col9\" class=\"data row10 col9\" >-0.0882</td>\n",
       "      <td id=\"T_9460a_row10_col10\" class=\"data row10 col10\" >1.0000</td>\n",
       "      <td id=\"T_9460a_row10_col11\" class=\"data row10 col11\" >-0.3806</td>\n",
       "      <td id=\"T_9460a_row10_col12\" class=\"data row10 col12\" >-0.2569</td>\n",
       "      <td id=\"T_9460a_row10_col13\" class=\"data row10 col13\" >-0.3983</td>\n",
       "    </tr>\n",
       "    <tr>\n",
       "      <th id=\"T_9460a_level0_row11\" class=\"row_heading level0 row11\" >exang</th>\n",
       "      <td id=\"T_9460a_row11_col0\" class=\"data row11 col0\" >0.0872</td>\n",
       "      <td id=\"T_9460a_row11_col1\" class=\"data row11 col1\" >0.1891</td>\n",
       "      <td id=\"T_9460a_row11_col2\" class=\"data row11 col2\" >0.3648</td>\n",
       "      <td id=\"T_9460a_row11_col3\" class=\"data row11 col3\" >0.0582</td>\n",
       "      <td id=\"T_9460a_row11_col4\" class=\"data row11 col4\" >0.1024</td>\n",
       "      <td id=\"T_9460a_row11_col5\" class=\"data row11 col5\" >0.0411</td>\n",
       "      <td id=\"T_9460a_row11_col6\" class=\"data row11 col6\" >0.0118</td>\n",
       "      <td id=\"T_9460a_row11_col7\" class=\"data row11 col7\" >0.0276</td>\n",
       "      <td id=\"T_9460a_row11_col8\" class=\"data row11 col8\" >-0.0014</td>\n",
       "      <td id=\"T_9460a_row11_col9\" class=\"data row11 col9\" >0.0888</td>\n",
       "      <td id=\"T_9460a_row11_col10\" class=\"data row11 col10\" >-0.3806</td>\n",
       "      <td id=\"T_9460a_row11_col11\" class=\"data row11 col11\" >1.0000</td>\n",
       "      <td id=\"T_9460a_row11_col12\" class=\"data row11 col12\" >0.3311</td>\n",
       "      <td id=\"T_9460a_row11_col13\" class=\"data row11 col13\" >0.3989</td>\n",
       "    </tr>\n",
       "    <tr>\n",
       "      <th id=\"T_9460a_level0_row12\" class=\"row_heading level0 row12\" >thal</th>\n",
       "      <td id=\"T_9460a_row12_col0\" class=\"data row12 col0\" >0.1050</td>\n",
       "      <td id=\"T_9460a_row12_col1\" class=\"data row12 col1\" >0.3909</td>\n",
       "      <td id=\"T_9460a_row12_col2\" class=\"data row12 col2\" >0.2564</td>\n",
       "      <td id=\"T_9460a_row12_col3\" class=\"data row12 col3\" >0.1189</td>\n",
       "      <td id=\"T_9460a_row12_col4\" class=\"data row12 col4\" >0.0354</td>\n",
       "      <td id=\"T_9460a_row12_col5\" class=\"data row12 col5\" >0.2060</td>\n",
       "      <td id=\"T_9460a_row12_col6\" class=\"data row12 col6\" >0.2101</td>\n",
       "      <td id=\"T_9460a_row12_col7\" class=\"data row12 col7\" >0.0567</td>\n",
       "      <td id=\"T_9460a_row12_col8\" class=\"data row12 col8\" >0.0126</td>\n",
       "      <td id=\"T_9460a_row12_col9\" class=\"data row12 col9\" >0.0209</td>\n",
       "      <td id=\"T_9460a_row12_col10\" class=\"data row12 col10\" >-0.2569</td>\n",
       "      <td id=\"T_9460a_row12_col11\" class=\"data row12 col11\" >0.3311</td>\n",
       "      <td id=\"T_9460a_row12_col12\" class=\"data row12 col12\" >1.0000</td>\n",
       "      <td id=\"T_9460a_row12_col13\" class=\"data row12 col13\" >0.5014</td>\n",
       "    </tr>\n",
       "    <tr>\n",
       "      <th id=\"T_9460a_level0_row13\" class=\"row_heading level0 row13\" >num</th>\n",
       "      <td id=\"T_9460a_row13_col0\" class=\"data row13 col0\" >0.2107</td>\n",
       "      <td id=\"T_9460a_row13_col1\" class=\"data row13 col1\" >0.2395</td>\n",
       "      <td id=\"T_9460a_row13_col2\" class=\"data row13 col2\" >0.3839</td>\n",
       "      <td id=\"T_9460a_row13_col3\" class=\"data row13 col3\" >0.1478</td>\n",
       "      <td id=\"T_9460a_row13_col4\" class=\"data row13 col4\" >0.1134</td>\n",
       "      <td id=\"T_9460a_row13_col5\" class=\"data row13 col5\" >0.0457</td>\n",
       "      <td id=\"T_9460a_row13_col6\" class=\"data row13 col6\" >0.0716</td>\n",
       "      <td id=\"T_9460a_row13_col7\" class=\"data row13 col7\" >0.0397</td>\n",
       "      <td id=\"T_9460a_row13_col8\" class=\"data row13 col8\" >0.0486</td>\n",
       "      <td id=\"T_9460a_row13_col9\" class=\"data row13 col9\" >0.1874</td>\n",
       "      <td id=\"T_9460a_row13_col10\" class=\"data row13 col10\" >-0.3983</td>\n",
       "      <td id=\"T_9460a_row13_col11\" class=\"data row13 col11\" >0.3989</td>\n",
       "      <td id=\"T_9460a_row13_col12\" class=\"data row13 col12\" >0.5014</td>\n",
       "      <td id=\"T_9460a_row13_col13\" class=\"data row13 col13\" >1.0000</td>\n",
       "    </tr>\n",
       "  </tbody>\n",
       "</table>\n"
      ],
      "text/plain": [
       "<pandas.io.formats.style.Styler at 0x7fd8b85cd790>"
      ]
     },
     "execution_count": 38,
     "metadata": {},
     "output_type": "execute_result"
    }
   ],
   "source": [
    "cmap = sns.color_palette('vlag', as_cmap=True)\n",
    "\n",
    "corr = df.corr()\n",
    "corr.style.background_gradient(cmap, axis=1)\\\n",
    "    .set_precision(4)"
   ]
  },
  {
   "cell_type": "markdown",
   "metadata": {
    "pycharm": {
     "name": "#%% md\n"
    }
   },
   "source": [
    "It appears that there are a few values here that we might be able to use as signal, but since this is just the cleaning step we will have to check for colinearity once we know the target values we are trying to predict."
   ]
  },
  {
   "cell_type": "markdown",
   "metadata": {
    "pycharm": {
     "name": "#%% md\n"
    }
   },
   "source": [
    "## Summary\n",
    "***"
   ]
  },
  {
   "cell_type": "markdown",
   "metadata": {
    "pycharm": {
     "name": "#%% md\n"
    }
   },
   "source": [
    "In this weeks assignment we were given the heart.disease.data dataset and asked to prepare it for future machine learning assignments. Specifically we performed EDA, removed columns that would not be helpful to future models, and addressed outliers. This was accomplished by first getting a feel for the data, shape, info, and descriptive statistics. After this we needed to address missing data. In our dataset this was signified by the '-9' value in any column. We chose to address this by turning all '-9' values into NaN's and using the fillna method to replace with the most common value for our variables. We then tested for outliers on our continuous data columns. For columns where we had outliers we determined which side they were on and a floor or ceiling value that outliers would be set to. After applying our fix for outliers we did a correlation visual two different ways, to start looking at the signal in the data. From here we can identify a target value, category, or classification and apply machine learning algorithms to predict."
   ]
  }
 ],
 "metadata": {
  "kernelspec": {
   "display_name": "Python 3 (ipykernel)",
   "language": "python",
   "name": "python3"
  },
  "language_info": {
   "codemirror_mode": {
    "name": "ipython",
    "version": 3
   },
   "file_extension": ".py",
   "mimetype": "text/x-python",
   "name": "python",
   "nbconvert_exporter": "python",
   "pygments_lexer": "ipython3",
   "version": "3.8.10"
  }
 },
 "nbformat": 4,
 "nbformat_minor": 2
}