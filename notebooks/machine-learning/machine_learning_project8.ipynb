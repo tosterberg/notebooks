{
 "cells": [
  {
   "cell_type": "markdown",
   "id": "93d70f6c",
   "metadata": {
    "pycharm": {
     "name": "#%% md\n"
    }
   },
   "source": [
    "# Assignment for Week 8 - Reinforcement Learning\n",
    "## Q-Learning\n",
    "**Objective**: Reproduce the exercise explained in the following tutorial videos:\n",
    "\n",
    "- https://www.youtube.com/watch?v=yMk_XtIEzH8&list=PLQVvvaa0QuDezJFIOU5wDdfy4e9vdnx-7\n",
    "- https://www.youtube.com/watch?v=Gq1Azv_B4-4\n",
    "- https://www.youtube.com/watch?v=CBTbifYx6a8\n",
    "<br><br>\n",
    "These videos are accompanied by the following:\n",
    "- Q-Learning introduction and Q Table - Reinforcement Learning w/ Python Tutorial p.1\n",
    "- Q-Learning introduction and Q Table - Reinforcement Learning w/ Python Tutorial p.2\n",
    "- Q-Learning introduction and Q Table - Reinforcement Learning w/ Python Tutorial p.3\n",
    "\n",
    "\n",
    "**Important**: In working through the code listed on the webpages, there are a number of errors that prevent the demo from performing correctly. The code shown int he videos is correct!\n",
    "\n",
    "**NOTE**: You don't need to reproduce all of the graphs demostrated in the third video for this assignment. Please include 2 of the demonstrated graphs.\n",
    "\n",
    "## Deliverables:\n",
    "Upload your notebook's .ipynb file and a screenshot of your car reaching it's goal.\n",
    "\n",
    "**Important**: Make sure your provide complete and thorough explanations for all of your analysis. You need to defend your thought processes and reasoning."
   ]
  },
  {
   "cell_type": "code",
   "execution_count": 1,
   "id": "f838a45e",
   "metadata": {
    "pycharm": {
     "name": "#%%\n"
    }
   },
   "outputs": [],
   "source": [
    "# Dependencies\n",
    "import gym\n",
    "import numpy as np\n",
    "import matplotlib.pyplot as plt"
   ]
  },
  {
   "cell_type": "code",
   "execution_count": 2,
   "id": "e4182099",
   "metadata": {
    "pycharm": {
     "name": "#%%\n"
    }
   },
   "outputs": [
    {
     "name": "stderr",
     "output_type": "stream",
     "text": [
      "/home/tosterberg/.local/lib/python3.8/site-packages/gym/utils/passive_env_checker.py:97: UserWarning: \u001B[33mWARN: We recommend you to use a symmetric and normalized Box action space (range=[-1, 1]) https://stable-baselines3.readthedocs.io/en/master/guide/rl_tips.html\u001B[0m\n",
      "  logger.warn(\n"
     ]
    },
    {
     "data": {
      "text/plain": [
       "array([-0.45825565,  0.        ], dtype=float32)"
      ]
     },
     "execution_count": 2,
     "metadata": {},
     "output_type": "execute_result"
    }
   ],
   "source": [
    "# Environment setup\n",
    "env = gym.make('MountainCar-v0')\n",
    "env.reset()"
   ]
  },
  {
   "cell_type": "code",
   "execution_count": 3,
   "id": "965ee213",
   "metadata": {
    "pycharm": {
     "name": "#%%\n"
    }
   },
   "outputs": [],
   "source": [
    "# Constants\n",
    "LEARNING_RATE = 0.1\n",
    "DISCOUNT = 0.95\n",
    "EPISODES = 30001\n",
    "SAVE_EVERY = 100\n",
    "SHOW_EVERY = 2000\n",
    "DISCRETE_OS_SIZE = [20] * len(env.observation_space.high)\n",
    "discrete_os_win_size = (env.observation_space.high - env.observation_space.low) / DISCRETE_OS_SIZE"
   ]
  },
  {
   "cell_type": "code",
   "execution_count": 4,
   "id": "aa3e4c03",
   "metadata": {
    "pycharm": {
     "name": "#%%\n"
    }
   },
   "outputs": [],
   "source": [
    "# Exploration\n",
    "epsilon = 0.5\n",
    "START_EPSILON_DECAYING = 1\n",
    "END_EPSILON_DECAYING = EPISODES // 2\n",
    "epsilon_decay_value = epsilon / (END_EPSILON_DECAYING - START_EPSILON_DECAYING)"
   ]
  },
  {
   "cell_type": "code",
   "execution_count": 5,
   "id": "5da6f487",
   "metadata": {
    "pycharm": {
     "name": "#%%\n"
    }
   },
   "outputs": [],
   "source": [
    "# Setup Q-Table\n",
    "q_table = np.random.uniform(low=-2, high=0, size=(DISCRETE_OS_SIZE + [env.action_space.n]))"
   ]
  },
  {
   "cell_type": "code",
   "execution_count": 6,
   "id": "e2bd6cfa",
   "metadata": {
    "pycharm": {
     "name": "#%%\n"
    }
   },
   "outputs": [],
   "source": [
    "# Metrics\n",
    "ep_completion_episodes = []\n",
    "ep_rewards = []\n",
    "aggr_ep_rewards = {'ep': [], 'avg': [], 'min': [], 'max': []}\n"
   ]
  },
  {
   "cell_type": "code",
   "execution_count": 7,
   "id": "76858ce1",
   "metadata": {
    "pycharm": {
     "name": "#%%\n"
    }
   },
   "outputs": [],
   "source": [
    "def get_discrete_state(state):\n",
    "    # Function to return the correct discrete bucket our current state is in\n",
    "    ds = (state - env.observation_space.low) / discrete_os_win_size\n",
    "    return tuple(ds.astype(int))"
   ]
  },
  {
   "cell_type": "code",
   "execution_count": 8,
   "id": "59f331fe",
   "metadata": {
    "pycharm": {
     "name": "#%%\n"
    }
   },
   "outputs": [
    {
     "name": "stdout",
     "output_type": "stream",
     "text": [
      "Episode: 0, Average: -200.0, Min: -200.0 Max: -200.0, Epsilon: 0.500\n",
      "Episode: 2000, Average: -199.8085, Min: -200.0 Max: -157.0, Epsilon: 0.433\n",
      "Episode: 4000, Average: -198.0735, Min: -200.0 Max: -153.0, Epsilon: 0.367\n",
      "Episode: 6000, Average: -196.354, Min: -200.0 Max: -151.0, Epsilon: 0.300\n",
      "Episode: 8000, Average: -189.63, Min: -200.0 Max: -125.0, Epsilon: 0.233\n",
      "Episode: 10000, Average: -181.096, Min: -200.0 Max: -115.0, Epsilon: 0.167\n",
      "Episode: 12000, Average: -175.6285, Min: -200.0 Max: -122.0, Epsilon: 0.100\n",
      "Episode: 14000, Average: -167.5425, Min: -200.0 Max: -109.0, Epsilon: 0.033\n",
      "Episode: 16000, Average: -163.6895, Min: -200.0 Max: -103.0, Epsilon: -0.000\n",
      "Episode: 18000, Average: -146.861, Min: -200.0 Max: -108.0, Epsilon: -0.000\n",
      "Episode: 20000, Average: -140.395, Min: -158.0 Max: -112.0, Epsilon: -0.000\n",
      "Episode: 22000, Average: -140.107, Min: -156.0 Max: -112.0, Epsilon: -0.000\n",
      "Episode: 24000, Average: -139.2785, Min: -152.0 Max: -112.0, Epsilon: -0.000\n",
      "Episode: 26000, Average: -138.966, Min: -152.0 Max: -112.0, Epsilon: -0.000\n",
      "Episode: 28000, Average: -138.873, Min: -152.0 Max: -112.0, Epsilon: -0.000\n",
      "Episode: 30000, Average: -138.975, Min: -151.0 Max: -112.0, Epsilon: -0.000\n"
     ]
    }
   ],
   "source": [
    "for episode in range(EPISODES):\n",
    "    episode_reward = 0\n",
    "    done = False\n",
    "    discrete_state = get_discrete_state(env.reset())\n",
    "\n",
    "    # Core loop for agent interaction with the environment\n",
    "    while not done:\n",
    "        if np.random.random() > epsilon:\n",
    "            # Do best action from Q-Table\n",
    "            action = np.argmax(q_table[discrete_state])\n",
    "        else:\n",
    "            # Do a random action\n",
    "            action = np.random.randint(0, env.action_space.n)\n",
    "        # Step forward and recalculate\n",
    "        new_state, reward, done, _ = env.step(action)\n",
    "        new_discrete_state = get_discrete_state(new_state)\n",
    "        episode_reward += reward\n",
    "        \n",
    "        if not done:\n",
    "            # Calculate values and propagate reward\n",
    "            max_future_q = np.max(q_table[new_discrete_state])\n",
    "            current_q = q_table[discrete_state + (action, )]\n",
    "            # Calculate our new Q-value\n",
    "            new_q = (1 - LEARNING_RATE) * current_q + LEARNING_RATE * (reward + DISCOUNT * max_future_q)\n",
    "            q_table[discrete_state + (action, )] = new_q\n",
    "        elif new_state[0] >= env.goal_position:\n",
    "            ep_completion_episodes.append(episode)\n",
    "            q_table[discrete_state + (action, )] = 0\n",
    "        # Move state forward to new state\n",
    "        discrete_state = new_discrete_state\n",
    "    if END_EPSILON_DECAYING >= episode >= START_EPSILON_DECAYING:\n",
    "        epsilon -= epsilon_decay_value\n",
    "\n",
    "    # Append metrics\n",
    "    ep_rewards.append(episode_reward)\n",
    "    if not episode % SAVE_EVERY:\n",
    "        # Save Q-Table\n",
    "        np.save(f'q-tables/{episode}-qtable.npy', q_table)\n",
    "    if not episode % SHOW_EVERY:\n",
    "        # Append aggregate metrics\n",
    "        average_reward = sum(ep_rewards[-SHOW_EVERY:]) / len(ep_rewards[-SHOW_EVERY:])\n",
    "        aggr_ep_rewards['ep'].append(episode)\n",
    "        aggr_ep_rewards['avg'].append(average_reward)\n",
    "        aggr_ep_rewards['min'].append(min(ep_rewards[-SHOW_EVERY:]))\n",
    "        aggr_ep_rewards['max'].append(max(ep_rewards[-SHOW_EVERY:]))\n",
    "        print(f'Episode: {episode}, Average: {average_reward}, Min: {min(ep_rewards[-SHOW_EVERY:])} ' +\n",
    "              f'Max: {max(ep_rewards[-SHOW_EVERY:])}, Epsilon: {epsilon:0.3f}')\n",
    "# Close the environment after training\n",
    "env.close()"
   ]
  },
  {
   "cell_type": "code",
   "execution_count": 9,
   "id": "80c87895",
   "metadata": {
    "pycharm": {
     "name": "#%%\n"
    }
   },
   "outputs": [
    {
     "data": {
      "image/png": "[encoded data removed]",
      "text/plain": [
       "<Figure size 432x288 with 1 Axes>"
      ]
     },
     "metadata": {
      "needs_background": "light"
     },
     "output_type": "display_data"
    }
   ],
   "source": [
    "plt.plot(aggr_ep_rewards['ep'], aggr_ep_rewards['avg'], label='avg')\n",
    "plt.plot(aggr_ep_rewards['ep'], aggr_ep_rewards['min'], label='min')\n",
    "plt.plot(aggr_ep_rewards['ep'], aggr_ep_rewards['max'], label='max')\n",
    "plt.legend(loc=4)\n",
    "plt.show()"
   ]
  },
  {
   "cell_type": "markdown",
   "id": "65981e1c",
   "metadata": {
    "pycharm": {
     "name": "#%% md\n"
    }
   },
   "source": [
    "### A successful completion of our Mountain Car Example reaching the goal\n",
    "**Note**: I snagged the render from my .py file instead of the jupyter file as my jupyter instance is on WSL and does not have access to my video drivers. I have attached both for this assignment.\n",
    "<img src=\"mountain_car_goal.jpg\" />"
   ]
  }
 ],
 "metadata": {
  "kernelspec": {
   "display_name": "Python 3 (ipykernel)",
   "language": "python",
   "name": "python3"
  },
  "language_info": {
   "codemirror_mode": {
    "name": "ipython",
    "version": 3
   },
   "file_extension": ".py",
   "mimetype": "text/x-python",
   "name": "python",
   "nbconvert_exporter": "python",
   "pygments_lexer": "ipython3",
   "version": "3.8.10"
  }
 },
 "nbformat": 4,
 "nbformat_minor": 5
}